{
 "cells": [
  {
   "cell_type": "code",
   "execution_count": null,
   "metadata": {
    "slideshow": {
     "slide_type": "slide"
    }
   },
   "outputs": [],
   "source": [
    "import pandas as pd\n",
    "import finterstellar as fs"
   ]
  },
  {
   "cell_type": "code",
   "execution_count": null,
   "metadata": {},
   "outputs": [],
   "source": [
    "path = './data/'\n",
    "file = 'w0 Practice data.xlsx'"
   ]
  },
  {
   "cell_type": "code",
   "execution_count": null,
   "metadata": {},
   "outputs": [],
   "source": [
    "df = pd.read_excel(path+file, index_col='Date')\n",
    "df"
   ]
  },
  {
   "cell_type": "code",
   "execution_count": null,
   "metadata": {
    "slideshow": {
     "slide_type": "slide"
    }
   },
   "outputs": [],
   "source": [
    "ld = fs.LoadData()\n",
    "df = ld.date_formatting(df)    \n",
    "# date_formatting(데이터프레임) - 날짜 처리\n",
    "df.head(3)"
   ]
  },
  {
   "cell_type": "code",
   "execution_count": null,
   "metadata": {},
   "outputs": [],
   "source": [
    "base_date = '2019-01-01'    # 기준일자 설정\n",
    "cd = 'Inverse'    # 종목코드 "
   ]
  },
  {
   "cell_type": "code",
   "execution_count": null,
   "metadata": {
    "slideshow": {
     "slide_type": "slide"
    }
   },
   "outputs": [],
   "source": [
    "v = fs.Visualize()"
   ]
  },
  {
   "cell_type": "code",
   "execution_count": null,
   "metadata": {
    "slideshow": {
     "slide_type": "-"
    }
   },
   "outputs": [],
   "source": [
    "v.price_view(df, base_date, cd, (10,3))\n",
    "# price_view(데이터프레임, 기준일자, 종목코드, (사이즈), (make_file=True/False)) - 가격 그래프"
   ]
  },
  {
   "cell_type": "code",
   "execution_count": null,
   "metadata": {},
   "outputs": [],
   "source": [
    "v.price_view(df, base_date, [cd, 'Leverage'], size=(10,3), make_file=False)\n",
    "# price_view(데이터프레임, 기준일자, 종목코드, (사이즈), (make_file=True/False)) - 가격 그래프"
   ]
  },
  {
   "cell_type": "code",
   "execution_count": null,
   "metadata": {
    "slideshow": {
     "slide_type": "slide"
    }
   },
   "outputs": [],
   "source": [
    "v.index_view(df, base_date, [cd, 'Leverage'], size=(10,3))\n",
    "# index_view(데이터프레임, 기준일자, 종목코드, (사이즈), (make_file=True/False)) - 지수화된 그래프"
   ]
  },
  {
   "cell_type": "code",
   "execution_count": null,
   "metadata": {
    "slideshow": {
     "slide_type": "slide"
    }
   },
   "outputs": [],
   "source": [
    "v.multi_line_view(df, base_date, cd, 'Normal', size=(10,3))\n",
    "# multi_line_view(데이터프레임, 기준일자, 종목코드1, 종목코드2, (사이즈), (make_file=True/False)) \n",
    "# 복수종목 가격 그래프 : 종목코드1, 종목코드2에 복수개 종목코드 입력 가능\n",
    "# 종목코드1의 첫번째 종목 그래프를 진하게 표시"
   ]
  },
  {
   "cell_type": "code",
   "execution_count": null,
   "metadata": {},
   "outputs": [],
   "source": [
    "v.multi_line_view(df, base_date, cd, ['Normal', 'Leverage'], size=(10,3))\n",
    "# multi_line_view(데이터프레임, 기준일자, 종목코드, (사이즈), (make_file=True/False)) \n",
    "# 복수종목 가격 그래프 : 종목코드1, 종목코드2에 복수개 종목코드 입력 가능\n",
    "# 종목코드1의 첫번째 종목 그래프를 진하게 표시"
   ]
  },
  {
   "cell_type": "code",
   "execution_count": null,
   "metadata": {
    "slideshow": {
     "slide_type": "slide"
    }
   },
   "outputs": [],
   "source": [
    "v.complex_view(df, base_date, cd, 'Normal', size=(10,3))\n",
    "# multi_line_view(데이터프레임, 기준일자, 종목코드, (사이즈), (make_file=True/False)) \n",
    "# 복수종목 가격 그래프 : 종목코드1, 종목코드2에 복수개 종목코드 입력 가능\n",
    "# 종목코드1의 첫번째 종목 그래프를 진하게 표시\n",
    "# 종목코드2에 입력한 종목은 영역형 그래프로 표시"
   ]
  },
  {
   "cell_type": "code",
   "execution_count": null,
   "metadata": {},
   "outputs": [],
   "source": [
    "v.complex_view(df, base_date, cd, ['GoGo', 'Leverage'], size=(10,3))\n",
    "# multi_line_view(데이터프레임, 기준일자, 종목코드, (사이즈), (make_file=True/False)) \n",
    "# 복수종목 가격 그래프 : 종목코드1, 종목코드2에 복수개 종목코드 입력 가능\n",
    "# 종목코드1의 첫번째 종목 그래프를 진하게 표시\n",
    "# 종목코드2에 입력한 종목은 영역형 그래프로 표시"
   ]
  },
  {
   "cell_type": "code",
   "execution_count": null,
   "metadata": {
    "slideshow": {
     "slide_type": "slide"
    }
   },
   "outputs": [],
   "source": [
    "v.complex_view(df, base_date, [cd, 'Leverage'], ['GoGo'], size=(10,3))\n",
    "# multi_line_view(데이터프레임, 기준일자, 종목코드, (사이즈), (make_file=True/False)) \n",
    "# 복수종목 가격 그래프 : 종목코드1, 종목코드2에 복수개 종목코드 입력 가능\n",
    "# 종목코드1의 첫번째 종목 그래프를 진하게 표시\n",
    "# 종목코드2에 입력한 종목은 영역형 그래프로 표시"
   ]
  },
  {
   "cell_type": "code",
   "execution_count": null,
   "metadata": {
    "slideshow": {
     "slide_type": "slide"
    }
   },
   "outputs": [],
   "source": [
    "# 데이터값만 발라내서 넣어야해서 데이터프레임.values를 이용해 값만 발라냄\n",
    "Normal = df['Normal'].values\n",
    "Inverse = df['Inverse'].values\n",
    "Leverage = df['Leverage'].values\n",
    "GoGo = df['GoGo'].values"
   ]
  },
  {
   "cell_type": "code",
   "execution_count": null,
   "metadata": {},
   "outputs": [],
   "source": [
    "v.square_free_plot_view(x=Normal, Inverse=Inverse, Leverage=Leverage)\n",
    "# square_free_plot_view(X, Y1, Y2..., (사이즈), (make_file=True/False))\n",
    "# Y1, Y2, ... 는 합성해서 Synthetic 그래프로 표시\n",
    "# 금융상품 구조화를 위해 특화된 그래프\n",
    "# 1:1 매핑 결과를 보기 편한 정사각형 형태"
   ]
  },
  {
   "cell_type": "code",
   "execution_count": null,
   "metadata": {},
   "outputs": [],
   "source": [
    "v.square_free_plot_view(x=Normal, Inverse=Inverse, Normal=Normal, size=(5,5))"
   ]
  },
  {
   "cell_type": "code",
   "execution_count": null,
   "metadata": {
    "slideshow": {
     "slide_type": "slide"
    }
   },
   "outputs": [],
   "source": [
    "v.square_scatter_view(x=df['Normal'], y=df['GoGo'], size=(5,5))\n",
    "# square_scatter_view(X, Y,(사이즈), (make_file=True/False))\n",
    "# 산포도"
   ]
  }
 ],
 "metadata": {
  "celltoolbar": "Slideshow",
  "kernelspec": {
   "display_name": "Python 3",
   "language": "python",
   "name": "python3"
  },
  "language_info": {
   "codemirror_mode": {
    "name": "ipython",
    "version": 3
   },
   "file_extension": ".py",
   "mimetype": "text/x-python",
   "name": "python",
   "nbconvert_exporter": "python",
   "pygments_lexer": "ipython3",
   "version": "3.7.3"
  },
  "rise": {
   "scroll": true
  }
 },
 "nbformat": 4,
 "nbformat_minor": 2
}
