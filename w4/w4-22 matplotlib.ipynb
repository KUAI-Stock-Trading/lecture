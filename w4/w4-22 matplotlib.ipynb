{
 "cells": [
  {
   "cell_type": "code",
   "execution_count": null,
   "metadata": {
    "slideshow": {
     "slide_type": "slide"
    }
   },
   "outputs": [],
   "source": [
    "import matplotlib.pyplot as plt\n",
    "%matplotlib inline"
   ]
  },
  {
   "cell_type": "code",
   "execution_count": null,
   "metadata": {},
   "outputs": [],
   "source": [
    "plt.plot()"
   ]
  },
  {
   "cell_type": "code",
   "execution_count": null,
   "metadata": {
    "slideshow": {
     "slide_type": "slide"
    }
   },
   "outputs": [],
   "source": [
    "plt.figure(figsize=(10, 5))     # 챠트 껍데기 설정\n",
    "plt.plot()"
   ]
  },
  {
   "cell_type": "markdown",
   "metadata": {
    "slideshow": {
     "slide_type": "slide"
    }
   },
   "source": [
    "<img src='w4-22 matplotlib.png'>"
   ]
  },
  {
   "cell_type": "code",
   "execution_count": null,
   "metadata": {
    "slideshow": {
     "slide_type": "slide"
    }
   },
   "outputs": [],
   "source": [
    "import numpy as np"
   ]
  },
  {
   "cell_type": "code",
   "execution_count": null,
   "metadata": {},
   "outputs": [],
   "source": [
    "x = np.arange(100, 300, 10)\n",
    "y = np.random.randn(20)\n",
    "plt.plot(x, y)     # 그래프 그리기"
   ]
  },
  {
   "cell_type": "code",
   "execution_count": null,
   "metadata": {
    "slideshow": {
     "slide_type": "slide"
    }
   },
   "outputs": [],
   "source": [
    "plt.plot(y)     # X축을 지정하지 않고 그래프 그리기"
   ]
  },
  {
   "cell_type": "code",
   "execution_count": null,
   "metadata": {
    "slideshow": {
     "slide_type": "slide"
    }
   },
   "outputs": [],
   "source": [
    "# 챠트 모양 기본값 세팅\n",
    "plt.rcParams"
   ]
  },
  {
   "cell_type": "code",
   "execution_count": null,
   "metadata": {
    "slideshow": {
     "slide_type": "slide"
    }
   },
   "outputs": [],
   "source": [
    "plt.rcParams['figure.figsize'] = (10, 5)\n",
    "plt.rcParams['figure.facecolor'] = 'lightgray'\n",
    "plt.rcParams['grid.linestyle'] = '--'\n",
    "plt.rcParams['grid.alpha'] = 0.7\n",
    "plt.rcParams['lines.antialiased'] = True"
   ]
  },
  {
   "cell_type": "code",
   "execution_count": null,
   "metadata": {
    "slideshow": {
     "slide_type": "slide"
    }
   },
   "outputs": [],
   "source": [
    "plt.figure(figsize=(15, 5))     # 챠트 사이즈 지정\n",
    "plt.plot(x, y)"
   ]
  },
  {
   "cell_type": "code",
   "execution_count": null,
   "metadata": {
    "scrolled": true,
    "slideshow": {
     "slide_type": "slide"
    }
   },
   "outputs": [],
   "source": [
    "plt.plot(x, y)"
   ]
  },
  {
   "cell_type": "code",
   "execution_count": null,
   "metadata": {
    "slideshow": {
     "slide_type": "slide"
    }
   },
   "outputs": [],
   "source": [
    "plt.figure(figsize=(10, 5))     # 챠트 사이즈 지정\n",
    "plt.plot(x, y, color='r', linestyle='--', marker='o')\n",
    "#plt.plot(x, y, 'ro--') 도 같은 표현"
   ]
  },
  {
   "cell_type": "code",
   "execution_count": null,
   "metadata": {
    "slideshow": {
     "slide_type": "slide"
    }
   },
   "outputs": [],
   "source": [
    "plt.figure()     \n",
    "plt.plot(x, y, color='m', linestyle=':', marker='*', markersize='20')\n",
    "plt.title('제목')     # 따로 설정을 하지 않으면 한글이 깨져보임"
   ]
  },
  {
   "cell_type": "code",
   "execution_count": null,
   "metadata": {
    "slideshow": {
     "slide_type": "slide"
    }
   },
   "outputs": [],
   "source": [
    "# 그래프에서 한글 사용 세팅\n",
    "plt.rcParams['font.family'] = 'Malgun Gothic'\n",
    "plt.rcParams['font.size'] = 12\n",
    "plt.rcParams['axes.unicode_minus'] = False"
   ]
  },
  {
   "cell_type": "code",
   "execution_count": null,
   "metadata": {},
   "outputs": [],
   "source": [
    "# matplotlib 에서 사용할 수 있는 폰트 리스트 조회\n",
    "from matplotlib import font_manager\n",
    "set(sorted([f.name for f in font_manager.fontManager.ttflist]))"
   ]
  },
  {
   "cell_type": "markdown",
   "metadata": {},
   "source": [
    "matplotlib에 폰트 추가 방법\n",
    "1. C:\\Users\\<사용자>\\Anaconda3\\Lib\\site-packages\\matplotlib\\mpl-data\\fonts\\ttf \n",
    "폴더에 폰트 파일 추가\n",
    "2. font_manager 리빌드\n",
    "\n",
    "import matplotlib\n",
    "matplotlib.font_manager._rebuild()"
   ]
  },
  {
   "cell_type": "code",
   "execution_count": null,
   "metadata": {
    "scrolled": false,
    "slideshow": {
     "slide_type": "slide"
    }
   },
   "outputs": [],
   "source": [
    "plt.plot(x, y, color='m', linestyle=':', marker='*', markersize='20')\n",
    "plt.title('제목')      "
   ]
  },
  {
   "cell_type": "code",
   "execution_count": null,
   "metadata": {
    "slideshow": {
     "slide_type": "slide"
    }
   },
   "outputs": [],
   "source": [
    "plt.plot(x, y, color='m', linestyle=':', marker='*', markersize='20')\n",
    "plt.title('제목', size=20)     \n",
    "plt.grid(True)"
   ]
  },
  {
   "cell_type": "code",
   "execution_count": null,
   "metadata": {
    "slideshow": {
     "slide_type": "slide"
    }
   },
   "outputs": [],
   "source": [
    "font_title = {'family': 'Nanum Brush Script', 'color': 'black', 'weight': 'bold', 'size': 40}\n",
    "font_label = {'family': 'Nanum Pen Script', 'color': 'black', 'weight': 'regular', 'size': 25}\n",
    "\n",
    "plt.plot(x, y, color='m', linestyle=':', marker='*', markersize='20')\n",
    "plt.title('제목', fontdict=font_title)     # 제목 지정\n",
    "plt.xlabel('X값(독립변수)', fontdict=font_label)     # X축 제목\n",
    "plt.ylabel('Y값(종속변수)', fontdict=font_label)     # Y축 제목\n",
    "plt.grid(True)"
   ]
  },
  {
   "cell_type": "code",
   "execution_count": null,
   "metadata": {
    "slideshow": {
     "slide_type": "slide"
    }
   },
   "outputs": [],
   "source": [
    "plt.plot(x, y, color='m', linestyle=':', marker='*', markersize='20', label='그래프1')\n",
    "plt.plot(x, y+1, color='orange', linestyle='-', label='그래프2')\n",
    "\n",
    "plt.title('제목', fontdict=font_title)     # 제목 지정\n",
    "plt.xlabel('X값(독립변수)', fontdict=font_label)     # X축 제목\n",
    "plt.ylabel('Y값(종속변수)', fontdict=font_label)     # Y축 제목\n",
    "plt.grid(True)\n",
    "plt.legend(loc='best')"
   ]
  },
  {
   "cell_type": "code",
   "execution_count": null,
   "metadata": {
    "slideshow": {
     "slide_type": "slide"
    }
   },
   "outputs": [],
   "source": [
    "'''\n",
    "    여러개의 챠트를 한번에 그리기\n",
    "'''\n",
    "fig = plt.figure(figsize=(16, 10))     # 챠트 사이즈 지정\n",
    "\n",
    "# Subplot 지정 : add_subplot(행, 열, 순서)\n",
    "ax1 = fig.add_subplot(2, 3, 1)\n",
    "ax1.plot(x, y)\n",
    "\n",
    "ax2 = fig.add_subplot(2, 3, 2)\n",
    "ax2.hist(y)\n",
    "\n",
    "ax3 = fig.add_subplot(2, 3, 3)\n",
    "ax3.scatter(x, y)\n",
    "\n",
    "ax4 = fig.add_subplot(2, 3, 4)\n",
    "ax4.plot(x, y, color='r', linestyle='--')"
   ]
  },
  {
   "cell_type": "code",
   "execution_count": null,
   "metadata": {
    "slideshow": {
     "slide_type": "slide"
    }
   },
   "outputs": [],
   "source": [
    "'''\n",
    "    여러개의 챠트를 한번에 그리기 2\n",
    "'''\n",
    "fig, axes = plt.subplots(2, 3, figsize=(16, 10))     # Subplot을 지정하는 또다른 방법\n",
    "\n",
    "axes[0, 0].plot(y)\n",
    "axes[0, 1].hist(y)\n",
    "axes[0, 2].scatter(x, y)\n",
    "axes[1, 0].plot(y, 'g--')\n"
   ]
  },
  {
   "cell_type": "markdown",
   "metadata": {
    "slideshow": {
     "slide_type": "slide"
    }
   },
   "source": [
    "# matplotlib와 pandas의 결합"
   ]
  },
  {
   "cell_type": "code",
   "execution_count": null,
   "metadata": {},
   "outputs": [],
   "source": [
    "import pandas as pd"
   ]
  },
  {
   "cell_type": "code",
   "execution_count": null,
   "metadata": {},
   "outputs": [],
   "source": [
    "dates = pd.date_range(start='2019-09-01', periods=30, freq='D').strftime('%Y-%m-%d')\n",
    "dates"
   ]
  },
  {
   "cell_type": "code",
   "execution_count": null,
   "metadata": {
    "scrolled": false,
    "slideshow": {
     "slide_type": "slide"
    }
   },
   "outputs": [],
   "source": [
    "'''\n",
    "N(1000, 100)인 정규분포를 따르는 랜덤 주가 생성\n",
    "2018년9월1일부터 30일 동안의 날짜로 인덱스 생성\n",
    "컬럼명을 기업명으로 설정\n",
    "'''\n",
    "df = pd.DataFrame(np.random.randn(30, 3)*100 + 1000,\n",
    "                  index=dates,\n",
    "                  columns=['천리마마트', '히드라마트', '터렛마트'])  \n",
    "# np.random.randn(i, j) : i행 j열의 표준정규분포를 반환\n",
    "df.plot.line()     # pandas와 함께 그려낸 기본 챠트"
   ]
  },
  {
   "cell_type": "code",
   "execution_count": null,
   "metadata": {
    "slideshow": {
     "slide_type": "slide"
    }
   },
   "outputs": [],
   "source": [
    "df[:5].plot.bar()"
   ]
  },
  {
   "cell_type": "code",
   "execution_count": null,
   "metadata": {
    "slideshow": {
     "slide_type": "slide"
    }
   },
   "outputs": [],
   "source": [
    "df[:5].plot.bar(stacked=True)"
   ]
  },
  {
   "cell_type": "code",
   "execution_count": null,
   "metadata": {
    "slideshow": {
     "slide_type": "slide"
    }
   },
   "outputs": [],
   "source": [
    "df[:5].plot.barh(stacked=True)"
   ]
  },
  {
   "cell_type": "code",
   "execution_count": null,
   "metadata": {
    "slideshow": {
     "slide_type": "slide"
    }
   },
   "outputs": [],
   "source": [
    "df.plot.hist(bins=20, grid=True, alpha=0.5)     # bins = 블록 사이즈"
   ]
  },
  {
   "cell_type": "code",
   "execution_count": null,
   "metadata": {
    "slideshow": {
     "slide_type": "slide"
    }
   },
   "outputs": [],
   "source": [
    "df.plot.area(stacked=True)"
   ]
  },
  {
   "cell_type": "code",
   "execution_count": null,
   "metadata": {
    "slideshow": {
     "slide_type": "slide"
    }
   },
   "outputs": [],
   "source": [
    "df.iloc[0].plot.pie(figsize=(6, 6), autopct='%.2f')"
   ]
  },
  {
   "cell_type": "code",
   "execution_count": null,
   "metadata": {
    "slideshow": {
     "slide_type": "slide"
    }
   },
   "outputs": [],
   "source": [
    "df.plot.kde()"
   ]
  },
  {
   "cell_type": "code",
   "execution_count": null,
   "metadata": {
    "slideshow": {
     "slide_type": "slide"
    }
   },
   "outputs": [],
   "source": [
    "df.plot.box()"
   ]
  },
  {
   "cell_type": "code",
   "execution_count": null,
   "metadata": {
    "slideshow": {
     "slide_type": "slide"
    }
   },
   "outputs": [],
   "source": [
    "df.plot.scatter(x='히드라마트', y='천리마마트', figsize=(5, 5))"
   ]
  },
  {
   "cell_type": "markdown",
   "metadata": {
    "slideshow": {
     "slide_type": "slide"
    }
   },
   "source": [
    "# 3D 그래프 그리기"
   ]
  },
  {
   "cell_type": "code",
   "execution_count": null,
   "metadata": {},
   "outputs": [],
   "source": [
    "from mpl_toolkits.mplot3d import Axes3D"
   ]
  },
  {
   "cell_type": "code",
   "execution_count": null,
   "metadata": {
    "scrolled": false
   },
   "outputs": [],
   "source": [
    "fig = plt.figure(figsize=(8, 6))\n",
    "ax = fig.add_subplot(111, projection='3d')\n",
    "for z, n in zip([1, 2, 3], df.columns):\n",
    "    X = df[n].index     # X값\n",
    "    Y = df[n].values     # 높이값\n",
    "    Z = z     # 데이터 구분\n",
    "    ax.bar(X, Y, Z, zdir='y', alpha=0.8)\n",
    "\n",
    "ax.set_xlabel('날짜')\n",
    "ax.set_ylabel('종목')\n",
    "ax.set_zlabel('가격')\n",
    "\n",
    "ax.legend(df.columns)"
   ]
  },
  {
   "cell_type": "code",
   "execution_count": null,
   "metadata": {
    "slideshow": {
     "slide_type": "slide"
    }
   },
   "outputs": [],
   "source": [
    "from matplotlib import cm"
   ]
  },
  {
   "cell_type": "code",
   "execution_count": null,
   "metadata": {
    "scrolled": false
   },
   "outputs": [],
   "source": [
    "fig = plt.figure(figsize=(8, 6))\n",
    "ax = fig.gca(projection='3d')\n",
    "\n",
    "X = np.arange(0, 20)\n",
    "Y = np.arange(-10, 10)\n",
    "X, Y = np.meshgrid(X, Y)    # XxY 매트릭스를 만들어주는 과정\n",
    "Z = np.sqrt(Y**2 + X)\n",
    "\n",
    "surf = ax.plot_surface(X, Y, Z, cmap=cm.summer, linewidth=1, alpha=0.8)\n",
    "ax.set_xlabel('X')\n",
    "ax.set_ylabel('Y')\n",
    "ax.set_zlabel('Z') \n",
    "fig.colorbar(surf, shrink=0.5, aspect=5)"
   ]
  },
  {
   "cell_type": "code",
   "execution_count": null,
   "metadata": {},
   "outputs": [],
   "source": []
  }
 ],
 "metadata": {
  "celltoolbar": "Slideshow",
  "kernelspec": {
   "display_name": "Python 3",
   "language": "python",
   "name": "python3"
  },
  "language_info": {
   "codemirror_mode": {
    "name": "ipython",
    "version": 3
   },
   "file_extension": ".py",
   "mimetype": "text/x-python",
   "name": "python",
   "nbconvert_exporter": "python",
   "pygments_lexer": "ipython3",
   "version": "3.7.3"
  },
  "rise": {
   "scroll": true
  }
 },
 "nbformat": 4,
 "nbformat_minor": 2
}
