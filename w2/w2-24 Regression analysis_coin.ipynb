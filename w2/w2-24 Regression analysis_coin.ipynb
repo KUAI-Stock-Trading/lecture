{
 "cells": [
  {
   "cell_type": "code",
   "execution_count": 1,
   "metadata": {
    "slideshow": {
     "slide_type": "slide"
    }
   },
   "outputs": [],
   "source": [
    "import pandas as pd\n",
    "import finterstellar as fs"
   ]
  },
  {
   "cell_type": "markdown",
   "metadata": {},
   "source": [
    "데이터 로딩"
   ]
  },
  {
   "cell_type": "code",
   "execution_count": 2,
   "metadata": {},
   "outputs": [],
   "source": [
    "coin = fs.CoinPrice()"
   ]
  },
  {
   "cell_type": "code",
   "execution_count": 3,
   "metadata": {},
   "outputs": [],
   "source": [
    "p_cd = ['BTC', 'ETH', 'XRP', 'BCH']"
   ]
  },
  {
   "cell_type": "code",
   "execution_count": 4,
   "metadata": {},
   "outputs": [
    {
     "data": {
      "text/html": [
       "<div>\n",
       "<style scoped>\n",
       "    .dataframe tbody tr th:only-of-type {\n",
       "        vertical-align: middle;\n",
       "    }\n",
       "\n",
       "    .dataframe tbody tr th {\n",
       "        vertical-align: top;\n",
       "    }\n",
       "\n",
       "    .dataframe thead th {\n",
       "        text-align: right;\n",
       "    }\n",
       "</style>\n",
       "<table border=\"1\" class=\"dataframe\">\n",
       "  <thead>\n",
       "    <tr style=\"text-align: right;\">\n",
       "      <th></th>\n",
       "      <th>BTC</th>\n",
       "      <th>ETH</th>\n",
       "      <th>XRP</th>\n",
       "      <th>BCH</th>\n",
       "    </tr>\n",
       "  </thead>\n",
       "  <tbody>\n",
       "    <tr>\n",
       "      <th>2019-04-20 16:57:00</th>\n",
       "      <td>6142000.0</td>\n",
       "      <td>201600.0</td>\n",
       "      <td>389.0</td>\n",
       "      <td>352300.0</td>\n",
       "    </tr>\n",
       "    <tr>\n",
       "      <th>2019-04-20 16:58:00</th>\n",
       "      <td>6137000.0</td>\n",
       "      <td>201500.0</td>\n",
       "      <td>388.0</td>\n",
       "      <td>352500.0</td>\n",
       "    </tr>\n",
       "    <tr>\n",
       "      <th>2019-04-20 17:00:00</th>\n",
       "      <td>6141000.0</td>\n",
       "      <td>201500.0</td>\n",
       "      <td>389.0</td>\n",
       "      <td>NaN</td>\n",
       "    </tr>\n",
       "    <tr>\n",
       "      <th>2019-04-20 17:01:00</th>\n",
       "      <td>6142000.0</td>\n",
       "      <td>201600.0</td>\n",
       "      <td>389.0</td>\n",
       "      <td>352800.0</td>\n",
       "    </tr>\n",
       "    <tr>\n",
       "      <th>2019-04-20 17:02:00</th>\n",
       "      <td>6147000.0</td>\n",
       "      <td>201600.0</td>\n",
       "      <td>388.0</td>\n",
       "      <td>352700.0</td>\n",
       "    </tr>\n",
       "  </tbody>\n",
       "</table>\n",
       "</div>"
      ],
      "text/plain": [
       "                           BTC       ETH    XRP       BCH\n",
       "2019-04-20 16:57:00  6142000.0  201600.0  389.0  352300.0\n",
       "2019-04-20 16:58:00  6137000.0  201500.0  388.0  352500.0\n",
       "2019-04-20 17:00:00  6141000.0  201500.0  389.0       NaN\n",
       "2019-04-20 17:01:00  6142000.0  201600.0  389.0  352800.0\n",
       "2019-04-20 17:02:00  6147000.0  201600.0  388.0  352700.0"
      ]
     },
     "execution_count": 4,
     "metadata": {},
     "output_type": "execute_result"
    }
   ],
   "source": [
    "prices_df = pd.DataFrame()\n",
    "for cd in p_cd:\n",
    "    df = coin.bithumb_historical_price(coin_cd=cd, freq='M')\n",
    "    prices_df[cd] = df['close']\n",
    "prices_df.head()"
   ]
  },
  {
   "cell_type": "code",
   "execution_count": 5,
   "metadata": {},
   "outputs": [
    {
     "data": {
      "text/html": [
       "<div>\n",
       "<style scoped>\n",
       "    .dataframe tbody tr th:only-of-type {\n",
       "        vertical-align: middle;\n",
       "    }\n",
       "\n",
       "    .dataframe tbody tr th {\n",
       "        vertical-align: top;\n",
       "    }\n",
       "\n",
       "    .dataframe thead th {\n",
       "        text-align: right;\n",
       "    }\n",
       "</style>\n",
       "<table border=\"1\" class=\"dataframe\">\n",
       "  <thead>\n",
       "    <tr style=\"text-align: right;\">\n",
       "      <th></th>\n",
       "      <th>BTC</th>\n",
       "      <th>ETH</th>\n",
       "      <th>XRP</th>\n",
       "      <th>BCH</th>\n",
       "    </tr>\n",
       "  </thead>\n",
       "  <tbody>\n",
       "    <tr>\n",
       "      <th>2019-04-20 16:57:00</th>\n",
       "      <td>6142000.0</td>\n",
       "      <td>201600.0</td>\n",
       "      <td>389.0</td>\n",
       "      <td>352300.0</td>\n",
       "    </tr>\n",
       "    <tr>\n",
       "      <th>2019-04-20 16:58:00</th>\n",
       "      <td>6137000.0</td>\n",
       "      <td>201500.0</td>\n",
       "      <td>388.0</td>\n",
       "      <td>352500.0</td>\n",
       "    </tr>\n",
       "    <tr>\n",
       "      <th>2019-04-20 17:00:00</th>\n",
       "      <td>6141000.0</td>\n",
       "      <td>201500.0</td>\n",
       "      <td>389.0</td>\n",
       "      <td>352500.0</td>\n",
       "    </tr>\n",
       "    <tr>\n",
       "      <th>2019-04-20 17:01:00</th>\n",
       "      <td>6142000.0</td>\n",
       "      <td>201600.0</td>\n",
       "      <td>389.0</td>\n",
       "      <td>352800.0</td>\n",
       "    </tr>\n",
       "    <tr>\n",
       "      <th>2019-04-20 17:02:00</th>\n",
       "      <td>6147000.0</td>\n",
       "      <td>201600.0</td>\n",
       "      <td>388.0</td>\n",
       "      <td>352700.0</td>\n",
       "    </tr>\n",
       "  </tbody>\n",
       "</table>\n",
       "</div>"
      ],
      "text/plain": [
       "                           BTC       ETH    XRP       BCH\n",
       "2019-04-20 16:57:00  6142000.0  201600.0  389.0  352300.0\n",
       "2019-04-20 16:58:00  6137000.0  201500.0  388.0  352500.0\n",
       "2019-04-20 17:00:00  6141000.0  201500.0  389.0  352500.0\n",
       "2019-04-20 17:01:00  6142000.0  201600.0  389.0  352800.0\n",
       "2019-04-20 17:02:00  6147000.0  201600.0  388.0  352700.0"
      ]
     },
     "execution_count": 5,
     "metadata": {},
     "output_type": "execute_result"
    }
   ],
   "source": [
    "prices_df = prices_df.fillna(method='ffill')\n",
    "prices_df = prices_df.dropna()\n",
    "prices_df.head()"
   ]
  },
  {
   "cell_type": "code",
   "execution_count": 6,
   "metadata": {},
   "outputs": [],
   "source": [
    "anz = fs.PairTrade()"
   ]
  },
  {
   "cell_type": "code",
   "execution_count": 7,
   "metadata": {},
   "outputs": [],
   "source": [
    "base_date = prices_df.index[0]"
   ]
  },
  {
   "cell_type": "code",
   "execution_count": 8,
   "metadata": {},
   "outputs": [
    {
     "data": {
      "text/html": [
       "<div>\n",
       "<style scoped>\n",
       "    .dataframe tbody tr th:only-of-type {\n",
       "        vertical-align: middle;\n",
       "    }\n",
       "\n",
       "    .dataframe tbody tr th {\n",
       "        vertical-align: top;\n",
       "    }\n",
       "\n",
       "    .dataframe thead th {\n",
       "        text-align: right;\n",
       "    }\n",
       "</style>\n",
       "<table border=\"1\" class=\"dataframe\">\n",
       "  <thead>\n",
       "    <tr style=\"text-align: right;\">\n",
       "      <th></th>\n",
       "      <th>R2</th>\n",
       "      <th>Slope</th>\n",
       "      <th>Correlation</th>\n",
       "    </tr>\n",
       "    <tr>\n",
       "      <th>pair</th>\n",
       "      <th></th>\n",
       "      <th></th>\n",
       "      <th></th>\n",
       "    </tr>\n",
       "  </thead>\n",
       "  <tbody>\n",
       "    <tr>\n",
       "      <th>XRP vs. BCH</th>\n",
       "      <td>56.74</td>\n",
       "      <td>1072.7162</td>\n",
       "      <td>0.753236</td>\n",
       "    </tr>\n",
       "    <tr>\n",
       "      <th>ETH vs. XRP</th>\n",
       "      <td>50.57</td>\n",
       "      <td>0.0012</td>\n",
       "      <td>0.711102</td>\n",
       "    </tr>\n",
       "    <tr>\n",
       "      <th>ETH vs. BCH</th>\n",
       "      <td>47.87</td>\n",
       "      <td>1.6352</td>\n",
       "      <td>0.691891</td>\n",
       "    </tr>\n",
       "    <tr>\n",
       "      <th>BTC vs. BCH</th>\n",
       "      <td>5.45</td>\n",
       "      <td>-0.0275</td>\n",
       "      <td>-0.233448</td>\n",
       "    </tr>\n",
       "    <tr>\n",
       "      <th>BTC vs. ETH</th>\n",
       "      <td>5.29</td>\n",
       "      <td>0.0115</td>\n",
       "      <td>0.229944</td>\n",
       "    </tr>\n",
       "    <tr>\n",
       "      <th>BTC vs. XRP</th>\n",
       "      <td>1.29</td>\n",
       "      <td>-0.0000</td>\n",
       "      <td>-0.113523</td>\n",
       "    </tr>\n",
       "  </tbody>\n",
       "</table>\n",
       "</div>"
      ],
      "text/plain": [
       "                R2      Slope  Correlation\n",
       "pair                                      \n",
       "XRP vs. BCH  56.74  1072.7162     0.753236\n",
       "ETH vs. XRP  50.57     0.0012     0.711102\n",
       "ETH vs. BCH  47.87     1.6352     0.691891\n",
       "BTC vs. BCH   5.45    -0.0275    -0.233448\n",
       "BTC vs. ETH   5.29     0.0115     0.229944\n",
       "BTC vs. XRP   1.29    -0.0000    -0.113523"
      ]
     },
     "execution_count": 8,
     "metadata": {},
     "output_type": "execute_result"
    }
   ],
   "source": [
    "crs = anz.compare_r2(prices_df, base_date, p_cd)\n",
    "crs.head(10)"
   ]
  },
  {
   "cell_type": "code",
   "execution_count": null,
   "metadata": {},
   "outputs": [],
   "source": []
  }
 ],
 "metadata": {
  "celltoolbar": "Slideshow",
  "kernelspec": {
   "display_name": "Python 3",
   "language": "python",
   "name": "python3"
  },
  "language_info": {
   "codemirror_mode": {
    "name": "ipython",
    "version": 3
   },
   "file_extension": ".py",
   "mimetype": "text/x-python",
   "name": "python",
   "nbconvert_exporter": "python",
   "pygments_lexer": "ipython3",
   "version": "3.7.3"
  },
  "rise": {
   "scroll": true
  }
 },
 "nbformat": 4,
 "nbformat_minor": 2
}
