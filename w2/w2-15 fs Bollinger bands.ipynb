{
 "cells": [
  {
   "cell_type": "code",
   "execution_count": 1,
   "metadata": {},
   "outputs": [],
   "source": [
    "cd = '005930'\n",
    "base_date = '2018-01-01'\n",
    "\n",
    "# 트레이딩 전략 설정\n",
    "thd = 'ub'   # 종목 매도 기준 (편차구간상단:ub, 편차구간중심:center)\n",
    "buy = 'in'    # 종목 매수 기준 (편차구간 진입 시:in, 편차구간 벗어날 시:out)\n",
    "n = 20     # 평균주가계산 기준일수\n",
    "sigma = 2     # 편차구간 지정 (시그마의 배수로)"
   ]
  },
  {
   "cell_type": "code",
   "execution_count": 2,
   "metadata": {
    "slideshow": {
     "slide_type": "slide"
    }
   },
   "outputs": [],
   "source": [
    "import pandas as pd\n",
    "import finterstellar as fs"
   ]
  },
  {
   "cell_type": "code",
   "execution_count": 3,
   "metadata": {
    "slideshow": {
     "slide_type": "slide"
    }
   },
   "outputs": [],
   "source": [
    "# DB에서 읽어오기\n",
    "\n",
    "dbr = fs.DB_read()\n",
    "price_df = dbr.make_daily_price_volume_df(cd, base_date)\n",
    "\n",
    "df = pd.DataFrame()    # 빈 데이터프레임을 생성하고\n",
    "df[cd] = price_df[cd].copy()    # 시세를 복사해 넣음\n",
    "df['volume'] = price_df['volume'].copy()    # 시세를 복사해 넣음\n",
    "df = df.dropna() "
   ]
  },
  {
   "cell_type": "raw",
   "metadata": {},
   "source": [
    "# csv 파일을 읽어오기\n",
    "\n",
    "path = './data/'\n",
    "cd = 'S&P 500'\n",
    "\n",
    "file_name = path + cd + ' Historical Data.csv'\n",
    "df = pd.read_csv(file_name, index_col='Date')\n",
    "\n",
    "# 날짜 처리\n",
    "ld = fs.LoadData()\n",
    "df = ld.date_formatting(df)    \n",
    "# date_formatting(데이터프레임) - 날짜 처리\n",
    "\n",
    "df = ld.price_df_trimming(df, cd)\n",
    "# price_df_trimming(데이터프레임) - 시세 처리\n",
    "df.head()"
   ]
  },
  {
   "cell_type": "code",
   "execution_count": 4,
   "metadata": {
    "slideshow": {
     "slide_type": "slide"
    }
   },
   "outputs": [
    {
     "data": {
      "text/plain": [
       "Timestamp('2018-01-02 00:00:00')"
      ]
     },
     "execution_count": 4,
     "metadata": {},
     "output_type": "execute_result"
    }
   ],
   "source": [
    "trd = fs.SingleAsset()   # fs 라이브러리의 SingleAsset 모듈을 불러와 trd에 로딩\n",
    "base_date = trd.check_base_date(df, base_date)\n",
    "# check_base_date(데이터프레임, 기준일자) - 기준일자가 데이터프레임에 들어있는지 체크\n",
    "base_date"
   ]
  },
  {
   "cell_type": "code",
   "execution_count": null,
   "metadata": {
    "slideshow": {
     "slide_type": "slide"
    }
   },
   "outputs": [],
   "source": []
  },
  {
   "cell_type": "code",
   "execution_count": 5,
   "metadata": {
    "slideshow": {
     "slide_type": "slide"
    }
   },
   "outputs": [
    {
     "data": {
      "text/html": [
       "<div>\n",
       "<style scoped>\n",
       "    .dataframe tbody tr th:only-of-type {\n",
       "        vertical-align: middle;\n",
       "    }\n",
       "\n",
       "    .dataframe tbody tr th {\n",
       "        vertical-align: top;\n",
       "    }\n",
       "\n",
       "    .dataframe thead th {\n",
       "        text-align: right;\n",
       "    }\n",
       "</style>\n",
       "<table border=\"1\" class=\"dataframe\">\n",
       "  <thead>\n",
       "    <tr style=\"text-align: right;\">\n",
       "      <th></th>\n",
       "      <th>005930</th>\n",
       "      <th>center</th>\n",
       "      <th>ub</th>\n",
       "      <th>lb</th>\n",
       "      <th>band_size</th>\n",
       "    </tr>\n",
       "    <tr>\n",
       "      <th>trade_time</th>\n",
       "      <th></th>\n",
       "      <th></th>\n",
       "      <th></th>\n",
       "      <th></th>\n",
       "      <th></th>\n",
       "    </tr>\n",
       "  </thead>\n",
       "  <tbody>\n",
       "    <tr>\n",
       "      <th>2019-06-11</th>\n",
       "      <td>44850.0</td>\n",
       "      <td>43010.0</td>\n",
       "      <td>45047.697359</td>\n",
       "      <td>40972.302641</td>\n",
       "      <td>4075.394718</td>\n",
       "    </tr>\n",
       "    <tr>\n",
       "      <th>2019-06-12</th>\n",
       "      <td>44600.0</td>\n",
       "      <td>43107.5</td>\n",
       "      <td>45256.251167</td>\n",
       "      <td>40958.748833</td>\n",
       "      <td>4297.502335</td>\n",
       "    </tr>\n",
       "    <tr>\n",
       "      <th>2019-06-13</th>\n",
       "      <td>43750.0</td>\n",
       "      <td>43167.5</td>\n",
       "      <td>45317.720307</td>\n",
       "      <td>41017.279693</td>\n",
       "      <td>4300.440614</td>\n",
       "    </tr>\n",
       "  </tbody>\n",
       "</table>\n",
       "</div>"
      ],
      "text/plain": [
       "             005930   center            ub            lb    band_size\n",
       "trade_time                                                           \n",
       "2019-06-11  44850.0  43010.0  45047.697359  40972.302641  4075.394718\n",
       "2019-06-12  44600.0  43107.5  45256.251167  40958.748833  4297.502335\n",
       "2019-06-13  43750.0  43167.5  45317.720307  41017.279693  4300.440614"
      ]
     },
     "execution_count": 5,
     "metadata": {},
     "output_type": "execute_result"
    }
   ],
   "source": [
    "# 볼린저밴드 계산\n",
    "bb = trd.bollinger_band(df, cd, n, sigma)\n",
    "# bollinger_band(데이터프레임, 분석대상코드, 평균기준일, 편차구간) - 볼린저밴드 분석값 계산\n",
    "bb.tail(3)"
   ]
  },
  {
   "cell_type": "code",
   "execution_count": 6,
   "metadata": {
    "slideshow": {
     "slide_type": "slide"
    }
   },
   "outputs": [
    {
     "data": {
      "text/html": [
       "<div>\n",
       "<style scoped>\n",
       "    .dataframe tbody tr th:only-of-type {\n",
       "        vertical-align: middle;\n",
       "    }\n",
       "\n",
       "    .dataframe tbody tr th {\n",
       "        vertical-align: top;\n",
       "    }\n",
       "\n",
       "    .dataframe thead th {\n",
       "        text-align: right;\n",
       "    }\n",
       "</style>\n",
       "<table border=\"1\" class=\"dataframe\">\n",
       "  <thead>\n",
       "    <tr style=\"text-align: right;\">\n",
       "      <th></th>\n",
       "      <th>005930</th>\n",
       "      <th>center</th>\n",
       "      <th>ub</th>\n",
       "      <th>lb</th>\n",
       "      <th>band_size</th>\n",
       "    </tr>\n",
       "    <tr>\n",
       "      <th>trade_time</th>\n",
       "      <th></th>\n",
       "      <th></th>\n",
       "      <th></th>\n",
       "      <th></th>\n",
       "      <th></th>\n",
       "    </tr>\n",
       "  </thead>\n",
       "  <tbody>\n",
       "    <tr>\n",
       "      <th>2019-06-11</th>\n",
       "      <td>44850.0</td>\n",
       "      <td>43010.0</td>\n",
       "      <td>45047.697359</td>\n",
       "      <td>40972.302641</td>\n",
       "      <td>4075.394718</td>\n",
       "    </tr>\n",
       "    <tr>\n",
       "      <th>2019-06-12</th>\n",
       "      <td>44600.0</td>\n",
       "      <td>43107.5</td>\n",
       "      <td>45256.251167</td>\n",
       "      <td>40958.748833</td>\n",
       "      <td>4297.502335</td>\n",
       "    </tr>\n",
       "    <tr>\n",
       "      <th>2019-06-13</th>\n",
       "      <td>43750.0</td>\n",
       "      <td>43167.5</td>\n",
       "      <td>45317.720307</td>\n",
       "      <td>41017.279693</td>\n",
       "      <td>4300.440614</td>\n",
       "    </tr>\n",
       "  </tbody>\n",
       "</table>\n",
       "</div>"
      ],
      "text/plain": [
       "             005930   center            ub            lb    band_size\n",
       "trade_time                                                           \n",
       "2019-06-11  44850.0  43010.0  45047.697359  40972.302641  4075.394718\n",
       "2019-06-12  44600.0  43107.5  45256.251167  40958.748833  4297.502335\n",
       "2019-06-13  43750.0  43167.5  45317.720307  41017.279693  4300.440614"
      ]
     },
     "execution_count": 6,
     "metadata": {},
     "output_type": "execute_result"
    }
   ],
   "source": [
    "# 샘플링\n",
    "sample = bb.loc[base_date:]     # 계산 결과를 기준일자 이후만 잘라내 sample 데이터프레임에 저장\n",
    "sample.tail(3)"
   ]
  },
  {
   "cell_type": "code",
   "execution_count": 7,
   "metadata": {
    "slideshow": {
     "slide_type": "slide"
    }
   },
   "outputs": [
    {
     "data": {
      "text/html": [
       "<div>\n",
       "<style scoped>\n",
       "    .dataframe tbody tr th:only-of-type {\n",
       "        vertical-align: middle;\n",
       "    }\n",
       "\n",
       "    .dataframe tbody tr th {\n",
       "        vertical-align: top;\n",
       "    }\n",
       "\n",
       "    .dataframe thead th {\n",
       "        text-align: right;\n",
       "    }\n",
       "</style>\n",
       "<table border=\"1\" class=\"dataframe\">\n",
       "  <thead>\n",
       "    <tr style=\"text-align: right;\">\n",
       "      <th></th>\n",
       "      <th>005930</th>\n",
       "      <th>t 005930</th>\n",
       "      <th>p 005930</th>\n",
       "    </tr>\n",
       "    <tr>\n",
       "      <th>trade_time</th>\n",
       "      <th></th>\n",
       "      <th></th>\n",
       "      <th></th>\n",
       "    </tr>\n",
       "  </thead>\n",
       "  <tbody>\n",
       "    <tr>\n",
       "      <th>2018-01-02</th>\n",
       "      <td>51020.0</td>\n",
       "      <td></td>\n",
       "      <td></td>\n",
       "    </tr>\n",
       "    <tr>\n",
       "      <th>2018-01-03</th>\n",
       "      <td>51620.0</td>\n",
       "      <td></td>\n",
       "      <td></td>\n",
       "    </tr>\n",
       "    <tr>\n",
       "      <th>2018-01-04</th>\n",
       "      <td>51080.0</td>\n",
       "      <td></td>\n",
       "      <td></td>\n",
       "    </tr>\n",
       "    <tr>\n",
       "      <th>2018-01-05</th>\n",
       "      <td>52120.0</td>\n",
       "      <td></td>\n",
       "      <td></td>\n",
       "    </tr>\n",
       "    <tr>\n",
       "      <th>2018-01-08</th>\n",
       "      <td>52020.0</td>\n",
       "      <td></td>\n",
       "      <td></td>\n",
       "    </tr>\n",
       "  </tbody>\n",
       "</table>\n",
       "</div>"
      ],
      "text/plain": [
       "             005930 t 005930 p 005930\n",
       "trade_time                           \n",
       "2018-01-02  51020.0                  \n",
       "2018-01-03  51620.0                  \n",
       "2018-01-04  51080.0                  \n",
       "2018-01-05  52120.0                  \n",
       "2018-01-08  52020.0                  "
      ]
     },
     "execution_count": 7,
     "metadata": {},
     "output_type": "execute_result"
    }
   ],
   "source": [
    "book = trd.create_trade_book(sample, cd)\n",
    "# create_trade_book(데이터프레임, [종목코드]) - 트레이딩북 생성\n",
    "book.head()"
   ]
  },
  {
   "cell_type": "code",
   "execution_count": 8,
   "metadata": {
    "slideshow": {
     "slide_type": "slide"
    }
   },
   "outputs": [],
   "source": [
    "book = trd.tradings(sample, book, thd, cd, buy, short=False)\n",
    "# tradings(데이터프레임, 트레이딩북, 매도기준, 종목코드, 매입기준) - 매매전략을 이용한 백테스팅 수행"
   ]
  },
  {
   "cell_type": "code",
   "execution_count": 9,
   "metadata": {},
   "outputs": [
    {
     "data": {
      "text/html": [
       "<div>\n",
       "<style scoped>\n",
       "    .dataframe tbody tr th:only-of-type {\n",
       "        vertical-align: middle;\n",
       "    }\n",
       "\n",
       "    .dataframe tbody tr th {\n",
       "        vertical-align: top;\n",
       "    }\n",
       "\n",
       "    .dataframe thead th {\n",
       "        text-align: right;\n",
       "    }\n",
       "</style>\n",
       "<table border=\"1\" class=\"dataframe\">\n",
       "  <thead>\n",
       "    <tr style=\"text-align: right;\">\n",
       "      <th></th>\n",
       "      <th>005930</th>\n",
       "      <th>t 005930</th>\n",
       "      <th>p 005930</th>\n",
       "    </tr>\n",
       "    <tr>\n",
       "      <th>trade_time</th>\n",
       "      <th></th>\n",
       "      <th></th>\n",
       "      <th></th>\n",
       "    </tr>\n",
       "  </thead>\n",
       "  <tbody>\n",
       "    <tr>\n",
       "      <th>2019-05-30</th>\n",
       "      <td>42550.0</td>\n",
       "      <td>buy</td>\n",
       "      <td>ll</td>\n",
       "    </tr>\n",
       "    <tr>\n",
       "      <th>2019-05-31</th>\n",
       "      <td>42500.0</td>\n",
       "      <td>buy</td>\n",
       "      <td>ll</td>\n",
       "    </tr>\n",
       "    <tr>\n",
       "      <th>2019-06-03</th>\n",
       "      <td>43800.0</td>\n",
       "      <td>buy</td>\n",
       "      <td>ll</td>\n",
       "    </tr>\n",
       "    <tr>\n",
       "      <th>2019-06-04</th>\n",
       "      <td>43450.0</td>\n",
       "      <td>buy</td>\n",
       "      <td>ll</td>\n",
       "    </tr>\n",
       "    <tr>\n",
       "      <th>2019-06-05</th>\n",
       "      <td>43900.0</td>\n",
       "      <td>buy</td>\n",
       "      <td>ll</td>\n",
       "    </tr>\n",
       "    <tr>\n",
       "      <th>2019-06-07</th>\n",
       "      <td>44200.0</td>\n",
       "      <td>buy</td>\n",
       "      <td>ll</td>\n",
       "    </tr>\n",
       "    <tr>\n",
       "      <th>2019-06-10</th>\n",
       "      <td>44800.0</td>\n",
       "      <td></td>\n",
       "      <td>lz</td>\n",
       "    </tr>\n",
       "    <tr>\n",
       "      <th>2019-06-11</th>\n",
       "      <td>44850.0</td>\n",
       "      <td></td>\n",
       "      <td>zz</td>\n",
       "    </tr>\n",
       "    <tr>\n",
       "      <th>2019-06-12</th>\n",
       "      <td>44600.0</td>\n",
       "      <td></td>\n",
       "      <td>zz</td>\n",
       "    </tr>\n",
       "    <tr>\n",
       "      <th>2019-06-13</th>\n",
       "      <td>43750.0</td>\n",
       "      <td></td>\n",
       "      <td>zz</td>\n",
       "    </tr>\n",
       "  </tbody>\n",
       "</table>\n",
       "</div>"
      ],
      "text/plain": [
       "             005930 t 005930 p 005930\n",
       "trade_time                           \n",
       "2019-05-30  42550.0      buy       ll\n",
       "2019-05-31  42500.0      buy       ll\n",
       "2019-06-03  43800.0      buy       ll\n",
       "2019-06-04  43450.0      buy       ll\n",
       "2019-06-05  43900.0      buy       ll\n",
       "2019-06-07  44200.0      buy       ll\n",
       "2019-06-10  44800.0                lz\n",
       "2019-06-11  44850.0                zz\n",
       "2019-06-12  44600.0                zz\n",
       "2019-06-13  43750.0                zz"
      ]
     },
     "execution_count": 9,
     "metadata": {},
     "output_type": "execute_result"
    }
   ],
   "source": [
    "# 포지션 계산\n",
    "book = trd.position(book, cd)\n",
    "# position(트레이딩북, 종목코드) - 트레이딩 전략 수행에 수반되는 포지션 판단\n",
    "'''\n",
    "    z : zero\n",
    "    l : long\n",
    "    s : short\n",
    "    zz : zero to zero\n",
    "    zl : zero to long\n",
    "    lz : long to zero\n",
    "'''\n",
    "book[-10:]"
   ]
  },
  {
   "cell_type": "code",
   "execution_count": 10,
   "metadata": {
    "slideshow": {
     "slide_type": "slide"
    }
   },
   "outputs": [
    {
     "name": "stdout",
     "output_type": "stream",
     "text": [
      "2018-02-12 00:00:00 long 005930 45720.0\n",
      "2018-03-13 00:00:00 long 005930 45720.0  | unwind long 005930 51660.0  | return: 12.989999999999998\n",
      "2018-04-05 00:00:00 long 005930 48740.0\n",
      "2018-04-19 00:00:00 long 005930 48740.0  | unwind long 005930 52780.0  | return: 8.290000000000001\n",
      "2018-06-19 00:00:00 long 005930 47000.0\n",
      "2018-08-31 00:00:00 long 005930 47000.0  | unwind long 005930 48450.0  | return: 3.09\n",
      "2018-10-12 00:00:00 long 005930 44000.0\n",
      "2019-01-15 00:00:00 long 005930 44000.0  | unwind long 005930 41100.0  | return: -6.59\n",
      "2019-03-06 00:00:00 long 005930 44000.0\n",
      "2019-06-10 00:00:00 long 005930 44000.0  | unwind long 005930 44800.0  | return: 1.82\n",
      "\u001b[1;30;47mAccumulated return: 19.96 %\u001b[0m  ( # of trade: 5  , # of win: 4  , fee: 0.0  )\n",
      "Avg return: 0.0371\u001b[93m, Prob. of win: 0.8\u001b[0m, Kelly ratio: 60.0\n"
     ]
    }
   ],
   "source": [
    "# 수익률 계산\n",
    "fund_rtn = trd.returns(book, cd, fee=0.0, display=True)\n",
    "# returns(트레이딩북, 종목코드) - 전략의 수익률 계산"
   ]
  },
  {
   "cell_type": "code",
   "execution_count": 11,
   "metadata": {
    "slideshow": {
     "slide_type": "slide"
    }
   },
   "outputs": [
    {
     "name": "stdout",
     "output_type": "stream",
     "text": [
      "BM return: -14.25 %\n",
      "{'005930': 0.8575}\n"
     ]
    }
   ],
   "source": [
    "# 벤치마크 수익률\n",
    "bm_rtn = trd.benchmark_return(book, cd)\n",
    "# benchmark_return(트레이딩북, 종목코드) - 벤치마크 수익률 계산"
   ]
  },
  {
   "cell_type": "code",
   "execution_count": 12,
   "metadata": {},
   "outputs": [
    {
     "name": "stdout",
     "output_type": "stream",
     "text": [
      "Excess return: 39.9 %\n"
     ]
    }
   ],
   "source": [
    "# 초과 수익률\n",
    "exs_rtn = trd.excess_return(fund_rtn, bm_rtn)\n",
    "# excess_return(전략수익률, 벤치마크수익률) - 초과수익률 계산"
   ]
  },
  {
   "cell_type": "markdown",
   "metadata": {
    "slideshow": {
     "slide_type": "slide"
    }
   },
   "source": [
    "그래프로 표현하기"
   ]
  },
  {
   "cell_type": "code",
   "execution_count": 13,
   "metadata": {},
   "outputs": [],
   "source": [
    "v = fs.Visualize()    # fs 라이브러리의 Visualize() 모듈을 불러와 v로 지정"
   ]
  },
  {
   "cell_type": "code",
   "execution_count": 14,
   "metadata": {},
   "outputs": [
    {
     "data": {
      "image/png": "[encoded data removed]",
      "text/plain": [
       "<Figure size 1080x360 with 1 Axes>"
      ]
     },
     "metadata": {},
     "output_type": "display_data"
    }
   ],
   "source": [
    "v.BB_trend_view(sample, cd, (15,5))\n",
    "# v 모듈의 bb_trend_view(데이터프레임, 편차구간, 종목코드, (사이즈)) 함수 - 볼린저밴드 그래프 그리기"
   ]
  },
  {
   "cell_type": "code",
   "execution_count": 15,
   "metadata": {},
   "outputs": [
    {
     "data": {
      "image/png": "[encoded data removed]",
      "text/plain": [
       "<Figure size 1080x72 with 1 Axes>"
      ]
     },
     "metadata": {},
     "output_type": "display_data"
    }
   ],
   "source": [
    "v.position_view(book, cd)\n",
    "# v 모듈의 position_view(트레이딩북, 종목코드, (사이즈)) 함수 - 보유내역 그래프 그리기"
   ]
  },
  {
   "cell_type": "markdown",
   "metadata": {
    "slideshow": {
     "slide_type": "slide"
    }
   },
   "source": [
    "최근 전략"
   ]
  },
  {
   "cell_type": "code",
   "execution_count": 16,
   "metadata": {
    "slideshow": {
     "slide_type": "-"
    }
   },
   "outputs": [
    {
     "data": {
      "text/plain": [
       "'2019-06-13'"
      ]
     },
     "execution_count": 16,
     "metadata": {},
     "output_type": "execute_result"
    }
   ],
   "source": [
    "last_date = sample.index[-1].date().strftime('%Y-%m-%d')\n",
    "# 현재 투자전략 추출을 위해 데이터 상 최종일 추출\n",
    "last_date"
   ]
  },
  {
   "cell_type": "code",
   "execution_count": 17,
   "metadata": {},
   "outputs": [
    {
     "name": "stdout",
     "output_type": "stream",
     "text": [
      "As of 2019-06-13 this model suggests you to just wait\n"
     ]
    },
    {
     "data": {
      "text/plain": [
       "'just wait'"
      ]
     },
     "execution_count": 17,
     "metadata": {},
     "output_type": "execute_result"
    }
   ],
   "source": [
    "trd.trading_strategy(sample, thd, cd, last_date)\n",
    "# trading_strategy(데이터프레임, 매도기준, 종목코드, 최종일) - 트레이딩 전략 판단"
   ]
  },
  {
   "cell_type": "code",
   "execution_count": 18,
   "metadata": {},
   "outputs": [
    {
     "name": "stdout",
     "output_type": "stream",
     "text": [
      "As of 2019-06-13 your model portfolio ['005930'] needs to be composed of nothing\n"
     ]
    },
    {
     "data": {
      "text/plain": [
       "'nothing'"
      ]
     },
     "execution_count": 18,
     "metadata": {},
     "output_type": "execute_result"
    }
   ],
   "source": [
    "trd.position_strategy(book, cd, last_date)\n",
    "# position_strategy(트레이딩북, 종목코드 최종일) - 포지션 구축 전략 판단"
   ]
  },
  {
   "cell_type": "markdown",
   "metadata": {
    "slideshow": {
     "slide_type": "slide"
    }
   },
   "source": [
    "백테스팅 결과인 트레이딩북을 한번 구경해볼까요?"
   ]
  },
  {
   "cell_type": "code",
   "execution_count": 19,
   "metadata": {
    "slideshow": {
     "slide_type": "-"
    }
   },
   "outputs": [
    {
     "data": {
      "text/html": [
       "<div>\n",
       "<style scoped>\n",
       "    .dataframe tbody tr th:only-of-type {\n",
       "        vertical-align: middle;\n",
       "    }\n",
       "\n",
       "    .dataframe tbody tr th {\n",
       "        vertical-align: top;\n",
       "    }\n",
       "\n",
       "    .dataframe thead th {\n",
       "        text-align: right;\n",
       "    }\n",
       "</style>\n",
       "<table border=\"1\" class=\"dataframe\">\n",
       "  <thead>\n",
       "    <tr style=\"text-align: right;\">\n",
       "      <th></th>\n",
       "      <th>005930</th>\n",
       "      <th>t 005930</th>\n",
       "      <th>p 005930</th>\n",
       "      <th>return</th>\n",
       "      <th>acc return</th>\n",
       "      <th>ps005930</th>\n",
       "    </tr>\n",
       "    <tr>\n",
       "      <th>trade_time</th>\n",
       "      <th></th>\n",
       "      <th></th>\n",
       "      <th></th>\n",
       "      <th></th>\n",
       "      <th></th>\n",
       "      <th></th>\n",
       "    </tr>\n",
       "  </thead>\n",
       "  <tbody>\n",
       "    <tr>\n",
       "      <th>2019-05-30</th>\n",
       "      <td>42550.0</td>\n",
       "      <td>buy</td>\n",
       "      <td>ll</td>\n",
       "      <td>1.000000</td>\n",
       "      <td>1.178195</td>\n",
       "      <td>1</td>\n",
       "    </tr>\n",
       "    <tr>\n",
       "      <th>2019-05-31</th>\n",
       "      <td>42500.0</td>\n",
       "      <td>buy</td>\n",
       "      <td>ll</td>\n",
       "      <td>1.000000</td>\n",
       "      <td>1.178195</td>\n",
       "      <td>1</td>\n",
       "    </tr>\n",
       "    <tr>\n",
       "      <th>2019-06-03</th>\n",
       "      <td>43800.0</td>\n",
       "      <td>buy</td>\n",
       "      <td>ll</td>\n",
       "      <td>1.000000</td>\n",
       "      <td>1.178195</td>\n",
       "      <td>1</td>\n",
       "    </tr>\n",
       "    <tr>\n",
       "      <th>2019-06-04</th>\n",
       "      <td>43450.0</td>\n",
       "      <td>buy</td>\n",
       "      <td>ll</td>\n",
       "      <td>1.000000</td>\n",
       "      <td>1.178195</td>\n",
       "      <td>1</td>\n",
       "    </tr>\n",
       "    <tr>\n",
       "      <th>2019-06-05</th>\n",
       "      <td>43900.0</td>\n",
       "      <td>buy</td>\n",
       "      <td>ll</td>\n",
       "      <td>1.000000</td>\n",
       "      <td>1.178195</td>\n",
       "      <td>1</td>\n",
       "    </tr>\n",
       "    <tr>\n",
       "      <th>2019-06-07</th>\n",
       "      <td>44200.0</td>\n",
       "      <td>buy</td>\n",
       "      <td>ll</td>\n",
       "      <td>1.000000</td>\n",
       "      <td>1.178195</td>\n",
       "      <td>1</td>\n",
       "    </tr>\n",
       "    <tr>\n",
       "      <th>2019-06-10</th>\n",
       "      <td>44800.0</td>\n",
       "      <td></td>\n",
       "      <td>lz</td>\n",
       "      <td>1.018182</td>\n",
       "      <td>1.199617</td>\n",
       "      <td>0</td>\n",
       "    </tr>\n",
       "    <tr>\n",
       "      <th>2019-06-11</th>\n",
       "      <td>44850.0</td>\n",
       "      <td></td>\n",
       "      <td>zz</td>\n",
       "      <td>1.000000</td>\n",
       "      <td>1.199617</td>\n",
       "      <td>0</td>\n",
       "    </tr>\n",
       "    <tr>\n",
       "      <th>2019-06-12</th>\n",
       "      <td>44600.0</td>\n",
       "      <td></td>\n",
       "      <td>zz</td>\n",
       "      <td>1.000000</td>\n",
       "      <td>1.199617</td>\n",
       "      <td>0</td>\n",
       "    </tr>\n",
       "    <tr>\n",
       "      <th>2019-06-13</th>\n",
       "      <td>43750.0</td>\n",
       "      <td></td>\n",
       "      <td>zz</td>\n",
       "      <td>1.000000</td>\n",
       "      <td>1.199617</td>\n",
       "      <td>0</td>\n",
       "    </tr>\n",
       "  </tbody>\n",
       "</table>\n",
       "</div>"
      ],
      "text/plain": [
       "             005930 t 005930 p 005930    return  acc return  ps005930\n",
       "trade_time                                                           \n",
       "2019-05-30  42550.0      buy       ll  1.000000    1.178195         1\n",
       "2019-05-31  42500.0      buy       ll  1.000000    1.178195         1\n",
       "2019-06-03  43800.0      buy       ll  1.000000    1.178195         1\n",
       "2019-06-04  43450.0      buy       ll  1.000000    1.178195         1\n",
       "2019-06-05  43900.0      buy       ll  1.000000    1.178195         1\n",
       "2019-06-07  44200.0      buy       ll  1.000000    1.178195         1\n",
       "2019-06-10  44800.0                lz  1.018182    1.199617         0\n",
       "2019-06-11  44850.0                zz  1.000000    1.199617         0\n",
       "2019-06-12  44600.0                zz  1.000000    1.199617         0\n",
       "2019-06-13  43750.0                zz  1.000000    1.199617         0"
      ]
     },
     "execution_count": 19,
     "metadata": {},
     "output_type": "execute_result"
    }
   ],
   "source": [
    "book[-10:]"
   ]
  },
  {
   "cell_type": "raw",
   "metadata": {},
   "source": []
  }
 ],
 "metadata": {
  "celltoolbar": "Slideshow",
  "kernelspec": {
   "display_name": "Python 3",
   "language": "python",
   "name": "python3"
  },
  "language_info": {
   "codemirror_mode": {
    "name": "ipython",
    "version": 3
   },
   "file_extension": ".py",
   "mimetype": "text/x-python",
   "name": "python",
   "nbconvert_exporter": "python",
   "pygments_lexer": "ipython3",
   "version": "3.7.3"
  },
  "rise": {
   "scroll": true
  }
 },
 "nbformat": 4,
 "nbformat_minor": 2
}
