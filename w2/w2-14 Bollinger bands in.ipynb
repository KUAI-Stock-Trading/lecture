{
 "cells": [
  {
   "cell_type": "code",
   "execution_count": null,
   "metadata": {
    "slideshow": {
     "slide_type": "slide"
    }
   },
   "outputs": [],
   "source": [
    "import pandas as pd\n",
    "import finterstellar as fs"
   ]
  },
  {
   "cell_type": "code",
   "execution_count": null,
   "metadata": {},
   "outputs": [],
   "source": [
    "path = './data/'\n",
    "cd = 'S&P 500'"
   ]
  },
  {
   "cell_type": "code",
   "execution_count": null,
   "metadata": {},
   "outputs": [],
   "source": [
    "file_name = path + cd + ' Historical Data.csv'\n",
    "df = pd.read_csv(file_name, index_col='Date')\n",
    "df.head()"
   ]
  },
  {
   "cell_type": "code",
   "execution_count": null,
   "metadata": {
    "slideshow": {
     "slide_type": "slide"
    }
   },
   "outputs": [],
   "source": [
    "# 날짜 처리\n",
    "ld = fs.LoadData()\n",
    "df = ld.date_formatting(df)    \n",
    "# date_formatting(데이터프레임) - 날짜 처리\n",
    "df.head()"
   ]
  },
  {
   "cell_type": "code",
   "execution_count": null,
   "metadata": {},
   "outputs": [],
   "source": [
    "df = ld.price_df_trimming(df, cd)\n",
    "# price_df_trimming(데이터프레임) - 시세 처리\n",
    "df.head()"
   ]
  },
  {
   "cell_type": "markdown",
   "metadata": {
    "slideshow": {
     "slide_type": "slide"
    }
   },
   "source": [
    "볼린저 밴드 계산"
   ]
  },
  {
   "cell_type": "code",
   "execution_count": null,
   "metadata": {
    "slideshow": {
     "slide_type": "-"
    }
   },
   "outputs": [],
   "source": [
    "n = 20     # 평균주가계산 기준일수\n",
    "sigma = 2     # 편차구간 지정 (시그마의 배수로)"
   ]
  },
  {
   "cell_type": "code",
   "execution_count": null,
   "metadata": {},
   "outputs": [],
   "source": [
    "df['center'] = df[cd].rolling(n).mean()\n",
    "# 데이터프레임[데이터].rolling(기준일자).mean() - 이동평균 계산\n",
    "df['ub'] = df['center'] + sigma * df[cd].rolling(n).std()    \n",
    "# 데이터프레임[데이터].rolling(기준일자).std() - 이동표준편차 계산\n",
    "df['lb'] = df['center'] - sigma * df[cd].rolling(n).std()\n",
    "df.tail()"
   ]
  },
  {
   "cell_type": "code",
   "execution_count": null,
   "metadata": {
    "slideshow": {
     "slide_type": "slide"
    }
   },
   "outputs": [],
   "source": [
    "base_date = '2018-01-01'    # 기준일자 설정"
   ]
  },
  {
   "cell_type": "code",
   "execution_count": null,
   "metadata": {},
   "outputs": [],
   "source": [
    "sample = df[base_date:].copy()    # 기준일 이후 데이터만 가져와 sample에 저장 (샘플링)\n",
    "sample.head()"
   ]
  },
  {
   "cell_type": "markdown",
   "metadata": {
    "slideshow": {
     "slide_type": "slide"
    }
   },
   "source": [
    "트레이드 북 생성"
   ]
  },
  {
   "cell_type": "code",
   "execution_count": null,
   "metadata": {},
   "outputs": [],
   "source": [
    "book = pd.DataFrame()    # 빈 트레이딩북(데이터프레임) 생성\n",
    "book[cd] = sample[cd]    # sample에서 시세 복사\n",
    "book['t '+cd] = ''     # 매매전략 입력을 위한 trade 컬럼 생성\n",
    "book['p '+cd] = ''     # 포지션 입력을 위한 p 종목코드 컬럼 생성\n",
    "book.head()"
   ]
  },
  {
   "cell_type": "markdown",
   "metadata": {
    "slideshow": {
     "slide_type": "slide"
    }
   },
   "source": [
    "트레이딩 전략 수립"
   ]
  },
  {
   "cell_type": "code",
   "execution_count": null,
   "metadata": {},
   "outputs": [],
   "source": [
    "thd = 'ub'   # 종목 매도 기준 (편차구간상단:ub, 편차구간중심:center)"
   ]
  },
  {
   "cell_type": "code",
   "execution_count": null,
   "metadata": {},
   "outputs": [],
   "source": [
    "sample.tail()"
   ]
  },
  {
   "cell_type": "code",
   "execution_count": null,
   "metadata": {
    "slideshow": {
     "slide_type": "slide"
    }
   },
   "outputs": [],
   "source": [
    "# 백테스팅 매매전략 구현\n",
    "'''\n",
    "    sample.loc[i, cd] : i일의 가격\n",
    "    sample.loc[i, center] : i일의 평균가격 (center)\n",
    "    sample.loc[i, ub] : i일의 상단가격 (upper bound)\n",
    "    sample.loc[i, lb] : i일의 하단가격 (lower bound)\n",
    "'''\n",
    "for i in sample.index:    # sample에서 날짜를 하나씩 순환하며\n",
    "    price = sample.loc[i, cd]\n",
    "    if price > sample.loc[i, thd]:    # 가격 > thd :\n",
    "        book.loc[i, 't '+cd] = ''    # trade : do nothing\n",
    "    elif sample.loc[i, thd] >= price and price >= sample.loc[i, 'lb']:    \n",
    "    # thd >= 가격 & 가격 >= lb 사이에서는:\n",
    "        if book.shift(1).loc[i, 't '+cd] == 'buy' or book.shift(1).loc[i, 't '+cd] == 'ready':    \n",
    "        # 이미 매수상태 또는 Ready에서 넘어온 상태\n",
    "            book.loc[i, 't '+cd] = 'buy'     # trade : buy (매수상태 유지)\n",
    "        else:\n",
    "            book.loc[i, 't '+cd] = ''     # trade : clear (zero상태 유지)\n",
    "    elif sample.loc[i, 'lb'] > price:    # lb > 가격 :if book.shift(1).loc[i, 't '+cd] == 'buy'\n",
    "        if book.shift(1).loc[i, 't '+cd] == 'buy':\n",
    "            book.loc[i, 't '+cd] = 'buy'    # 이미 buy\n",
    "        else:\n",
    "            book.loc[i, 't '+cd] = 'ready'"
   ]
  },
  {
   "cell_type": "markdown",
   "metadata": {
    "slideshow": {
     "slide_type": "slide"
    }
   },
   "source": [
    "트레이딩 전략에 따른 포지션"
   ]
  },
  {
   "cell_type": "code",
   "execution_count": null,
   "metadata": {},
   "outputs": [],
   "source": [
    "status = ''\n",
    "for i in book.index:\n",
    "    if book.loc[i, 't '+cd] == 'buy':    # 매수 상태에서는\n",
    "        if book.shift(1).loc[i, 't '+cd] == 'buy':    # 이미 매수 상태였다면\n",
    "            status = 'll'     # long -> long 유지\n",
    "        elif book.shift(1).loc[i, 't '+cd] == '':     # zero 상태였다면\n",
    "            status = 'zl'     # zero -> long\n",
    "        else:\n",
    "            status = 'zl'     # zero -> long\n",
    "    elif book.loc[i, 't '+cd] == '':\n",
    "        if book.shift(1).loc[i, 't '+cd] == 'buy':\n",
    "            status = 'lz'     # long -> zero\n",
    "        elif book.shift(1).loc[i, 't '+cd] == '':\n",
    "            status = 'zz'     # zero -> zero\n",
    "        else:\n",
    "            status = 'zz'     # zero -> zero\n",
    "    else:\n",
    "        status = 'zz'     # zero -> zero\n",
    "    book.loc[i, 'p '+cd] = status\n"
   ]
  },
  {
   "cell_type": "code",
   "execution_count": null,
   "metadata": {},
   "outputs": [],
   "source": [
    "book['2018-02-01':'2018-02-20']"
   ]
  },
  {
   "cell_type": "code",
   "execution_count": null,
   "metadata": {
    "slideshow": {
     "slide_type": "slide"
    }
   },
   "outputs": [],
   "source": [
    "rtn = 1.0\n",
    "book['return'] = 1\n",
    "buy = 0.0\n",
    "sell = 0.0\n",
    "for i in book.index:\n",
    "\n",
    "    if book.loc[i, 'p '+cd] == 'zl' or book.loc[i, 'p '+cd] == 'sl' :     # long 진입\n",
    "        buy = book.loc[i, cd]    # 매수 가격 확정\n",
    "        print(i.date(), 'long '+cd, buy)\n",
    "    elif book.loc[i, 'p '+cd] == 'lz' or book.loc[i, 'p '+cd] == 'ls' :     # long 청산\n",
    "        sell = book.loc[i, cd]    # 매도 가격 확정\n",
    "        # 손익 계산\n",
    "        rtn = (sell - buy) / buy + 1    \n",
    "        # 손익 = (매도가-매수가)/매수가 + 1 , 100원 투자해서 10원 벌면 손익은 1.10\n",
    "        book.loc[i, 'return'] = rtn    # 트레이딩북에 손익 기록\n",
    "        print(i.date(), 'long '+cd, buy, ' | unwind long '+cd, sell, ' | return:', round(rtn, 4))\n",
    "\n",
    "    # 공매도가 허용되는 경우라면\n",
    "    elif book.loc[i, 'p '+cd] == 'zs' or book.loc[i, 'p '+cd] == 'ls' :     # short 진입\n",
    "        sell = book.loc[i, cd]    # 공매도 가격 확정\n",
    "        print(i.date(), 'short '+cd, sell)\n",
    "    elif book.loc[i, 'p '+cd] == 'sz' or book.loc[i, 'p '+cd] == 'sl' :     # short 청산\n",
    "        buy = book.loc[i, cd]    # 숏커버 가격 확정\n",
    "        # 손익 계산\n",
    "        rtn = (sell - buy) / sell + 1\n",
    "        book.loc[i, 'return'] = rtn\n",
    "        print(i.date(), 'short '+cd, sell, ' | unwind short '+cd, buy, ' | return:', round(rtn, 4))\n",
    "\n",
    "if book.loc[i, 't '+cd] == '' and book.loc[i, 'p '+cd] == '':     # zero position\n",
    "    buy = 0.0\n",
    "    sell = 0.0\n",
    "\n",
    "acc_rtn = 1.0\n",
    "for i in book.index:\n",
    "    rtn = book.loc[i, 'return']\n",
    "    acc_rtn = acc_rtn * rtn\n",
    "    book.loc[i, 'acc return'] = acc_rtn\n",
    "\n",
    "print ('Accunulated return :', round(acc_rtn, 4))"
   ]
  },
  {
   "cell_type": "code",
   "execution_count": null,
   "metadata": {
    "slideshow": {
     "slide_type": "slide"
    }
   },
   "outputs": [],
   "source": [
    "# 벤치마크 수익률\n",
    "bm_rtn = round (( book[cd].iloc[-1] - book[cd].iloc[0] ) / book[cd].iloc[0] + 1, 4)\n",
    "print('BM return:', round(bm_rtn, 4) )"
   ]
  },
  {
   "cell_type": "code",
   "execution_count": null,
   "metadata": {},
   "outputs": [],
   "source": [
    "exs_rtn = ( round(acc_rtn/bm_rtn, 4) - 1 ) * 100\n",
    "print('Excess return:', round(exs_rtn, 4) )"
   ]
  },
  {
   "cell_type": "markdown",
   "metadata": {
    "slideshow": {
     "slide_type": "slide"
    }
   },
   "source": [
    "그래프를 그려봅시다. 그래프는 fs를 이용해서..."
   ]
  },
  {
   "cell_type": "code",
   "execution_count": null,
   "metadata": {},
   "outputs": [],
   "source": [
    "v = fs.Visualize()   # fs 라이브러리의 Visualize() 모듈을 불러와 v로 지정"
   ]
  },
  {
   "cell_type": "code",
   "execution_count": null,
   "metadata": {},
   "outputs": [],
   "source": [
    "v.bb_trend_view(sample, cd)\n",
    "# v 모듈의 bb_trend_view(데이터프레임, 편차구간, 종목코드, (사이즈)) 함수를 이용해 볼린저밴드 그래프 그리기"
   ]
  },
  {
   "cell_type": "code",
   "execution_count": null,
   "metadata": {},
   "outputs": [],
   "source": [
    "v.position_view(book, [cd])\n",
    "# v 모듈의 position_view(트레이딩북, 종목코드, (사이즈)) 함수를 이용해 포지션 보유내역 그래프 그리기"
   ]
  },
  {
   "cell_type": "code",
   "execution_count": null,
   "metadata": {},
   "outputs": [],
   "source": []
  }
 ],
 "metadata": {
  "celltoolbar": "Slideshow",
  "kernelspec": {
   "display_name": "Python 3",
   "language": "python",
   "name": "python3"
  },
  "language_info": {
   "codemirror_mode": {
    "name": "ipython",
    "version": 3
   },
   "file_extension": ".py",
   "mimetype": "text/x-python",
   "name": "python",
   "nbconvert_exporter": "python",
   "pygments_lexer": "ipython3",
   "version": "3.7.3"
  },
  "rise": {
   "scroll": true
  }
 },
 "nbformat": 4,
 "nbformat_minor": 2
}
