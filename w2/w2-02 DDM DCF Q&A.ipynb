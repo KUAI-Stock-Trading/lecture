{
 "cells": [
  {
   "cell_type": "raw",
   "metadata": {
    "slideshow": {
     "slide_type": "slide"
    }
   },
   "source": [
    "DDM 모델을 파이썬 함수로 작성해보세요\n",
    "D : dividend\n",
    "r : expected return\n",
    "g : growth rate"
   ]
  },
  {
   "cell_type": "markdown",
   "metadata": {},
   "source": [
    "$$p = \\frac{D} {r-g}$$"
   ]
  },
  {
   "cell_type": "code",
   "execution_count": null,
   "metadata": {},
   "outputs": [],
   "source": []
  },
  {
   "cell_type": "code",
   "execution_count": null,
   "metadata": {
    "slideshow": {
     "slide_type": "subslide"
    }
   },
   "outputs": [],
   "source": [
    "def ddm(d, r, g):     # 함수 선언\n",
    "    p = d / (r - g)\n",
    "    return(p)"
   ]
  },
  {
   "cell_type": "code",
   "execution_count": null,
   "metadata": {},
   "outputs": [],
   "source": [
    "d = 1000\n",
    "r = 0.02\n",
    "g = 0.01\n",
    "\n",
    "ddm(d, r, g)"
   ]
  },
  {
   "cell_type": "raw",
   "metadata": {
    "slideshow": {
     "slide_type": "slide"
    }
   },
   "source": [
    "DCF 모델 함수를 작성해보세요\n",
    "CF : cash flow\n",
    "r : expected return"
   ]
  },
  {
   "cell_type": "markdown",
   "metadata": {},
   "source": [
    "$$p = \\frac{CF_1}{(1+r)^1} + \\frac{CF_2}{(1+r)^2} + ... + \\frac{CF_n}{(1+r)^n}$$"
   ]
  },
  {
   "cell_type": "code",
   "execution_count": null,
   "metadata": {},
   "outputs": [],
   "source": []
  },
  {
   "cell_type": "code",
   "execution_count": null,
   "metadata": {
    "slideshow": {
     "slide_type": "subslide"
    }
   },
   "outputs": [],
   "source": [
    "def dcf(r, *cf):    # 함수 선언 시 입력값에 *를 붙이면 n개(불특정 개수)의 입력값을 받음\n",
    "    n = 1\n",
    "    p = 0\n",
    "    for c in cf:   # 몇 개일지는 모르지만 cf 값들을 순환한다\n",
    "        p = p + (c / (1+r)**n)\n",
    "        n = n + 1\n",
    "    return(p)"
   ]
  },
  {
   "cell_type": "code",
   "execution_count": null,
   "metadata": {},
   "outputs": [],
   "source": [
    "dcf(0.02, 1000, 1000, 1000)"
   ]
  }
 ],
 "metadata": {
  "celltoolbar": "Slideshow",
  "kernelspec": {
   "display_name": "Python 3",
   "language": "python",
   "name": "python3"
  },
  "language_info": {
   "codemirror_mode": {
    "name": "ipython",
    "version": 3
   },
   "file_extension": ".py",
   "mimetype": "text/x-python",
   "name": "python",
   "nbconvert_exporter": "python",
   "pygments_lexer": "ipython3",
   "version": "3.7.3"
  },
  "rise": {
   "scroll": true
  }
 },
 "nbformat": 4,
 "nbformat_minor": 2
}
