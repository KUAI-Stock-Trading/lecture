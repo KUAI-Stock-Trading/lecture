{
 "cells": [
  {
   "cell_type": "code",
   "execution_count": 1,
   "metadata": {
    "slideshow": {
     "slide_type": "slide"
    }
   },
   "outputs": [],
   "source": [
    "import pandas as pd\n",
    "import finterstellar as fs"
   ]
  },
  {
   "cell_type": "code",
   "execution_count": 2,
   "metadata": {
    "slideshow": {
     "slide_type": "-"
    }
   },
   "outputs": [],
   "source": [
    "coin = fs.CoinPrice()"
   ]
  },
  {
   "cell_type": "code",
   "execution_count": 3,
   "metadata": {},
   "outputs": [],
   "source": [
    "cd = 'BTC'"
   ]
  },
  {
   "cell_type": "code",
   "execution_count": 4,
   "metadata": {},
   "outputs": [
    {
     "data": {
      "text/html": [
       "<div>\n",
       "<style scoped>\n",
       "    .dataframe tbody tr th:only-of-type {\n",
       "        vertical-align: middle;\n",
       "    }\n",
       "\n",
       "    .dataframe tbody tr th {\n",
       "        vertical-align: top;\n",
       "    }\n",
       "\n",
       "    .dataframe thead th {\n",
       "        text-align: right;\n",
       "    }\n",
       "</style>\n",
       "<table border=\"1\" class=\"dataframe\">\n",
       "  <thead>\n",
       "    <tr style=\"text-align: right;\">\n",
       "      <th></th>\n",
       "      <th>close</th>\n",
       "      <th>open</th>\n",
       "      <th>high</th>\n",
       "      <th>low</th>\n",
       "      <th>volume</th>\n",
       "    </tr>\n",
       "  </thead>\n",
       "  <tbody>\n",
       "    <tr>\n",
       "      <th>2019-04-20 16:36:00</th>\n",
       "      <td>6135000.0</td>\n",
       "      <td>6133000.0</td>\n",
       "      <td>6135000.0</td>\n",
       "      <td>6133000.0</td>\n",
       "      <td>4.7329</td>\n",
       "    </tr>\n",
       "    <tr>\n",
       "      <th>2019-04-20 16:37:00</th>\n",
       "      <td>6136000.0</td>\n",
       "      <td>6132000.0</td>\n",
       "      <td>6136000.0</td>\n",
       "      <td>6132000.0</td>\n",
       "      <td>0.6408</td>\n",
       "    </tr>\n",
       "    <tr>\n",
       "      <th>2019-04-20 16:38:00</th>\n",
       "      <td>6139000.0</td>\n",
       "      <td>6136000.0</td>\n",
       "      <td>6139000.0</td>\n",
       "      <td>6133000.0</td>\n",
       "      <td>5.1251</td>\n",
       "    </tr>\n",
       "    <tr>\n",
       "      <th>2019-04-20 16:39:00</th>\n",
       "      <td>6133000.0</td>\n",
       "      <td>6139000.0</td>\n",
       "      <td>6139000.0</td>\n",
       "      <td>6133000.0</td>\n",
       "      <td>4.2368</td>\n",
       "    </tr>\n",
       "    <tr>\n",
       "      <th>2019-04-20 16:40:00</th>\n",
       "      <td>6139000.0</td>\n",
       "      <td>6139000.0</td>\n",
       "      <td>6139000.0</td>\n",
       "      <td>6139000.0</td>\n",
       "      <td>0.0048</td>\n",
       "    </tr>\n",
       "  </tbody>\n",
       "</table>\n",
       "</div>"
      ],
      "text/plain": [
       "                         close       open       high        low  volume\n",
       "2019-04-20 16:36:00  6135000.0  6133000.0  6135000.0  6133000.0  4.7329\n",
       "2019-04-20 16:37:00  6136000.0  6132000.0  6136000.0  6132000.0  0.6408\n",
       "2019-04-20 16:38:00  6139000.0  6136000.0  6139000.0  6133000.0  5.1251\n",
       "2019-04-20 16:39:00  6133000.0  6139000.0  6139000.0  6133000.0  4.2368\n",
       "2019-04-20 16:40:00  6139000.0  6139000.0  6139000.0  6139000.0  0.0048"
      ]
     },
     "execution_count": 4,
     "metadata": {},
     "output_type": "execute_result"
    }
   ],
   "source": [
    "coin_df = coin.bithumb_historical_price(coin_cd=cd, freq='M')\n",
    "coin_df.head()"
   ]
  },
  {
   "cell_type": "code",
   "execution_count": 5,
   "metadata": {
    "slideshow": {
     "slide_type": "slide"
    }
   },
   "outputs": [],
   "source": [
    "trd = fs.SingleAsset()   # fs 라이브러리의 SingleAsset 모듈을 불러와 trd에 로딩\n",
    "\n",
    "base_date = '2019-04-21 09:00:00'   # 기준일자 설정"
   ]
  },
  {
   "cell_type": "code",
   "execution_count": 6,
   "metadata": {},
   "outputs": [
    {
     "data": {
      "text/html": [
       "<div>\n",
       "<style scoped>\n",
       "    .dataframe tbody tr th:only-of-type {\n",
       "        vertical-align: middle;\n",
       "    }\n",
       "\n",
       "    .dataframe tbody tr th {\n",
       "        vertical-align: top;\n",
       "    }\n",
       "\n",
       "    .dataframe thead th {\n",
       "        text-align: right;\n",
       "    }\n",
       "</style>\n",
       "<table border=\"1\" class=\"dataframe\">\n",
       "  <thead>\n",
       "    <tr style=\"text-align: right;\">\n",
       "      <th></th>\n",
       "      <th>BTC</th>\n",
       "      <th>volume</th>\n",
       "    </tr>\n",
       "  </thead>\n",
       "  <tbody>\n",
       "    <tr>\n",
       "      <th>2019-04-20 16:36:00</th>\n",
       "      <td>6135000.0</td>\n",
       "      <td>4.7329</td>\n",
       "    </tr>\n",
       "    <tr>\n",
       "      <th>2019-04-20 16:37:00</th>\n",
       "      <td>6136000.0</td>\n",
       "      <td>0.6408</td>\n",
       "    </tr>\n",
       "    <tr>\n",
       "      <th>2019-04-20 16:38:00</th>\n",
       "      <td>6139000.0</td>\n",
       "      <td>5.1251</td>\n",
       "    </tr>\n",
       "  </tbody>\n",
       "</table>\n",
       "</div>"
      ],
      "text/plain": [
       "                           BTC  volume\n",
       "2019-04-20 16:36:00  6135000.0  4.7329\n",
       "2019-04-20 16:37:00  6136000.0  0.6408\n",
       "2019-04-20 16:38:00  6139000.0  5.1251"
      ]
     },
     "execution_count": 6,
     "metadata": {},
     "output_type": "execute_result"
    }
   ],
   "source": [
    "df = pd.DataFrame()    # 빈 데이터프레임을 생성하고\n",
    "df[cd] = coin_df['close'].copy()    # 시세를 복사해 넣음\n",
    "df['volume'] = coin_df['volume'].copy()    # 거래량도 복사해 넣음\n",
    "df = df.dropna()     # na를 없애고\n",
    "df.head(3)"
   ]
  },
  {
   "cell_type": "code",
   "execution_count": 7,
   "metadata": {
    "slideshow": {
     "slide_type": "slide"
    }
   },
   "outputs": [],
   "source": [
    "n = 20     # 평균주가계산 기준일수\n",
    "sigma = 2     # 편차구간 지정 (시그마의 배수로)"
   ]
  },
  {
   "cell_type": "code",
   "execution_count": 8,
   "metadata": {
    "slideshow": {
     "slide_type": "slide"
    }
   },
   "outputs": [
    {
     "data": {
      "text/html": [
       "<div>\n",
       "<style scoped>\n",
       "    .dataframe tbody tr th:only-of-type {\n",
       "        vertical-align: middle;\n",
       "    }\n",
       "\n",
       "    .dataframe tbody tr th {\n",
       "        vertical-align: top;\n",
       "    }\n",
       "\n",
       "    .dataframe thead th {\n",
       "        text-align: right;\n",
       "    }\n",
       "</style>\n",
       "<table border=\"1\" class=\"dataframe\">\n",
       "  <thead>\n",
       "    <tr style=\"text-align: right;\">\n",
       "      <th></th>\n",
       "      <th>BTC</th>\n",
       "      <th>center</th>\n",
       "      <th>ub</th>\n",
       "      <th>lb</th>\n",
       "      <th>band_size</th>\n",
       "    </tr>\n",
       "  </thead>\n",
       "  <tbody>\n",
       "    <tr>\n",
       "      <th>2019-04-21 16:30:00</th>\n",
       "      <td>6167000.0</td>\n",
       "      <td>6166650.0</td>\n",
       "      <td>6.169186e+06</td>\n",
       "      <td>6.164114e+06</td>\n",
       "      <td>5072.111571</td>\n",
       "    </tr>\n",
       "    <tr>\n",
       "      <th>2019-04-21 16:31:00</th>\n",
       "      <td>6168000.0</td>\n",
       "      <td>6166700.0</td>\n",
       "      <td>6.169304e+06</td>\n",
       "      <td>6.164096e+06</td>\n",
       "      <td>5207.282350</td>\n",
       "    </tr>\n",
       "    <tr>\n",
       "      <th>2019-04-21 16:32:00</th>\n",
       "      <td>6168000.0</td>\n",
       "      <td>6166650.0</td>\n",
       "      <td>6.169102e+06</td>\n",
       "      <td>6.164198e+06</td>\n",
       "      <td>4903.274953</td>\n",
       "    </tr>\n",
       "    <tr>\n",
       "      <th>2019-04-21 16:33:00</th>\n",
       "      <td>6167000.0</td>\n",
       "      <td>6166650.0</td>\n",
       "      <td>6.169102e+06</td>\n",
       "      <td>6.164198e+06</td>\n",
       "      <td>4903.274953</td>\n",
       "    </tr>\n",
       "    <tr>\n",
       "      <th>2019-04-21 16:35:00</th>\n",
       "      <td>6169000.0</td>\n",
       "      <td>6166800.0</td>\n",
       "      <td>6.169444e+06</td>\n",
       "      <td>6.164156e+06</td>\n",
       "      <td>5287.522552</td>\n",
       "    </tr>\n",
       "  </tbody>\n",
       "</table>\n",
       "</div>"
      ],
      "text/plain": [
       "                           BTC     center            ub            lb  \\\n",
       "2019-04-21 16:30:00  6167000.0  6166650.0  6.169186e+06  6.164114e+06   \n",
       "2019-04-21 16:31:00  6168000.0  6166700.0  6.169304e+06  6.164096e+06   \n",
       "2019-04-21 16:32:00  6168000.0  6166650.0  6.169102e+06  6.164198e+06   \n",
       "2019-04-21 16:33:00  6167000.0  6166650.0  6.169102e+06  6.164198e+06   \n",
       "2019-04-21 16:35:00  6169000.0  6166800.0  6.169444e+06  6.164156e+06   \n",
       "\n",
       "                       band_size  \n",
       "2019-04-21 16:30:00  5072.111571  \n",
       "2019-04-21 16:31:00  5207.282350  \n",
       "2019-04-21 16:32:00  4903.274953  \n",
       "2019-04-21 16:33:00  4903.274953  \n",
       "2019-04-21 16:35:00  5287.522552  "
      ]
     },
     "execution_count": 8,
     "metadata": {},
     "output_type": "execute_result"
    }
   ],
   "source": [
    "# 볼린저밴드 계산\n",
    "bb = trd.bollinger_band(df, cd, n, sigma)\n",
    "# bollinger_band(데이터프레임, 분석대상코드, 평균기준일, 편차구간) - 볼린저밴드 분석값 계산\n",
    "bb.tail()"
   ]
  },
  {
   "cell_type": "code",
   "execution_count": 9,
   "metadata": {
    "slideshow": {
     "slide_type": "slide"
    }
   },
   "outputs": [
    {
     "data": {
      "text/html": [
       "<div>\n",
       "<style scoped>\n",
       "    .dataframe tbody tr th:only-of-type {\n",
       "        vertical-align: middle;\n",
       "    }\n",
       "\n",
       "    .dataframe tbody tr th {\n",
       "        vertical-align: top;\n",
       "    }\n",
       "\n",
       "    .dataframe thead th {\n",
       "        text-align: right;\n",
       "    }\n",
       "</style>\n",
       "<table border=\"1\" class=\"dataframe\">\n",
       "  <thead>\n",
       "    <tr style=\"text-align: right;\">\n",
       "      <th></th>\n",
       "      <th>BTC</th>\n",
       "      <th>center</th>\n",
       "      <th>ub</th>\n",
       "      <th>lb</th>\n",
       "      <th>band_size</th>\n",
       "    </tr>\n",
       "  </thead>\n",
       "  <tbody>\n",
       "    <tr>\n",
       "      <th>2019-04-21 09:00:00</th>\n",
       "      <td>6142000.0</td>\n",
       "      <td>6145100.0</td>\n",
       "      <td>6.152884e+06</td>\n",
       "      <td>6.137316e+06</td>\n",
       "      <td>15567.848109</td>\n",
       "    </tr>\n",
       "    <tr>\n",
       "      <th>2019-04-21 09:01:00</th>\n",
       "      <td>6143000.0</td>\n",
       "      <td>6145250.0</td>\n",
       "      <td>6.152730e+06</td>\n",
       "      <td>6.137770e+06</td>\n",
       "      <td>14959.594703</td>\n",
       "    </tr>\n",
       "    <tr>\n",
       "      <th>2019-04-21 09:02:00</th>\n",
       "      <td>6143000.0</td>\n",
       "      <td>6144950.0</td>\n",
       "      <td>6.152276e+06</td>\n",
       "      <td>6.137624e+06</td>\n",
       "      <td>14652.465214</td>\n",
       "    </tr>\n",
       "    <tr>\n",
       "      <th>2019-04-21 09:03:00</th>\n",
       "      <td>6144000.0</td>\n",
       "      <td>6145200.0</td>\n",
       "      <td>6.151993e+06</td>\n",
       "      <td>6.138407e+06</td>\n",
       "      <td>13586.370880</td>\n",
       "    </tr>\n",
       "    <tr>\n",
       "      <th>2019-04-21 09:05:00</th>\n",
       "      <td>6145000.0</td>\n",
       "      <td>6145150.0</td>\n",
       "      <td>6.151933e+06</td>\n",
       "      <td>6.138367e+06</td>\n",
       "      <td>13566.211898</td>\n",
       "    </tr>\n",
       "  </tbody>\n",
       "</table>\n",
       "</div>"
      ],
      "text/plain": [
       "                           BTC     center            ub            lb  \\\n",
       "2019-04-21 09:00:00  6142000.0  6145100.0  6.152884e+06  6.137316e+06   \n",
       "2019-04-21 09:01:00  6143000.0  6145250.0  6.152730e+06  6.137770e+06   \n",
       "2019-04-21 09:02:00  6143000.0  6144950.0  6.152276e+06  6.137624e+06   \n",
       "2019-04-21 09:03:00  6144000.0  6145200.0  6.151993e+06  6.138407e+06   \n",
       "2019-04-21 09:05:00  6145000.0  6145150.0  6.151933e+06  6.138367e+06   \n",
       "\n",
       "                        band_size  \n",
       "2019-04-21 09:00:00  15567.848109  \n",
       "2019-04-21 09:01:00  14959.594703  \n",
       "2019-04-21 09:02:00  14652.465214  \n",
       "2019-04-21 09:03:00  13586.370880  \n",
       "2019-04-21 09:05:00  13566.211898  "
      ]
     },
     "execution_count": 9,
     "metadata": {},
     "output_type": "execute_result"
    }
   ],
   "source": [
    "# 샘플링\n",
    "sample = bb.loc[base_date:]     # 계산 결과를 기준일자 이후만 잘라내 sample 데이터프레임에 저장\n",
    "sample.head()"
   ]
  },
  {
   "cell_type": "code",
   "execution_count": 10,
   "metadata": {
    "slideshow": {
     "slide_type": "slide"
    }
   },
   "outputs": [
    {
     "data": {
      "text/html": [
       "<div>\n",
       "<style scoped>\n",
       "    .dataframe tbody tr th:only-of-type {\n",
       "        vertical-align: middle;\n",
       "    }\n",
       "\n",
       "    .dataframe tbody tr th {\n",
       "        vertical-align: top;\n",
       "    }\n",
       "\n",
       "    .dataframe thead th {\n",
       "        text-align: right;\n",
       "    }\n",
       "</style>\n",
       "<table border=\"1\" class=\"dataframe\">\n",
       "  <thead>\n",
       "    <tr style=\"text-align: right;\">\n",
       "      <th></th>\n",
       "      <th>BTC</th>\n",
       "      <th>t BTC</th>\n",
       "      <th>p BTC</th>\n",
       "    </tr>\n",
       "  </thead>\n",
       "  <tbody>\n",
       "    <tr>\n",
       "      <th>2019-04-21 09:00:00</th>\n",
       "      <td>6142000.0</td>\n",
       "      <td></td>\n",
       "      <td></td>\n",
       "    </tr>\n",
       "    <tr>\n",
       "      <th>2019-04-21 09:01:00</th>\n",
       "      <td>6143000.0</td>\n",
       "      <td></td>\n",
       "      <td></td>\n",
       "    </tr>\n",
       "    <tr>\n",
       "      <th>2019-04-21 09:02:00</th>\n",
       "      <td>6143000.0</td>\n",
       "      <td></td>\n",
       "      <td></td>\n",
       "    </tr>\n",
       "    <tr>\n",
       "      <th>2019-04-21 09:03:00</th>\n",
       "      <td>6144000.0</td>\n",
       "      <td></td>\n",
       "      <td></td>\n",
       "    </tr>\n",
       "    <tr>\n",
       "      <th>2019-04-21 09:05:00</th>\n",
       "      <td>6145000.0</td>\n",
       "      <td></td>\n",
       "      <td></td>\n",
       "    </tr>\n",
       "  </tbody>\n",
       "</table>\n",
       "</div>"
      ],
      "text/plain": [
       "                           BTC t BTC p BTC\n",
       "2019-04-21 09:00:00  6142000.0            \n",
       "2019-04-21 09:01:00  6143000.0            \n",
       "2019-04-21 09:02:00  6143000.0            \n",
       "2019-04-21 09:03:00  6144000.0            \n",
       "2019-04-21 09:05:00  6145000.0            "
      ]
     },
     "execution_count": 10,
     "metadata": {},
     "output_type": "execute_result"
    }
   ],
   "source": [
    "book = trd.create_trade_book(sample, cd)\n",
    "# create_trade_book(데이터프레임, [종목코드]) - 트레이딩북 생성\n",
    "book.head()"
   ]
  },
  {
   "cell_type": "code",
   "execution_count": 11,
   "metadata": {
    "slideshow": {
     "slide_type": "slide"
    }
   },
   "outputs": [],
   "source": [
    "# 트레이딩 전략 설정\n",
    "thd = 'ub'   # 종목 매도 기준 (편차구간상단:ub, 편차구간중심:center)\n",
    "buy = 'out'    # 종목 매수 기준 (편차구간 진입 시:in, 편차구간 벗어날 시:out)\n",
    "book = trd.tradings(sample, book, thd, cd, buy, short=False)\n",
    "# tradings(데이터프레임, 트레이딩북, 매도기준, 종목코드, 매입기준) - 매매전략을 이용한 백테스팅 수행"
   ]
  },
  {
   "cell_type": "code",
   "execution_count": 12,
   "metadata": {},
   "outputs": [
    {
     "data": {
      "text/html": [
       "<div>\n",
       "<style scoped>\n",
       "    .dataframe tbody tr th:only-of-type {\n",
       "        vertical-align: middle;\n",
       "    }\n",
       "\n",
       "    .dataframe tbody tr th {\n",
       "        vertical-align: top;\n",
       "    }\n",
       "\n",
       "    .dataframe thead th {\n",
       "        text-align: right;\n",
       "    }\n",
       "</style>\n",
       "<table border=\"1\" class=\"dataframe\">\n",
       "  <thead>\n",
       "    <tr style=\"text-align: right;\">\n",
       "      <th></th>\n",
       "      <th>BTC</th>\n",
       "      <th>t BTC</th>\n",
       "      <th>p BTC</th>\n",
       "    </tr>\n",
       "  </thead>\n",
       "  <tbody>\n",
       "    <tr>\n",
       "      <th>2019-04-21 09:00:00</th>\n",
       "      <td>6142000.0</td>\n",
       "      <td></td>\n",
       "      <td>zz</td>\n",
       "    </tr>\n",
       "    <tr>\n",
       "      <th>2019-04-21 09:01:00</th>\n",
       "      <td>6143000.0</td>\n",
       "      <td></td>\n",
       "      <td>zz</td>\n",
       "    </tr>\n",
       "    <tr>\n",
       "      <th>2019-04-21 09:02:00</th>\n",
       "      <td>6143000.0</td>\n",
       "      <td></td>\n",
       "      <td>zz</td>\n",
       "    </tr>\n",
       "    <tr>\n",
       "      <th>2019-04-21 09:03:00</th>\n",
       "      <td>6144000.0</td>\n",
       "      <td></td>\n",
       "      <td>zz</td>\n",
       "    </tr>\n",
       "    <tr>\n",
       "      <th>2019-04-21 09:05:00</th>\n",
       "      <td>6145000.0</td>\n",
       "      <td></td>\n",
       "      <td>zz</td>\n",
       "    </tr>\n",
       "  </tbody>\n",
       "</table>\n",
       "</div>"
      ],
      "text/plain": [
       "                           BTC t BTC p BTC\n",
       "2019-04-21 09:00:00  6142000.0          zz\n",
       "2019-04-21 09:01:00  6143000.0          zz\n",
       "2019-04-21 09:02:00  6143000.0          zz\n",
       "2019-04-21 09:03:00  6144000.0          zz\n",
       "2019-04-21 09:05:00  6145000.0          zz"
      ]
     },
     "execution_count": 12,
     "metadata": {},
     "output_type": "execute_result"
    }
   ],
   "source": [
    "# 포지션 계산\n",
    "book = trd.position(book, cd)\n",
    "# position(트레이딩북, 종목코드) - 트레이딩 전략 수행에 수반되는 포지션 판단\n",
    "'''\n",
    "    z : zero\n",
    "    l : long\n",
    "    s : short\n",
    "    zz : zero to zero\n",
    "    zl : zero to long\n",
    "    lz : long to zero\n",
    "'''\n",
    "book.head()"
   ]
  },
  {
   "cell_type": "code",
   "execution_count": 13,
   "metadata": {
    "slideshow": {
     "slide_type": "slide"
    }
   },
   "outputs": [
    {
     "name": "stdout",
     "output_type": "stream",
     "text": [
      "2019-04-21 09:36:00 long BTC 6154000.0\n",
      "2019-04-21 11:57:00 long BTC 6154000.0  | unwind long BTC 6169000.0  | return: 1.0024\n",
      "2019-04-21 13:07:00 long BTC 6165000.0\n",
      "2019-04-21 14:00:00 long BTC 6165000.0  | unwind long BTC 6165000.0  | return: 1.0\n",
      "2019-04-21 14:40:00 long BTC 6160000.0\n",
      "2019-04-21 15:39:00 long BTC 6160000.0  | unwind long BTC 6155000.0  | return: 0.9992\n",
      "Accumulated return: 0.16 %  ( # of trade: 3  , # of win: 1  )\n",
      "Avg return: 0.0005 , Prob. of win: 0.3333\n"
     ]
    }
   ],
   "source": [
    "# 수익률 계산\n",
    "fund_rtn = trd.returns(book, cd, display=True)\n",
    "# returns(트레이딩북, 종목코드) - 전략의 수익률 계산"
   ]
  },
  {
   "cell_type": "code",
   "execution_count": 14,
   "metadata": {
    "slideshow": {
     "slide_type": "slide"
    }
   },
   "outputs": [
    {
     "name": "stdout",
     "output_type": "stream",
     "text": [
      "BM return: 0.44 %\n",
      "{'BTC': 1.0044}\n"
     ]
    }
   ],
   "source": [
    "# 벤치마크 수익률\n",
    "bm_rtn = trd.benchmark_return(book, cd)\n",
    "# benchmark_return(트레이딩북, 종목코드) - 벤치마크 수익률 계산"
   ]
  },
  {
   "cell_type": "code",
   "execution_count": 15,
   "metadata": {},
   "outputs": [
    {
     "name": "stdout",
     "output_type": "stream",
     "text": [
      "Excess return: -0.28 %\n"
     ]
    }
   ],
   "source": [
    "# 초과 수익률\n",
    "exs_rtn = trd.excess_return(fund_rtn, bm_rtn)\n",
    "# excess_return(전략수익률, 벤치마크수익률) - 초과수익률 계산"
   ]
  },
  {
   "cell_type": "markdown",
   "metadata": {
    "slideshow": {
     "slide_type": "slide"
    }
   },
   "source": [
    "그래프로 표현하기"
   ]
  },
  {
   "cell_type": "code",
   "execution_count": 16,
   "metadata": {},
   "outputs": [],
   "source": [
    "v = fs.VisualizeIntraday()    # fs 라이브러리의 Visualize() 모듈을 불러와 v로 지정"
   ]
  },
  {
   "cell_type": "code",
   "execution_count": 17,
   "metadata": {},
   "outputs": [
    {
     "data": {
      "image/png": "[encoded data removed]",
      "text/plain": [
       "<Figure size 1080x360 with 1 Axes>"
      ]
     },
     "metadata": {},
     "output_type": "display_data"
    }
   ],
   "source": [
    "v.bb_trend_view(sample, sigma, cd, size=(15,5))\n",
    "# v 모듈의 bb_trend_view(데이터프레임, 편차구간, 종목코드, (사이즈)) 함수 - 볼린저밴드 그래프 그리기"
   ]
  },
  {
   "cell_type": "code",
   "execution_count": 18,
   "metadata": {},
   "outputs": [
    {
     "data": {
      "image/png": "[encoded data removed]",
      "text/plain": [
       "<Figure size 1080x72 with 1 Axes>"
      ]
     },
     "metadata": {},
     "output_type": "display_data"
    }
   ],
   "source": [
    "v.position_view(book, cd)\n",
    "# v 모듈의 position_view(트레이딩북, 종목코드, (사이즈)) 함수 - 보유내역 그래프 그리기"
   ]
  },
  {
   "cell_type": "markdown",
   "metadata": {
    "slideshow": {
     "slide_type": "slide"
    }
   },
   "source": [
    "최근 전략"
   ]
  },
  {
   "cell_type": "code",
   "execution_count": 19,
   "metadata": {
    "slideshow": {
     "slide_type": "-"
    }
   },
   "outputs": [
    {
     "data": {
      "text/plain": [
       "'2019-04-21 16:35:00'"
      ]
     },
     "execution_count": 19,
     "metadata": {},
     "output_type": "execute_result"
    }
   ],
   "source": [
    "#last_date = sample.index[-1].date().strftime('%Y-%m-%d')\n",
    "last_point = sample.index[-1]\n",
    "# 현재 투자전략 추출을 위해 데이터 상 최종일 추출\n",
    "last_point"
   ]
  },
  {
   "cell_type": "code",
   "execution_count": 20,
   "metadata": {},
   "outputs": [
    {
     "name": "stdout",
     "output_type": "stream",
     "text": [
      "As of 2019-04-21 16:35:00 this model suggests you to just wait\n"
     ]
    },
    {
     "data": {
      "text/plain": [
       "'just wait'"
      ]
     },
     "execution_count": 20,
     "metadata": {},
     "output_type": "execute_result"
    }
   ],
   "source": [
    "trd.trading_strategy(sample, thd, cd, last_point)\n",
    "# trading_strategy(데이터프레임, 매도기준, 종목코드, 최종일) - 트레이딩 전략 판단"
   ]
  },
  {
   "cell_type": "code",
   "execution_count": 21,
   "metadata": {},
   "outputs": [
    {
     "name": "stdout",
     "output_type": "stream",
     "text": [
      "As of 2019-04-21 16:35:00 your model portfolio ['BTC'] needs to be composed of nothing\n"
     ]
    },
    {
     "data": {
      "text/plain": [
       "'nothing'"
      ]
     },
     "execution_count": 21,
     "metadata": {},
     "output_type": "execute_result"
    }
   ],
   "source": [
    "trd.position_strategy(book, cd, last_point)\n",
    "# position_strategy(트레이딩북, 종목코드 최종일) - 포지션 구축 전략 판단"
   ]
  },
  {
   "cell_type": "markdown",
   "metadata": {
    "slideshow": {
     "slide_type": "slide"
    }
   },
   "source": [
    "백테스팅 결과인 트레이딩북을 한번 구경해볼까요?"
   ]
  },
  {
   "cell_type": "code",
   "execution_count": 22,
   "metadata": {
    "slideshow": {
     "slide_type": "-"
    }
   },
   "outputs": [
    {
     "data": {
      "text/html": [
       "<div>\n",
       "<style scoped>\n",
       "    .dataframe tbody tr th:only-of-type {\n",
       "        vertical-align: middle;\n",
       "    }\n",
       "\n",
       "    .dataframe tbody tr th {\n",
       "        vertical-align: top;\n",
       "    }\n",
       "\n",
       "    .dataframe thead th {\n",
       "        text-align: right;\n",
       "    }\n",
       "</style>\n",
       "<table border=\"1\" class=\"dataframe\">\n",
       "  <thead>\n",
       "    <tr style=\"text-align: right;\">\n",
       "      <th></th>\n",
       "      <th>BTC</th>\n",
       "      <th>t BTC</th>\n",
       "      <th>p BTC</th>\n",
       "      <th>return</th>\n",
       "      <th>acc return</th>\n",
       "      <th>psBTC</th>\n",
       "    </tr>\n",
       "  </thead>\n",
       "  <tbody>\n",
       "    <tr>\n",
       "      <th>2019-04-21 15:37:00</th>\n",
       "      <td>6152000.0</td>\n",
       "      <td>buy</td>\n",
       "      <td>ll</td>\n",
       "      <td>1.000000</td>\n",
       "      <td>1.002437</td>\n",
       "      <td>1</td>\n",
       "    </tr>\n",
       "    <tr>\n",
       "      <th>2019-04-21 15:39:00</th>\n",
       "      <td>6155000.0</td>\n",
       "      <td></td>\n",
       "      <td>lz</td>\n",
       "      <td>0.999188</td>\n",
       "      <td>1.001624</td>\n",
       "      <td>0</td>\n",
       "    </tr>\n",
       "    <tr>\n",
       "      <th>2019-04-21 15:40:00</th>\n",
       "      <td>6159000.0</td>\n",
       "      <td></td>\n",
       "      <td>zz</td>\n",
       "      <td>1.000000</td>\n",
       "      <td>1.001624</td>\n",
       "      <td>0</td>\n",
       "    </tr>\n",
       "    <tr>\n",
       "      <th>2019-04-21 15:41:00</th>\n",
       "      <td>6153000.0</td>\n",
       "      <td></td>\n",
       "      <td>zz</td>\n",
       "      <td>1.000000</td>\n",
       "      <td>1.001624</td>\n",
       "      <td>0</td>\n",
       "    </tr>\n",
       "    <tr>\n",
       "      <th>2019-04-21 15:42:00</th>\n",
       "      <td>6151000.0</td>\n",
       "      <td></td>\n",
       "      <td>zz</td>\n",
       "      <td>1.000000</td>\n",
       "      <td>1.001624</td>\n",
       "      <td>0</td>\n",
       "    </tr>\n",
       "    <tr>\n",
       "      <th>2019-04-21 15:43:00</th>\n",
       "      <td>6152000.0</td>\n",
       "      <td></td>\n",
       "      <td>zz</td>\n",
       "      <td>1.000000</td>\n",
       "      <td>1.001624</td>\n",
       "      <td>0</td>\n",
       "    </tr>\n",
       "    <tr>\n",
       "      <th>2019-04-21 15:44:00</th>\n",
       "      <td>6152000.0</td>\n",
       "      <td></td>\n",
       "      <td>zz</td>\n",
       "      <td>1.000000</td>\n",
       "      <td>1.001624</td>\n",
       "      <td>0</td>\n",
       "    </tr>\n",
       "    <tr>\n",
       "      <th>2019-04-21 15:45:00</th>\n",
       "      <td>6159000.0</td>\n",
       "      <td></td>\n",
       "      <td>zz</td>\n",
       "      <td>1.000000</td>\n",
       "      <td>1.001624</td>\n",
       "      <td>0</td>\n",
       "    </tr>\n",
       "    <tr>\n",
       "      <th>2019-04-21 15:46:00</th>\n",
       "      <td>6159000.0</td>\n",
       "      <td></td>\n",
       "      <td>zz</td>\n",
       "      <td>1.000000</td>\n",
       "      <td>1.001624</td>\n",
       "      <td>0</td>\n",
       "    </tr>\n",
       "    <tr>\n",
       "      <th>2019-04-21 15:47:00</th>\n",
       "      <td>6157000.0</td>\n",
       "      <td></td>\n",
       "      <td>zz</td>\n",
       "      <td>1.000000</td>\n",
       "      <td>1.001624</td>\n",
       "      <td>0</td>\n",
       "    </tr>\n",
       "    <tr>\n",
       "      <th>2019-04-21 15:49:00</th>\n",
       "      <td>6157000.0</td>\n",
       "      <td></td>\n",
       "      <td>zz</td>\n",
       "      <td>1.000000</td>\n",
       "      <td>1.001624</td>\n",
       "      <td>0</td>\n",
       "    </tr>\n",
       "    <tr>\n",
       "      <th>2019-04-21 15:52:00</th>\n",
       "      <td>6152000.0</td>\n",
       "      <td></td>\n",
       "      <td>zz</td>\n",
       "      <td>1.000000</td>\n",
       "      <td>1.001624</td>\n",
       "      <td>0</td>\n",
       "    </tr>\n",
       "    <tr>\n",
       "      <th>2019-04-21 15:54:00</th>\n",
       "      <td>6153000.0</td>\n",
       "      <td></td>\n",
       "      <td>zz</td>\n",
       "      <td>1.000000</td>\n",
       "      <td>1.001624</td>\n",
       "      <td>0</td>\n",
       "    </tr>\n",
       "    <tr>\n",
       "      <th>2019-04-21 15:55:00</th>\n",
       "      <td>6157000.0</td>\n",
       "      <td></td>\n",
       "      <td>zz</td>\n",
       "      <td>1.000000</td>\n",
       "      <td>1.001624</td>\n",
       "      <td>0</td>\n",
       "    </tr>\n",
       "    <tr>\n",
       "      <th>2019-04-21 15:57:00</th>\n",
       "      <td>6157000.0</td>\n",
       "      <td></td>\n",
       "      <td>zz</td>\n",
       "      <td>1.000000</td>\n",
       "      <td>1.001624</td>\n",
       "      <td>0</td>\n",
       "    </tr>\n",
       "    <tr>\n",
       "      <th>2019-04-21 15:58:00</th>\n",
       "      <td>6157000.0</td>\n",
       "      <td></td>\n",
       "      <td>zz</td>\n",
       "      <td>1.000000</td>\n",
       "      <td>1.001624</td>\n",
       "      <td>0</td>\n",
       "    </tr>\n",
       "    <tr>\n",
       "      <th>2019-04-21 15:59:00</th>\n",
       "      <td>6157000.0</td>\n",
       "      <td></td>\n",
       "      <td>zz</td>\n",
       "      <td>1.000000</td>\n",
       "      <td>1.001624</td>\n",
       "      <td>0</td>\n",
       "    </tr>\n",
       "    <tr>\n",
       "      <th>2019-04-21 16:00:00</th>\n",
       "      <td>6157000.0</td>\n",
       "      <td></td>\n",
       "      <td>zz</td>\n",
       "      <td>1.000000</td>\n",
       "      <td>1.001624</td>\n",
       "      <td>0</td>\n",
       "    </tr>\n",
       "    <tr>\n",
       "      <th>2019-04-21 16:01:00</th>\n",
       "      <td>6158000.0</td>\n",
       "      <td></td>\n",
       "      <td>zz</td>\n",
       "      <td>1.000000</td>\n",
       "      <td>1.001624</td>\n",
       "      <td>0</td>\n",
       "    </tr>\n",
       "    <tr>\n",
       "      <th>2019-04-21 16:02:00</th>\n",
       "      <td>6158000.0</td>\n",
       "      <td></td>\n",
       "      <td>zz</td>\n",
       "      <td>1.000000</td>\n",
       "      <td>1.001624</td>\n",
       "      <td>0</td>\n",
       "    </tr>\n",
       "    <tr>\n",
       "      <th>2019-04-21 16:03:00</th>\n",
       "      <td>6160000.0</td>\n",
       "      <td></td>\n",
       "      <td>zz</td>\n",
       "      <td>1.000000</td>\n",
       "      <td>1.001624</td>\n",
       "      <td>0</td>\n",
       "    </tr>\n",
       "    <tr>\n",
       "      <th>2019-04-21 16:04:00</th>\n",
       "      <td>6156000.0</td>\n",
       "      <td></td>\n",
       "      <td>zz</td>\n",
       "      <td>1.000000</td>\n",
       "      <td>1.001624</td>\n",
       "      <td>0</td>\n",
       "    </tr>\n",
       "    <tr>\n",
       "      <th>2019-04-21 16:05:00</th>\n",
       "      <td>6164000.0</td>\n",
       "      <td></td>\n",
       "      <td>zz</td>\n",
       "      <td>1.000000</td>\n",
       "      <td>1.001624</td>\n",
       "      <td>0</td>\n",
       "    </tr>\n",
       "    <tr>\n",
       "      <th>2019-04-21 16:06:00</th>\n",
       "      <td>6165000.0</td>\n",
       "      <td></td>\n",
       "      <td>zz</td>\n",
       "      <td>1.000000</td>\n",
       "      <td>1.001624</td>\n",
       "      <td>0</td>\n",
       "    </tr>\n",
       "    <tr>\n",
       "      <th>2019-04-21 16:08:00</th>\n",
       "      <td>6162000.0</td>\n",
       "      <td></td>\n",
       "      <td>zz</td>\n",
       "      <td>1.000000</td>\n",
       "      <td>1.001624</td>\n",
       "      <td>0</td>\n",
       "    </tr>\n",
       "    <tr>\n",
       "      <th>2019-04-21 16:10:00</th>\n",
       "      <td>6166000.0</td>\n",
       "      <td></td>\n",
       "      <td>zz</td>\n",
       "      <td>1.000000</td>\n",
       "      <td>1.001624</td>\n",
       "      <td>0</td>\n",
       "    </tr>\n",
       "    <tr>\n",
       "      <th>2019-04-21 16:11:00</th>\n",
       "      <td>6167000.0</td>\n",
       "      <td></td>\n",
       "      <td>zz</td>\n",
       "      <td>1.000000</td>\n",
       "      <td>1.001624</td>\n",
       "      <td>0</td>\n",
       "    </tr>\n",
       "    <tr>\n",
       "      <th>2019-04-21 16:12:00</th>\n",
       "      <td>6169000.0</td>\n",
       "      <td></td>\n",
       "      <td>zz</td>\n",
       "      <td>1.000000</td>\n",
       "      <td>1.001624</td>\n",
       "      <td>0</td>\n",
       "    </tr>\n",
       "    <tr>\n",
       "      <th>2019-04-21 16:13:00</th>\n",
       "      <td>6167000.0</td>\n",
       "      <td></td>\n",
       "      <td>zz</td>\n",
       "      <td>1.000000</td>\n",
       "      <td>1.001624</td>\n",
       "      <td>0</td>\n",
       "    </tr>\n",
       "    <tr>\n",
       "      <th>2019-04-21 16:14:00</th>\n",
       "      <td>6166000.0</td>\n",
       "      <td></td>\n",
       "      <td>zz</td>\n",
       "      <td>1.000000</td>\n",
       "      <td>1.001624</td>\n",
       "      <td>0</td>\n",
       "    </tr>\n",
       "    <tr>\n",
       "      <th>2019-04-21 16:15:00</th>\n",
       "      <td>6167000.0</td>\n",
       "      <td></td>\n",
       "      <td>zz</td>\n",
       "      <td>1.000000</td>\n",
       "      <td>1.001624</td>\n",
       "      <td>0</td>\n",
       "    </tr>\n",
       "    <tr>\n",
       "      <th>2019-04-21 16:16:00</th>\n",
       "      <td>6166000.0</td>\n",
       "      <td></td>\n",
       "      <td>zz</td>\n",
       "      <td>1.000000</td>\n",
       "      <td>1.001624</td>\n",
       "      <td>0</td>\n",
       "    </tr>\n",
       "    <tr>\n",
       "      <th>2019-04-21 16:17:00</th>\n",
       "      <td>6167000.0</td>\n",
       "      <td></td>\n",
       "      <td>zz</td>\n",
       "      <td>1.000000</td>\n",
       "      <td>1.001624</td>\n",
       "      <td>0</td>\n",
       "    </tr>\n",
       "    <tr>\n",
       "      <th>2019-04-21 16:18:00</th>\n",
       "      <td>6165000.0</td>\n",
       "      <td></td>\n",
       "      <td>zz</td>\n",
       "      <td>1.000000</td>\n",
       "      <td>1.001624</td>\n",
       "      <td>0</td>\n",
       "    </tr>\n",
       "    <tr>\n",
       "      <th>2019-04-21 16:19:00</th>\n",
       "      <td>6169000.0</td>\n",
       "      <td></td>\n",
       "      <td>zz</td>\n",
       "      <td>1.000000</td>\n",
       "      <td>1.001624</td>\n",
       "      <td>0</td>\n",
       "    </tr>\n",
       "    <tr>\n",
       "      <th>2019-04-21 16:20:00</th>\n",
       "      <td>6169000.0</td>\n",
       "      <td></td>\n",
       "      <td>zz</td>\n",
       "      <td>1.000000</td>\n",
       "      <td>1.001624</td>\n",
       "      <td>0</td>\n",
       "    </tr>\n",
       "    <tr>\n",
       "      <th>2019-04-21 16:21:00</th>\n",
       "      <td>6166000.0</td>\n",
       "      <td></td>\n",
       "      <td>zz</td>\n",
       "      <td>1.000000</td>\n",
       "      <td>1.001624</td>\n",
       "      <td>0</td>\n",
       "    </tr>\n",
       "    <tr>\n",
       "      <th>2019-04-21 16:22:00</th>\n",
       "      <td>6166000.0</td>\n",
       "      <td></td>\n",
       "      <td>zz</td>\n",
       "      <td>1.000000</td>\n",
       "      <td>1.001624</td>\n",
       "      <td>0</td>\n",
       "    </tr>\n",
       "    <tr>\n",
       "      <th>2019-04-21 16:23:00</th>\n",
       "      <td>6167000.0</td>\n",
       "      <td></td>\n",
       "      <td>zz</td>\n",
       "      <td>1.000000</td>\n",
       "      <td>1.001624</td>\n",
       "      <td>0</td>\n",
       "    </tr>\n",
       "    <tr>\n",
       "      <th>2019-04-21 16:24:00</th>\n",
       "      <td>6166000.0</td>\n",
       "      <td></td>\n",
       "      <td>zz</td>\n",
       "      <td>1.000000</td>\n",
       "      <td>1.001624</td>\n",
       "      <td>0</td>\n",
       "    </tr>\n",
       "    <tr>\n",
       "      <th>2019-04-21 16:25:00</th>\n",
       "      <td>6167000.0</td>\n",
       "      <td></td>\n",
       "      <td>zz</td>\n",
       "      <td>1.000000</td>\n",
       "      <td>1.001624</td>\n",
       "      <td>0</td>\n",
       "    </tr>\n",
       "    <tr>\n",
       "      <th>2019-04-21 16:26:00</th>\n",
       "      <td>6165000.0</td>\n",
       "      <td></td>\n",
       "      <td>zz</td>\n",
       "      <td>1.000000</td>\n",
       "      <td>1.001624</td>\n",
       "      <td>0</td>\n",
       "    </tr>\n",
       "    <tr>\n",
       "      <th>2019-04-21 16:27:00</th>\n",
       "      <td>6165000.0</td>\n",
       "      <td></td>\n",
       "      <td>zz</td>\n",
       "      <td>1.000000</td>\n",
       "      <td>1.001624</td>\n",
       "      <td>0</td>\n",
       "    </tr>\n",
       "    <tr>\n",
       "      <th>2019-04-21 16:28:00</th>\n",
       "      <td>6165000.0</td>\n",
       "      <td></td>\n",
       "      <td>zz</td>\n",
       "      <td>1.000000</td>\n",
       "      <td>1.001624</td>\n",
       "      <td>0</td>\n",
       "    </tr>\n",
       "    <tr>\n",
       "      <th>2019-04-21 16:29:00</th>\n",
       "      <td>6167000.0</td>\n",
       "      <td></td>\n",
       "      <td>zz</td>\n",
       "      <td>1.000000</td>\n",
       "      <td>1.001624</td>\n",
       "      <td>0</td>\n",
       "    </tr>\n",
       "    <tr>\n",
       "      <th>2019-04-21 16:30:00</th>\n",
       "      <td>6167000.0</td>\n",
       "      <td></td>\n",
       "      <td>zz</td>\n",
       "      <td>1.000000</td>\n",
       "      <td>1.001624</td>\n",
       "      <td>0</td>\n",
       "    </tr>\n",
       "    <tr>\n",
       "      <th>2019-04-21 16:31:00</th>\n",
       "      <td>6168000.0</td>\n",
       "      <td></td>\n",
       "      <td>zz</td>\n",
       "      <td>1.000000</td>\n",
       "      <td>1.001624</td>\n",
       "      <td>0</td>\n",
       "    </tr>\n",
       "    <tr>\n",
       "      <th>2019-04-21 16:32:00</th>\n",
       "      <td>6168000.0</td>\n",
       "      <td></td>\n",
       "      <td>zz</td>\n",
       "      <td>1.000000</td>\n",
       "      <td>1.001624</td>\n",
       "      <td>0</td>\n",
       "    </tr>\n",
       "    <tr>\n",
       "      <th>2019-04-21 16:33:00</th>\n",
       "      <td>6167000.0</td>\n",
       "      <td></td>\n",
       "      <td>zz</td>\n",
       "      <td>1.000000</td>\n",
       "      <td>1.001624</td>\n",
       "      <td>0</td>\n",
       "    </tr>\n",
       "    <tr>\n",
       "      <th>2019-04-21 16:35:00</th>\n",
       "      <td>6169000.0</td>\n",
       "      <td></td>\n",
       "      <td>zz</td>\n",
       "      <td>1.000000</td>\n",
       "      <td>1.001624</td>\n",
       "      <td>0</td>\n",
       "    </tr>\n",
       "  </tbody>\n",
       "</table>\n",
       "</div>"
      ],
      "text/plain": [
       "                           BTC t BTC p BTC    return  acc return  psBTC\n",
       "2019-04-21 15:37:00  6152000.0   buy    ll  1.000000    1.002437      1\n",
       "2019-04-21 15:39:00  6155000.0          lz  0.999188    1.001624      0\n",
       "2019-04-21 15:40:00  6159000.0          zz  1.000000    1.001624      0\n",
       "2019-04-21 15:41:00  6153000.0          zz  1.000000    1.001624      0\n",
       "2019-04-21 15:42:00  6151000.0          zz  1.000000    1.001624      0\n",
       "2019-04-21 15:43:00  6152000.0          zz  1.000000    1.001624      0\n",
       "2019-04-21 15:44:00  6152000.0          zz  1.000000    1.001624      0\n",
       "2019-04-21 15:45:00  6159000.0          zz  1.000000    1.001624      0\n",
       "2019-04-21 15:46:00  6159000.0          zz  1.000000    1.001624      0\n",
       "2019-04-21 15:47:00  6157000.0          zz  1.000000    1.001624      0\n",
       "2019-04-21 15:49:00  6157000.0          zz  1.000000    1.001624      0\n",
       "2019-04-21 15:52:00  6152000.0          zz  1.000000    1.001624      0\n",
       "2019-04-21 15:54:00  6153000.0          zz  1.000000    1.001624      0\n",
       "2019-04-21 15:55:00  6157000.0          zz  1.000000    1.001624      0\n",
       "2019-04-21 15:57:00  6157000.0          zz  1.000000    1.001624      0\n",
       "2019-04-21 15:58:00  6157000.0          zz  1.000000    1.001624      0\n",
       "2019-04-21 15:59:00  6157000.0          zz  1.000000    1.001624      0\n",
       "2019-04-21 16:00:00  6157000.0          zz  1.000000    1.001624      0\n",
       "2019-04-21 16:01:00  6158000.0          zz  1.000000    1.001624      0\n",
       "2019-04-21 16:02:00  6158000.0          zz  1.000000    1.001624      0\n",
       "2019-04-21 16:03:00  6160000.0          zz  1.000000    1.001624      0\n",
       "2019-04-21 16:04:00  6156000.0          zz  1.000000    1.001624      0\n",
       "2019-04-21 16:05:00  6164000.0          zz  1.000000    1.001624      0\n",
       "2019-04-21 16:06:00  6165000.0          zz  1.000000    1.001624      0\n",
       "2019-04-21 16:08:00  6162000.0          zz  1.000000    1.001624      0\n",
       "2019-04-21 16:10:00  6166000.0          zz  1.000000    1.001624      0\n",
       "2019-04-21 16:11:00  6167000.0          zz  1.000000    1.001624      0\n",
       "2019-04-21 16:12:00  6169000.0          zz  1.000000    1.001624      0\n",
       "2019-04-21 16:13:00  6167000.0          zz  1.000000    1.001624      0\n",
       "2019-04-21 16:14:00  6166000.0          zz  1.000000    1.001624      0\n",
       "2019-04-21 16:15:00  6167000.0          zz  1.000000    1.001624      0\n",
       "2019-04-21 16:16:00  6166000.0          zz  1.000000    1.001624      0\n",
       "2019-04-21 16:17:00  6167000.0          zz  1.000000    1.001624      0\n",
       "2019-04-21 16:18:00  6165000.0          zz  1.000000    1.001624      0\n",
       "2019-04-21 16:19:00  6169000.0          zz  1.000000    1.001624      0\n",
       "2019-04-21 16:20:00  6169000.0          zz  1.000000    1.001624      0\n",
       "2019-04-21 16:21:00  6166000.0          zz  1.000000    1.001624      0\n",
       "2019-04-21 16:22:00  6166000.0          zz  1.000000    1.001624      0\n",
       "2019-04-21 16:23:00  6167000.0          zz  1.000000    1.001624      0\n",
       "2019-04-21 16:24:00  6166000.0          zz  1.000000    1.001624      0\n",
       "2019-04-21 16:25:00  6167000.0          zz  1.000000    1.001624      0\n",
       "2019-04-21 16:26:00  6165000.0          zz  1.000000    1.001624      0\n",
       "2019-04-21 16:27:00  6165000.0          zz  1.000000    1.001624      0\n",
       "2019-04-21 16:28:00  6165000.0          zz  1.000000    1.001624      0\n",
       "2019-04-21 16:29:00  6167000.0          zz  1.000000    1.001624      0\n",
       "2019-04-21 16:30:00  6167000.0          zz  1.000000    1.001624      0\n",
       "2019-04-21 16:31:00  6168000.0          zz  1.000000    1.001624      0\n",
       "2019-04-21 16:32:00  6168000.0          zz  1.000000    1.001624      0\n",
       "2019-04-21 16:33:00  6167000.0          zz  1.000000    1.001624      0\n",
       "2019-04-21 16:35:00  6169000.0          zz  1.000000    1.001624      0"
      ]
     },
     "execution_count": 22,
     "metadata": {},
     "output_type": "execute_result"
    }
   ],
   "source": [
    "book[-50:]"
   ]
  },
  {
   "cell_type": "raw",
   "metadata": {},
   "source": []
  }
 ],
 "metadata": {
  "celltoolbar": "Slideshow",
  "kernelspec": {
   "display_name": "Python 3",
   "language": "python",
   "name": "python3"
  },
  "language_info": {
   "codemirror_mode": {
    "name": "ipython",
    "version": 3
   },
   "file_extension": ".py",
   "mimetype": "text/x-python",
   "name": "python",
   "nbconvert_exporter": "python",
   "pygments_lexer": "ipython3",
   "version": "3.7.3"
  },
  "rise": {
   "scroll": true
  }
 },
 "nbformat": 4,
 "nbformat_minor": 2
}
