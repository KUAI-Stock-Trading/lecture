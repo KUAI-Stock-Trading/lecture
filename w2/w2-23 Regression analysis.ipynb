{
 "cells": [
  {
   "cell_type": "code",
   "execution_count": 1,
   "metadata": {
    "slideshow": {
     "slide_type": "slide"
    }
   },
   "outputs": [],
   "source": [
    "import pandas as pd\n",
    "import finterstellar as fs"
   ]
  },
  {
   "cell_type": "code",
   "execution_count": 2,
   "metadata": {},
   "outputs": [],
   "source": [
    "# define universe\n",
    "portfolio_dict = dict()\n",
    "portfolio = {\n",
    "    'World indices' : ['KOSPI 200', 'S&P 500', 'Nikkei 225', 'CSI 300']\n",
    "}    # 포트폴리오를 딕셔너리 형태로 저장\n",
    "p_name = 'World indices'   # 포트폴리오 집합 중 분석대상 포트폴리오의 이름 입력\n",
    "p_cd = portfolio[p_name]    # 선택한 포트폴리오 내에서 처리대상 종목코드들을 지정"
   ]
  },
  {
   "cell_type": "code",
   "execution_count": 3,
   "metadata": {
    "slideshow": {
     "slide_type": "slide"
    }
   },
   "outputs": [],
   "source": [
    "ld = fs.LoadData()\n",
    "path = './data/'"
   ]
  },
  {
   "cell_type": "code",
   "execution_count": 4,
   "metadata": {},
   "outputs": [
    {
     "name": "stdout",
     "output_type": "stream",
     "text": [
      "Updating master file\n"
     ]
    },
    {
     "data": {
      "text/html": [
       "<div>\n",
       "<style scoped>\n",
       "    .dataframe tbody tr th:only-of-type {\n",
       "        vertical-align: middle;\n",
       "    }\n",
       "\n",
       "    .dataframe tbody tr th {\n",
       "        vertical-align: top;\n",
       "    }\n",
       "\n",
       "    .dataframe thead th {\n",
       "        text-align: right;\n",
       "    }\n",
       "</style>\n",
       "<table border=\"1\" class=\"dataframe\">\n",
       "  <thead>\n",
       "    <tr style=\"text-align: right;\">\n",
       "      <th></th>\n",
       "      <th>KOSPI 200</th>\n",
       "      <th>S&amp;P 500</th>\n",
       "      <th>Nikkei 225</th>\n",
       "      <th>CSI 300</th>\n",
       "    </tr>\n",
       "    <tr>\n",
       "      <th>Date</th>\n",
       "      <th></th>\n",
       "      <th></th>\n",
       "      <th></th>\n",
       "      <th></th>\n",
       "    </tr>\n",
       "  </thead>\n",
       "  <tbody>\n",
       "    <tr>\n",
       "      <th>2019-04-09</th>\n",
       "      <td>286.71</td>\n",
       "      <td>2878.20</td>\n",
       "      <td>21802.59</td>\n",
       "      <td>4075.43</td>\n",
       "    </tr>\n",
       "    <tr>\n",
       "      <th>2019-04-10</th>\n",
       "      <td>286.71</td>\n",
       "      <td>2888.21</td>\n",
       "      <td>21802.59</td>\n",
       "      <td>4075.43</td>\n",
       "    </tr>\n",
       "    <tr>\n",
       "      <th>2019-04-11</th>\n",
       "      <td>286.71</td>\n",
       "      <td>2888.32</td>\n",
       "      <td>21802.59</td>\n",
       "      <td>4075.43</td>\n",
       "    </tr>\n",
       "    <tr>\n",
       "      <th>2019-04-12</th>\n",
       "      <td>286.71</td>\n",
       "      <td>2907.41</td>\n",
       "      <td>21802.59</td>\n",
       "      <td>4075.43</td>\n",
       "    </tr>\n",
       "    <tr>\n",
       "      <th>2019-04-15</th>\n",
       "      <td>286.71</td>\n",
       "      <td>2905.58</td>\n",
       "      <td>21802.59</td>\n",
       "      <td>4075.43</td>\n",
       "    </tr>\n",
       "  </tbody>\n",
       "</table>\n",
       "</div>"
      ],
      "text/plain": [
       "            KOSPI 200  S&P 500  Nikkei 225  CSI 300\n",
       "Date                                               \n",
       "2019-04-09     286.71  2878.20    21802.59  4075.43\n",
       "2019-04-10     286.71  2888.21    21802.59  4075.43\n",
       "2019-04-11     286.71  2888.32    21802.59  4075.43\n",
       "2019-04-12     286.71  2907.41    21802.59  4075.43\n",
       "2019-04-15     286.71  2905.58    21802.59  4075.43"
      ]
     },
     "execution_count": 4,
     "metadata": {},
     "output_type": "execute_result"
    }
   ],
   "source": [
    "# make new file\n",
    "prices_df = ld.create_portfolio_df(path, p_name, p_cd) \n",
    "# ld 모듈의 create_portfolio_df(폴더명, 포트폴리오 이름, 종목코드) 함수를 이용해 포트폴리오 전체 시세를 한번에 수집\n",
    "prices_df.tail()"
   ]
  },
  {
   "cell_type": "code",
   "execution_count": 5,
   "metadata": {},
   "outputs": [
    {
     "data": {
      "text/html": [
       "<div>\n",
       "<style scoped>\n",
       "    .dataframe tbody tr th:only-of-type {\n",
       "        vertical-align: middle;\n",
       "    }\n",
       "\n",
       "    .dataframe tbody tr th {\n",
       "        vertical-align: top;\n",
       "    }\n",
       "\n",
       "    .dataframe thead th {\n",
       "        text-align: right;\n",
       "    }\n",
       "</style>\n",
       "<table border=\"1\" class=\"dataframe\">\n",
       "  <thead>\n",
       "    <tr style=\"text-align: right;\">\n",
       "      <th></th>\n",
       "      <th>KOSPI 200</th>\n",
       "      <th>S&amp;P 500</th>\n",
       "      <th>Nikkei 225</th>\n",
       "      <th>CSI 300</th>\n",
       "    </tr>\n",
       "    <tr>\n",
       "      <th>Date</th>\n",
       "      <th></th>\n",
       "      <th></th>\n",
       "      <th></th>\n",
       "      <th></th>\n",
       "    </tr>\n",
       "  </thead>\n",
       "  <tbody>\n",
       "    <tr>\n",
       "      <th>2019-04-09</th>\n",
       "      <td>286.71</td>\n",
       "      <td>2878.20</td>\n",
       "      <td>21802.59</td>\n",
       "      <td>4075.43</td>\n",
       "    </tr>\n",
       "    <tr>\n",
       "      <th>2019-04-10</th>\n",
       "      <td>286.71</td>\n",
       "      <td>2888.21</td>\n",
       "      <td>21802.59</td>\n",
       "      <td>4075.43</td>\n",
       "    </tr>\n",
       "    <tr>\n",
       "      <th>2019-04-11</th>\n",
       "      <td>286.71</td>\n",
       "      <td>2888.32</td>\n",
       "      <td>21802.59</td>\n",
       "      <td>4075.43</td>\n",
       "    </tr>\n",
       "    <tr>\n",
       "      <th>2019-04-12</th>\n",
       "      <td>286.71</td>\n",
       "      <td>2907.41</td>\n",
       "      <td>21802.59</td>\n",
       "      <td>4075.43</td>\n",
       "    </tr>\n",
       "    <tr>\n",
       "      <th>2019-04-15</th>\n",
       "      <td>286.71</td>\n",
       "      <td>2905.58</td>\n",
       "      <td>21802.59</td>\n",
       "      <td>4075.43</td>\n",
       "    </tr>\n",
       "  </tbody>\n",
       "</table>\n",
       "</div>"
      ],
      "text/plain": [
       "            KOSPI 200  S&P 500  Nikkei 225  CSI 300\n",
       "Date                                               \n",
       "2019-04-09     286.71  2878.20    21802.59  4075.43\n",
       "2019-04-10     286.71  2888.21    21802.59  4075.43\n",
       "2019-04-11     286.71  2888.32    21802.59  4075.43\n",
       "2019-04-12     286.71  2907.41    21802.59  4075.43\n",
       "2019-04-15     286.71  2905.58    21802.59  4075.43"
      ]
     },
     "execution_count": 5,
     "metadata": {},
     "output_type": "execute_result"
    }
   ],
   "source": [
    "base_date = '2018-01-01'\n",
    "price_df = prices_df[base_date:].copy()\n",
    "price_df.tail()"
   ]
  },
  {
   "cell_type": "code",
   "execution_count": 6,
   "metadata": {},
   "outputs": [],
   "source": [
    "ckd = fs.CheckDate()\n",
    "anz = fs.PairTrade()"
   ]
  },
  {
   "cell_type": "code",
   "execution_count": 7,
   "metadata": {},
   "outputs": [
    {
     "data": {
      "text/plain": [
       "Timestamp('2018-04-23 00:00:00')"
      ]
     },
     "execution_count": 7,
     "metadata": {},
     "output_type": "execute_result"
    }
   ],
   "source": [
    "# 기준일자 세팅\n",
    "#base_date = '2018-01-01'\n",
    "base_date = pd.Timestamp.today().date() - pd.DateOffset(years=1)    # 디폴트로 1년 전 세팅\n",
    "base_date = ckd.check_base_date(price_df, base_date)\n",
    "# check_base_date(데이터프레임, 기준일자) - 기준일자가 공휴일인지 체크하고, 공휴일이면 다음 영업일을 반환\n",
    "base_date"
   ]
  },
  {
   "cell_type": "code",
   "execution_count": 8,
   "metadata": {},
   "outputs": [
    {
     "data": {
      "text/html": [
       "<div>\n",
       "<style scoped>\n",
       "    .dataframe tbody tr th:only-of-type {\n",
       "        vertical-align: middle;\n",
       "    }\n",
       "\n",
       "    .dataframe tbody tr th {\n",
       "        vertical-align: top;\n",
       "    }\n",
       "\n",
       "    .dataframe thead th {\n",
       "        text-align: right;\n",
       "    }\n",
       "</style>\n",
       "<table border=\"1\" class=\"dataframe\">\n",
       "  <thead>\n",
       "    <tr style=\"text-align: right;\">\n",
       "      <th></th>\n",
       "      <th>R2</th>\n",
       "      <th>Slope</th>\n",
       "      <th>Correlation</th>\n",
       "    </tr>\n",
       "    <tr>\n",
       "      <th>pair</th>\n",
       "      <th></th>\n",
       "      <th></th>\n",
       "      <th></th>\n",
       "    </tr>\n",
       "  </thead>\n",
       "  <tbody>\n",
       "    <tr>\n",
       "      <th>S&amp;P 500 vs. Nikkei 225</th>\n",
       "      <td>47.82</td>\n",
       "      <td>5.9615</td>\n",
       "      <td>0.691531</td>\n",
       "    </tr>\n",
       "    <tr>\n",
       "      <th>KOSPI 200 vs. Nikkei 225</th>\n",
       "      <td>42.89</td>\n",
       "      <td>37.1982</td>\n",
       "      <td>0.654936</td>\n",
       "    </tr>\n",
       "    <tr>\n",
       "      <th>KOSPI 200 vs. CSI 300</th>\n",
       "      <td>41.30</td>\n",
       "      <td>11.1773</td>\n",
       "      <td>0.642651</td>\n",
       "    </tr>\n",
       "    <tr>\n",
       "      <th>KOSPI 200 vs. S&amp;P 500</th>\n",
       "      <td>14.74</td>\n",
       "      <td>2.5296</td>\n",
       "      <td>0.383947</td>\n",
       "    </tr>\n",
       "    <tr>\n",
       "      <th>S&amp;P 500 vs. CSI 300</th>\n",
       "      <td>14.58</td>\n",
       "      <td>1.0082</td>\n",
       "      <td>0.381897</td>\n",
       "    </tr>\n",
       "    <tr>\n",
       "      <th>Nikkei 225 vs. CSI 300</th>\n",
       "      <td>9.97</td>\n",
       "      <td>0.0967</td>\n",
       "      <td>0.315809</td>\n",
       "    </tr>\n",
       "  </tbody>\n",
       "</table>\n",
       "</div>"
      ],
      "text/plain": [
       "                             R2    Slope  Correlation\n",
       "pair                                                 \n",
       "S&P 500 vs. Nikkei 225    47.82   5.9615     0.691531\n",
       "KOSPI 200 vs. Nikkei 225  42.89  37.1982     0.654936\n",
       "KOSPI 200 vs. CSI 300     41.30  11.1773     0.642651\n",
       "KOSPI 200 vs. S&P 500     14.74   2.5296     0.383947\n",
       "S&P 500 vs. CSI 300       14.58   1.0082     0.381897\n",
       "Nikkei 225 vs. CSI 300     9.97   0.0967     0.315809"
      ]
     },
     "execution_count": 8,
     "metadata": {},
     "output_type": "execute_result"
    }
   ],
   "source": [
    "crs = anz.compare_r2(price_df, base_date, p_cd)\n",
    "crs.head(10)"
   ]
  }
 ],
 "metadata": {
  "celltoolbar": "Slideshow",
  "kernelspec": {
   "display_name": "Python 3",
   "language": "python",
   "name": "python3"
  },
  "language_info": {
   "codemirror_mode": {
    "name": "ipython",
    "version": 3
   },
   "file_extension": ".py",
   "mimetype": "text/x-python",
   "name": "python",
   "nbconvert_exporter": "python",
   "pygments_lexer": "ipython3",
   "version": "3.7.3"
  },
  "rise": {
   "scroll": true
  }
 },
 "nbformat": 4,
 "nbformat_minor": 2
}
