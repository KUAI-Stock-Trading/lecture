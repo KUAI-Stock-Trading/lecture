{
 "cells": [
  {
   "cell_type": "code",
   "execution_count": 1,
   "metadata": {
    "slideshow": {
     "slide_type": "slide"
    }
   },
   "outputs": [],
   "source": [
    "import pandas as pd\n",
    "import numpy as np\n",
    "import finterstellar as fs"
   ]
  },
  {
   "cell_type": "markdown",
   "metadata": {
    "slideshow": {
     "slide_type": "slide"
    }
   },
   "source": [
    "# 데이터 준비하기"
   ]
  },
  {
   "cell_type": "markdown",
   "metadata": {
    "slideshow": {
     "slide_type": "-"
    }
   },
   "source": [
    "1. 시세데이터 불러오기"
   ]
  },
  {
   "cell_type": "code",
   "execution_count": 2,
   "metadata": {
    "slideshow": {
     "slide_type": "-"
    }
   },
   "outputs": [],
   "source": [
    "file = 'w2-12 Back test practice data.xlsx'"
   ]
  },
  {
   "cell_type": "code",
   "execution_count": 3,
   "metadata": {
    "slideshow": {
     "slide_type": "-"
    }
   },
   "outputs": [
    {
     "data": {
      "text/html": [
       "<div>\n",
       "<style scoped>\n",
       "    .dataframe tbody tr th:only-of-type {\n",
       "        vertical-align: middle;\n",
       "    }\n",
       "\n",
       "    .dataframe tbody tr th {\n",
       "        vertical-align: top;\n",
       "    }\n",
       "\n",
       "    .dataframe thead th {\n",
       "        text-align: right;\n",
       "    }\n",
       "</style>\n",
       "<table border=\"1\" class=\"dataframe\">\n",
       "  <thead>\n",
       "    <tr style=\"text-align: right;\">\n",
       "      <th></th>\n",
       "      <th>Normal</th>\n",
       "      <th>GoGo</th>\n",
       "      <th>Inverse</th>\n",
       "      <th>Leverage</th>\n",
       "    </tr>\n",
       "    <tr>\n",
       "      <th>Date</th>\n",
       "      <th></th>\n",
       "      <th></th>\n",
       "      <th></th>\n",
       "      <th></th>\n",
       "    </tr>\n",
       "  </thead>\n",
       "  <tbody>\n",
       "    <tr>\n",
       "      <th>2019/01/01</th>\n",
       "      <td>1,000</td>\n",
       "      <td>500.000000</td>\n",
       "      <td>1000</td>\n",
       "      <td>600</td>\n",
       "    </tr>\n",
       "    <tr>\n",
       "      <th>2019/01/02</th>\n",
       "      <td>1,100</td>\n",
       "      <td>550.000000</td>\n",
       "      <td>900</td>\n",
       "      <td>900</td>\n",
       "    </tr>\n",
       "    <tr>\n",
       "      <th>2019/01/03</th>\n",
       "      <td>1,000</td>\n",
       "      <td>605.000000</td>\n",
       "      <td>1000</td>\n",
       "      <td>600</td>\n",
       "    </tr>\n",
       "    <tr>\n",
       "      <th>2019/01/04</th>\n",
       "      <td>900</td>\n",
       "      <td>665.500000</td>\n",
       "      <td>1100</td>\n",
       "      <td>300</td>\n",
       "    </tr>\n",
       "    <tr>\n",
       "      <th>2019/01/05</th>\n",
       "      <td>1000</td>\n",
       "      <td>732.050000</td>\n",
       "      <td>1000</td>\n",
       "      <td>600</td>\n",
       "    </tr>\n",
       "    <tr>\n",
       "      <th>2019/01/06</th>\n",
       "      <td>1100</td>\n",
       "      <td>805.255000</td>\n",
       "      <td>900</td>\n",
       "      <td>900</td>\n",
       "    </tr>\n",
       "    <tr>\n",
       "      <th>2019/01/07</th>\n",
       "      <td>1000</td>\n",
       "      <td>885.780500</td>\n",
       "      <td>1000</td>\n",
       "      <td>600</td>\n",
       "    </tr>\n",
       "    <tr>\n",
       "      <th>2019/01/08</th>\n",
       "      <td>900</td>\n",
       "      <td>974.358550</td>\n",
       "      <td>1100</td>\n",
       "      <td>300</td>\n",
       "    </tr>\n",
       "    <tr>\n",
       "      <th>2019/01/09</th>\n",
       "      <td>1000</td>\n",
       "      <td>1071.794405</td>\n",
       "      <td>1000</td>\n",
       "      <td>600</td>\n",
       "    </tr>\n",
       "    <tr>\n",
       "      <th>2019/01/10</th>\n",
       "      <td>1100</td>\n",
       "      <td>1178.973846</td>\n",
       "      <td>900</td>\n",
       "      <td>900</td>\n",
       "    </tr>\n",
       "    <tr>\n",
       "      <th>2019/01/11</th>\n",
       "      <td>1000</td>\n",
       "      <td>1296.871230</td>\n",
       "      <td>1000</td>\n",
       "      <td>600</td>\n",
       "    </tr>\n",
       "  </tbody>\n",
       "</table>\n",
       "</div>"
      ],
      "text/plain": [
       "           Normal         GoGo  Inverse  Leverage\n",
       "Date                                             \n",
       "2019/01/01  1,000   500.000000     1000       600\n",
       "2019/01/02  1,100   550.000000      900       900\n",
       "2019/01/03  1,000   605.000000     1000       600\n",
       "2019/01/04    900   665.500000     1100       300\n",
       "2019/01/05   1000   732.050000     1000       600\n",
       "2019/01/06   1100   805.255000      900       900\n",
       "2019/01/07   1000   885.780500     1000       600\n",
       "2019/01/08    900   974.358550     1100       300\n",
       "2019/01/09   1000  1071.794405     1000       600\n",
       "2019/01/10   1100  1178.973846      900       900\n",
       "2019/01/11   1000  1296.871230     1000       600"
      ]
     },
     "execution_count": 3,
     "metadata": {},
     "output_type": "execute_result"
    }
   ],
   "source": [
    "df = pd.read_excel(file, index_col='Date')\n",
    "df"
   ]
  },
  {
   "cell_type": "markdown",
   "metadata": {
    "slideshow": {
     "slide_type": "slide"
    }
   },
   "source": [
    "2. 데이터 전처리 : 날짜처리"
   ]
  },
  {
   "cell_type": "code",
   "execution_count": 4,
   "metadata": {
    "slideshow": {
     "slide_type": "-"
    }
   },
   "outputs": [
    {
     "data": {
      "text/html": [
       "<div>\n",
       "<style scoped>\n",
       "    .dataframe tbody tr th:only-of-type {\n",
       "        vertical-align: middle;\n",
       "    }\n",
       "\n",
       "    .dataframe tbody tr th {\n",
       "        vertical-align: top;\n",
       "    }\n",
       "\n",
       "    .dataframe thead th {\n",
       "        text-align: right;\n",
       "    }\n",
       "</style>\n",
       "<table border=\"1\" class=\"dataframe\">\n",
       "  <thead>\n",
       "    <tr style=\"text-align: right;\">\n",
       "      <th></th>\n",
       "      <th>Normal</th>\n",
       "      <th>GoGo</th>\n",
       "      <th>Inverse</th>\n",
       "      <th>Leverage</th>\n",
       "    </tr>\n",
       "    <tr>\n",
       "      <th>Date</th>\n",
       "      <th></th>\n",
       "      <th></th>\n",
       "      <th></th>\n",
       "      <th></th>\n",
       "    </tr>\n",
       "  </thead>\n",
       "  <tbody>\n",
       "    <tr>\n",
       "      <th>2019-01-01</th>\n",
       "      <td>1,000</td>\n",
       "      <td>500.000000</td>\n",
       "      <td>1000</td>\n",
       "      <td>600</td>\n",
       "    </tr>\n",
       "    <tr>\n",
       "      <th>2019-01-02</th>\n",
       "      <td>1,100</td>\n",
       "      <td>550.000000</td>\n",
       "      <td>900</td>\n",
       "      <td>900</td>\n",
       "    </tr>\n",
       "    <tr>\n",
       "      <th>2019-01-03</th>\n",
       "      <td>1,000</td>\n",
       "      <td>605.000000</td>\n",
       "      <td>1000</td>\n",
       "      <td>600</td>\n",
       "    </tr>\n",
       "    <tr>\n",
       "      <th>2019-01-04</th>\n",
       "      <td>900</td>\n",
       "      <td>665.500000</td>\n",
       "      <td>1100</td>\n",
       "      <td>300</td>\n",
       "    </tr>\n",
       "    <tr>\n",
       "      <th>2019-01-05</th>\n",
       "      <td>1000</td>\n",
       "      <td>732.050000</td>\n",
       "      <td>1000</td>\n",
       "      <td>600</td>\n",
       "    </tr>\n",
       "    <tr>\n",
       "      <th>2019-01-06</th>\n",
       "      <td>1100</td>\n",
       "      <td>805.255000</td>\n",
       "      <td>900</td>\n",
       "      <td>900</td>\n",
       "    </tr>\n",
       "    <tr>\n",
       "      <th>2019-01-07</th>\n",
       "      <td>1000</td>\n",
       "      <td>885.780500</td>\n",
       "      <td>1000</td>\n",
       "      <td>600</td>\n",
       "    </tr>\n",
       "    <tr>\n",
       "      <th>2019-01-08</th>\n",
       "      <td>900</td>\n",
       "      <td>974.358550</td>\n",
       "      <td>1100</td>\n",
       "      <td>300</td>\n",
       "    </tr>\n",
       "    <tr>\n",
       "      <th>2019-01-09</th>\n",
       "      <td>1000</td>\n",
       "      <td>1071.794405</td>\n",
       "      <td>1000</td>\n",
       "      <td>600</td>\n",
       "    </tr>\n",
       "    <tr>\n",
       "      <th>2019-01-10</th>\n",
       "      <td>1100</td>\n",
       "      <td>1178.973846</td>\n",
       "      <td>900</td>\n",
       "      <td>900</td>\n",
       "    </tr>\n",
       "    <tr>\n",
       "      <th>2019-01-11</th>\n",
       "      <td>1000</td>\n",
       "      <td>1296.871230</td>\n",
       "      <td>1000</td>\n",
       "      <td>600</td>\n",
       "    </tr>\n",
       "  </tbody>\n",
       "</table>\n",
       "</div>"
      ],
      "text/plain": [
       "           Normal         GoGo  Inverse  Leverage\n",
       "Date                                             \n",
       "2019-01-01  1,000   500.000000     1000       600\n",
       "2019-01-02  1,100   550.000000      900       900\n",
       "2019-01-03  1,000   605.000000     1000       600\n",
       "2019-01-04    900   665.500000     1100       300\n",
       "2019-01-05   1000   732.050000     1000       600\n",
       "2019-01-06   1100   805.255000      900       900\n",
       "2019-01-07   1000   885.780500     1000       600\n",
       "2019-01-08    900   974.358550     1100       300\n",
       "2019-01-09   1000  1071.794405     1000       600\n",
       "2019-01-10   1100  1178.973846      900       900\n",
       "2019-01-11   1000  1296.871230     1000       600"
      ]
     },
     "execution_count": 4,
     "metadata": {},
     "output_type": "execute_result"
    }
   ],
   "source": [
    "ld = fs.LoadData()\n",
    "df = ld.date_formatting(df)    \n",
    "# date_formatting(데이터프레임) - 날짜 처리\n",
    "df"
   ]
  },
  {
   "cell_type": "markdown",
   "metadata": {
    "slideshow": {
     "slide_type": "slide"
    }
   },
   "source": [
    "3. 파라미터 세팅 : 기준일자, 종목코드 등"
   ]
  },
  {
   "cell_type": "code",
   "execution_count": 5,
   "metadata": {
    "slideshow": {
     "slide_type": "-"
    }
   },
   "outputs": [],
   "source": [
    "base_date = '2019-01-01'    # 기준일자 설정\n",
    "cd = 'Inverse'    # 종목코드 "
   ]
  },
  {
   "cell_type": "code",
   "execution_count": 6,
   "metadata": {},
   "outputs": [
    {
     "data": {
      "image/png": "[encoded data removed]",
      "text/plain": [
       "<Figure size 720x216 with 1 Axes>"
      ]
     },
     "metadata": {},
     "output_type": "display_data"
    }
   ],
   "source": [
    "v = fs.Visualize()\n",
    "v.price_view(df, base_date, cd, (10,3))\n",
    "# price_view(데이터프레임, 기준일자, 종목코드, (사이즈)) - 그래프 그리기"
   ]
  },
  {
   "cell_type": "markdown",
   "metadata": {
    "slideshow": {
     "slide_type": "slide"
    }
   },
   "source": [
    "# 백테스팅 기능 구현 및 실행"
   ]
  },
  {
   "cell_type": "markdown",
   "metadata": {
    "slideshow": {
     "slide_type": "-"
    }
   },
   "source": [
    "트레이딩 로직의 기본 개념"
   ]
  },
  {
   "cell_type": "code",
   "execution_count": 7,
   "metadata": {},
   "outputs": [
    {
     "name": "stdout",
     "output_type": "stream",
     "text": [
      "2019-01-02 00:00:00 buy\n",
      "2019-01-04 00:00:00 sell\n",
      "2019-01-06 00:00:00 buy\n",
      "2019-01-08 00:00:00 sell\n",
      "2019-01-10 00:00:00 buy\n"
     ]
    }
   ],
   "source": [
    "for i in df.index:    # 데이터프레임을 일자별로 순환\n",
    "    price = df.loc[i, cd]    # 원하는 종목의 가격 읽어오기\n",
    "    if price < 1000:    # 매수조건\n",
    "        print(i, 'buy')\n",
    "    elif price > 1000:    # 매도조건\n",
    "        print(i, 'sell')"
   ]
  },
  {
   "cell_type": "markdown",
   "metadata": {
    "slideshow": {
     "slide_type": "slide"
    }
   },
   "source": [
    "트레이딩 북 생성"
   ]
  },
  {
   "cell_type": "code",
   "execution_count": 8,
   "metadata": {},
   "outputs": [
    {
     "data": {
      "text/html": [
       "<div>\n",
       "<style scoped>\n",
       "    .dataframe tbody tr th:only-of-type {\n",
       "        vertical-align: middle;\n",
       "    }\n",
       "\n",
       "    .dataframe tbody tr th {\n",
       "        vertical-align: top;\n",
       "    }\n",
       "\n",
       "    .dataframe thead th {\n",
       "        text-align: right;\n",
       "    }\n",
       "</style>\n",
       "<table border=\"1\" class=\"dataframe\">\n",
       "  <thead>\n",
       "    <tr style=\"text-align: right;\">\n",
       "      <th></th>\n",
       "      <th>Inverse</th>\n",
       "      <th>t Inverse</th>\n",
       "      <th>p Inverse</th>\n",
       "    </tr>\n",
       "    <tr>\n",
       "      <th>Date</th>\n",
       "      <th></th>\n",
       "      <th></th>\n",
       "      <th></th>\n",
       "    </tr>\n",
       "  </thead>\n",
       "  <tbody>\n",
       "    <tr>\n",
       "      <th>2019-01-01</th>\n",
       "      <td>1000</td>\n",
       "      <td></td>\n",
       "      <td></td>\n",
       "    </tr>\n",
       "    <tr>\n",
       "      <th>2019-01-02</th>\n",
       "      <td>900</td>\n",
       "      <td></td>\n",
       "      <td></td>\n",
       "    </tr>\n",
       "    <tr>\n",
       "      <th>2019-01-03</th>\n",
       "      <td>1000</td>\n",
       "      <td></td>\n",
       "      <td></td>\n",
       "    </tr>\n",
       "    <tr>\n",
       "      <th>2019-01-04</th>\n",
       "      <td>1100</td>\n",
       "      <td></td>\n",
       "      <td></td>\n",
       "    </tr>\n",
       "    <tr>\n",
       "      <th>2019-01-05</th>\n",
       "      <td>1000</td>\n",
       "      <td></td>\n",
       "      <td></td>\n",
       "    </tr>\n",
       "    <tr>\n",
       "      <th>2019-01-06</th>\n",
       "      <td>900</td>\n",
       "      <td></td>\n",
       "      <td></td>\n",
       "    </tr>\n",
       "    <tr>\n",
       "      <th>2019-01-07</th>\n",
       "      <td>1000</td>\n",
       "      <td></td>\n",
       "      <td></td>\n",
       "    </tr>\n",
       "    <tr>\n",
       "      <th>2019-01-08</th>\n",
       "      <td>1100</td>\n",
       "      <td></td>\n",
       "      <td></td>\n",
       "    </tr>\n",
       "    <tr>\n",
       "      <th>2019-01-09</th>\n",
       "      <td>1000</td>\n",
       "      <td></td>\n",
       "      <td></td>\n",
       "    </tr>\n",
       "    <tr>\n",
       "      <th>2019-01-10</th>\n",
       "      <td>900</td>\n",
       "      <td></td>\n",
       "      <td></td>\n",
       "    </tr>\n",
       "    <tr>\n",
       "      <th>2019-01-11</th>\n",
       "      <td>1000</td>\n",
       "      <td></td>\n",
       "      <td></td>\n",
       "    </tr>\n",
       "  </tbody>\n",
       "</table>\n",
       "</div>"
      ],
      "text/plain": [
       "            Inverse t Inverse p Inverse\n",
       "Date                                   \n",
       "2019-01-01     1000                    \n",
       "2019-01-02      900                    \n",
       "2019-01-03     1000                    \n",
       "2019-01-04     1100                    \n",
       "2019-01-05     1000                    \n",
       "2019-01-06      900                    \n",
       "2019-01-07     1000                    \n",
       "2019-01-08     1100                    \n",
       "2019-01-09     1000                    \n",
       "2019-01-10      900                    \n",
       "2019-01-11     1000                    "
      ]
     },
     "execution_count": 8,
     "metadata": {},
     "output_type": "execute_result"
    }
   ],
   "source": [
    "book = pd.DataFrame()\n",
    "book[cd] = df[cd]\n",
    "book['t '+cd] = ''\n",
    "book['p '+cd] = ''\n",
    "book"
   ]
  },
  {
   "cell_type": "code",
   "execution_count": 9,
   "metadata": {
    "slideshow": {
     "slide_type": "slide"
    }
   },
   "outputs": [],
   "source": [
    "def create_trade_book(sample, cd):\n",
    "    book = pd.DataFrame()\n",
    "    book[cd] = sample[cd]\n",
    "    book['t '+cd] = ''\n",
    "    book['p '+cd] = ''\n",
    "    return(book)"
   ]
  },
  {
   "cell_type": "code",
   "execution_count": 10,
   "metadata": {},
   "outputs": [
    {
     "data": {
      "text/html": [
       "<div>\n",
       "<style scoped>\n",
       "    .dataframe tbody tr th:only-of-type {\n",
       "        vertical-align: middle;\n",
       "    }\n",
       "\n",
       "    .dataframe tbody tr th {\n",
       "        vertical-align: top;\n",
       "    }\n",
       "\n",
       "    .dataframe thead th {\n",
       "        text-align: right;\n",
       "    }\n",
       "</style>\n",
       "<table border=\"1\" class=\"dataframe\">\n",
       "  <thead>\n",
       "    <tr style=\"text-align: right;\">\n",
       "      <th></th>\n",
       "      <th>Inverse</th>\n",
       "      <th>t Inverse</th>\n",
       "      <th>p Inverse</th>\n",
       "    </tr>\n",
       "    <tr>\n",
       "      <th>Date</th>\n",
       "      <th></th>\n",
       "      <th></th>\n",
       "      <th></th>\n",
       "    </tr>\n",
       "  </thead>\n",
       "  <tbody>\n",
       "    <tr>\n",
       "      <th>2019-01-01</th>\n",
       "      <td>1000</td>\n",
       "      <td></td>\n",
       "      <td></td>\n",
       "    </tr>\n",
       "    <tr>\n",
       "      <th>2019-01-02</th>\n",
       "      <td>900</td>\n",
       "      <td></td>\n",
       "      <td></td>\n",
       "    </tr>\n",
       "    <tr>\n",
       "      <th>2019-01-03</th>\n",
       "      <td>1000</td>\n",
       "      <td></td>\n",
       "      <td></td>\n",
       "    </tr>\n",
       "    <tr>\n",
       "      <th>2019-01-04</th>\n",
       "      <td>1100</td>\n",
       "      <td></td>\n",
       "      <td></td>\n",
       "    </tr>\n",
       "    <tr>\n",
       "      <th>2019-01-05</th>\n",
       "      <td>1000</td>\n",
       "      <td></td>\n",
       "      <td></td>\n",
       "    </tr>\n",
       "    <tr>\n",
       "      <th>2019-01-06</th>\n",
       "      <td>900</td>\n",
       "      <td></td>\n",
       "      <td></td>\n",
       "    </tr>\n",
       "    <tr>\n",
       "      <th>2019-01-07</th>\n",
       "      <td>1000</td>\n",
       "      <td></td>\n",
       "      <td></td>\n",
       "    </tr>\n",
       "    <tr>\n",
       "      <th>2019-01-08</th>\n",
       "      <td>1100</td>\n",
       "      <td></td>\n",
       "      <td></td>\n",
       "    </tr>\n",
       "    <tr>\n",
       "      <th>2019-01-09</th>\n",
       "      <td>1000</td>\n",
       "      <td></td>\n",
       "      <td></td>\n",
       "    </tr>\n",
       "    <tr>\n",
       "      <th>2019-01-10</th>\n",
       "      <td>900</td>\n",
       "      <td></td>\n",
       "      <td></td>\n",
       "    </tr>\n",
       "    <tr>\n",
       "      <th>2019-01-11</th>\n",
       "      <td>1000</td>\n",
       "      <td></td>\n",
       "      <td></td>\n",
       "    </tr>\n",
       "  </tbody>\n",
       "</table>\n",
       "</div>"
      ],
      "text/plain": [
       "            Inverse t Inverse p Inverse\n",
       "Date                                   \n",
       "2019-01-01     1000                    \n",
       "2019-01-02      900                    \n",
       "2019-01-03     1000                    \n",
       "2019-01-04     1100                    \n",
       "2019-01-05     1000                    \n",
       "2019-01-06      900                    \n",
       "2019-01-07     1000                    \n",
       "2019-01-08     1100                    \n",
       "2019-01-09     1000                    \n",
       "2019-01-10      900                    \n",
       "2019-01-11     1000                    "
      ]
     },
     "execution_count": 10,
     "metadata": {},
     "output_type": "execute_result"
    }
   ],
   "source": [
    "book = create_trade_book(df, cd)\n",
    "book"
   ]
  },
  {
   "cell_type": "code",
   "execution_count": 11,
   "metadata": {
    "slideshow": {
     "slide_type": "slide"
    }
   },
   "outputs": [],
   "source": [
    "trd = fs.Trade()"
   ]
  },
  {
   "cell_type": "code",
   "execution_count": 12,
   "metadata": {},
   "outputs": [
    {
     "data": {
      "text/html": [
       "<div>\n",
       "<style scoped>\n",
       "    .dataframe tbody tr th:only-of-type {\n",
       "        vertical-align: middle;\n",
       "    }\n",
       "\n",
       "    .dataframe tbody tr th {\n",
       "        vertical-align: top;\n",
       "    }\n",
       "\n",
       "    .dataframe thead th {\n",
       "        text-align: right;\n",
       "    }\n",
       "</style>\n",
       "<table border=\"1\" class=\"dataframe\">\n",
       "  <thead>\n",
       "    <tr style=\"text-align: right;\">\n",
       "      <th></th>\n",
       "      <th>Inverse</th>\n",
       "      <th>t Inverse</th>\n",
       "      <th>p Inverse</th>\n",
       "    </tr>\n",
       "    <tr>\n",
       "      <th>Date</th>\n",
       "      <th></th>\n",
       "      <th></th>\n",
       "      <th></th>\n",
       "    </tr>\n",
       "  </thead>\n",
       "  <tbody>\n",
       "    <tr>\n",
       "      <th>2019-01-01</th>\n",
       "      <td>1000</td>\n",
       "      <td></td>\n",
       "      <td></td>\n",
       "    </tr>\n",
       "    <tr>\n",
       "      <th>2019-01-02</th>\n",
       "      <td>900</td>\n",
       "      <td></td>\n",
       "      <td></td>\n",
       "    </tr>\n",
       "    <tr>\n",
       "      <th>2019-01-03</th>\n",
       "      <td>1000</td>\n",
       "      <td></td>\n",
       "      <td></td>\n",
       "    </tr>\n",
       "    <tr>\n",
       "      <th>2019-01-04</th>\n",
       "      <td>1100</td>\n",
       "      <td></td>\n",
       "      <td></td>\n",
       "    </tr>\n",
       "    <tr>\n",
       "      <th>2019-01-05</th>\n",
       "      <td>1000</td>\n",
       "      <td></td>\n",
       "      <td></td>\n",
       "    </tr>\n",
       "    <tr>\n",
       "      <th>2019-01-06</th>\n",
       "      <td>900</td>\n",
       "      <td></td>\n",
       "      <td></td>\n",
       "    </tr>\n",
       "    <tr>\n",
       "      <th>2019-01-07</th>\n",
       "      <td>1000</td>\n",
       "      <td></td>\n",
       "      <td></td>\n",
       "    </tr>\n",
       "    <tr>\n",
       "      <th>2019-01-08</th>\n",
       "      <td>1100</td>\n",
       "      <td></td>\n",
       "      <td></td>\n",
       "    </tr>\n",
       "    <tr>\n",
       "      <th>2019-01-09</th>\n",
       "      <td>1000</td>\n",
       "      <td></td>\n",
       "      <td></td>\n",
       "    </tr>\n",
       "    <tr>\n",
       "      <th>2019-01-10</th>\n",
       "      <td>900</td>\n",
       "      <td></td>\n",
       "      <td></td>\n",
       "    </tr>\n",
       "    <tr>\n",
       "      <th>2019-01-11</th>\n",
       "      <td>1000</td>\n",
       "      <td></td>\n",
       "      <td></td>\n",
       "    </tr>\n",
       "  </tbody>\n",
       "</table>\n",
       "</div>"
      ],
      "text/plain": [
       "            Inverse t Inverse p Inverse\n",
       "Date                                   \n",
       "2019-01-01     1000                    \n",
       "2019-01-02      900                    \n",
       "2019-01-03     1000                    \n",
       "2019-01-04     1100                    \n",
       "2019-01-05     1000                    \n",
       "2019-01-06      900                    \n",
       "2019-01-07     1000                    \n",
       "2019-01-08     1100                    \n",
       "2019-01-09     1000                    \n",
       "2019-01-10      900                    \n",
       "2019-01-11     1000                    "
      ]
     },
     "execution_count": 12,
     "metadata": {},
     "output_type": "execute_result"
    }
   ],
   "source": [
    "trd.create_trade_book(df, cd)\n",
    "# create_trade_book(데이터프레임, 종목코드) - 시세판을 읽어 트레이드북 생성"
   ]
  },
  {
   "cell_type": "markdown",
   "metadata": {
    "slideshow": {
     "slide_type": "slide"
    }
   },
   "source": [
    "트레이딩 결과 산출 및 트레이딩북에 기록 "
   ]
  },
  {
   "cell_type": "code",
   "execution_count": 13,
   "metadata": {
    "slideshow": {
     "slide_type": "-"
    }
   },
   "outputs": [],
   "source": [
    "def trade(df, book, cd, buy, sell):\n",
    "    for i in df.index:\n",
    "        price = df.loc[i, cd]\n",
    "        if price < buy:    # 가격이 매수기준 미만이면\n",
    "            book.loc[i, 't '+cd] = 'buy'    # 매수 기록\n",
    "        elif price > sell:    # 가격이 매도기준 초과이면\n",
    "            book.loc[i, 't '+cd] = ''    # 포지션 청산 기록\n",
    "        else:    # 가격이 매도, 매수구간 사이라면\n",
    "            if book.shift(1).loc[i, 't '+cd] == 'buy':    # 이미 매수상태이면\n",
    "                book.loc[i, 't '+cd] = 'buy'    # 매수상태 유지 기록"
   ]
  },
  {
   "cell_type": "code",
   "execution_count": 14,
   "metadata": {
    "slideshow": {
     "slide_type": "slide"
    }
   },
   "outputs": [
    {
     "data": {
      "text/html": [
       "<div>\n",
       "<style scoped>\n",
       "    .dataframe tbody tr th:only-of-type {\n",
       "        vertical-align: middle;\n",
       "    }\n",
       "\n",
       "    .dataframe tbody tr th {\n",
       "        vertical-align: top;\n",
       "    }\n",
       "\n",
       "    .dataframe thead th {\n",
       "        text-align: right;\n",
       "    }\n",
       "</style>\n",
       "<table border=\"1\" class=\"dataframe\">\n",
       "  <thead>\n",
       "    <tr style=\"text-align: right;\">\n",
       "      <th></th>\n",
       "      <th>Inverse</th>\n",
       "      <th>t Inverse</th>\n",
       "      <th>p Inverse</th>\n",
       "    </tr>\n",
       "    <tr>\n",
       "      <th>Date</th>\n",
       "      <th></th>\n",
       "      <th></th>\n",
       "      <th></th>\n",
       "    </tr>\n",
       "  </thead>\n",
       "  <tbody>\n",
       "    <tr>\n",
       "      <th>2019-01-01</th>\n",
       "      <td>1000</td>\n",
       "      <td></td>\n",
       "      <td></td>\n",
       "    </tr>\n",
       "    <tr>\n",
       "      <th>2019-01-02</th>\n",
       "      <td>900</td>\n",
       "      <td>buy</td>\n",
       "      <td></td>\n",
       "    </tr>\n",
       "    <tr>\n",
       "      <th>2019-01-03</th>\n",
       "      <td>1000</td>\n",
       "      <td>buy</td>\n",
       "      <td></td>\n",
       "    </tr>\n",
       "    <tr>\n",
       "      <th>2019-01-04</th>\n",
       "      <td>1100</td>\n",
       "      <td></td>\n",
       "      <td></td>\n",
       "    </tr>\n",
       "    <tr>\n",
       "      <th>2019-01-05</th>\n",
       "      <td>1000</td>\n",
       "      <td></td>\n",
       "      <td></td>\n",
       "    </tr>\n",
       "    <tr>\n",
       "      <th>2019-01-06</th>\n",
       "      <td>900</td>\n",
       "      <td>buy</td>\n",
       "      <td></td>\n",
       "    </tr>\n",
       "    <tr>\n",
       "      <th>2019-01-07</th>\n",
       "      <td>1000</td>\n",
       "      <td>buy</td>\n",
       "      <td></td>\n",
       "    </tr>\n",
       "    <tr>\n",
       "      <th>2019-01-08</th>\n",
       "      <td>1100</td>\n",
       "      <td></td>\n",
       "      <td></td>\n",
       "    </tr>\n",
       "    <tr>\n",
       "      <th>2019-01-09</th>\n",
       "      <td>1000</td>\n",
       "      <td></td>\n",
       "      <td></td>\n",
       "    </tr>\n",
       "    <tr>\n",
       "      <th>2019-01-10</th>\n",
       "      <td>900</td>\n",
       "      <td>buy</td>\n",
       "      <td></td>\n",
       "    </tr>\n",
       "    <tr>\n",
       "      <th>2019-01-11</th>\n",
       "      <td>1000</td>\n",
       "      <td>buy</td>\n",
       "      <td></td>\n",
       "    </tr>\n",
       "  </tbody>\n",
       "</table>\n",
       "</div>"
      ],
      "text/plain": [
       "            Inverse t Inverse p Inverse\n",
       "Date                                   \n",
       "2019-01-01     1000                    \n",
       "2019-01-02      900       buy          \n",
       "2019-01-03     1000       buy          \n",
       "2019-01-04     1100                    \n",
       "2019-01-05     1000                    \n",
       "2019-01-06      900       buy          \n",
       "2019-01-07     1000       buy          \n",
       "2019-01-08     1100                    \n",
       "2019-01-09     1000                    \n",
       "2019-01-10      900       buy          \n",
       "2019-01-11     1000       buy          "
      ]
     },
     "execution_count": 14,
     "metadata": {},
     "output_type": "execute_result"
    }
   ],
   "source": [
    "trade(df, book, cd, 1000, 1000)\n",
    "book"
   ]
  },
  {
   "cell_type": "code",
   "execution_count": 15,
   "metadata": {
    "slideshow": {
     "slide_type": "slide"
    }
   },
   "outputs": [
    {
     "data": {
      "text/html": [
       "<div>\n",
       "<style scoped>\n",
       "    .dataframe tbody tr th:only-of-type {\n",
       "        vertical-align: middle;\n",
       "    }\n",
       "\n",
       "    .dataframe tbody tr th {\n",
       "        vertical-align: top;\n",
       "    }\n",
       "\n",
       "    .dataframe thead th {\n",
       "        text-align: right;\n",
       "    }\n",
       "</style>\n",
       "<table border=\"1\" class=\"dataframe\">\n",
       "  <thead>\n",
       "    <tr style=\"text-align: right;\">\n",
       "      <th></th>\n",
       "      <th>Inverse</th>\n",
       "      <th>t Inverse</th>\n",
       "      <th>p Inverse</th>\n",
       "    </tr>\n",
       "    <tr>\n",
       "      <th>Date</th>\n",
       "      <th></th>\n",
       "      <th></th>\n",
       "      <th></th>\n",
       "    </tr>\n",
       "  </thead>\n",
       "  <tbody>\n",
       "    <tr>\n",
       "      <th>2019-01-01</th>\n",
       "      <td>1000</td>\n",
       "      <td></td>\n",
       "      <td>zz</td>\n",
       "    </tr>\n",
       "    <tr>\n",
       "      <th>2019-01-02</th>\n",
       "      <td>900</td>\n",
       "      <td>buy</td>\n",
       "      <td>zl</td>\n",
       "    </tr>\n",
       "    <tr>\n",
       "      <th>2019-01-03</th>\n",
       "      <td>1000</td>\n",
       "      <td>buy</td>\n",
       "      <td>ll</td>\n",
       "    </tr>\n",
       "    <tr>\n",
       "      <th>2019-01-04</th>\n",
       "      <td>1100</td>\n",
       "      <td></td>\n",
       "      <td>lz</td>\n",
       "    </tr>\n",
       "    <tr>\n",
       "      <th>2019-01-05</th>\n",
       "      <td>1000</td>\n",
       "      <td></td>\n",
       "      <td>zz</td>\n",
       "    </tr>\n",
       "    <tr>\n",
       "      <th>2019-01-06</th>\n",
       "      <td>900</td>\n",
       "      <td>buy</td>\n",
       "      <td>zl</td>\n",
       "    </tr>\n",
       "    <tr>\n",
       "      <th>2019-01-07</th>\n",
       "      <td>1000</td>\n",
       "      <td>buy</td>\n",
       "      <td>ll</td>\n",
       "    </tr>\n",
       "    <tr>\n",
       "      <th>2019-01-08</th>\n",
       "      <td>1100</td>\n",
       "      <td></td>\n",
       "      <td>lz</td>\n",
       "    </tr>\n",
       "    <tr>\n",
       "      <th>2019-01-09</th>\n",
       "      <td>1000</td>\n",
       "      <td></td>\n",
       "      <td>zz</td>\n",
       "    </tr>\n",
       "    <tr>\n",
       "      <th>2019-01-10</th>\n",
       "      <td>900</td>\n",
       "      <td>buy</td>\n",
       "      <td>zl</td>\n",
       "    </tr>\n",
       "    <tr>\n",
       "      <th>2019-01-11</th>\n",
       "      <td>1000</td>\n",
       "      <td>buy</td>\n",
       "      <td>ll</td>\n",
       "    </tr>\n",
       "  </tbody>\n",
       "</table>\n",
       "</div>"
      ],
      "text/plain": [
       "            Inverse t Inverse p Inverse\n",
       "Date                                   \n",
       "2019-01-01     1000                  zz\n",
       "2019-01-02      900       buy        zl\n",
       "2019-01-03     1000       buy        ll\n",
       "2019-01-04     1100                  lz\n",
       "2019-01-05     1000                  zz\n",
       "2019-01-06      900       buy        zl\n",
       "2019-01-07     1000       buy        ll\n",
       "2019-01-08     1100                  lz\n",
       "2019-01-09     1000                  zz\n",
       "2019-01-10      900       buy        zl\n",
       "2019-01-11     1000       buy        ll"
      ]
     },
     "execution_count": 15,
     "metadata": {},
     "output_type": "execute_result"
    }
   ],
   "source": [
    "trd.position(book, cd)\n",
    "# posion(트레이드북, 종목코드) - 포지션 산출"
   ]
  },
  {
   "cell_type": "markdown",
   "metadata": {
    "slideshow": {
     "slide_type": "slide"
    }
   },
   "source": [
    "수익률 산출 기능 구현 및 실행"
   ]
  },
  {
   "cell_type": "code",
   "execution_count": 16,
   "metadata": {},
   "outputs": [
    {
     "name": "stdout",
     "output_type": "stream",
     "text": [
      "매수 @ 900\n",
      "매도 @ 1100 | 손익: 200 | 수익률: 22.2 %\n",
      "매수 @ 900\n",
      "매도 @ 1100 | 손익: 200 | 수익률: 22.2 %\n",
      "매수 @ 900\n"
     ]
    }
   ],
   "source": [
    "buy, sell, rtn = 0, 0, 1.0\n",
    "for i in book.index:\n",
    "    if book.loc[i, 'p '+cd] == 'zl':    # 매수 진입 시\n",
    "        buy = book.loc[i, cd]    # 매수가 기록\n",
    "        print('매수 @', buy)\n",
    "    elif book.loc[i, 'p '+cd] == 'lz':    # 매도 진입 시\n",
    "        sell = book.loc[i, cd]    # 매도가 기록\n",
    "        earning = sell - buy    # 손익 계산\n",
    "        earning_ratio = earning / buy * 100    # 수익률 계산\n",
    "        print('매도 @', sell, '| 손익:', earning, '| 수익률:', round(earning_ratio, 1), '%')"
   ]
  },
  {
   "cell_type": "code",
   "execution_count": 17,
   "metadata": {},
   "outputs": [
    {
     "name": "stdout",
     "output_type": "stream",
     "text": [
      "매수 @ 900\n",
      "매도 @ 1100 | 손익: 200 | 수익률: 22.2 %\n",
      "매수 @ 900\n",
      "매도 @ 1100 | 손익: 200 | 수익률: 22.2 %\n",
      "매수 @ 900\n",
      "Accunulated return : 49.38 %\n"
     ]
    }
   ],
   "source": [
    "buy, sell = 0, 0\n",
    "rtn = 1.0\n",
    "book['return'] = 1\n",
    "for i in book.index:\n",
    "    if book.loc[i, 'p '+cd] == 'zl':    # 매수 진입 시\n",
    "        buy = book.loc[i, cd]    # 매수가 기록\n",
    "        print('매수 @', buy)\n",
    "    elif book.loc[i, 'p '+cd] == 'lz':    # 매도 진입 시\n",
    "        sell = book.loc[i, cd]    # 매도가 기록\n",
    "        earning = sell - buy    # 손익 계산\n",
    "        earning_ratio = earning / buy * 100    # 수익률 계산\n",
    "        rtn = (sell - buy) / buy + 1    # 손익 계산\n",
    "        print('매도 @', sell, '| 손익:', earning, '| 수익률:', round(earning_ratio, 1), '%')\n",
    "        book.loc[i, 'return'] = round(rtn, 4)\n",
    "        \n",
    "acc_rtn = 1.0\n",
    "for i in book.index:\n",
    "    rtn = book.loc[i, 'return']\n",
    "    acc_rtn = acc_rtn * rtn\n",
    "    book.loc[i, 'acc return'] = acc_rtn\n",
    "\n",
    "print ('Accunulated return :', round((acc_rtn - 1) * 100, 2), '%')"
   ]
  },
  {
   "cell_type": "code",
   "execution_count": 18,
   "metadata": {},
   "outputs": [
    {
     "data": {
      "text/html": [
       "<div>\n",
       "<style scoped>\n",
       "    .dataframe tbody tr th:only-of-type {\n",
       "        vertical-align: middle;\n",
       "    }\n",
       "\n",
       "    .dataframe tbody tr th {\n",
       "        vertical-align: top;\n",
       "    }\n",
       "\n",
       "    .dataframe thead th {\n",
       "        text-align: right;\n",
       "    }\n",
       "</style>\n",
       "<table border=\"1\" class=\"dataframe\">\n",
       "  <thead>\n",
       "    <tr style=\"text-align: right;\">\n",
       "      <th></th>\n",
       "      <th>Inverse</th>\n",
       "      <th>t Inverse</th>\n",
       "      <th>p Inverse</th>\n",
       "      <th>return</th>\n",
       "      <th>acc return</th>\n",
       "    </tr>\n",
       "    <tr>\n",
       "      <th>Date</th>\n",
       "      <th></th>\n",
       "      <th></th>\n",
       "      <th></th>\n",
       "      <th></th>\n",
       "      <th></th>\n",
       "    </tr>\n",
       "  </thead>\n",
       "  <tbody>\n",
       "    <tr>\n",
       "      <th>2019-01-01</th>\n",
       "      <td>1000</td>\n",
       "      <td></td>\n",
       "      <td>zz</td>\n",
       "      <td>1.0000</td>\n",
       "      <td>1.000000</td>\n",
       "    </tr>\n",
       "    <tr>\n",
       "      <th>2019-01-02</th>\n",
       "      <td>900</td>\n",
       "      <td>buy</td>\n",
       "      <td>zl</td>\n",
       "      <td>1.0000</td>\n",
       "      <td>1.000000</td>\n",
       "    </tr>\n",
       "    <tr>\n",
       "      <th>2019-01-03</th>\n",
       "      <td>1000</td>\n",
       "      <td>buy</td>\n",
       "      <td>ll</td>\n",
       "      <td>1.0000</td>\n",
       "      <td>1.000000</td>\n",
       "    </tr>\n",
       "    <tr>\n",
       "      <th>2019-01-04</th>\n",
       "      <td>1100</td>\n",
       "      <td></td>\n",
       "      <td>lz</td>\n",
       "      <td>1.2222</td>\n",
       "      <td>1.222200</td>\n",
       "    </tr>\n",
       "    <tr>\n",
       "      <th>2019-01-05</th>\n",
       "      <td>1000</td>\n",
       "      <td></td>\n",
       "      <td>zz</td>\n",
       "      <td>1.0000</td>\n",
       "      <td>1.222200</td>\n",
       "    </tr>\n",
       "    <tr>\n",
       "      <th>2019-01-06</th>\n",
       "      <td>900</td>\n",
       "      <td>buy</td>\n",
       "      <td>zl</td>\n",
       "      <td>1.0000</td>\n",
       "      <td>1.222200</td>\n",
       "    </tr>\n",
       "    <tr>\n",
       "      <th>2019-01-07</th>\n",
       "      <td>1000</td>\n",
       "      <td>buy</td>\n",
       "      <td>ll</td>\n",
       "      <td>1.0000</td>\n",
       "      <td>1.222200</td>\n",
       "    </tr>\n",
       "    <tr>\n",
       "      <th>2019-01-08</th>\n",
       "      <td>1100</td>\n",
       "      <td></td>\n",
       "      <td>lz</td>\n",
       "      <td>1.2222</td>\n",
       "      <td>1.493773</td>\n",
       "    </tr>\n",
       "    <tr>\n",
       "      <th>2019-01-09</th>\n",
       "      <td>1000</td>\n",
       "      <td></td>\n",
       "      <td>zz</td>\n",
       "      <td>1.0000</td>\n",
       "      <td>1.493773</td>\n",
       "    </tr>\n",
       "    <tr>\n",
       "      <th>2019-01-10</th>\n",
       "      <td>900</td>\n",
       "      <td>buy</td>\n",
       "      <td>zl</td>\n",
       "      <td>1.0000</td>\n",
       "      <td>1.493773</td>\n",
       "    </tr>\n",
       "    <tr>\n",
       "      <th>2019-01-11</th>\n",
       "      <td>1000</td>\n",
       "      <td>buy</td>\n",
       "      <td>ll</td>\n",
       "      <td>1.0000</td>\n",
       "      <td>1.493773</td>\n",
       "    </tr>\n",
       "  </tbody>\n",
       "</table>\n",
       "</div>"
      ],
      "text/plain": [
       "            Inverse t Inverse p Inverse  return  acc return\n",
       "Date                                                       \n",
       "2019-01-01     1000                  zz  1.0000    1.000000\n",
       "2019-01-02      900       buy        zl  1.0000    1.000000\n",
       "2019-01-03     1000       buy        ll  1.0000    1.000000\n",
       "2019-01-04     1100                  lz  1.2222    1.222200\n",
       "2019-01-05     1000                  zz  1.0000    1.222200\n",
       "2019-01-06      900       buy        zl  1.0000    1.222200\n",
       "2019-01-07     1000       buy        ll  1.0000    1.222200\n",
       "2019-01-08     1100                  lz  1.2222    1.493773\n",
       "2019-01-09     1000                  zz  1.0000    1.493773\n",
       "2019-01-10      900       buy        zl  1.0000    1.493773\n",
       "2019-01-11     1000       buy        ll  1.0000    1.493773"
      ]
     },
     "execution_count": 18,
     "metadata": {},
     "output_type": "execute_result"
    }
   ],
   "source": [
    "book"
   ]
  },
  {
   "cell_type": "code",
   "execution_count": 22,
   "metadata": {
    "slideshow": {
     "slide_type": "slide"
    }
   },
   "outputs": [
    {
     "name": "stdout",
     "output_type": "stream",
     "text": [
      "2019-01-02 00:00:00 long Inverse 900\n",
      "2019-01-04 00:00:00 long Inverse 900  | unwind long Inverse 1100  | return: 1.2222\n",
      "2019-01-06 00:00:00 long Inverse 900\n",
      "2019-01-08 00:00:00 long Inverse 900  | unwind long Inverse 1100  | return: 1.2222\n",
      "2019-01-10 00:00:00 long Inverse 900\n",
      "Accumulated return: 49.38 %  ( # of trade: 2  , # of win: 2  )\n",
      "Avg return: 0.2222 , Prob. of win: 1.0\n"
     ]
    },
    {
     "data": {
      "text/plain": [
       "1.4938"
      ]
     },
     "execution_count": 22,
     "metadata": {},
     "output_type": "execute_result"
    }
   ],
   "source": [
    "trd.returns(book, cd, display=True)\n",
    "# returns(트레이드북, 종목코드) - 수익률 계산"
   ]
  },
  {
   "cell_type": "code",
   "execution_count": 20,
   "metadata": {},
   "outputs": [
    {
     "name": "stdout",
     "output_type": "stream",
     "text": [
      "Help on method returns in module finterstellar.trading:\n",
      "\n",
      "returns(book, s_cd, display=False, report_name='', report={}) method of finterstellar.trading.Trade instance\n",
      "\n"
     ]
    }
   ],
   "source": [
    "help(trd.returns)"
   ]
  },
  {
   "cell_type": "code",
   "execution_count": 23,
   "metadata": {},
   "outputs": [
    {
     "data": {
      "text/html": [
       "<div>\n",
       "<style scoped>\n",
       "    .dataframe tbody tr th:only-of-type {\n",
       "        vertical-align: middle;\n",
       "    }\n",
       "\n",
       "    .dataframe tbody tr th {\n",
       "        vertical-align: top;\n",
       "    }\n",
       "\n",
       "    .dataframe thead th {\n",
       "        text-align: right;\n",
       "    }\n",
       "</style>\n",
       "<table border=\"1\" class=\"dataframe\">\n",
       "  <thead>\n",
       "    <tr style=\"text-align: right;\">\n",
       "      <th></th>\n",
       "      <th>Inverse</th>\n",
       "      <th>t Inverse</th>\n",
       "      <th>p Inverse</th>\n",
       "      <th>return</th>\n",
       "      <th>acc return</th>\n",
       "    </tr>\n",
       "    <tr>\n",
       "      <th>Date</th>\n",
       "      <th></th>\n",
       "      <th></th>\n",
       "      <th></th>\n",
       "      <th></th>\n",
       "      <th></th>\n",
       "    </tr>\n",
       "  </thead>\n",
       "  <tbody>\n",
       "    <tr>\n",
       "      <th>2019-01-01</th>\n",
       "      <td>1000</td>\n",
       "      <td></td>\n",
       "      <td>zz</td>\n",
       "      <td>1.000000</td>\n",
       "      <td>1.000000</td>\n",
       "    </tr>\n",
       "    <tr>\n",
       "      <th>2019-01-02</th>\n",
       "      <td>900</td>\n",
       "      <td>buy</td>\n",
       "      <td>zl</td>\n",
       "      <td>1.000000</td>\n",
       "      <td>1.000000</td>\n",
       "    </tr>\n",
       "    <tr>\n",
       "      <th>2019-01-03</th>\n",
       "      <td>1000</td>\n",
       "      <td>buy</td>\n",
       "      <td>ll</td>\n",
       "      <td>1.000000</td>\n",
       "      <td>1.000000</td>\n",
       "    </tr>\n",
       "    <tr>\n",
       "      <th>2019-01-04</th>\n",
       "      <td>1100</td>\n",
       "      <td></td>\n",
       "      <td>lz</td>\n",
       "      <td>1.222222</td>\n",
       "      <td>1.222222</td>\n",
       "    </tr>\n",
       "    <tr>\n",
       "      <th>2019-01-05</th>\n",
       "      <td>1000</td>\n",
       "      <td></td>\n",
       "      <td>zz</td>\n",
       "      <td>1.000000</td>\n",
       "      <td>1.222222</td>\n",
       "    </tr>\n",
       "    <tr>\n",
       "      <th>2019-01-06</th>\n",
       "      <td>900</td>\n",
       "      <td>buy</td>\n",
       "      <td>zl</td>\n",
       "      <td>1.000000</td>\n",
       "      <td>1.222222</td>\n",
       "    </tr>\n",
       "    <tr>\n",
       "      <th>2019-01-07</th>\n",
       "      <td>1000</td>\n",
       "      <td>buy</td>\n",
       "      <td>ll</td>\n",
       "      <td>1.000000</td>\n",
       "      <td>1.222222</td>\n",
       "    </tr>\n",
       "    <tr>\n",
       "      <th>2019-01-08</th>\n",
       "      <td>1100</td>\n",
       "      <td></td>\n",
       "      <td>lz</td>\n",
       "      <td>1.222222</td>\n",
       "      <td>1.493827</td>\n",
       "    </tr>\n",
       "    <tr>\n",
       "      <th>2019-01-09</th>\n",
       "      <td>1000</td>\n",
       "      <td></td>\n",
       "      <td>zz</td>\n",
       "      <td>1.000000</td>\n",
       "      <td>1.493827</td>\n",
       "    </tr>\n",
       "    <tr>\n",
       "      <th>2019-01-10</th>\n",
       "      <td>900</td>\n",
       "      <td>buy</td>\n",
       "      <td>zl</td>\n",
       "      <td>1.000000</td>\n",
       "      <td>1.493827</td>\n",
       "    </tr>\n",
       "    <tr>\n",
       "      <th>2019-01-11</th>\n",
       "      <td>1000</td>\n",
       "      <td>buy</td>\n",
       "      <td>ll</td>\n",
       "      <td>1.000000</td>\n",
       "      <td>1.493827</td>\n",
       "    </tr>\n",
       "  </tbody>\n",
       "</table>\n",
       "</div>"
      ],
      "text/plain": [
       "            Inverse t Inverse p Inverse    return  acc return\n",
       "Date                                                         \n",
       "2019-01-01     1000                  zz  1.000000    1.000000\n",
       "2019-01-02      900       buy        zl  1.000000    1.000000\n",
       "2019-01-03     1000       buy        ll  1.000000    1.000000\n",
       "2019-01-04     1100                  lz  1.222222    1.222222\n",
       "2019-01-05     1000                  zz  1.000000    1.222222\n",
       "2019-01-06      900       buy        zl  1.000000    1.222222\n",
       "2019-01-07     1000       buy        ll  1.000000    1.222222\n",
       "2019-01-08     1100                  lz  1.222222    1.493827\n",
       "2019-01-09     1000                  zz  1.000000    1.493827\n",
       "2019-01-10      900       buy        zl  1.000000    1.493827\n",
       "2019-01-11     1000       buy        ll  1.000000    1.493827"
      ]
     },
     "execution_count": 23,
     "metadata": {},
     "output_type": "execute_result"
    }
   ],
   "source": [
    "book"
   ]
  },
  {
   "cell_type": "markdown",
   "metadata": {
    "slideshow": {
     "slide_type": "slide"
    }
   },
   "source": [
    "로그수익률 산출 기능 구현 및 실행"
   ]
  },
  {
   "cell_type": "code",
   "execution_count": 24,
   "metadata": {},
   "outputs": [
    {
     "name": "stdout",
     "output_type": "stream",
     "text": [
      "매수 @ 900\n",
      "매도 @ 1100 | 손익: 200 | 수익률: 20.1 %\n",
      "매수 @ 900\n",
      "매도 @ 1100 | 손익: 200 | 수익률: 20.1 %\n",
      "매수 @ 900\n"
     ]
    }
   ],
   "source": [
    "buy, sell = 0, 0\n",
    "for i in book.index:\n",
    "    if book.loc[i, 'p '+cd] == 'zl':    # 매수 진입 시\n",
    "        buy = book.loc[i, cd]    # 매수가 기록\n",
    "        print('매수 @', buy)\n",
    "    elif book.loc[i, 'p '+cd] == 'lz':    # 매도 진입 시\n",
    "        sell = book.loc[i, cd]    # 매도가 기록\n",
    "        earning = sell - buy    # 손익 계산\n",
    "        earning_ratio = np.log(sell/buy) * 100    # 수익률 계산\n",
    "        print('매도 @', sell, '| 손익:', earning, '| 수익률:', round(earning_ratio, 1), '%')"
   ]
  },
  {
   "cell_type": "code",
   "execution_count": 25,
   "metadata": {},
   "outputs": [
    {
     "name": "stdout",
     "output_type": "stream",
     "text": [
      "매수 @ 900\n",
      "매도 @ 1100 | 손익: 200 | 수익률: 20.1 %\n",
      "매수 @ 900\n",
      "매도 @ 1100 | 손익: 200 | 수익률: 20.1 %\n",
      "매수 @ 900\n",
      "Accunulated return : 40.13 %\n"
     ]
    }
   ],
   "source": [
    "buy, sell = 0, 0\n",
    "rtn = 0.0\n",
    "book['return'] = 0.0\n",
    "for i in book.index:\n",
    "    if book.loc[i, 'p '+cd] == 'zl':    # 매수 진입 시\n",
    "        buy = book.loc[i, cd]    # 매수가 기록\n",
    "        print('매수 @', buy)\n",
    "    elif book.loc[i, 'p '+cd] == 'lz':    # 매도 진입 시\n",
    "        sell = book.loc[i, cd]    # 매도가 기록\n",
    "        earning = sell - buy    # 손익 계산\n",
    "        earning_ratio = np.log(sell/buy) * 100    # 수익률 계산\n",
    "        print('매도 @', sell, '| 손익:', earning, '| 수익률:', round(earning_ratio, 1), '%')\n",
    "        book.loc[i, 'return'] = earning_ratio\n",
    "        \n",
    "acc_rtn = 0.0\n",
    "for i in book.index:\n",
    "    rtn = book.loc[i, 'return']\n",
    "    acc_rtn = acc_rtn + rtn\n",
    "    book.loc[i, 'acc return'] = acc_rtn\n",
    "print ('Accunulated return :', round(acc_rtn, 2), '%')"
   ]
  },
  {
   "cell_type": "code",
   "execution_count": 26,
   "metadata": {
    "slideshow": {
     "slide_type": "slide"
    }
   },
   "outputs": [
    {
     "name": "stdout",
     "output_type": "stream",
     "text": [
      "Accunulated return : 40.13 %\n"
     ]
    },
    {
     "data": {
      "text/plain": [
       "40.1341"
      ]
     },
     "execution_count": 26,
     "metadata": {},
     "output_type": "execute_result"
    }
   ],
   "source": [
    "trd.returns_log(book, cd)\n",
    "# returns(트레이드북, 종목코드) - 수익률 계산"
   ]
  },
  {
   "cell_type": "code",
   "execution_count": null,
   "metadata": {},
   "outputs": [],
   "source": []
  }
 ],
 "metadata": {
  "celltoolbar": "Slideshow",
  "kernelspec": {
   "display_name": "Python 3",
   "language": "python",
   "name": "python3"
  },
  "language_info": {
   "codemirror_mode": {
    "name": "ipython",
    "version": 3
   },
   "file_extension": ".py",
   "mimetype": "text/x-python",
   "name": "python",
   "nbconvert_exporter": "python",
   "pygments_lexer": "ipython3",
   "version": "3.7.3"
  },
  "rise": {
   "scroll": true
  }
 },
 "nbformat": 4,
 "nbformat_minor": 2
}
