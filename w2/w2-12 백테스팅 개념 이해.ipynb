{
 "cells": [
  {
   "cell_type": "code",
   "execution_count": null,
   "metadata": {
    "slideshow": {
     "slide_type": "slide"
    }
   },
   "outputs": [],
   "source": [
    "import pandas as pd\n",
    "import numpy as np\n",
    "import finterstellar as fs"
   ]
  },
  {
   "cell_type": "markdown",
   "metadata": {
    "slideshow": {
     "slide_type": "slide"
    }
   },
   "source": [
    "# 데이터 준비하기"
   ]
  },
  {
   "cell_type": "markdown",
   "metadata": {
    "slideshow": {
     "slide_type": "-"
    }
   },
   "source": [
    "1. 시세데이터 불러오기"
   ]
  },
  {
   "cell_type": "code",
   "execution_count": null,
   "metadata": {
    "slideshow": {
     "slide_type": "-"
    }
   },
   "outputs": [],
   "source": [
    "file = 'w2-12 Back test practice data.xlsx'"
   ]
  },
  {
   "cell_type": "code",
   "execution_count": null,
   "metadata": {
    "slideshow": {
     "slide_type": "-"
    }
   },
   "outputs": [],
   "source": [
    "df = pd.read_excel(file, index_col='Date')\n",
    "df"
   ]
  },
  {
   "cell_type": "markdown",
   "metadata": {
    "slideshow": {
     "slide_type": "slide"
    }
   },
   "source": [
    "2. 데이터 전처리 : 날짜처리"
   ]
  },
  {
   "cell_type": "code",
   "execution_count": null,
   "metadata": {
    "slideshow": {
     "slide_type": "-"
    }
   },
   "outputs": [],
   "source": [
    "ld = fs.LoadData()\n",
    "df = ld.date_formatting(df)    \n",
    "# date_formatting(데이터프레임) - 날짜 처리\n",
    "df"
   ]
  },
  {
   "cell_type": "markdown",
   "metadata": {
    "slideshow": {
     "slide_type": "slide"
    }
   },
   "source": [
    "3. 파라미터 세팅 : 기준일자, 종목코드 등"
   ]
  },
  {
   "cell_type": "code",
   "execution_count": null,
   "metadata": {
    "slideshow": {
     "slide_type": "-"
    }
   },
   "outputs": [],
   "source": [
    "base_date = '2019-01-01'    # 기준일자 설정\n",
    "cd = 'Inverse'    # 종목코드 "
   ]
  },
  {
   "cell_type": "code",
   "execution_count": null,
   "metadata": {},
   "outputs": [],
   "source": [
    "v = fs.Visualize()\n",
    "v.price_view(df, base_date, cd, (10,3))\n",
    "# price_view(데이터프레임, 기준일자, 종목코드, (사이즈)) - 그래프 그리기"
   ]
  },
  {
   "cell_type": "markdown",
   "metadata": {
    "slideshow": {
     "slide_type": "slide"
    }
   },
   "source": [
    "# 백테스팅 기능 구현 및 실행"
   ]
  },
  {
   "cell_type": "markdown",
   "metadata": {
    "slideshow": {
     "slide_type": "-"
    }
   },
   "source": [
    "트레이딩 로직의 기본 개념"
   ]
  },
  {
   "cell_type": "code",
   "execution_count": null,
   "metadata": {},
   "outputs": [],
   "source": [
    "for i in df.index:    # 데이터프레임을 일자별로 순환\n",
    "    price = df.loc[i, cd]    # 원하는 종목의 가격 읽어오기\n",
    "    if price < 1000:    # 매수조건\n",
    "        print(i, 'buy')\n",
    "    elif price > 1000:    # 매도조건\n",
    "        print(i, 'sell')"
   ]
  },
  {
   "cell_type": "markdown",
   "metadata": {
    "slideshow": {
     "slide_type": "slide"
    }
   },
   "source": [
    "트레이딩 북 생성"
   ]
  },
  {
   "cell_type": "code",
   "execution_count": null,
   "metadata": {},
   "outputs": [],
   "source": [
    "book = pd.DataFrame()\n",
    "book[cd] = df[cd]\n",
    "book['t '+cd] = ''\n",
    "book['p '+cd] = ''\n",
    "book"
   ]
  },
  {
   "cell_type": "code",
   "execution_count": null,
   "metadata": {
    "slideshow": {
     "slide_type": "slide"
    }
   },
   "outputs": [],
   "source": [
    "def create_trade_book(sample, cd):\n",
    "    book = pd.DataFrame()\n",
    "    book[cd] = sample[cd]\n",
    "    book['t '+cd] = ''\n",
    "    book['p '+cd] = ''\n",
    "    return(book)"
   ]
  },
  {
   "cell_type": "code",
   "execution_count": null,
   "metadata": {},
   "outputs": [],
   "source": [
    "book = create_trade_book(df, cd)\n",
    "book"
   ]
  },
  {
   "cell_type": "code",
   "execution_count": null,
   "metadata": {
    "slideshow": {
     "slide_type": "slide"
    }
   },
   "outputs": [],
   "source": [
    "trd = fs.Trade()"
   ]
  },
  {
   "cell_type": "code",
   "execution_count": null,
   "metadata": {},
   "outputs": [],
   "source": [
    "trd.create_trade_book(df, cd)\n",
    "# create_trade_book(데이터프레임, 종목코드) - 시세판을 읽어 트레이드북 생성"
   ]
  },
  {
   "cell_type": "markdown",
   "metadata": {
    "slideshow": {
     "slide_type": "slide"
    }
   },
   "source": [
    "트레이딩 결과 산출 및 트레이딩북에 기록 "
   ]
  },
  {
   "cell_type": "code",
   "execution_count": null,
   "metadata": {
    "slideshow": {
     "slide_type": "-"
    }
   },
   "outputs": [],
   "source": [
    "def trade(df, book, cd, buy, sell):\n",
    "    for i in df.index:\n",
    "        price = df.loc[i, cd]\n",
    "        if price < buy:    # 가격이 매수기준 미만이면\n",
    "            book.loc[i, 't '+cd] = 'buy'    # 매수 기록\n",
    "        elif price > sell:    # 가격이 매도기준 초과이면\n",
    "            book.loc[i, 't '+cd] = ''    # 포지션 청산 기록\n",
    "        else:    # 가격이 매도, 매수구간 사이라면\n",
    "            if book.shift(1).loc[i, 't '+cd] == 'buy':    # 이미 매수상태이면\n",
    "                book.loc[i, 't '+cd] = 'buy'    # 매수상태 유지 기록"
   ]
  },
  {
   "cell_type": "code",
   "execution_count": null,
   "metadata": {
    "slideshow": {
     "slide_type": "slide"
    }
   },
   "outputs": [],
   "source": [
    "trade(df, book, cd, 1000, 1000)\n",
    "book"
   ]
  },
  {
   "cell_type": "code",
   "execution_count": null,
   "metadata": {
    "slideshow": {
     "slide_type": "slide"
    }
   },
   "outputs": [],
   "source": [
    "trd.position(book, cd)\n",
    "# posion(트레이드북, 종목코드) - 포지션 산출"
   ]
  },
  {
   "cell_type": "markdown",
   "metadata": {
    "slideshow": {
     "slide_type": "slide"
    }
   },
   "source": [
    "수익률 산출 기능 구현 및 실행"
   ]
  },
  {
   "cell_type": "code",
   "execution_count": null,
   "metadata": {},
   "outputs": [],
   "source": [
    "buy, sell, rtn = 0, 0, 1.0\n",
    "for i in book.index:\n",
    "    if book.loc[i, 'p '+cd] == 'zl':    # 매수 진입 시\n",
    "        buy = book.loc[i, cd]    # 매수가 기록\n",
    "        print('매수 @', buy)\n",
    "    elif book.loc[i, 'p '+cd] == 'lz':    # 매도 진입 시\n",
    "        sell = book.loc[i, cd]    # 매도가 기록\n",
    "        earning = sell - buy    # 손익 계산\n",
    "        earning_ratio = earning / buy * 100    # 수익률 계산\n",
    "        print('매도 @', sell, '| 손익:', earning, '| 수익률:', round(earning_ratio, 1), '%')"
   ]
  },
  {
   "cell_type": "code",
   "execution_count": null,
   "metadata": {},
   "outputs": [],
   "source": [
    "buy, sell = 0, 0\n",
    "rtn = 1.0\n",
    "book['return'] = 1\n",
    "for i in book.index:\n",
    "    if book.loc[i, 'p '+cd] == 'zl':    # 매수 진입 시\n",
    "        buy = book.loc[i, cd]    # 매수가 기록\n",
    "        print('매수 @', buy)\n",
    "    elif book.loc[i, 'p '+cd] == 'lz':    # 매도 진입 시\n",
    "        sell = book.loc[i, cd]    # 매도가 기록\n",
    "        earning = sell - buy    # 손익 계산\n",
    "        earning_ratio = earning / buy * 100    # 수익률 계산\n",
    "        rtn = (sell - buy) / buy + 1    # 손익 계산\n",
    "        print('매도 @', sell, '| 손익:', earning, '| 수익률:', round(earning_ratio, 1), '%')\n",
    "        book.loc[i, 'return'] = round(rtn, 4)\n",
    "        \n",
    "acc_rtn = 1.0\n",
    "for i in book.index:\n",
    "    rtn = book.loc[i, 'return']\n",
    "    acc_rtn = acc_rtn * rtn\n",
    "    book.loc[i, 'acc return'] = acc_rtn\n",
    "\n",
    "print ('Accunulated return :', round((acc_rtn - 1) * 100, 2), '%')"
   ]
  },
  {
   "cell_type": "code",
   "execution_count": null,
   "metadata": {},
   "outputs": [],
   "source": [
    "book"
   ]
  },
  {
   "cell_type": "code",
   "execution_count": null,
   "metadata": {
    "slideshow": {
     "slide_type": "slide"
    }
   },
   "outputs": [],
   "source": [
    "trd.returns(book, cd)\n",
    "# returns(트레이드북, 종목코드) - 수익률 계산"
   ]
  },
  {
   "cell_type": "code",
   "execution_count": null,
   "metadata": {},
   "outputs": [],
   "source": [
    "help(trd.returns)"
   ]
  },
  {
   "cell_type": "code",
   "execution_count": null,
   "metadata": {},
   "outputs": [],
   "source": [
    "book"
   ]
  },
  {
   "cell_type": "markdown",
   "metadata": {
    "slideshow": {
     "slide_type": "slide"
    }
   },
   "source": [
    "로그수익률 산출 기능 구현 및 실행"
   ]
  },
  {
   "cell_type": "code",
   "execution_count": null,
   "metadata": {},
   "outputs": [],
   "source": [
    "buy, sell = 0, 0\n",
    "for i in book.index:\n",
    "    if book.loc[i, 'p '+cd] == 'zl':    # 매수 진입 시\n",
    "        buy = book.loc[i, cd]    # 매수가 기록\n",
    "        print('매수 @', buy)\n",
    "    elif book.loc[i, 'p '+cd] == 'lz':    # 매도 진입 시\n",
    "        sell = book.loc[i, cd]    # 매도가 기록\n",
    "        earning = sell - buy    # 손익 계산\n",
    "        earning_ratio = np.log(sell/buy) * 100    # 수익률 계산\n",
    "        print('매도 @', sell, '| 손익:', earning, '| 수익률:', round(earning_ratio, 1), '%')"
   ]
  },
  {
   "cell_type": "code",
   "execution_count": null,
   "metadata": {},
   "outputs": [],
   "source": [
    "buy, sell = 0, 0\n",
    "rtn = 0.0\n",
    "book['return'] = 0.0\n",
    "for i in book.index:\n",
    "    if book.loc[i, 'p '+cd] == 'zl':    # 매수 진입 시\n",
    "        buy = book.loc[i, cd]    # 매수가 기록\n",
    "        print('매수 @', buy)\n",
    "    elif book.loc[i, 'p '+cd] == 'lz':    # 매도 진입 시\n",
    "        sell = book.loc[i, cd]    # 매도가 기록\n",
    "        earning = sell - buy    # 손익 계산\n",
    "        earning_ratio = np.log(sell/buy) * 100    # 수익률 계산\n",
    "        print('매도 @', sell, '| 손익:', earning, '| 수익률:', round(earning_ratio, 1), '%')\n",
    "        book.loc[i, 'return'] = earning_ratio\n",
    "        \n",
    "acc_rtn = 0.0\n",
    "for i in book.index:\n",
    "    rtn = book.loc[i, 'return']\n",
    "    acc_rtn = acc_rtn + rtn\n",
    "    book.loc[i, 'acc return'] = acc_rtn\n",
    "print ('Accunulated return :', round(acc_rtn, 2), '%')"
   ]
  },
  {
   "cell_type": "code",
   "execution_count": null,
   "metadata": {
    "slideshow": {
     "slide_type": "slide"
    }
   },
   "outputs": [],
   "source": [
    "trd.returns_log(book, cd)\n",
    "# returns(트레이드북, 종목코드) - 수익률 계산"
   ]
  },
  {
   "cell_type": "code",
   "execution_count": null,
   "metadata": {},
   "outputs": [],
   "source": []
  }
 ],
 "metadata": {
  "celltoolbar": "Slideshow",
  "kernelspec": {
   "display_name": "Python 3",
   "language": "python",
   "name": "python3"
  },
  "language_info": {
   "codemirror_mode": {
    "name": "ipython",
    "version": 3
   },
   "file_extension": ".py",
   "mimetype": "text/x-python",
   "name": "python",
   "nbconvert_exporter": "python",
   "pygments_lexer": "ipython3",
   "version": "3.7.3"
  },
  "rise": {
   "scroll": true
  }
 },
 "nbformat": 4,
 "nbformat_minor": 2
}
