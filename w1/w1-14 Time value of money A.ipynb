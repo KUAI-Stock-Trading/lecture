{
 "cells": [
  {
   "cell_type": "markdown",
   "metadata": {
    "slideshow": {
     "slide_type": "slide"
    }
   },
   "source": [
    "표면금리 10%, 6개월마다 이자를 지급하는 5년만기 국채의 액면가가 1천원이라면, \n",
    "이 채권의 현재 가격은? (요구수익률은 15%로 가정)"
   ]
  },
  {
   "cell_type": "markdown",
   "metadata": {},
   "source": [
    "r=10%, k=2, n=5, FV=1000, YTM=15% > PV?"
   ]
  },
  {
   "cell_type": "code",
   "execution_count": null,
   "metadata": {
    "slideshow": {
     "slide_type": "-"
    }
   },
   "outputs": [],
   "source": [
    "fv = 1000\n",
    "ytm = 0.15\n",
    "r = 0.1\n",
    "k = 2\n",
    "n = 5"
   ]
  },
  {
   "cell_type": "markdown",
   "metadata": {
    "slideshow": {
     "slide_type": "subslide"
    }
   },
   "source": [
    "$$\\frac{ 1000 }{ (1 + \\frac{0.15}{2})^{10} } + \\frac{1000* \\frac{0.1}{2}}{ (1 + \\frac{0.15}{2})^1 }\n",
    "+ \\frac{1000* \\frac{0.1}{2}}{ (1 + \\frac{0.15}{2})^{2} } + ...\n",
    "+ \\frac{1000* \\frac{0.1}{2}}{ (1 + \\frac{0.15}{2})^{10} }$$"
   ]
  },
  {
   "cell_type": "code",
   "execution_count": null,
   "metadata": {
    "slideshow": {
     "slide_type": "-"
    }
   },
   "outputs": [],
   "source": [
    "pv1 = 1000 / (1+ytm/k)**(k*n)\n",
    "pv1"
   ]
  },
  {
   "cell_type": "code",
   "execution_count": null,
   "metadata": {},
   "outputs": [],
   "source": [
    "pv2 = 0\n",
    "for i in range(1, k*n+1, 1):     # range(시작, 끝, 주기) - 단, 파이썬은 끝을 포함하지 않으므로 k*n +1로 하나 더해준다\n",
    "    tmp = (fv*r/2) / (1+ytm/k)**i\n",
    "    print(i, ':', tmp)\n",
    "    pv2 = pv2 + tmp\n",
    "pv2"
   ]
  },
  {
   "cell_type": "code",
   "execution_count": null,
   "metadata": {},
   "outputs": [],
   "source": [
    "pv = pv1 + pv2\n",
    "pv"
   ]
  },
  {
   "cell_type": "raw",
   "metadata": {
    "slideshow": {
     "slide_type": "slide"
    }
   },
   "source": [
    "채권 가격을 구하는 함수를 작성해보세요"
   ]
  },
  {
   "cell_type": "code",
   "execution_count": null,
   "metadata": {},
   "outputs": [],
   "source": [
    "def bond_price(fv, ytm, r, k, n):\n",
    "    pv1 = fv / (1+ytm/k)**(k*n)\n",
    "    pv2 = 0\n",
    "    for i in range(1, k*n+1, 1):\n",
    "        tmp = (fv*r/2) / (1+ytm/k)**i\n",
    "        print(i, ':', tmp)\n",
    "        pv2 = pv2 + tmp\n",
    "    pv = pv1 + pv2\n",
    "    return(pv)"
   ]
  },
  {
   "cell_type": "code",
   "execution_count": null,
   "metadata": {},
   "outputs": [],
   "source": [
    "fv = 1000\n",
    "ytm = 0.15\n",
    "r = 0.1\n",
    "k = 2\n",
    "n = 5\n",
    "bond_price(fv, ytm, r, k, n)"
   ]
  }
 ],
 "metadata": {
  "celltoolbar": "Slideshow",
  "kernelspec": {
   "display_name": "Python 3",
   "language": "python",
   "name": "python3"
  },
  "language_info": {
   "codemirror_mode": {
    "name": "ipython",
    "version": 3
   },
   "file_extension": ".py",
   "mimetype": "text/x-python",
   "name": "python",
   "nbconvert_exporter": "python",
   "pygments_lexer": "ipython3",
   "version": "3.7.3"
  },
  "rise": {
   "scroll": true
  }
 },
 "nbformat": 4,
 "nbformat_minor": 2
}
