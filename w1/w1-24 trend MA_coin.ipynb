{
 "cells": [
  {
   "cell_type": "code",
   "execution_count": null,
   "metadata": {
    "slideshow": {
     "slide_type": "slide"
    }
   },
   "outputs": [],
   "source": [
    "import pandas as pd\n",
    "import finterstellar as fs"
   ]
  },
  {
   "cell_type": "markdown",
   "metadata": {
    "slideshow": {
     "slide_type": "-"
    }
   },
   "source": [
    "데이터 로딩"
   ]
  },
  {
   "cell_type": "code",
   "execution_count": null,
   "metadata": {},
   "outputs": [],
   "source": [
    "coin = fs.CoinPrice()"
   ]
  },
  {
   "cell_type": "code",
   "execution_count": null,
   "metadata": {},
   "outputs": [],
   "source": [
    "cd = 'BTC'"
   ]
  },
  {
   "cell_type": "code",
   "execution_count": null,
   "metadata": {},
   "outputs": [],
   "source": [
    "df = coin.bithumb_historical_price(cd)\n",
    "df.head()"
   ]
  },
  {
   "cell_type": "markdown",
   "metadata": {
    "slideshow": {
     "slide_type": "slide"
    }
   },
   "source": [
    "Moving average 구하기"
   ]
  },
  {
   "cell_type": "code",
   "execution_count": null,
   "metadata": {
    "slideshow": {
     "slide_type": "-"
    }
   },
   "outputs": [],
   "source": [
    "short = 10    # 단기 기준\n",
    "mid = 60    # 중기 기준"
   ]
  },
  {
   "cell_type": "code",
   "execution_count": null,
   "metadata": {},
   "outputs": [],
   "source": [
    "ma = pd.DataFrame()\n",
    "ma[cd] = df['close']\n",
    "ma['short'] = df['close'].rolling(short).mean()   # 데이터프레임[데이터].rolling(기준일자).mean() - 이동평균 계산\n",
    "ma['mid'] = df['close'].rolling(mid).mean()\n",
    "ma.tail(10)"
   ]
  },
  {
   "cell_type": "code",
   "execution_count": null,
   "metadata": {
    "slideshow": {
     "slide_type": "slide"
    }
   },
   "outputs": [],
   "source": [
    "base_date = df.index[0]   # 기준점 설정\n",
    "ma = ma[base_date:].copy()    # 기준일 이후 데이터만 가져와 ma에 저장\n",
    "ma.head()"
   ]
  },
  {
   "cell_type": "markdown",
   "metadata": {
    "slideshow": {
     "slide_type": "slide"
    }
   },
   "source": [
    "그래프 그리기 (fs 라이브러리 이용)"
   ]
  },
  {
   "cell_type": "code",
   "execution_count": null,
   "metadata": {
    "slideshow": {
     "slide_type": "-"
    }
   },
   "outputs": [],
   "source": [
    "v = fs.VisualizeIntraday()      # fs 라이브러리의 Visualize() 모듈을 불러와 v로 지정"
   ]
  },
  {
   "cell_type": "code",
   "execution_count": null,
   "metadata": {},
   "outputs": [],
   "source": [
    "v.price_view(ma, base_date, cd, (15, 2), make_file=False)\n",
    "# price_view(데이터프레임, 기준일자, [비교대상(복수종목)], (챠트사이즈)) 함수 - 그래프 그리기"
   ]
  },
  {
   "cell_type": "code",
   "execution_count": null,
   "metadata": {
    "slideshow": {
     "slide_type": "slide"
    }
   },
   "outputs": [],
   "source": [
    "v.price_view(ma, base_date, ['mid', 'short'], (15, 2))\n",
    "# price_view(데이터프레임, 기준일자, [비교대상(복수종목)], (챠트사이즈)) 함수 - 그래프 그리기"
   ]
  },
  {
   "cell_type": "code",
   "execution_count": null,
   "metadata": {},
   "outputs": [],
   "source": []
  },
  {
   "cell_type": "markdown",
   "metadata": {
    "slideshow": {
     "slide_type": "slide"
    }
   },
   "source": [
    "# MA로 트레이딩을 한다면?"
   ]
  },
  {
   "cell_type": "markdown",
   "metadata": {},
   "source": [
    "short과 mid가 교차할 때 매매하는 로직을 세우기 위해"
   ]
  },
  {
   "cell_type": "code",
   "execution_count": null,
   "metadata": {},
   "outputs": [],
   "source": [
    "ma['s-m'] = ma['short'] - ma['mid']\n",
    "ma.tail(3)\n",
    "# 그렇다면, s-m 값이 +라면 상승추세인걸로"
   ]
  },
  {
   "cell_type": "code",
   "execution_count": null,
   "metadata": {
    "slideshow": {
     "slide_type": "slide"
    }
   },
   "outputs": [],
   "source": [
    "def trend_tradings(sample, book, cd, factor):\n",
    "    for i in sample.index:    # 시세를 하나씩 읽어가며\n",
    "        if sample.loc[i, factor] >= 0:   # 상승추세라면\n",
    "            book.loc[i, 't '+cd] = 'buy'    # buy해라\n",
    "        elif sample.loc[i, factor] < 0:    # 하락추세라면\n",
    "            book.loc[i, 't '+cd] = ''    # 털어라\n",
    "    return (book) "
   ]
  },
  {
   "cell_type": "markdown",
   "metadata": {
    "slideshow": {
     "slide_type": "slide"
    }
   },
   "source": [
    "백테스팅을 위한 트레이드 북 생성"
   ]
  },
  {
   "cell_type": "code",
   "execution_count": null,
   "metadata": {},
   "outputs": [],
   "source": [
    "trd = fs.Trade()   # fs 라이브러리의 Trade() 모듈을 불러와 trd로 지정"
   ]
  },
  {
   "cell_type": "code",
   "execution_count": null,
   "metadata": {},
   "outputs": [],
   "source": [
    "book = trd.create_trade_book(ma, [cd])    \n",
    "# trd 모듈의 create_trade_book(데이터프레임, [종목코드]) 함수를 이용해 트레이딩북 생성\n",
    "book.tail()"
   ]
  },
  {
   "cell_type": "markdown",
   "metadata": {
    "slideshow": {
     "slide_type": "slide"
    }
   },
   "source": [
    "트렌드 트레이딩 전략 실행"
   ]
  },
  {
   "cell_type": "code",
   "execution_count": null,
   "metadata": {},
   "outputs": [],
   "source": [
    "book = trend_tradings(ma, book, cd, 's-m')\n",
    "book.tail()"
   ]
  },
  {
   "cell_type": "markdown",
   "metadata": {
    "slideshow": {
     "slide_type": "slide"
    }
   },
   "source": [
    "포지션 산출"
   ]
  },
  {
   "cell_type": "code",
   "execution_count": null,
   "metadata": {},
   "outputs": [],
   "source": [
    "book = trd.position(book, [cd])\n",
    "# position(트레이딩북, 종목코드) - 매매전략에 따른 포지션을 판단해 트레이딩북에 기록\n",
    "book.tail()"
   ]
  },
  {
   "cell_type": "markdown",
   "metadata": {
    "slideshow": {
     "slide_type": "slide"
    }
   },
   "source": [
    "손익 계산"
   ]
  },
  {
   "cell_type": "code",
   "execution_count": null,
   "metadata": {},
   "outputs": [],
   "source": [
    "fund_rtn = trd.returns(book, cd, display=True)\n",
    "# returns(트레이딩북, 종목코드) - 백테스팅 수익률 계산"
   ]
  },
  {
   "cell_type": "markdown",
   "metadata": {
    "slideshow": {
     "slide_type": "slide"
    }
   },
   "source": [
    "벤치마크 수익률 계산"
   ]
  },
  {
   "cell_type": "code",
   "execution_count": null,
   "metadata": {},
   "outputs": [],
   "source": [
    "bm_rtn = trd.benchmark_return(book, [cd])\n",
    "# benchmark_return(트레이딩북, 종목코드) - 벤치마크 수익률(전략 미이용시) 계산"
   ]
  },
  {
   "cell_type": "code",
   "execution_count": null,
   "metadata": {},
   "outputs": [],
   "source": [
    "exs_rtn = trd.excess_return(fund_rtn, bm_rtn)\n",
    "# excess_return(전략수익률, 벤치마크수익률) - 전략의 벤치마크 대비 초과수익률 계산"
   ]
  }
 ],
 "metadata": {
  "celltoolbar": "Slideshow",
  "kernelspec": {
   "display_name": "Python 3",
   "language": "python",
   "name": "python3"
  },
  "language_info": {
   "codemirror_mode": {
    "name": "ipython",
    "version": 3
   },
   "file_extension": ".py",
   "mimetype": "text/x-python",
   "name": "python",
   "nbconvert_exporter": "python",
   "pygments_lexer": "ipython3",
   "version": "3.7.3"
  },
  "rise": {
   "scroll": true
  }
 },
 "nbformat": 4,
 "nbformat_minor": 2
}
