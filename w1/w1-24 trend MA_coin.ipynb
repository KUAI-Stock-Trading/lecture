{
 "cells": [
  {
   "cell_type": "code",
   "execution_count": 1,
   "metadata": {
    "slideshow": {
     "slide_type": "slide"
    }
   },
   "outputs": [],
   "source": [
    "import pandas as pd\n",
    "import finterstellar as fs"
   ]
  },
  {
   "cell_type": "markdown",
   "metadata": {
    "slideshow": {
     "slide_type": "-"
    }
   },
   "source": [
    "데이터 로딩"
   ]
  },
  {
   "cell_type": "code",
   "execution_count": 2,
   "metadata": {},
   "outputs": [],
   "source": [
    "coin = fs.CoinPrice()"
   ]
  },
  {
   "cell_type": "code",
   "execution_count": 3,
   "metadata": {},
   "outputs": [],
   "source": [
    "cd = 'BTC'"
   ]
  },
  {
   "cell_type": "code",
   "execution_count": 4,
   "metadata": {},
   "outputs": [
    {
     "data": {
      "text/html": [
       "<div>\n",
       "<style scoped>\n",
       "    .dataframe tbody tr th:only-of-type {\n",
       "        vertical-align: middle;\n",
       "    }\n",
       "\n",
       "    .dataframe tbody tr th {\n",
       "        vertical-align: top;\n",
       "    }\n",
       "\n",
       "    .dataframe thead th {\n",
       "        text-align: right;\n",
       "    }\n",
       "</style>\n",
       "<table border=\"1\" class=\"dataframe\">\n",
       "  <thead>\n",
       "    <tr style=\"text-align: right;\">\n",
       "      <th></th>\n",
       "      <th>close</th>\n",
       "      <th>open</th>\n",
       "      <th>high</th>\n",
       "      <th>low</th>\n",
       "      <th>volume</th>\n",
       "    </tr>\n",
       "  </thead>\n",
       "  <tbody>\n",
       "    <tr>\n",
       "      <th>2019-06-07 19:40:00</th>\n",
       "      <td>9703000.0</td>\n",
       "      <td>9699000.0</td>\n",
       "      <td>9703000.0</td>\n",
       "      <td>9699000.0</td>\n",
       "      <td>2.1641</td>\n",
       "    </tr>\n",
       "    <tr>\n",
       "      <th>2019-06-07 19:41:00</th>\n",
       "      <td>9707000.0</td>\n",
       "      <td>9703000.0</td>\n",
       "      <td>9707000.0</td>\n",
       "      <td>9702000.0</td>\n",
       "      <td>3.2506</td>\n",
       "    </tr>\n",
       "    <tr>\n",
       "      <th>2019-06-07 19:42:00</th>\n",
       "      <td>9710000.0</td>\n",
       "      <td>9706000.0</td>\n",
       "      <td>9711000.0</td>\n",
       "      <td>9706000.0</td>\n",
       "      <td>9.9665</td>\n",
       "    </tr>\n",
       "    <tr>\n",
       "      <th>2019-06-07 19:43:00</th>\n",
       "      <td>9710000.0</td>\n",
       "      <td>9713000.0</td>\n",
       "      <td>9714000.0</td>\n",
       "      <td>9710000.0</td>\n",
       "      <td>1.5794</td>\n",
       "    </tr>\n",
       "    <tr>\n",
       "      <th>2019-06-07 19:44:00</th>\n",
       "      <td>9712000.0</td>\n",
       "      <td>9710000.0</td>\n",
       "      <td>9719000.0</td>\n",
       "      <td>9710000.0</td>\n",
       "      <td>1.9109</td>\n",
       "    </tr>\n",
       "  </tbody>\n",
       "</table>\n",
       "</div>"
      ],
      "text/plain": [
       "                         close       open       high        low  volume\n",
       "2019-06-07 19:40:00  9703000.0  9699000.0  9703000.0  9699000.0  2.1641\n",
       "2019-06-07 19:41:00  9707000.0  9703000.0  9707000.0  9702000.0  3.2506\n",
       "2019-06-07 19:42:00  9710000.0  9706000.0  9711000.0  9706000.0  9.9665\n",
       "2019-06-07 19:43:00  9710000.0  9713000.0  9714000.0  9710000.0  1.5794\n",
       "2019-06-07 19:44:00  9712000.0  9710000.0  9719000.0  9710000.0  1.9109"
      ]
     },
     "execution_count": 4,
     "metadata": {},
     "output_type": "execute_result"
    }
   ],
   "source": [
    "df = coin.bithumb_historical_price(cd)\n",
    "df.head()"
   ]
  },
  {
   "cell_type": "markdown",
   "metadata": {
    "slideshow": {
     "slide_type": "slide"
    }
   },
   "source": [
    "Moving average 구하기"
   ]
  },
  {
   "cell_type": "code",
   "execution_count": 5,
   "metadata": {
    "slideshow": {
     "slide_type": "-"
    }
   },
   "outputs": [],
   "source": [
    "short = 10    # 단기 기준\n",
    "mid = 60    # 중기 기준"
   ]
  },
  {
   "cell_type": "code",
   "execution_count": 6,
   "metadata": {},
   "outputs": [
    {
     "data": {
      "text/html": [
       "<div>\n",
       "<style scoped>\n",
       "    .dataframe tbody tr th:only-of-type {\n",
       "        vertical-align: middle;\n",
       "    }\n",
       "\n",
       "    .dataframe tbody tr th {\n",
       "        vertical-align: top;\n",
       "    }\n",
       "\n",
       "    .dataframe thead th {\n",
       "        text-align: right;\n",
       "    }\n",
       "</style>\n",
       "<table border=\"1\" class=\"dataframe\">\n",
       "  <thead>\n",
       "    <tr style=\"text-align: right;\">\n",
       "      <th></th>\n",
       "      <th>BTC</th>\n",
       "      <th>short</th>\n",
       "      <th>mid</th>\n",
       "    </tr>\n",
       "  </thead>\n",
       "  <tbody>\n",
       "    <tr>\n",
       "      <th>2019-06-08 19:30:00</th>\n",
       "      <td>9758000.0</td>\n",
       "      <td>9752800.0</td>\n",
       "      <td>9.727917e+06</td>\n",
       "    </tr>\n",
       "    <tr>\n",
       "      <th>2019-06-08 19:31:00</th>\n",
       "      <td>9757000.0</td>\n",
       "      <td>9753500.0</td>\n",
       "      <td>9.729033e+06</td>\n",
       "    </tr>\n",
       "    <tr>\n",
       "      <th>2019-06-08 19:32:00</th>\n",
       "      <td>9752000.0</td>\n",
       "      <td>9752700.0</td>\n",
       "      <td>9.730083e+06</td>\n",
       "    </tr>\n",
       "    <tr>\n",
       "      <th>2019-06-08 19:33:00</th>\n",
       "      <td>9748000.0</td>\n",
       "      <td>9752500.0</td>\n",
       "      <td>9.731033e+06</td>\n",
       "    </tr>\n",
       "    <tr>\n",
       "      <th>2019-06-08 19:34:00</th>\n",
       "      <td>9750000.0</td>\n",
       "      <td>9751800.0</td>\n",
       "      <td>9.731917e+06</td>\n",
       "    </tr>\n",
       "    <tr>\n",
       "      <th>2019-06-08 19:35:00</th>\n",
       "      <td>9745000.0</td>\n",
       "      <td>9751200.0</td>\n",
       "      <td>9.732800e+06</td>\n",
       "    </tr>\n",
       "    <tr>\n",
       "      <th>2019-06-08 19:36:00</th>\n",
       "      <td>9750000.0</td>\n",
       "      <td>9751400.0</td>\n",
       "      <td>9.733800e+06</td>\n",
       "    </tr>\n",
       "    <tr>\n",
       "      <th>2019-06-08 19:37:00</th>\n",
       "      <td>9750000.0</td>\n",
       "      <td>9751500.0</td>\n",
       "      <td>9.734783e+06</td>\n",
       "    </tr>\n",
       "    <tr>\n",
       "      <th>2019-06-08 19:38:00</th>\n",
       "      <td>9745000.0</td>\n",
       "      <td>9751100.0</td>\n",
       "      <td>9.735700e+06</td>\n",
       "    </tr>\n",
       "    <tr>\n",
       "      <th>2019-06-08 19:39:00</th>\n",
       "      <td>9745000.0</td>\n",
       "      <td>9750000.0</td>\n",
       "      <td>9.736617e+06</td>\n",
       "    </tr>\n",
       "  </tbody>\n",
       "</table>\n",
       "</div>"
      ],
      "text/plain": [
       "                           BTC      short           mid\n",
       "2019-06-08 19:30:00  9758000.0  9752800.0  9.727917e+06\n",
       "2019-06-08 19:31:00  9757000.0  9753500.0  9.729033e+06\n",
       "2019-06-08 19:32:00  9752000.0  9752700.0  9.730083e+06\n",
       "2019-06-08 19:33:00  9748000.0  9752500.0  9.731033e+06\n",
       "2019-06-08 19:34:00  9750000.0  9751800.0  9.731917e+06\n",
       "2019-06-08 19:35:00  9745000.0  9751200.0  9.732800e+06\n",
       "2019-06-08 19:36:00  9750000.0  9751400.0  9.733800e+06\n",
       "2019-06-08 19:37:00  9750000.0  9751500.0  9.734783e+06\n",
       "2019-06-08 19:38:00  9745000.0  9751100.0  9.735700e+06\n",
       "2019-06-08 19:39:00  9745000.0  9750000.0  9.736617e+06"
      ]
     },
     "execution_count": 6,
     "metadata": {},
     "output_type": "execute_result"
    }
   ],
   "source": [
    "ma = pd.DataFrame()\n",
    "ma[cd] = df['close']\n",
    "ma['short'] = df['close'].rolling(short).mean()   # 데이터프레임[데이터].rolling(기준일자).mean() - 이동평균 계산\n",
    "ma['mid'] = df['close'].rolling(mid).mean()\n",
    "ma.tail(10)"
   ]
  },
  {
   "cell_type": "code",
   "execution_count": 7,
   "metadata": {
    "slideshow": {
     "slide_type": "slide"
    }
   },
   "outputs": [
    {
     "data": {
      "text/html": [
       "<div>\n",
       "<style scoped>\n",
       "    .dataframe tbody tr th:only-of-type {\n",
       "        vertical-align: middle;\n",
       "    }\n",
       "\n",
       "    .dataframe tbody tr th {\n",
       "        vertical-align: top;\n",
       "    }\n",
       "\n",
       "    .dataframe thead th {\n",
       "        text-align: right;\n",
       "    }\n",
       "</style>\n",
       "<table border=\"1\" class=\"dataframe\">\n",
       "  <thead>\n",
       "    <tr style=\"text-align: right;\">\n",
       "      <th></th>\n",
       "      <th>BTC</th>\n",
       "      <th>short</th>\n",
       "      <th>mid</th>\n",
       "    </tr>\n",
       "  </thead>\n",
       "  <tbody>\n",
       "    <tr>\n",
       "      <th>2019-06-07 19:40:00</th>\n",
       "      <td>9703000.0</td>\n",
       "      <td>NaN</td>\n",
       "      <td>NaN</td>\n",
       "    </tr>\n",
       "    <tr>\n",
       "      <th>2019-06-07 19:41:00</th>\n",
       "      <td>9707000.0</td>\n",
       "      <td>NaN</td>\n",
       "      <td>NaN</td>\n",
       "    </tr>\n",
       "    <tr>\n",
       "      <th>2019-06-07 19:42:00</th>\n",
       "      <td>9710000.0</td>\n",
       "      <td>NaN</td>\n",
       "      <td>NaN</td>\n",
       "    </tr>\n",
       "    <tr>\n",
       "      <th>2019-06-07 19:43:00</th>\n",
       "      <td>9710000.0</td>\n",
       "      <td>NaN</td>\n",
       "      <td>NaN</td>\n",
       "    </tr>\n",
       "    <tr>\n",
       "      <th>2019-06-07 19:44:00</th>\n",
       "      <td>9712000.0</td>\n",
       "      <td>NaN</td>\n",
       "      <td>NaN</td>\n",
       "    </tr>\n",
       "  </tbody>\n",
       "</table>\n",
       "</div>"
      ],
      "text/plain": [
       "                           BTC  short  mid\n",
       "2019-06-07 19:40:00  9703000.0    NaN  NaN\n",
       "2019-06-07 19:41:00  9707000.0    NaN  NaN\n",
       "2019-06-07 19:42:00  9710000.0    NaN  NaN\n",
       "2019-06-07 19:43:00  9710000.0    NaN  NaN\n",
       "2019-06-07 19:44:00  9712000.0    NaN  NaN"
      ]
     },
     "execution_count": 7,
     "metadata": {},
     "output_type": "execute_result"
    }
   ],
   "source": [
    "base_date = df.index[0]   # 기준점 설정\n",
    "ma = ma[base_date:].copy()    # 기준일 이후 데이터만 가져와 ma에 저장\n",
    "ma.head()"
   ]
  },
  {
   "cell_type": "markdown",
   "metadata": {
    "slideshow": {
     "slide_type": "slide"
    }
   },
   "source": [
    "그래프 그리기 (fs 라이브러리 이용)"
   ]
  },
  {
   "cell_type": "code",
   "execution_count": 8,
   "metadata": {
    "slideshow": {
     "slide_type": "-"
    }
   },
   "outputs": [],
   "source": [
    "v = fs.VisualizeIntraday()      # fs 라이브러리의 Visualize() 모듈을 불러와 v로 지정"
   ]
  },
  {
   "cell_type": "code",
   "execution_count": 9,
   "metadata": {},
   "outputs": [
    {
     "data": {
      "image/png": "[encoded data removed]",
      "text/plain": [
       "<Figure size 1080x144 with 1 Axes>"
      ]
     },
     "metadata": {},
     "output_type": "display_data"
    }
   ],
   "source": [
    "v.price_view(ma, base_date, cd, (15, 2), make_file=False)\n",
    "# price_view(데이터프레임, 기준일자, [비교대상(복수종목)], (챠트사이즈)) 함수 - 그래프 그리기"
   ]
  },
  {
   "cell_type": "code",
   "execution_count": 10,
   "metadata": {
    "slideshow": {
     "slide_type": "slide"
    }
   },
   "outputs": [
    {
     "data": {
      "image/png": "[encoded data removed]",
      "text/plain": [
       "<Figure size 1080x144 with 1 Axes>"
      ]
     },
     "metadata": {},
     "output_type": "display_data"
    }
   ],
   "source": [
    "v.price_view(ma, base_date, ['mid', 'short'], (15, 2))\n",
    "# price_view(데이터프레임, 기준일자, [비교대상(복수종목)], (챠트사이즈)) 함수 - 그래프 그리기"
   ]
  },
  {
   "cell_type": "code",
   "execution_count": null,
   "metadata": {},
   "outputs": [],
   "source": []
  },
  {
   "cell_type": "code",
   "execution_count": null,
   "metadata": {},
   "outputs": [],
   "source": []
  },
  {
   "cell_type": "code",
   "execution_count": null,
   "metadata": {},
   "outputs": [],
   "source": []
  },
  {
   "cell_type": "markdown",
   "metadata": {
    "slideshow": {
     "slide_type": "slide"
    }
   },
   "source": [
    "# MA로 트레이딩을 한다면?"
   ]
  },
  {
   "cell_type": "markdown",
   "metadata": {},
   "source": [
    "short과 mid가 교차할 때 매매하는 로직을 세우기 위해"
   ]
  },
  {
   "cell_type": "code",
   "execution_count": 11,
   "metadata": {},
   "outputs": [
    {
     "data": {
      "text/html": [
       "<div>\n",
       "<style scoped>\n",
       "    .dataframe tbody tr th:only-of-type {\n",
       "        vertical-align: middle;\n",
       "    }\n",
       "\n",
       "    .dataframe tbody tr th {\n",
       "        vertical-align: top;\n",
       "    }\n",
       "\n",
       "    .dataframe thead th {\n",
       "        text-align: right;\n",
       "    }\n",
       "</style>\n",
       "<table border=\"1\" class=\"dataframe\">\n",
       "  <thead>\n",
       "    <tr style=\"text-align: right;\">\n",
       "      <th></th>\n",
       "      <th>BTC</th>\n",
       "      <th>short</th>\n",
       "      <th>mid</th>\n",
       "      <th>s-m</th>\n",
       "    </tr>\n",
       "  </thead>\n",
       "  <tbody>\n",
       "    <tr>\n",
       "      <th>2019-06-08 19:37:00</th>\n",
       "      <td>9750000.0</td>\n",
       "      <td>9751500.0</td>\n",
       "      <td>9.734783e+06</td>\n",
       "      <td>16716.666667</td>\n",
       "    </tr>\n",
       "    <tr>\n",
       "      <th>2019-06-08 19:38:00</th>\n",
       "      <td>9745000.0</td>\n",
       "      <td>9751100.0</td>\n",
       "      <td>9.735700e+06</td>\n",
       "      <td>15400.000000</td>\n",
       "    </tr>\n",
       "    <tr>\n",
       "      <th>2019-06-08 19:39:00</th>\n",
       "      <td>9745000.0</td>\n",
       "      <td>9750000.0</td>\n",
       "      <td>9.736617e+06</td>\n",
       "      <td>13383.333333</td>\n",
       "    </tr>\n",
       "  </tbody>\n",
       "</table>\n",
       "</div>"
      ],
      "text/plain": [
       "                           BTC      short           mid           s-m\n",
       "2019-06-08 19:37:00  9750000.0  9751500.0  9.734783e+06  16716.666667\n",
       "2019-06-08 19:38:00  9745000.0  9751100.0  9.735700e+06  15400.000000\n",
       "2019-06-08 19:39:00  9745000.0  9750000.0  9.736617e+06  13383.333333"
      ]
     },
     "execution_count": 11,
     "metadata": {},
     "output_type": "execute_result"
    }
   ],
   "source": [
    "ma['s-m'] = ma['short'] - ma['mid']\n",
    "ma.tail(3)\n",
    "# 그렇다면, s-m 값이 +라면 상승추세인걸로"
   ]
  },
  {
   "cell_type": "code",
   "execution_count": 12,
   "metadata": {
    "slideshow": {
     "slide_type": "slide"
    }
   },
   "outputs": [],
   "source": [
    "def trend_tradings(sample, book, cd, factor):\n",
    "    for i in sample.index:    # 시세를 하나씩 읽어가며\n",
    "        if sample.loc[i, factor] >= 0:   # 상승추세라면\n",
    "            book.loc[i, 't '+cd] = 'buy'    # buy해라\n",
    "        elif sample.loc[i, factor] < 0:    # 하락추세라면\n",
    "            book.loc[i, 't '+cd] = ''    # 털어라\n",
    "    return (book) "
   ]
  },
  {
   "cell_type": "markdown",
   "metadata": {
    "slideshow": {
     "slide_type": "slide"
    }
   },
   "source": [
    "백테스팅을 위한 트레이드 북 생성"
   ]
  },
  {
   "cell_type": "code",
   "execution_count": 13,
   "metadata": {},
   "outputs": [],
   "source": [
    "trd = fs.Trade()   # fs 라이브러리의 Trade() 모듈을 불러와 trd로 지정"
   ]
  },
  {
   "cell_type": "code",
   "execution_count": 14,
   "metadata": {},
   "outputs": [
    {
     "data": {
      "text/html": [
       "<div>\n",
       "<style scoped>\n",
       "    .dataframe tbody tr th:only-of-type {\n",
       "        vertical-align: middle;\n",
       "    }\n",
       "\n",
       "    .dataframe tbody tr th {\n",
       "        vertical-align: top;\n",
       "    }\n",
       "\n",
       "    .dataframe thead th {\n",
       "        text-align: right;\n",
       "    }\n",
       "</style>\n",
       "<table border=\"1\" class=\"dataframe\">\n",
       "  <thead>\n",
       "    <tr style=\"text-align: right;\">\n",
       "      <th></th>\n",
       "      <th>BTC</th>\n",
       "      <th>t BTC</th>\n",
       "      <th>p BTC</th>\n",
       "    </tr>\n",
       "  </thead>\n",
       "  <tbody>\n",
       "    <tr>\n",
       "      <th>2019-06-08 19:35:00</th>\n",
       "      <td>9745000.0</td>\n",
       "      <td></td>\n",
       "      <td></td>\n",
       "    </tr>\n",
       "    <tr>\n",
       "      <th>2019-06-08 19:36:00</th>\n",
       "      <td>9750000.0</td>\n",
       "      <td></td>\n",
       "      <td></td>\n",
       "    </tr>\n",
       "    <tr>\n",
       "      <th>2019-06-08 19:37:00</th>\n",
       "      <td>9750000.0</td>\n",
       "      <td></td>\n",
       "      <td></td>\n",
       "    </tr>\n",
       "    <tr>\n",
       "      <th>2019-06-08 19:38:00</th>\n",
       "      <td>9745000.0</td>\n",
       "      <td></td>\n",
       "      <td></td>\n",
       "    </tr>\n",
       "    <tr>\n",
       "      <th>2019-06-08 19:39:00</th>\n",
       "      <td>9745000.0</td>\n",
       "      <td></td>\n",
       "      <td></td>\n",
       "    </tr>\n",
       "  </tbody>\n",
       "</table>\n",
       "</div>"
      ],
      "text/plain": [
       "                           BTC t BTC p BTC\n",
       "2019-06-08 19:35:00  9745000.0            \n",
       "2019-06-08 19:36:00  9750000.0            \n",
       "2019-06-08 19:37:00  9750000.0            \n",
       "2019-06-08 19:38:00  9745000.0            \n",
       "2019-06-08 19:39:00  9745000.0            "
      ]
     },
     "execution_count": 14,
     "metadata": {},
     "output_type": "execute_result"
    }
   ],
   "source": [
    "book = trd.create_trade_book(ma, [cd])    \n",
    "# trd 모듈의 create_trade_book(데이터프레임, [종목코드]) 함수를 이용해 트레이딩북 생성\n",
    "book.tail()"
   ]
  },
  {
   "cell_type": "markdown",
   "metadata": {
    "slideshow": {
     "slide_type": "slide"
    }
   },
   "source": [
    "트렌드 트레이딩 전략 실행"
   ]
  },
  {
   "cell_type": "code",
   "execution_count": 15,
   "metadata": {},
   "outputs": [
    {
     "data": {
      "text/html": [
       "<div>\n",
       "<style scoped>\n",
       "    .dataframe tbody tr th:only-of-type {\n",
       "        vertical-align: middle;\n",
       "    }\n",
       "\n",
       "    .dataframe tbody tr th {\n",
       "        vertical-align: top;\n",
       "    }\n",
       "\n",
       "    .dataframe thead th {\n",
       "        text-align: right;\n",
       "    }\n",
       "</style>\n",
       "<table border=\"1\" class=\"dataframe\">\n",
       "  <thead>\n",
       "    <tr style=\"text-align: right;\">\n",
       "      <th></th>\n",
       "      <th>BTC</th>\n",
       "      <th>t BTC</th>\n",
       "      <th>p BTC</th>\n",
       "    </tr>\n",
       "  </thead>\n",
       "  <tbody>\n",
       "    <tr>\n",
       "      <th>2019-06-08 19:35:00</th>\n",
       "      <td>9745000.0</td>\n",
       "      <td>buy</td>\n",
       "      <td></td>\n",
       "    </tr>\n",
       "    <tr>\n",
       "      <th>2019-06-08 19:36:00</th>\n",
       "      <td>9750000.0</td>\n",
       "      <td>buy</td>\n",
       "      <td></td>\n",
       "    </tr>\n",
       "    <tr>\n",
       "      <th>2019-06-08 19:37:00</th>\n",
       "      <td>9750000.0</td>\n",
       "      <td>buy</td>\n",
       "      <td></td>\n",
       "    </tr>\n",
       "    <tr>\n",
       "      <th>2019-06-08 19:38:00</th>\n",
       "      <td>9745000.0</td>\n",
       "      <td>buy</td>\n",
       "      <td></td>\n",
       "    </tr>\n",
       "    <tr>\n",
       "      <th>2019-06-08 19:39:00</th>\n",
       "      <td>9745000.0</td>\n",
       "      <td>buy</td>\n",
       "      <td></td>\n",
       "    </tr>\n",
       "  </tbody>\n",
       "</table>\n",
       "</div>"
      ],
      "text/plain": [
       "                           BTC t BTC p BTC\n",
       "2019-06-08 19:35:00  9745000.0   buy      \n",
       "2019-06-08 19:36:00  9750000.0   buy      \n",
       "2019-06-08 19:37:00  9750000.0   buy      \n",
       "2019-06-08 19:38:00  9745000.0   buy      \n",
       "2019-06-08 19:39:00  9745000.0   buy      "
      ]
     },
     "execution_count": 15,
     "metadata": {},
     "output_type": "execute_result"
    }
   ],
   "source": [
    "book = trend_tradings(ma, book, cd, 's-m')\n",
    "book.tail()"
   ]
  },
  {
   "cell_type": "markdown",
   "metadata": {
    "slideshow": {
     "slide_type": "slide"
    }
   },
   "source": [
    "포지션 산출"
   ]
  },
  {
   "cell_type": "code",
   "execution_count": 16,
   "metadata": {},
   "outputs": [
    {
     "data": {
      "text/html": [
       "<div>\n",
       "<style scoped>\n",
       "    .dataframe tbody tr th:only-of-type {\n",
       "        vertical-align: middle;\n",
       "    }\n",
       "\n",
       "    .dataframe tbody tr th {\n",
       "        vertical-align: top;\n",
       "    }\n",
       "\n",
       "    .dataframe thead th {\n",
       "        text-align: right;\n",
       "    }\n",
       "</style>\n",
       "<table border=\"1\" class=\"dataframe\">\n",
       "  <thead>\n",
       "    <tr style=\"text-align: right;\">\n",
       "      <th></th>\n",
       "      <th>BTC</th>\n",
       "      <th>t BTC</th>\n",
       "      <th>p BTC</th>\n",
       "    </tr>\n",
       "  </thead>\n",
       "  <tbody>\n",
       "    <tr>\n",
       "      <th>2019-06-08 19:35:00</th>\n",
       "      <td>9745000.0</td>\n",
       "      <td>buy</td>\n",
       "      <td>ll</td>\n",
       "    </tr>\n",
       "    <tr>\n",
       "      <th>2019-06-08 19:36:00</th>\n",
       "      <td>9750000.0</td>\n",
       "      <td>buy</td>\n",
       "      <td>ll</td>\n",
       "    </tr>\n",
       "    <tr>\n",
       "      <th>2019-06-08 19:37:00</th>\n",
       "      <td>9750000.0</td>\n",
       "      <td>buy</td>\n",
       "      <td>ll</td>\n",
       "    </tr>\n",
       "    <tr>\n",
       "      <th>2019-06-08 19:38:00</th>\n",
       "      <td>9745000.0</td>\n",
       "      <td>buy</td>\n",
       "      <td>ll</td>\n",
       "    </tr>\n",
       "    <tr>\n",
       "      <th>2019-06-08 19:39:00</th>\n",
       "      <td>9745000.0</td>\n",
       "      <td>buy</td>\n",
       "      <td>ll</td>\n",
       "    </tr>\n",
       "  </tbody>\n",
       "</table>\n",
       "</div>"
      ],
      "text/plain": [
       "                           BTC t BTC p BTC\n",
       "2019-06-08 19:35:00  9745000.0   buy    ll\n",
       "2019-06-08 19:36:00  9750000.0   buy    ll\n",
       "2019-06-08 19:37:00  9750000.0   buy    ll\n",
       "2019-06-08 19:38:00  9745000.0   buy    ll\n",
       "2019-06-08 19:39:00  9745000.0   buy    ll"
      ]
     },
     "execution_count": 16,
     "metadata": {},
     "output_type": "execute_result"
    }
   ],
   "source": [
    "book = trd.position(book, [cd])\n",
    "# position(트레이딩북, 종목코드) - 매매전략에 따른 포지션을 판단해 트레이딩북에 기록\n",
    "book.tail()"
   ]
  },
  {
   "cell_type": "markdown",
   "metadata": {
    "slideshow": {
     "slide_type": "slide"
    }
   },
   "source": [
    "손익 계산"
   ]
  },
  {
   "cell_type": "code",
   "execution_count": 17,
   "metadata": {},
   "outputs": [
    {
     "name": "stdout",
     "output_type": "stream",
     "text": [
      "2019-06-07 21:34:00 long BTC 9642000.0\n",
      "2019-06-07 21:52:00 long BTC 9642000.0  | unwind long BTC 9630000.0  | return: 0.9988\n",
      "2019-06-07 22:14:00 long BTC 9668000.0\n",
      "2019-06-07 23:24:00 long BTC 9668000.0  | unwind long BTC 9692000.0  | return: 1.0025\n",
      "2019-06-08 00:53:00 long BTC 9660000.0\n",
      "2019-06-08 00:58:00 long BTC 9660000.0  | unwind long BTC 9653000.0  | return: 0.9993\n",
      "2019-06-08 01:15:00 long BTC 9698000.0\n",
      "2019-06-08 02:48:00 long BTC 9698000.0  | unwind long BTC 9773000.0  | return: 1.0077\n",
      "2019-06-08 03:27:00 long BTC 9784000.0\n",
      "2019-06-08 03:30:00 long BTC 9784000.0  | unwind long BTC 9777000.0  | return: 0.9993\n",
      "2019-06-08 03:31:00 long BTC 9785000.0\n",
      "2019-06-08 04:15:00 long BTC 9785000.0  | unwind long BTC 9735000.0  | return: 0.9949\n",
      "2019-06-08 05:25:00 long BTC 9714000.0\n",
      "2019-06-08 05:53:00 long BTC 9714000.0  | unwind long BTC 9680000.0  | return: 0.9965\n",
      "2019-06-08 06:46:00 long BTC 9665000.0\n",
      "2019-06-08 08:37:00 long BTC 9665000.0  | unwind long BTC 9747000.0  | return: 1.0085\n",
      "2019-06-08 09:11:00 long BTC 9780000.0\n",
      "2019-06-08 10:06:00 long BTC 9780000.0  | unwind long BTC 9784000.0  | return: 1.0004\n",
      "2019-06-08 11:47:00 long BTC 9700000.0\n",
      "2019-06-08 12:20:00 long BTC 9700000.0  | unwind long BTC 9689000.0  | return: 0.9989\n",
      "2019-06-08 12:29:00 long BTC 9723000.0\n",
      "2019-06-08 13:01:00 long BTC 9723000.0  | unwind long BTC 9703000.0  | return: 0.9979\n",
      "2019-06-08 14:09:00 long BTC 9709000.0\n",
      "2019-06-08 15:01:00 long BTC 9709000.0  | unwind long BTC 9650000.0  | return: 0.9939\n",
      "2019-06-08 16:25:00 long BTC 9670000.0\n",
      "2019-06-08 17:01:00 long BTC 9670000.0  | unwind long BTC 9653000.0  | return: 0.9982\n",
      "2019-06-08 17:11:00 long BTC 9677000.0\n",
      "2019-06-08 17:21:00 long BTC 9677000.0  | unwind long BTC 9666000.0  | return: 0.9989\n",
      "2019-06-08 17:22:00 long BTC 9678000.0\n",
      "2019-06-08 17:23:00 long BTC 9678000.0  | unwind long BTC 9678000.0  | return: 1.0\n",
      "2019-06-08 17:26:00 long BTC 9677000.0\n",
      "2019-06-08 18:13:00 long BTC 9677000.0  | unwind long BTC 9691000.0  | return: 1.0014\n",
      "2019-06-08 18:47:00 long BTC 9698000.0\n",
      "Accunulated return : -0.3 %\n"
     ]
    }
   ],
   "source": [
    "fund_rtn = trd.returns(book, cd, display=True)\n",
    "# returns(트레이딩북, 종목코드) - 백테스팅 수익률 계산"
   ]
  },
  {
   "cell_type": "markdown",
   "metadata": {
    "slideshow": {
     "slide_type": "slide"
    }
   },
   "source": [
    "벤치마크 수익률 계산"
   ]
  },
  {
   "cell_type": "code",
   "execution_count": 18,
   "metadata": {},
   "outputs": [
    {
     "name": "stdout",
     "output_type": "stream",
     "text": [
      "BM return: 0.43 %\n",
      "{'BTC': 1.0043}\n"
     ]
    }
   ],
   "source": [
    "bm_rtn = trd.benchmark_return(book, [cd])\n",
    "# benchmark_return(트레이딩북, 종목코드) - 벤치마크 수익률(전략 미이용시) 계산"
   ]
  },
  {
   "cell_type": "code",
   "execution_count": 19,
   "metadata": {},
   "outputs": [
    {
     "name": "stdout",
     "output_type": "stream",
     "text": [
      "Excess return: -0.73 %\n"
     ]
    }
   ],
   "source": [
    "exs_rtn = trd.excess_return(fund_rtn, bm_rtn)\n",
    "# excess_return(전략수익률, 벤치마크수익률) - 전략의 벤치마크 대비 초과수익률 계산"
   ]
  }
 ],
 "metadata": {
  "celltoolbar": "Slideshow",
  "kernelspec": {
   "display_name": "Python 3",
   "language": "python",
   "name": "python3"
  },
  "language_info": {
   "codemirror_mode": {
    "name": "ipython",
    "version": 3
   },
   "file_extension": ".py",
   "mimetype": "text/x-python",
   "name": "python",
   "nbconvert_exporter": "python",
   "pygments_lexer": "ipython3",
   "version": "3.7.3"
  },
  "rise": {
   "scroll": true
  }
 },
 "nbformat": 4,
 "nbformat_minor": 2
}
