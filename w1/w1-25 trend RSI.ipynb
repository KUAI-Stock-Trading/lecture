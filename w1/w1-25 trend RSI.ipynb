{
 "cells": [
  {
   "cell_type": "code",
   "execution_count": null,
   "metadata": {
    "slideshow": {
     "slide_type": "slide"
    }
   },
   "outputs": [],
   "source": [
    "import pandas as pd\n",
    "import finterstellar as fs"
   ]
  },
  {
   "cell_type": "markdown",
   "metadata": {
    "slideshow": {
     "slide_type": "slide"
    }
   },
   "source": [
    "데이터 로딩"
   ]
  },
  {
   "cell_type": "code",
   "execution_count": null,
   "metadata": {},
   "outputs": [],
   "source": [
    "path = './data/'\n",
    "cd = 'KOSPI 200'\n",
    "#cd = 'S&P 500'"
   ]
  },
  {
   "cell_type": "code",
   "execution_count": null,
   "metadata": {},
   "outputs": [],
   "source": [
    "# define portfolio universe\n",
    "portfolio = {\n",
    "    'World indices' : ['KOSPI 200', 'S&P 500', 'Nikkei 225', 'CSI 300']\n",
    "}    # 포트폴리오를 딕셔너리 형태로 저장\n",
    "p_name = 'World indices'    # 포트폴리오 집합 중 분석대상 포트폴리오의 이름 입력\n",
    "p_cd = portfolio[p_name]    # 포트폴리오 내에서 처리대상 종목코드들을 지정"
   ]
  },
  {
   "cell_type": "code",
   "execution_count": null,
   "metadata": {
    "slideshow": {
     "slide_type": "slide"
    }
   },
   "outputs": [],
   "source": [
    "ld = fs.LoadData()     # 라이브러리를 ld로 지정"
   ]
  },
  {
   "cell_type": "code",
   "execution_count": null,
   "metadata": {
    "slideshow": {
     "slide_type": "slide"
    }
   },
   "outputs": [],
   "source": [
    "df = ld.read_master_file(path, p_name)    # ld 모듈의 read_master_file(폴더명, 포트폴리오명)을 이용해 데이터 로딩"
   ]
  },
  {
   "cell_type": "markdown",
   "metadata": {
    "slideshow": {
     "slide_type": "slide"
    }
   },
   "source": [
    "RSI 계산 준비"
   ]
  },
  {
   "cell_type": "code",
   "execution_count": null,
   "metadata": {
    "slideshow": {
     "slide_type": "-"
    }
   },
   "outputs": [],
   "source": [
    "base_date = '2018-01-02'    # 기준일자 설정"
   ]
  },
  {
   "cell_type": "code",
   "execution_count": null,
   "metadata": {},
   "outputs": [],
   "source": [
    "sample_df = pd.DataFrame()    # 빈 데이터프레임을 생성하고\n",
    "sample_df[cd] = df[cd].copy()    # 시세를 복사해 넣음\n",
    "sample_df = sample_df.dropna()     # na를 없애고\n",
    "sample_df['diff'] = sample_df[cd] - sample_df[cd].shift(1)    # 매일매일 전일과의 주가차이를 계산해서 'diff'라고 저장\n",
    "sample_df.head(3)"
   ]
  },
  {
   "cell_type": "raw",
   "metadata": {
    "slideshow": {
     "slide_type": "slide"
    }
   },
   "source": [
    "RSI 구하기 연습 (2018년1월2일부터 20일간 데이터로)\n",
    "d, ad, u, au 등 변수값 초기화\n",
    "for 20일간의 데이터를 읽어가며:\n",
    "    매일매일의 diff 값을 읽어서\n",
    "    if diff가 +라면: up으로 판단하고 au값에 더해주고\n",
    "    elif diff가 -라면: duwm으로 판단하고 ad값에 절대값을 취해 더해준다"
   ]
  },
  {
   "cell_type": "code",
   "execution_count": null,
   "metadata": {
    "slideshow": {
     "slide_type": "-"
    }
   },
   "outputs": [],
   "source": [
    "d, ad, u, au = 0, 0., 0, 0.   # down, accumulated down, up, accumulated up\n",
    "for i in range(20):    # 기간을 range(일자수) 로 잡아주고 i라는 변수로 순환\n",
    "    diff = sample_df.shift(i).loc['2018-11-05', 'diff']   # i일 전의 diff값을 읽어옴\n",
    "    if diff >= 0:\n",
    "        u += 1\n",
    "        au += diff\n",
    "    elif diff < 0:\n",
    "        d += 1\n",
    "        ad -= diff\n",
    "print(u, au, d, ad)"
   ]
  },
  {
   "cell_type": "raw",
   "metadata": {},
   "source": [
    "RSI 값은 au / (au + ad) * 100 이므로"
   ]
  },
  {
   "cell_type": "code",
   "execution_count": null,
   "metadata": {
    "slideshow": {
     "slide_type": "-"
    }
   },
   "outputs": [],
   "source": [
    "rsi = au / (au + ad) * 100\n",
    "rsi"
   ]
  },
  {
   "cell_type": "markdown",
   "metadata": {
    "slideshow": {
     "slide_type": "slide"
    }
   },
   "source": [
    "위에서 연습한 내용을 함수로 작성하면"
   ]
  },
  {
   "cell_type": "code",
   "execution_count": null,
   "metadata": {
    "slideshow": {
     "slide_type": "-"
    }
   },
   "outputs": [],
   "source": [
    "def rsi(period):\n",
    "    for p in sample_df.iloc[period:].index:\n",
    "        d, ad, u, au = 0, 0., 0, 0.    # down, accumulated down, up, accumulated up\n",
    "        for i in range(period):    # 기간을 range(일자수) 로 잡아주고 i라는 변수로 순환\n",
    "            diff = sample_df.shift(i).loc[p, 'diff']    # i일 전의 diff값을 읽어옴\n",
    "            if diff >= 0:    # diff가 +이면\n",
    "                u += 1    # up 개수 추가\n",
    "                au += diff    # up 누적값 추가\n",
    "            elif diff < 0:   # diff가 -이면\n",
    "                d += 1    # down 개수 추가\n",
    "                ad -= diff    # down 누적값 추가\n",
    "        if (au+ad) != 0:\n",
    "            rsi = au / (au + ad) * 100    # RSI 계산\n",
    "        else:\n",
    "            rsi = 50\n",
    "        \n",
    "        sample_df.loc[p, 'RSI'+str(period)] = rsi    # 데이터프레임에 RSI(일자) 값 추가"
   ]
  },
  {
   "cell_type": "code",
   "execution_count": null,
   "metadata": {
    "slideshow": {
     "slide_type": "slide"
    }
   },
   "outputs": [],
   "source": [
    "rsi(5)"
   ]
  },
  {
   "cell_type": "code",
   "execution_count": null,
   "metadata": {},
   "outputs": [],
   "source": [
    "sample_df.tail()"
   ]
  },
  {
   "cell_type": "code",
   "execution_count": null,
   "metadata": {
    "slideshow": {
     "slide_type": "slide"
    }
   },
   "outputs": [],
   "source": [
    "v = fs.Visualize()      # fs 라이브러리의 Visualize() 모듈을 불러와 v로 지정"
   ]
  },
  {
   "cell_type": "code",
   "execution_count": null,
   "metadata": {
    "slideshow": {
     "slide_type": "-"
    }
   },
   "outputs": [],
   "source": [
    "v.multi_line_view(sample_df, base_date, [cd], ['RSI5'], (15,3))\n",
    "# multi_line_view(데이터프레임, 기준일자, [비교대상1(복수종목)], [비교대상2(복수종목)],(챠트사이즈)) \n",
    "# 비교대상1에 굵게 표시할 종목을 입력"
   ]
  },
  {
   "cell_type": "code",
   "execution_count": null,
   "metadata": {
    "slideshow": {
     "slide_type": "slide"
    }
   },
   "outputs": [],
   "source": [
    "# RSI(20) 값을 계산해 데이터프레임에 추가\n",
    "rsi(20)"
   ]
  },
  {
   "cell_type": "code",
   "execution_count": null,
   "metadata": {},
   "outputs": [],
   "source": [
    "sample_df.tail()"
   ]
  },
  {
   "cell_type": "code",
   "execution_count": null,
   "metadata": {
    "slideshow": {
     "slide_type": "slide"
    }
   },
   "outputs": [],
   "source": [
    "v.multi_line_view(sample_df, base_date, [cd], ['RSI20'], (15,3))\n",
    "# multi_line_view(데이터프레임, 기준일자, [비교대상1(복수종목)], [비교대상2(복수종목)],(챠트사이즈)) \n",
    "# 비교대상1에 굵게 표시할 종목을 입력"
   ]
  },
  {
   "cell_type": "markdown",
   "metadata": {
    "slideshow": {
     "slide_type": "slide"
    }
   },
   "source": [
    "최근일자에 가중치를 주는 WRSI 계산 함수"
   ]
  },
  {
   "cell_type": "code",
   "execution_count": null,
   "metadata": {
    "slideshow": {
     "slide_type": "-"
    }
   },
   "outputs": [],
   "source": [
    "def wrsi(period):\n",
    "    for p in sample_df.iloc[period:].index:\n",
    "        d, ad, u, au, multiple = 0, 0., 0, 0., 0.   # down, accumulated down, up, accumulated up\n",
    "        for i in range(period):    # 기간을 range(일자수) 로 잡아주고 i라는 변수로 순환\n",
    "            multiple = (period - i) / period   # 최근일자에 가중치\n",
    "            diff = sample_df.shift(i).loc[p, 'diff']    # i일 전의 diff값을 읽어옴\n",
    "            if diff >= 0:\n",
    "                u += 1\n",
    "                au += diff * multiple    # up 누적값에 multiple을 곱해서 더해줌\n",
    "            elif diff < 0:\n",
    "                d += 1\n",
    "                ad -= diff * multiple    # down 누적값에 multiple을 곱해서 더해줌\n",
    "        rsi = au / (au + ad) * 100\n",
    "        \n",
    "        sample_df.loc[p, 'WRSI'+str(period)] = rsi   # 데이터프레임에 WRSI(일자) 값 추가"
   ]
  },
  {
   "cell_type": "markdown",
   "metadata": {
    "slideshow": {
     "slide_type": "slide"
    }
   },
   "source": [
    "WRSI 추세가 꺾였는지 확인하기 위한 추가 factor"
   ]
  },
  {
   "cell_type": "code",
   "execution_count": null,
   "metadata": {
    "slideshow": {
     "slide_type": "-"
    }
   },
   "outputs": [],
   "source": [
    "def wris_diff(wris):\n",
    "    sample_df['wris_diff'] = sample_df[wris] - sample_df[wris].shift(1)"
   ]
  },
  {
   "cell_type": "code",
   "execution_count": null,
   "metadata": {
    "slideshow": {
     "slide_type": "slide"
    }
   },
   "outputs": [],
   "source": [
    "# WRSI(20) 값을 계산해 데이터프레임에 추가\n",
    "wrsi(20)"
   ]
  },
  {
   "cell_type": "code",
   "execution_count": null,
   "metadata": {},
   "outputs": [],
   "source": [
    "sample_df.tail()"
   ]
  },
  {
   "cell_type": "code",
   "execution_count": null,
   "metadata": {
    "slideshow": {
     "slide_type": "slide"
    }
   },
   "outputs": [],
   "source": [
    "# WRSI 추세가 꺾인지 판단하는 wrsi_diff 지표 추가\n",
    "sample_df['wris_diff'] = sample_df['WRSI20'] - sample_df['WRSI20'].shift(1)"
   ]
  },
  {
   "cell_type": "code",
   "execution_count": null,
   "metadata": {},
   "outputs": [],
   "source": [
    "sample_df.tail()"
   ]
  },
  {
   "cell_type": "code",
   "execution_count": null,
   "metadata": {
    "slideshow": {
     "slide_type": "slide"
    }
   },
   "outputs": [],
   "source": [
    "v.multi_line_view(sample_df, base_date, [cd], ['WRSI20'], (15,3))\n",
    "# multi_line_view(데이터프레임, 기준일자, [비교대상1(복수종목)], [비교대상2(복수종목)],(챠트사이즈)) \n",
    "# 비교대상1에 굵게 표시할 종목을 입력"
   ]
  },
  {
   "cell_type": "code",
   "execution_count": null,
   "metadata": {
    "scrolled": true,
    "slideshow": {
     "slide_type": "-"
    }
   },
   "outputs": [],
   "source": [
    "v.multi_line_view(sample_df, base_date, [cd], ['RSI20'], (15,3))"
   ]
  },
  {
   "cell_type": "code",
   "execution_count": null,
   "metadata": {},
   "outputs": [],
   "source": []
  },
  {
   "cell_type": "code",
   "execution_count": null,
   "metadata": {},
   "outputs": [],
   "source": []
  },
  {
   "cell_type": "code",
   "execution_count": null,
   "metadata": {},
   "outputs": [],
   "source": []
  },
  {
   "cell_type": "markdown",
   "metadata": {
    "slideshow": {
     "slide_type": "slide"
    }
   },
   "source": [
    "# RSI or WRSI 를 이용해 트레이딩을 한다면?\n",
    "백테스팅을 해봅시다"
   ]
  },
  {
   "cell_type": "code",
   "execution_count": null,
   "metadata": {
    "slideshow": {
     "slide_type": "-"
    }
   },
   "outputs": [],
   "source": [
    "# trend_tradings(데이터프레임, 트레이딩북, 종목코드, 요인1(f1), 지표1(c1), 요인2, 지표2) 함수 정의\n",
    "def trend_tradings(sample, book, cd, f1, c1, f2, c2):   \n",
    "    for i in sample.index:   # 데이터프레임을 하나씩 읽어가며\n",
    "        if sample.loc[i, f1] >= c1:   # 요인1(f1) 값이 지표1(c1)보다 크면\n",
    "            book.loc[i, 't '+cd] = 'buy'    # buy\n",
    "            if sample.loc[i, f2] < c2:    # 요인2(f2) 값이 지표2(c2)보다 작으면\n",
    "                book.loc[i, 't '+cd] = ''    # clear(잔고청산)\n",
    "        else:    # 위 판단지표에 해당하지 않으면\n",
    "            book.loc[i, 't '+cd] = ''    # clear\n",
    "    return (book) "
   ]
  },
  {
   "cell_type": "code",
   "execution_count": null,
   "metadata": {
    "slideshow": {
     "slide_type": "slide"
    }
   },
   "outputs": [],
   "source": [
    "sample_df = sample_df.loc[base_date:]    # 기준일자 이후 값으로만 데이터프레임을 채움 (속도를 위해)"
   ]
  },
  {
   "cell_type": "code",
   "execution_count": null,
   "metadata": {
    "slideshow": {
     "slide_type": "-"
    }
   },
   "outputs": [],
   "source": [
    "trd = fs.Trade()   # fs 라이브러리의 Trade() 모듈을 불러와 trd로 지정\n",
    "\n",
    "base_date = trd.check_base_date(sample_df, base_date)   \n",
    "# check_base_date(데이터프레임, 기준일자) - 지정한 기준일자 데이터가 유효한지 검증\n",
    "base_date"
   ]
  },
  {
   "cell_type": "code",
   "execution_count": null,
   "metadata": {
    "slideshow": {
     "slide_type": "slide"
    }
   },
   "outputs": [],
   "source": [
    "book = trd.create_trade_book(sample_df, [cd])\n",
    "# create_trade_book(데이터프레임, [종목코드]) - 트레이딩북 생성"
   ]
  },
  {
   "cell_type": "code",
   "execution_count": null,
   "metadata": {},
   "outputs": [],
   "source": [
    "book = trend_tradings(sample_df, book, cd, 'WRSI20', 70, 'wris_diff', 0)\n",
    "# WRSI20 >= 70 이면 buy, wrsi_diff < 0 이면 clear"
   ]
  },
  {
   "cell_type": "code",
   "execution_count": null,
   "metadata": {
    "scrolled": true,
    "slideshow": {
     "slide_type": "slide"
    }
   },
   "outputs": [],
   "source": [
    "book = trd.position(book, [cd])\n",
    "# position(트레이딩북, 종목코드) - 매매전략에 따른 포지션을 판단해 트레이딩북에 기록\n",
    "book"
   ]
  },
  {
   "cell_type": "code",
   "execution_count": null,
   "metadata": {
    "slideshow": {
     "slide_type": "slide"
    }
   },
   "outputs": [],
   "source": [
    "fund_rtn = trd.returns(book, [cd])\n",
    "# returns(트레이딩북, 종목코드) - 백테스팅 수익률 계산"
   ]
  },
  {
   "cell_type": "code",
   "execution_count": null,
   "metadata": {
    "slideshow": {
     "slide_type": "slide"
    }
   },
   "outputs": [],
   "source": [
    "bm_rtn = trd.benchmark_return(book, [cd])\n",
    "# benchmark_return(트레이딩북, 종목코드) - 벤치마크 수익률(전략 미이용시) 계산"
   ]
  },
  {
   "cell_type": "code",
   "execution_count": null,
   "metadata": {},
   "outputs": [],
   "source": [
    "exs_rtn = trd.excess_return(fund_rtn, bm_rtn)\n",
    "# excess_return(전략수익률, 벤치마크수익률) - 전략의 벤치마크 대비 초과수익률 계산"
   ]
  },
  {
   "cell_type": "code",
   "execution_count": null,
   "metadata": {},
   "outputs": [],
   "source": []
  },
  {
   "cell_type": "code",
   "execution_count": null,
   "metadata": {
    "slideshow": {
     "slide_type": "slide"
    }
   },
   "outputs": [],
   "source": [
    "book = trend_tradings(sample_df, book, cd, 'RSI20', 60, 'diff', 0)"
   ]
  },
  {
   "cell_type": "code",
   "execution_count": null,
   "metadata": {
    "slideshow": {
     "slide_type": "-"
    }
   },
   "outputs": [],
   "source": [
    "book = trd.position(book, [cd])\n",
    "fund_rtn = trd.returns(book, [cd])"
   ]
  },
  {
   "cell_type": "code",
   "execution_count": null,
   "metadata": {
    "slideshow": {
     "slide_type": "-"
    }
   },
   "outputs": [],
   "source": [
    "exs_rtn = trd.excess_return(fund_rtn, bm_rtn)"
   ]
  }
 ],
 "metadata": {
  "celltoolbar": "Slideshow",
  "kernelspec": {
   "display_name": "Python 3",
   "language": "python",
   "name": "python3"
  },
  "language_info": {
   "codemirror_mode": {
    "name": "ipython",
    "version": 3
   },
   "file_extension": ".py",
   "mimetype": "text/x-python",
   "name": "python",
   "nbconvert_exporter": "python",
   "pygments_lexer": "ipython3",
   "version": "3.7.3"
  },
  "rise": {
   "scroll": true
  }
 },
 "nbformat": 4,
 "nbformat_minor": 2
}
