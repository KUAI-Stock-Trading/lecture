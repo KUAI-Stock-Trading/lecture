{
 "cells": [
  {
   "cell_type": "markdown",
   "metadata": {
    "slideshow": {
     "slide_type": "slide"
    }
   },
   "source": [
    "pandas 라이브러리 호출"
   ]
  },
  {
   "cell_type": "code",
   "execution_count": null,
   "metadata": {
    "slideshow": {
     "slide_type": "-"
    }
   },
   "outputs": [],
   "source": [
    "import pandas as pd     # pandas 라이브러리를 pd 이름으로 호출"
   ]
  },
  {
   "cell_type": "code",
   "execution_count": null,
   "metadata": {},
   "outputs": [],
   "source": [
    "dates = ['2019/01/01', '2019/01/02', '2019/01/03', '2019/01/04']"
   ]
  },
  {
   "cell_type": "code",
   "execution_count": null,
   "metadata": {
    "slideshow": {
     "slide_type": "-"
    }
   },
   "outputs": [],
   "source": [
    "prices = {'A전자' : ['1,000', '1,010', '1,020', '1,030'],\n",
    "          'B화학' : [2000, 2010, 2020, 2030],\n",
    "          'C금융' : ['3,000', '3,010', '3,020', '3,030']}\n",
    "df = pd.DataFrame(prices, index=dates)\n",
    "df"
   ]
  },
  {
   "cell_type": "markdown",
   "metadata": {
    "slideshow": {
     "slide_type": "slide"
    }
   },
   "source": [
    "# 날짜 다루기"
   ]
  },
  {
   "cell_type": "code",
   "execution_count": null,
   "metadata": {
    "slideshow": {
     "slide_type": "-"
    }
   },
   "outputs": [],
   "source": [
    "# 날짜 컬럼 읽어보기 (인덱스 컬럼)\n",
    "df.index"
   ]
  },
  {
   "cell_type": "code",
   "execution_count": null,
   "metadata": {},
   "outputs": [],
   "source": [
    "# 날짜 형식이 아닌 인덱스 컬럼을 날짜 형식으로 바꿔준다\n",
    "pd.to_datetime(df.index)"
   ]
  },
  {
   "cell_type": "code",
   "execution_count": null,
   "metadata": {},
   "outputs": [],
   "source": [
    "# 날짜 형식으로 바꿔서 다시 인덱스 컬럼에 저장한다\n",
    "df.index = pd.to_datetime(df.index)\n",
    "df"
   ]
  },
  {
   "cell_type": "markdown",
   "metadata": {
    "slideshow": {
     "slide_type": "slide"
    }
   },
   "source": [
    "# 시세 다루기"
   ]
  },
  {
   "cell_type": "code",
   "execution_count": null,
   "metadata": {},
   "outputs": [],
   "source": [
    "# A전자의 데이터 형태 확인\n",
    "df.loc[:, 'A전자']"
   ]
  },
  {
   "cell_type": "code",
   "execution_count": null,
   "metadata": {},
   "outputs": [],
   "source": [
    "# B화학의 데이터 형태 확인\n",
    "df.loc[:, 'B화학']"
   ]
  },
  {
   "cell_type": "code",
   "execution_count": null,
   "metadata": {
    "slideshow": {
     "slide_type": "slide"
    }
   },
   "outputs": [],
   "source": [
    "# A전자도 B화학처럼 숫자형태로 바꿔주자\n",
    "for i in df.index:    # 날짜별로 한줄씩 순환하며 \n",
    "    p = df.loc[i, 'A전자']    # A전자의 주가를 읽어들여\n",
    "    p = p.replace(',', '')    # 특수문자(,)를 제거하고\n",
    "    df.loc[i, 'A전자'] = int(p)    # 정수(int) 형태로 형변환을 해서 주가테이블에 다시 저장\n",
    "df"
   ]
  },
  {
   "cell_type": "code",
   "execution_count": null,
   "metadata": {},
   "outputs": [],
   "source": [
    "# A전자의 데이터 형태 확인\n",
    "df.loc[:, 'A전자']"
   ]
  },
  {
   "cell_type": "code",
   "execution_count": null,
   "metadata": {
    "slideshow": {
     "slide_type": "slide"
    }
   },
   "outputs": [],
   "source": [
    "def price_formatting(df, c):\n",
    "    for i in df.index:\n",
    "        p = df.loc[i, c]\n",
    "        try:    # 1. 에러가 안나는 경우 task\n",
    "            p = p.replace(',', '')\n",
    "        except:    # 2. 에러가 나는 경우 task\n",
    "            pass\n",
    "        df.loc[i, c] = int(p)\n",
    "    return (df)\n",
    "'''\n",
    "    에러가 날 경우를 대비해서 \n",
    "    try: \n",
    "        ~ (에러가 안나는 경우)\n",
    "    except: \n",
    "        ~ (에러가 나는 경우)\n",
    "    구문 사용\n",
    "'''"
   ]
  },
  {
   "cell_type": "code",
   "execution_count": null,
   "metadata": {},
   "outputs": [],
   "source": [
    "price_formatting(df, 'A전자')"
   ]
  },
  {
   "cell_type": "code",
   "execution_count": null,
   "metadata": {},
   "outputs": [],
   "source": [
    "price_formatting(df, 'C금융')"
   ]
  }
 ],
 "metadata": {
  "celltoolbar": "Slideshow",
  "kernelspec": {
   "display_name": "Python 3",
   "language": "python",
   "name": "python3"
  },
  "language_info": {
   "codemirror_mode": {
    "name": "ipython",
    "version": 3
   },
   "file_extension": ".py",
   "mimetype": "text/x-python",
   "name": "python",
   "nbconvert_exporter": "python",
   "pygments_lexer": "ipython3",
   "version": "3.7.3"
  },
  "rise": {
   "scroll": true
  }
 },
 "nbformat": 4,
 "nbformat_minor": 2
}
