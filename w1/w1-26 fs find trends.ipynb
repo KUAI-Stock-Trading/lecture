{
 "cells": [
  {
   "cell_type": "code",
   "execution_count": null,
   "metadata": {
    "slideshow": {
     "slide_type": "slide"
    }
   },
   "outputs": [],
   "source": [
    "import finterstellar as fs\n",
    "import pandas as pd"
   ]
  },
  {
   "cell_type": "code",
   "execution_count": null,
   "metadata": {},
   "outputs": [],
   "source": [
    "coin = fs.CoinPrice()"
   ]
  },
  {
   "cell_type": "code",
   "execution_count": null,
   "metadata": {
    "slideshow": {
     "slide_type": "-"
    }
   },
   "outputs": [],
   "source": [
    "cd = 'BTC'"
   ]
  },
  {
   "cell_type": "code",
   "execution_count": null,
   "metadata": {},
   "outputs": [],
   "source": [
    "df = coin.bithumb_historical_price(cd)\n",
    "df.head()"
   ]
  },
  {
   "cell_type": "code",
   "execution_count": null,
   "metadata": {
    "slideshow": {
     "slide_type": "slide"
    }
   },
   "outputs": [],
   "source": [
    "p_df = pd.DataFrame()\n",
    "p_df[cd] = df['close']"
   ]
  },
  {
   "cell_type": "code",
   "execution_count": null,
   "metadata": {},
   "outputs": [],
   "source": [
    "base_date = df.index[0]    # 기준점 설정"
   ]
  },
  {
   "cell_type": "code",
   "execution_count": null,
   "metadata": {
    "slideshow": {
     "slide_type": "slide"
    }
   },
   "outputs": [],
   "source": [
    "trend = fs.Trend()    # fs 라이브러리의 Trend() 모듈을 불러와 trend에 저장"
   ]
  },
  {
   "cell_type": "code",
   "execution_count": null,
   "metadata": {},
   "outputs": [],
   "source": [
    "ma = trend.MA(p_df, cd, 20, 5)    # trend 모듈의 MA(데이터프레임, 종목코드, 중기평균일, 단기평균일, 기준일)을 이용해 추세 분석\n",
    "ma.tail()"
   ]
  },
  {
   "cell_type": "code",
   "execution_count": null,
   "metadata": {
    "slideshow": {
     "slide_type": "slide"
    }
   },
   "outputs": [],
   "source": [
    "v = fs.VisualizeIntraday()      # fs 라이브러리의 Visualize() 모듈을 불러와 v로 지정"
   ]
  },
  {
   "cell_type": "code",
   "execution_count": null,
   "metadata": {},
   "outputs": [],
   "source": [
    "v.price_view(ma, base_date, ['MA long', 'MA short'], size=(15, 2))   \n",
    "# v 모듈의 price_view(데이터프레임, 기준일자, [비교대상(복수종목)], (챠트사이즈)) 함수를 이용해 그래프 그리기"
   ]
  },
  {
   "cell_type": "code",
   "execution_count": null,
   "metadata": {
    "slideshow": {
     "slide_type": "slide"
    }
   },
   "outputs": [],
   "source": [
    "rsi = trend.RSI(p_df, cd, period=5)    # trend 모듈의 RSI(데이터프레임, 종목코드, 분석기간, 기준일자) 함수를 이용해 rsi값 계산\n",
    "rsi.tail()"
   ]
  },
  {
   "cell_type": "code",
   "execution_count": null,
   "metadata": {
    "slideshow": {
     "slide_type": "slide"
    }
   },
   "outputs": [],
   "source": [
    "v.multi_line_view(rsi, base_date, cd, 'RSI', size=(15, 3))\n",
    "# v 모듈의 multi_line_view(데이터프레임, 기준일자, [비교대상(복수종목)], [비교대상(복수종목)],(챠트사이즈)) 함수를 이용해 그래프 그리기"
   ]
  },
  {
   "cell_type": "code",
   "execution_count": null,
   "metadata": {
    "slideshow": {
     "slide_type": "slide"
    }
   },
   "outputs": [],
   "source": [
    "wrsi = trend.WRSI(p_df, cd, 20)     \n",
    "# trend 모듈의 WRSI(데이터프레임, 종목코드, 분석기간, 기준일자) 함수를 이용해 wrsi값 계산\n",
    "wrsi.tail()"
   ]
  },
  {
   "cell_type": "code",
   "execution_count": null,
   "metadata": {
    "slideshow": {
     "slide_type": "slide"
    }
   },
   "outputs": [],
   "source": [
    "v.multi_line_view(wrsi, base_date, cd, 'WRSI', size=(15, 3))\n",
    "# v 모듈의 multi_line_view(데이터프레임, 기준일자, [비교대상(복수종목)], [비교대상(복수종목)],(챠트사이즈)) 함수를 이용해 그래프 그리기"
   ]
  },
  {
   "cell_type": "code",
   "execution_count": null,
   "metadata": {},
   "outputs": [],
   "source": []
  }
 ],
 "metadata": {
  "celltoolbar": "Slideshow",
  "kernelspec": {
   "display_name": "Python 3",
   "language": "python",
   "name": "python3"
  },
  "language_info": {
   "codemirror_mode": {
    "name": "ipython",
    "version": 3
   },
   "file_extension": ".py",
   "mimetype": "text/x-python",
   "name": "python",
   "nbconvert_exporter": "python",
   "pygments_lexer": "ipython3",
   "version": "3.7.3"
  },
  "rise": {
   "scroll": true
  }
 },
 "nbformat": 4,
 "nbformat_minor": 2
}
