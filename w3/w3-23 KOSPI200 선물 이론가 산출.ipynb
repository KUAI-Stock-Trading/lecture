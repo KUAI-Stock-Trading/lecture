{
 "cells": [
  {
   "cell_type": "code",
   "execution_count": null,
   "metadata": {
    "slideshow": {
     "slide_type": "slide"
    }
   },
   "outputs": [],
   "source": [
    "import pandas as pd\n",
    "import numpy as np   # 수학계산용 라이브러리"
   ]
  },
  {
   "cell_type": "code",
   "execution_count": null,
   "metadata": {},
   "outputs": [],
   "source": [
    "df = pd.read_excel('./data/KOSPI200 F 201712.xlsx', 'Sheet1', index_col='일자')\n",
    "df.head()"
   ]
  },
  {
   "cell_type": "code",
   "execution_count": null,
   "metadata": {},
   "outputs": [],
   "source": [
    "type(df.index)\n",
    "# 인덱스가 날짜타입으로 되어있는지 확인 -> 날짜타입이 아니므로 변환 필요"
   ]
  },
  {
   "cell_type": "code",
   "execution_count": null,
   "metadata": {},
   "outputs": [],
   "source": [
    "df.index = pd.to_datetime(df.index)\n",
    "# 인덱스를 날짜타입으로 변환"
   ]
  },
  {
   "cell_type": "code",
   "execution_count": null,
   "metadata": {},
   "outputs": [],
   "source": [
    "type(df.index)\n",
    "# 인덱스가 날짜타입으로 되어있는지 확인 -> OK"
   ]
  },
  {
   "cell_type": "code",
   "execution_count": null,
   "metadata": {
    "slideshow": {
     "slide_type": "slide"
    }
   },
   "outputs": [],
   "source": [
    "def futures_price (S, r, d, T, t0):   # (기초자산가격, 이자율, 배당률, 만기일, 오늘날짜)\n",
    "    t = np.busday_count(t0.date(), T.date()) / 252   # 잔존만기 = (오늘-만기일)/252일\n",
    "    F = S * np.exp((r-d)*t)    # 선물 이론가 공식\n",
    "    return F"
   ]
  },
  {
   "cell_type": "code",
   "execution_count": null,
   "metadata": {
    "scrolled": true
   },
   "outputs": [],
   "source": [
    "T = pd.to_datetime('2017-12-14')     # 최종거래일(만기일)\n",
    "r = 0.0225     # 이자율\n",
    "d = 0.010     # 배당률\n",
    "for n in (df.index):\n",
    "    t0 = n    # 오늘날짜 = 인덱스에서 받아온 값\n",
    "    S = df.loc[n, '지수']    # 기초자산 가격 = 읽어온 지수\n",
    "    F = futures_price(S, r, d, T, t0)   # futures_price() 함수 호출\n",
    "    f = '{:,.2f}'.format(F)    # 구한 값을 소수점 둘째자리 반올림\n",
    "    df.loc[n, '이론가1'] = f     # 계산 결과를 이론가1 컬럼에 저장"
   ]
  },
  {
   "cell_type": "code",
   "execution_count": null,
   "metadata": {},
   "outputs": [],
   "source": [
    "df.head()"
   ]
  },
  {
   "cell_type": "code",
   "execution_count": null,
   "metadata": {
    "slideshow": {
     "slide_type": "slide"
    }
   },
   "outputs": [],
   "source": [
    "def futures_price_simple (S, r, d, T, t0):\n",
    "    t = (T - t0).days / 365     # 잔존만기 = (오늘-만기일)/365일\n",
    "    F = S * (1 + (r-d) * t)     # 간단공식(단리계산)\n",
    "    return F"
   ]
  },
  {
   "cell_type": "code",
   "execution_count": null,
   "metadata": {
    "slideshow": {
     "slide_type": "slide"
    }
   },
   "outputs": [],
   "source": [
    "T = pd.to_datetime('2017-12-14')     # 최종거래일\n",
    "r = 0.0225     # 이자율\n",
    "d = 0.010     # 배당률\n",
    "for n in (df.index):\n",
    "    t0 = n     \n",
    "    S = df.loc[n, '지수']\n",
    "    F = futures_price_simple (S, r, d, T, t0)\n",
    "    f = '{:,.2f}'.format(F)\n",
    "    df.loc[n, '이론가2'] = f"
   ]
  },
  {
   "cell_type": "code",
   "execution_count": null,
   "metadata": {
    "scrolled": true
   },
   "outputs": [],
   "source": [
    "df"
   ]
  },
  {
   "cell_type": "code",
   "execution_count": null,
   "metadata": {},
   "outputs": [],
   "source": []
  }
 ],
 "metadata": {
  "celltoolbar": "Slideshow",
  "kernelspec": {
   "display_name": "Python 3",
   "language": "python",
   "name": "python3"
  },
  "language_info": {
   "codemirror_mode": {
    "name": "ipython",
    "version": 3
   },
   "file_extension": ".py",
   "mimetype": "text/x-python",
   "name": "python",
   "nbconvert_exporter": "python",
   "pygments_lexer": "ipython3",
   "version": "3.7.3"
  },
  "rise": {
   "scroll": true
  }
 },
 "nbformat": 4,
 "nbformat_minor": 2
}
