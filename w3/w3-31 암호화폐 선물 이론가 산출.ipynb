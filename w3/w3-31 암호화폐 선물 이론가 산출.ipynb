{
 "cells": [
  {
   "cell_type": "code",
   "execution_count": 2,
   "metadata": {
    "slideshow": {
     "slide_type": "slide"
    }
   },
   "outputs": [],
   "source": [
    "import finterstellar as fs\n",
    "import pandas as pd\n",
    "import numpy as np   # 수학계산용 라이브러리"
   ]
  },
  {
   "cell_type": "code",
   "execution_count": 3,
   "metadata": {},
   "outputs": [],
   "source": [
    "coin = fs.CoinPrice()"
   ]
  },
  {
   "cell_type": "code",
   "execution_count": 4,
   "metadata": {},
   "outputs": [],
   "source": [
    "p_cd = ['BTC', 'ETH', 'XRP', 'BCH']"
   ]
  },
  {
   "cell_type": "code",
   "execution_count": 5,
   "metadata": {},
   "outputs": [
    {
     "data": {
      "text/plain": [
       "('2019-04-28 16:42:35', 6143000.0, 6136000.0, 6143000.0)"
      ]
     },
     "execution_count": 5,
     "metadata": {},
     "output_type": "execute_result"
    }
   ],
   "source": [
    "coin.bithumb_current_price('BTC')"
   ]
  },
  {
   "cell_type": "code",
   "execution_count": 6,
   "metadata": {
    "slideshow": {
     "slide_type": "slide"
    }
   },
   "outputs": [],
   "source": [
    "def futures_price (S, r, d, T, t0):   # (기초자산가격, 이자율, 배당률, 만기일, 오늘날짜)\n",
    "    t = np.busday_count(t0.date(), T.date()) / 252   # 잔존만기 = (오늘-만기일)/252일\n",
    "    F = S * np.exp((r-d)*t)    # 선물 이론가 공식\n",
    "    return F"
   ]
  },
  {
   "cell_type": "code",
   "execution_count": 7,
   "metadata": {},
   "outputs": [],
   "source": [
    "T = pd.to_datetime('2019-05-03')     # 최종거래일(만기일)\n",
    "r = 0.0225     # 이자율\n",
    "d = 0.010     # 배당률"
   ]
  },
  {
   "cell_type": "code",
   "execution_count": 8,
   "metadata": {},
   "outputs": [
    {
     "name": "stdout",
     "output_type": "stream",
     "text": [
      "2019-04-28 16:42:41  | 기초자산 가격: 6,143,000.00  | 선물 가격: 6,144,218.97\n"
     ]
    }
   ],
   "source": [
    "cp = coin.bithumb_current_price('BTC')\n",
    "t0 = pd.to_datetime(cp[0])    # 오늘날짜 = 인덱스에서 받아온 값\n",
    "S = cp[1]    # 기초자산 가격 = 읽어온 지수\n",
    "F = futures_price(S, r, d, T, t0)   # futures_price() 함수 호출\n",
    "S = '{:,.2f}'.format(S)    # 구한 값을 소수점 둘째자리 반올림\n",
    "f = '{:,.2f}'.format(F)    # 구한 값을 소수점 둘째자리 반올림\n",
    "print(t0, ' | 기초자산 가격:', S, ' | 선물 가격:', f)"
   ]
  },
  {
   "cell_type": "code",
   "execution_count": 9,
   "metadata": {
    "slideshow": {
     "slide_type": "slide"
    }
   },
   "outputs": [],
   "source": [
    "import time"
   ]
  },
  {
   "cell_type": "code",
   "execution_count": 10,
   "metadata": {
    "scrolled": true
   },
   "outputs": [
    {
     "name": "stdout",
     "output_type": "stream",
     "text": [
      "2019-04-28 16:42:48  | 기초자산 가격: 6,143,000.00  | 선물 가격: 6,144,218.97\n",
      "2019-04-28 16:42:58  | 기초자산 가격: 6,143,000.00  | 선물 가격: 6,144,218.97\n",
      "2019-04-28 16:43:08  | 기초자산 가격: 6,143,000.00  | 선물 가격: 6,144,218.97\n",
      "2019-04-28 16:43:18  | 기초자산 가격: 6,143,000.00  | 선물 가격: 6,144,218.97\n",
      "2019-04-28 16:43:28  | 기초자산 가격: 6,138,000.00  | 선물 가격: 6,139,217.98\n",
      "2019-04-28 16:43:38  | 기초자산 가격: 6,138,000.00  | 선물 가격: 6,139,217.98\n",
      "2019-04-28 16:43:48  | 기초자산 가격: 6,138,000.00  | 선물 가격: 6,139,217.98\n",
      "2019-04-28 16:43:58  | 기초자산 가격: 6,138,000.00  | 선물 가격: 6,139,217.98\n"
     ]
    },
    {
     "ename": "KeyboardInterrupt",
     "evalue": "",
     "output_type": "error",
     "traceback": [
      "\u001b[1;31m---------------------------------------------------------------------------\u001b[0m",
      "\u001b[1;31mKeyboardInterrupt\u001b[0m                         Traceback (most recent call last)",
      "\u001b[1;32m<ipython-input-10-6a1e1ee09eb6>\u001b[0m in \u001b[0;36m<module>\u001b[1;34m\u001b[0m\n\u001b[0;32m     11\u001b[0m     \u001b[0mprint\u001b[0m\u001b[1;33m(\u001b[0m\u001b[0mt0\u001b[0m\u001b[1;33m,\u001b[0m \u001b[1;34m' | 기초자산 가격:'\u001b[0m\u001b[1;33m,\u001b[0m \u001b[0mS\u001b[0m\u001b[1;33m,\u001b[0m \u001b[1;34m' | 선물 가격:'\u001b[0m\u001b[1;33m,\u001b[0m \u001b[0mf\u001b[0m\u001b[1;33m)\u001b[0m\u001b[1;33m\u001b[0m\u001b[1;33m\u001b[0m\u001b[0m\n\u001b[0;32m     12\u001b[0m \u001b[1;33m\u001b[0m\u001b[0m\n\u001b[1;32m---> 13\u001b[1;33m     \u001b[0mtime\u001b[0m\u001b[1;33m.\u001b[0m\u001b[0msleep\u001b[0m\u001b[1;33m(\u001b[0m\u001b[1;36m10\u001b[0m\u001b[1;33m)\u001b[0m\u001b[1;33m\u001b[0m\u001b[1;33m\u001b[0m\u001b[0m\n\u001b[0m\u001b[0;32m     14\u001b[0m     \u001b[0mpresent_time\u001b[0m \u001b[1;33m=\u001b[0m \u001b[0mpd\u001b[0m\u001b[1;33m.\u001b[0m\u001b[0mTimestamp\u001b[0m\u001b[1;33m.\u001b[0m\u001b[0mnow\u001b[0m\u001b[1;33m(\u001b[0m\u001b[1;33m)\u001b[0m\u001b[1;33m\u001b[0m\u001b[1;33m\u001b[0m\u001b[0m\n",
      "\u001b[1;31mKeyboardInterrupt\u001b[0m: "
     ]
    }
   ],
   "source": [
    "present_time = pd.Timestamp.now()\n",
    "close_time = pd.to_datetime('17:00:00')\n",
    "\n",
    "while present_time <= close_time:\n",
    "    cp = coin.bithumb_current_price('BTC')\n",
    "    t0 = pd.to_datetime(cp[0])    # 오늘날짜 = 인덱스에서 받아온 값\n",
    "    S = cp[1]    # 기초자산 가격 = 읽어온 지수\n",
    "    F = futures_price(S, r, d, T, t0)   # futures_price() 함수 호출\n",
    "    S = '{:,.2f}'.format(S)    # 구한 값을 소수점 둘째자리 반올림\n",
    "    f = '{:,.2f}'.format(F)    # 구한 값을 소수점 둘째자리 반올림\n",
    "    print(t0, ' | 기초자산 가격:', S, ' | 선물 가격:', f)\n",
    "    \n",
    "    time.sleep(10)\n",
    "    present_time = pd.Timestamp.now()    "
   ]
  },
  {
   "cell_type": "code",
   "execution_count": null,
   "metadata": {},
   "outputs": [],
   "source": []
  }
 ],
 "metadata": {
  "celltoolbar": "Slideshow",
  "kernelspec": {
   "display_name": "Python 3",
   "language": "python",
   "name": "python3"
  },
  "language_info": {
   "codemirror_mode": {
    "name": "ipython",
    "version": 3
   },
   "file_extension": ".py",
   "mimetype": "text/x-python",
   "name": "python",
   "nbconvert_exporter": "python",
   "pygments_lexer": "ipython3",
   "version": "3.7.3"
  },
  "rise": {
   "scroll": true
  }
 },
 "nbformat": 4,
 "nbformat_minor": 2
}
