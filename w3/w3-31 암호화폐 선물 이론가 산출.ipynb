{
 "cells": [
  {
   "cell_type": "code",
   "execution_count": null,
   "metadata": {
    "slideshow": {
     "slide_type": "slide"
    }
   },
   "outputs": [],
   "source": [
    "import finterstellar as fs\n",
    "import pandas as pd\n",
    "import numpy as np   # 수학계산용 라이브러리"
   ]
  },
  {
   "cell_type": "code",
   "execution_count": null,
   "metadata": {},
   "outputs": [],
   "source": [
    "coin = fs.CoinPrice()"
   ]
  },
  {
   "cell_type": "code",
   "execution_count": null,
   "metadata": {},
   "outputs": [],
   "source": [
    "p_cd = ['BTC', 'ETH', 'XRP', 'BCH']"
   ]
  },
  {
   "cell_type": "code",
   "execution_count": null,
   "metadata": {},
   "outputs": [],
   "source": [
    "coin.bithumb_current_price('BTC')"
   ]
  },
  {
   "cell_type": "code",
   "execution_count": null,
   "metadata": {
    "slideshow": {
     "slide_type": "slide"
    }
   },
   "outputs": [],
   "source": [
    "def futures_price (S, r, d, T, t0):   # (기초자산가격, 이자율, 배당률, 만기일, 오늘날짜)\n",
    "    t = np.busday_count(t0.date(), T.date()) / 252   # 잔존만기 = (오늘-만기일)/252일\n",
    "    F = S * np.exp((r-d)*t)    # 선물 이론가 공식\n",
    "    return F"
   ]
  },
  {
   "cell_type": "code",
   "execution_count": null,
   "metadata": {},
   "outputs": [],
   "source": [
    "T = pd.to_datetime('2019-05-03')     # 최종거래일(만기일)\n",
    "r = 0.0225     # 이자율\n",
    "d = 0.010     # 배당률"
   ]
  },
  {
   "cell_type": "code",
   "execution_count": null,
   "metadata": {},
   "outputs": [],
   "source": [
    "cp = coin.bithumb_current_price('BTC')\n",
    "t0 = pd.to_datetime(cp[0])    # 오늘날짜 = 인덱스에서 받아온 값\n",
    "S = cp[1]    # 기초자산 가격 = 읽어온 지수\n",
    "F = futures_price(S, r, d, T, t0)   # futures_price() 함수 호출\n",
    "S = '{:,.2f}'.format(S)    # 구한 값을 소수점 둘째자리 반올림\n",
    "f = '{:,.2f}'.format(F)    # 구한 값을 소수점 둘째자리 반올림\n",
    "print(t0, ' | 기초자산 가격:', S, ' | 선물 가격:', f)"
   ]
  },
  {
   "cell_type": "code",
   "execution_count": null,
   "metadata": {
    "slideshow": {
     "slide_type": "slide"
    }
   },
   "outputs": [],
   "source": [
    "import time"
   ]
  },
  {
   "cell_type": "code",
   "execution_count": null,
   "metadata": {
    "scrolled": true
   },
   "outputs": [],
   "source": [
    "present_time = fs.utc_kst_now()\n",
    "close_time = pd.to_datetime('17:00:00')\n",
    "\n",
    "while present_time <= close_time:\n",
    "    cp = coin.bithumb_current_price('BTC')\n",
    "    t0 = pd.to_datetime(cp[0])    # 오늘날짜 = 인덱스에서 받아온 값\n",
    "    S = cp[1]    # 기초자산 가격 = 읽어온 지수\n",
    "    F = futures_price(S, r, d, T, t0)   # futures_price() 함수 호출\n",
    "    S = '{:,.2f}'.format(S)    # 구한 값을 소수점 둘째자리 반올림\n",
    "    f = '{:,.2f}'.format(F)    # 구한 값을 소수점 둘째자리 반올림\n",
    "    print(t0, ' | 기초자산 가격:', S, ' | 선물 가격:', f)\n",
    "    \n",
    "    time.sleep(10)\n",
    "    present_time = pd.Timestamp.now()    "
   ]
  },
  {
   "cell_type": "code",
   "execution_count": null,
   "metadata": {},
   "outputs": [],
   "source": []
  }
 ],
 "metadata": {
  "celltoolbar": "Slideshow",
  "kernelspec": {
   "display_name": "Python 3",
   "language": "python",
   "name": "python3"
  },
  "language_info": {
   "codemirror_mode": {
    "name": "ipython",
    "version": 3
   },
   "file_extension": ".py",
   "mimetype": "text/x-python",
   "name": "python",
   "nbconvert_exporter": "python",
   "pygments_lexer": "ipython3",
   "version": "3.7.3"
  },
  "rise": {
   "scroll": true
  }
 },
 "nbformat": 4,
 "nbformat_minor": 2
}
