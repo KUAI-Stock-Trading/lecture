{
 "cells": [
  {
   "cell_type": "code",
   "execution_count": null,
   "metadata": {
    "slideshow": {
     "slide_type": "slide"
    }
   },
   "outputs": [],
   "source": [
    "# define universe\n",
    "path = './data/'\n",
    "f = 'K200 F 201903 190219'\n",
    "\n",
    "# trading strategy determinants\n",
    "cd = 'K200F'\n",
    "n = 20\n",
    "sigma = 2\n",
    "thd = 'center'   # center / up\n",
    "buy = 'out'   # in / out"
   ]
  },
  {
   "cell_type": "code",
   "execution_count": null,
   "metadata": {
    "slideshow": {
     "slide_type": "slide"
    }
   },
   "outputs": [],
   "source": [
    "import pandas as pd\n",
    "import finterstellar as fs\n",
    "\n",
    "ld = fs.LoadData()\n",
    "df = ld.read_intraday_csv(path, f)\n",
    "\n",
    "prices_df = df.loc[:,['K200F']].copy()\n",
    "codes = ld.get_codes(prices_df)\n",
    "\n",
    "\n",
    "trd = fs.IntradayBBTrade()\n",
    "\n",
    "sample = trd.bollinger_band(prices_df, cd, n, sigma)\n",
    "book = trd.create_trade_book(sample, cd)\n",
    "book = trd.tradings(sample, book, thd, cd, buy, short=True)\n",
    "book = trd.position(book, cd)\n",
    "fund_rtn = trd.returns(book, cd, display=True)\n",
    "bm_rtn = trd.benchmark_return(book, cd)\n",
    "exs_rtn = trd.excess_return(fund_rtn, bm_rtn)\n",
    "\n",
    "last_date = sample.index[-1]\n",
    "position_strategy = trd.position_strategy(book, cd, last_date)\n",
    "trading_strategy = trd.trading_strategy(sample, thd, cd, last_date)"
   ]
  },
  {
   "cell_type": "code",
   "execution_count": null,
   "metadata": {
    "slideshow": {
     "slide_type": "slide"
    }
   },
   "outputs": [],
   "source": [
    "v = fs.VisualizeIntraday()"
   ]
  },
  {
   "cell_type": "code",
   "execution_count": null,
   "metadata": {},
   "outputs": [],
   "source": [
    "v.bb_trend_view(sample, sigma, cd)"
   ]
  },
  {
   "cell_type": "code",
   "execution_count": null,
   "metadata": {
    "slideshow": {
     "slide_type": "slide"
    }
   },
   "outputs": [],
   "source": [
    "v.position_view(book, cd)"
   ]
  },
  {
   "cell_type": "code",
   "execution_count": null,
   "metadata": {},
   "outputs": [],
   "source": []
  },
  {
   "cell_type": "code",
   "execution_count": null,
   "metadata": {},
   "outputs": [],
   "source": []
  }
 ],
 "metadata": {
  "celltoolbar": "Slideshow",
  "kernelspec": {
   "display_name": "Python 3",
   "language": "python",
   "name": "python3"
  },
  "language_info": {
   "codemirror_mode": {
    "name": "ipython",
    "version": 3
   },
   "file_extension": ".py",
   "mimetype": "text/x-python",
   "name": "python",
   "nbconvert_exporter": "python",
   "pygments_lexer": "ipython3",
   "version": "3.7.3"
  },
  "rise": {
   "scroll": true
  }
 },
 "nbformat": 4,
 "nbformat_minor": 2
}
