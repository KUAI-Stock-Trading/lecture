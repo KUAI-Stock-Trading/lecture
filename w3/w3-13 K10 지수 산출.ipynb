{
 "cells": [
  {
   "cell_type": "markdown",
   "metadata": {
    "slideshow": {
     "slide_type": "slide"
    }
   },
   "source": [
    "0. 외부함수 사용을 위해 필요한 라이브러리 불러오기"
   ]
  },
  {
   "cell_type": "code",
   "execution_count": 1,
   "metadata": {
    "slideshow": {
     "slide_type": "-"
    }
   },
   "outputs": [],
   "source": [
    "import finterstellar as fs\n",
    "import pandas as pd"
   ]
  },
  {
   "cell_type": "code",
   "execution_count": 2,
   "metadata": {},
   "outputs": [],
   "source": [
    "K10_dict = {\n",
    "    '005930' : '삼성전자',\n",
    "    '000660' : 'SK하이닉스',\n",
    "    '051910' : 'LG화학',\n",
    "    '068270' : '셀트리온',\n",
    "    '005380' : '현대차',\n",
    "    '207940' : '삼성바이오로직스',\n",
    "    '005490' : 'POSCO',\n",
    "    '028260' : '삼성물산',\n",
    "    '015760' : '한국전력',\n",
    "    '035420' : 'NAVER'\n",
    "}"
   ]
  },
  {
   "cell_type": "markdown",
   "metadata": {
    "slideshow": {
     "slide_type": "slide"
    }
   },
   "source": [
    "1. 시가총액이 있는 엑셀 파일 읽기: read_excel()"
   ]
  },
  {
   "cell_type": "code",
   "execution_count": 3,
   "metadata": {},
   "outputs": [],
   "source": [
    "path = './data/'     # 파일위치\n",
    "n = 'K10_info.xlsx'     # 파일명"
   ]
  },
  {
   "cell_type": "code",
   "execution_count": 4,
   "metadata": {
    "slideshow": {
     "slide_type": "-"
    }
   },
   "outputs": [
    {
     "data": {
      "text/html": [
       "<div>\n",
       "<style scoped>\n",
       "    .dataframe tbody tr th:only-of-type {\n",
       "        vertical-align: middle;\n",
       "    }\n",
       "\n",
       "    .dataframe tbody tr th {\n",
       "        vertical-align: top;\n",
       "    }\n",
       "\n",
       "    .dataframe thead th {\n",
       "        text-align: right;\n",
       "    }\n",
       "</style>\n",
       "<table border=\"1\" class=\"dataframe\">\n",
       "  <thead>\n",
       "    <tr style=\"text-align: right;\">\n",
       "      <th></th>\n",
       "      <th>name</th>\n",
       "      <th>outstanding</th>\n",
       "    </tr>\n",
       "    <tr>\n",
       "      <th>code</th>\n",
       "      <th></th>\n",
       "      <th></th>\n",
       "    </tr>\n",
       "  </thead>\n",
       "  <tbody>\n",
       "    <tr>\n",
       "      <th>005930</th>\n",
       "      <td>삼성전자</td>\n",
       "      <td>5969782550</td>\n",
       "    </tr>\n",
       "    <tr>\n",
       "      <th>000660</th>\n",
       "      <td>SK하이닉스</td>\n",
       "      <td>728002365</td>\n",
       "    </tr>\n",
       "    <tr>\n",
       "      <th>051910</th>\n",
       "      <td>LG화학</td>\n",
       "      <td>70592343</td>\n",
       "    </tr>\n",
       "    <tr>\n",
       "      <th>068270</th>\n",
       "      <td>셀트리온</td>\n",
       "      <td>127953489</td>\n",
       "    </tr>\n",
       "    <tr>\n",
       "      <th>005380</th>\n",
       "      <td>현대차</td>\n",
       "      <td>213668187</td>\n",
       "    </tr>\n",
       "    <tr>\n",
       "      <th>207940</th>\n",
       "      <td>삼성바이오로직스</td>\n",
       "      <td>66165000</td>\n",
       "    </tr>\n",
       "    <tr>\n",
       "      <th>005490</th>\n",
       "      <td>POSCO</td>\n",
       "      <td>87186835</td>\n",
       "    </tr>\n",
       "    <tr>\n",
       "      <th>028260</th>\n",
       "      <td>삼성물산</td>\n",
       "      <td>189690043</td>\n",
       "    </tr>\n",
       "    <tr>\n",
       "      <th>015760</th>\n",
       "      <td>한국전력</td>\n",
       "      <td>641964077</td>\n",
       "    </tr>\n",
       "    <tr>\n",
       "      <th>035420</th>\n",
       "      <td>NAVER</td>\n",
       "      <td>164813395</td>\n",
       "    </tr>\n",
       "  </tbody>\n",
       "</table>\n",
       "</div>"
      ],
      "text/plain": [
       "            name  outstanding\n",
       "code                         \n",
       "005930      삼성전자   5969782550\n",
       "000660    SK하이닉스    728002365\n",
       "051910      LG화학     70592343\n",
       "068270      셀트리온    127953489\n",
       "005380       현대차    213668187\n",
       "207940  삼성바이오로직스     66165000\n",
       "005490     POSCO     87186835\n",
       "028260      삼성물산    189690043\n",
       "015760      한국전력    641964077\n",
       "035420     NAVER    164813395"
      ]
     },
     "execution_count": 4,
     "metadata": {},
     "output_type": "execute_result"
    }
   ],
   "source": [
    "file_name = path + n    # 읽어올 파일위치+파일명 지정\n",
    "stock_info = pd.read_excel(file_name, converters={'code':str})\n",
    "'''\n",
    "    pd.read_excel(파일명) - 엑셀파일을 읽어 데이터프레임으로 변환시켜 돌려주는 함수\n",
    "    converters={'code':str} - 데이터 형식을 '문자'형식으로 지정, \n",
    "    생략 시 pd가 이 컬럼을 자동으로 숫자로 인식해 종목코드 앞쪽 0을 삭제해버리게됨\n",
    "'''\n",
    "stock_info.set_index('code', inplace=True)\n",
    "stock_info.head(10)"
   ]
  },
  {
   "cell_type": "markdown",
   "metadata": {
    "slideshow": {
     "slide_type": "slide"
    }
   },
   "source": [
    "4. 10개 종목의 시세 데이터 로딩 : create_portfolio_df()"
   ]
  },
  {
   "cell_type": "code",
   "execution_count": 5,
   "metadata": {
    "slideshow": {
     "slide_type": "-"
    }
   },
   "outputs": [],
   "source": [
    "n = 'K10_prices.xlsx'     # 파일명"
   ]
  },
  {
   "cell_type": "code",
   "execution_count": 6,
   "metadata": {},
   "outputs": [
    {
     "data": {
      "text/html": [
       "<div>\n",
       "<style scoped>\n",
       "    .dataframe tbody tr th:only-of-type {\n",
       "        vertical-align: middle;\n",
       "    }\n",
       "\n",
       "    .dataframe tbody tr th {\n",
       "        vertical-align: top;\n",
       "    }\n",
       "\n",
       "    .dataframe thead th {\n",
       "        text-align: right;\n",
       "    }\n",
       "</style>\n",
       "<table border=\"1\" class=\"dataframe\">\n",
       "  <thead>\n",
       "    <tr style=\"text-align: right;\">\n",
       "      <th></th>\n",
       "      <th>005930</th>\n",
       "      <th>000660</th>\n",
       "      <th>051910</th>\n",
       "      <th>068270</th>\n",
       "      <th>005380</th>\n",
       "      <th>207940</th>\n",
       "      <th>005490</th>\n",
       "      <th>028260</th>\n",
       "      <th>015760</th>\n",
       "      <th>035420</th>\n",
       "    </tr>\n",
       "    <tr>\n",
       "      <th>trade_date</th>\n",
       "      <th></th>\n",
       "      <th></th>\n",
       "      <th></th>\n",
       "      <th></th>\n",
       "      <th></th>\n",
       "      <th></th>\n",
       "      <th></th>\n",
       "      <th></th>\n",
       "      <th></th>\n",
       "      <th></th>\n",
       "    </tr>\n",
       "  </thead>\n",
       "  <tbody>\n",
       "    <tr>\n",
       "      <th>2019-02-13</th>\n",
       "      <td>46200</td>\n",
       "      <td>76200</td>\n",
       "      <td>378000</td>\n",
       "      <td>212000</td>\n",
       "      <td>124500</td>\n",
       "      <td>379500.0</td>\n",
       "      <td>267000</td>\n",
       "      <td>117500.0</td>\n",
       "      <td>34000</td>\n",
       "      <td>125000</td>\n",
       "    </tr>\n",
       "    <tr>\n",
       "      <th>2019-02-14</th>\n",
       "      <td>47500</td>\n",
       "      <td>77400</td>\n",
       "      <td>380000</td>\n",
       "      <td>210000</td>\n",
       "      <td>121500</td>\n",
       "      <td>382000.0</td>\n",
       "      <td>266500</td>\n",
       "      <td>117500.0</td>\n",
       "      <td>33800</td>\n",
       "      <td>127500</td>\n",
       "    </tr>\n",
       "    <tr>\n",
       "      <th>2019-02-15</th>\n",
       "      <td>46050</td>\n",
       "      <td>73800</td>\n",
       "      <td>380000</td>\n",
       "      <td>209500</td>\n",
       "      <td>121000</td>\n",
       "      <td>380000.0</td>\n",
       "      <td>265500</td>\n",
       "      <td>116000.0</td>\n",
       "      <td>33500</td>\n",
       "      <td>127500</td>\n",
       "    </tr>\n",
       "    <tr>\n",
       "      <th>2019-02-18</th>\n",
       "      <td>46200</td>\n",
       "      <td>74700</td>\n",
       "      <td>391000</td>\n",
       "      <td>212000</td>\n",
       "      <td>120500</td>\n",
       "      <td>379000.0</td>\n",
       "      <td>262500</td>\n",
       "      <td>116500.0</td>\n",
       "      <td>33050</td>\n",
       "      <td>127000</td>\n",
       "    </tr>\n",
       "    <tr>\n",
       "      <th>2019-02-19</th>\n",
       "      <td>45950</td>\n",
       "      <td>73700</td>\n",
       "      <td>390000</td>\n",
       "      <td>215000</td>\n",
       "      <td>119500</td>\n",
       "      <td>384500.0</td>\n",
       "      <td>268500</td>\n",
       "      <td>116000.0</td>\n",
       "      <td>33000</td>\n",
       "      <td>126500</td>\n",
       "    </tr>\n",
       "  </tbody>\n",
       "</table>\n",
       "</div>"
      ],
      "text/plain": [
       "            005930  000660  051910  068270  005380    207940  005490  \\\n",
       "trade_date                                                             \n",
       "2019-02-13   46200   76200  378000  212000  124500  379500.0  267000   \n",
       "2019-02-14   47500   77400  380000  210000  121500  382000.0  266500   \n",
       "2019-02-15   46050   73800  380000  209500  121000  380000.0  265500   \n",
       "2019-02-18   46200   74700  391000  212000  120500  379000.0  262500   \n",
       "2019-02-19   45950   73700  390000  215000  119500  384500.0  268500   \n",
       "\n",
       "              028260  015760  035420  \n",
       "trade_date                            \n",
       "2019-02-13  117500.0   34000  125000  \n",
       "2019-02-14  117500.0   33800  127500  \n",
       "2019-02-15  116000.0   33500  127500  \n",
       "2019-02-18  116500.0   33050  127000  \n",
       "2019-02-19  116000.0   33000  126500  "
      ]
     },
     "execution_count": 6,
     "metadata": {},
     "output_type": "execute_result"
    }
   ],
   "source": [
    "file_name = path + n    # 읽어올 파일위치+파일명 지정\n",
    "price = pd.read_excel(file_name)\n",
    "'''\n",
    "    pd.read_excel(파일명) - 엑셀파일을 읽어 데이터프레임으로 변환시켜 돌려주는 함수\n",
    "    converters={'code':str} - 데이터 형식을 '문자'형식으로 지정, \n",
    "    생략 시 pd가 이 컬럼을 자동으로 숫자로 인식해 종목코드 앞쪽 0을 삭제해버리게됨\n",
    "'''\n",
    "price.set_index('trade_date', inplace=True)\n",
    "price.tail()"
   ]
  },
  {
   "cell_type": "code",
   "execution_count": 7,
   "metadata": {},
   "outputs": [],
   "source": [
    "ld = fs.LoadData()"
   ]
  },
  {
   "cell_type": "code",
   "execution_count": 8,
   "metadata": {},
   "outputs": [
    {
     "data": {
      "text/html": [
       "<div>\n",
       "<style scoped>\n",
       "    .dataframe tbody tr th:only-of-type {\n",
       "        vertical-align: middle;\n",
       "    }\n",
       "\n",
       "    .dataframe tbody tr th {\n",
       "        vertical-align: top;\n",
       "    }\n",
       "\n",
       "    .dataframe thead th {\n",
       "        text-align: right;\n",
       "    }\n",
       "</style>\n",
       "<table border=\"1\" class=\"dataframe\">\n",
       "  <thead>\n",
       "    <tr style=\"text-align: right;\">\n",
       "      <th></th>\n",
       "      <th>005930</th>\n",
       "      <th>000660</th>\n",
       "      <th>051910</th>\n",
       "      <th>068270</th>\n",
       "      <th>005380</th>\n",
       "      <th>207940</th>\n",
       "      <th>005490</th>\n",
       "      <th>028260</th>\n",
       "      <th>015760</th>\n",
       "      <th>035420</th>\n",
       "    </tr>\n",
       "    <tr>\n",
       "      <th>Date</th>\n",
       "      <th></th>\n",
       "      <th></th>\n",
       "      <th></th>\n",
       "      <th></th>\n",
       "      <th></th>\n",
       "      <th></th>\n",
       "      <th></th>\n",
       "      <th></th>\n",
       "      <th></th>\n",
       "      <th></th>\n",
       "    </tr>\n",
       "  </thead>\n",
       "  <tbody>\n",
       "    <tr>\n",
       "      <th>2019-02-13</th>\n",
       "      <td>46200</td>\n",
       "      <td>76200</td>\n",
       "      <td>378000</td>\n",
       "      <td>212000</td>\n",
       "      <td>124500</td>\n",
       "      <td>379500.0</td>\n",
       "      <td>267000</td>\n",
       "      <td>117500.0</td>\n",
       "      <td>34000</td>\n",
       "      <td>125000</td>\n",
       "    </tr>\n",
       "    <tr>\n",
       "      <th>2019-02-14</th>\n",
       "      <td>47500</td>\n",
       "      <td>77400</td>\n",
       "      <td>380000</td>\n",
       "      <td>210000</td>\n",
       "      <td>121500</td>\n",
       "      <td>382000.0</td>\n",
       "      <td>266500</td>\n",
       "      <td>117500.0</td>\n",
       "      <td>33800</td>\n",
       "      <td>127500</td>\n",
       "    </tr>\n",
       "    <tr>\n",
       "      <th>2019-02-15</th>\n",
       "      <td>46050</td>\n",
       "      <td>73800</td>\n",
       "      <td>380000</td>\n",
       "      <td>209500</td>\n",
       "      <td>121000</td>\n",
       "      <td>380000.0</td>\n",
       "      <td>265500</td>\n",
       "      <td>116000.0</td>\n",
       "      <td>33500</td>\n",
       "      <td>127500</td>\n",
       "    </tr>\n",
       "    <tr>\n",
       "      <th>2019-02-18</th>\n",
       "      <td>46200</td>\n",
       "      <td>74700</td>\n",
       "      <td>391000</td>\n",
       "      <td>212000</td>\n",
       "      <td>120500</td>\n",
       "      <td>379000.0</td>\n",
       "      <td>262500</td>\n",
       "      <td>116500.0</td>\n",
       "      <td>33050</td>\n",
       "      <td>127000</td>\n",
       "    </tr>\n",
       "    <tr>\n",
       "      <th>2019-02-19</th>\n",
       "      <td>45950</td>\n",
       "      <td>73700</td>\n",
       "      <td>390000</td>\n",
       "      <td>215000</td>\n",
       "      <td>119500</td>\n",
       "      <td>384500.0</td>\n",
       "      <td>268500</td>\n",
       "      <td>116000.0</td>\n",
       "      <td>33000</td>\n",
       "      <td>126500</td>\n",
       "    </tr>\n",
       "  </tbody>\n",
       "</table>\n",
       "</div>"
      ],
      "text/plain": [
       "            005930  000660  051910  068270  005380    207940  005490  \\\n",
       "Date                                                                   \n",
       "2019-02-13   46200   76200  378000  212000  124500  379500.0  267000   \n",
       "2019-02-14   47500   77400  380000  210000  121500  382000.0  266500   \n",
       "2019-02-15   46050   73800  380000  209500  121000  380000.0  265500   \n",
       "2019-02-18   46200   74700  391000  212000  120500  379000.0  262500   \n",
       "2019-02-19   45950   73700  390000  215000  119500  384500.0  268500   \n",
       "\n",
       "              028260  015760  035420  \n",
       "Date                                  \n",
       "2019-02-13  117500.0   34000  125000  \n",
       "2019-02-14  117500.0   33800  127500  \n",
       "2019-02-15  116000.0   33500  127500  \n",
       "2019-02-18  116500.0   33050  127000  \n",
       "2019-02-19  116000.0   33000  126500  "
      ]
     },
     "execution_count": 8,
     "metadata": {},
     "output_type": "execute_result"
    }
   ],
   "source": [
    "price = ld.date_formatting(price)\n",
    "price.tail()"
   ]
  },
  {
   "cell_type": "code",
   "execution_count": 9,
   "metadata": {},
   "outputs": [],
   "source": [
    "base_date = '2018-01-02'"
   ]
  },
  {
   "cell_type": "code",
   "execution_count": 10,
   "metadata": {},
   "outputs": [
    {
     "data": {
      "text/html": [
       "<div>\n",
       "<style scoped>\n",
       "    .dataframe tbody tr th:only-of-type {\n",
       "        vertical-align: middle;\n",
       "    }\n",
       "\n",
       "    .dataframe tbody tr th {\n",
       "        vertical-align: top;\n",
       "    }\n",
       "\n",
       "    .dataframe thead th {\n",
       "        text-align: right;\n",
       "    }\n",
       "</style>\n",
       "<table border=\"1\" class=\"dataframe\">\n",
       "  <thead>\n",
       "    <tr style=\"text-align: right;\">\n",
       "      <th></th>\n",
       "      <th>005930</th>\n",
       "      <th>000660</th>\n",
       "      <th>051910</th>\n",
       "      <th>068270</th>\n",
       "      <th>005380</th>\n",
       "      <th>207940</th>\n",
       "      <th>005490</th>\n",
       "      <th>028260</th>\n",
       "      <th>015760</th>\n",
       "      <th>035420</th>\n",
       "    </tr>\n",
       "    <tr>\n",
       "      <th>Date</th>\n",
       "      <th></th>\n",
       "      <th></th>\n",
       "      <th></th>\n",
       "      <th></th>\n",
       "      <th></th>\n",
       "      <th></th>\n",
       "      <th></th>\n",
       "      <th></th>\n",
       "      <th></th>\n",
       "      <th></th>\n",
       "    </tr>\n",
       "  </thead>\n",
       "  <tbody>\n",
       "    <tr>\n",
       "      <th>2018-01-02</th>\n",
       "      <td>51020</td>\n",
       "      <td>76600</td>\n",
       "      <td>411000</td>\n",
       "      <td>225900</td>\n",
       "      <td>149500</td>\n",
       "      <td>389500.0</td>\n",
       "      <td>339000</td>\n",
       "      <td>127500.0</td>\n",
       "      <td>37750</td>\n",
       "      <td>177251</td>\n",
       "    </tr>\n",
       "    <tr>\n",
       "      <th>2018-01-03</th>\n",
       "      <td>51620</td>\n",
       "      <td>77700</td>\n",
       "      <td>409500</td>\n",
       "      <td>246700</td>\n",
       "      <td>150500</td>\n",
       "      <td>391000.0</td>\n",
       "      <td>357500</td>\n",
       "      <td>126500.0</td>\n",
       "      <td>37550</td>\n",
       "      <td>174447</td>\n",
       "    </tr>\n",
       "    <tr>\n",
       "      <th>2018-01-04</th>\n",
       "      <td>51080</td>\n",
       "      <td>77100</td>\n",
       "      <td>395500</td>\n",
       "      <td>250000</td>\n",
       "      <td>146500</td>\n",
       "      <td>383000.0</td>\n",
       "      <td>367500</td>\n",
       "      <td>128000.0</td>\n",
       "      <td>37200</td>\n",
       "      <td>178854</td>\n",
       "    </tr>\n",
       "    <tr>\n",
       "      <th>2018-01-05</th>\n",
       "      <td>52120</td>\n",
       "      <td>79300</td>\n",
       "      <td>405000</td>\n",
       "      <td>266900</td>\n",
       "      <td>149000</td>\n",
       "      <td>390000.0</td>\n",
       "      <td>368000</td>\n",
       "      <td>130000.0</td>\n",
       "      <td>37200</td>\n",
       "      <td>181858</td>\n",
       "    </tr>\n",
       "    <tr>\n",
       "      <th>2018-01-08</th>\n",
       "      <td>52020</td>\n",
       "      <td>78200</td>\n",
       "      <td>424500</td>\n",
       "      <td>302500</td>\n",
       "      <td>151000</td>\n",
       "      <td>399500.0</td>\n",
       "      <td>369500</td>\n",
       "      <td>131000.0</td>\n",
       "      <td>37300</td>\n",
       "      <td>190270</td>\n",
       "    </tr>\n",
       "  </tbody>\n",
       "</table>\n",
       "</div>"
      ],
      "text/plain": [
       "            005930  000660  051910  068270  005380    207940  005490  \\\n",
       "Date                                                                   \n",
       "2018-01-02   51020   76600  411000  225900  149500  389500.0  339000   \n",
       "2018-01-03   51620   77700  409500  246700  150500  391000.0  357500   \n",
       "2018-01-04   51080   77100  395500  250000  146500  383000.0  367500   \n",
       "2018-01-05   52120   79300  405000  266900  149000  390000.0  368000   \n",
       "2018-01-08   52020   78200  424500  302500  151000  399500.0  369500   \n",
       "\n",
       "              028260  015760  035420  \n",
       "Date                                  \n",
       "2018-01-02  127500.0   37750  177251  \n",
       "2018-01-03  126500.0   37550  174447  \n",
       "2018-01-04  128000.0   37200  178854  \n",
       "2018-01-05  130000.0   37200  181858  \n",
       "2018-01-08  131000.0   37300  190270  "
      ]
     },
     "execution_count": 10,
     "metadata": {},
     "output_type": "execute_result"
    }
   ],
   "source": [
    "price = price[base_date:]\n",
    "# 1월1일에 들어있는 NaN 제거\n",
    "price.head()"
   ]
  },
  {
   "cell_type": "raw",
   "metadata": {
    "slideshow": {
     "slide_type": "slide"
    }
   },
   "source": [
    "5. 유동주식수 데이터를 이용해 각 종목의 유동시가총액 계산\n",
    "유동시가총액 = 시세 x 유동주식수"
   ]
  },
  {
   "cell_type": "code",
   "execution_count": 11,
   "metadata": {
    "slideshow": {
     "slide_type": "-"
    }
   },
   "outputs": [
    {
     "data": {
      "text/plain": [
       "code\n",
       "005930    5969782550\n",
       "000660     728002365\n",
       "051910      70592343\n",
       "068270     127953489\n",
       "005380     213668187\n",
       "207940      66165000\n",
       "005490      87186835\n",
       "028260     189690043\n",
       "015760     641964077\n",
       "035420     164813395\n",
       "Name: outstanding, dtype: int64"
      ]
     },
     "execution_count": 11,
     "metadata": {},
     "output_type": "execute_result"
    }
   ],
   "source": [
    "stock_info['outstanding']"
   ]
  },
  {
   "cell_type": "code",
   "execution_count": 12,
   "metadata": {},
   "outputs": [
    {
     "data": {
      "text/html": [
       "<div>\n",
       "<style scoped>\n",
       "    .dataframe tbody tr th:only-of-type {\n",
       "        vertical-align: middle;\n",
       "    }\n",
       "\n",
       "    .dataframe tbody tr th {\n",
       "        vertical-align: top;\n",
       "    }\n",
       "\n",
       "    .dataframe thead th {\n",
       "        text-align: right;\n",
       "    }\n",
       "</style>\n",
       "<table border=\"1\" class=\"dataframe\">\n",
       "  <thead>\n",
       "    <tr style=\"text-align: right;\">\n",
       "      <th></th>\n",
       "      <th>005930</th>\n",
       "      <th>000660</th>\n",
       "      <th>051910</th>\n",
       "      <th>068270</th>\n",
       "      <th>005380</th>\n",
       "      <th>207940</th>\n",
       "      <th>005490</th>\n",
       "      <th>028260</th>\n",
       "      <th>015760</th>\n",
       "      <th>035420</th>\n",
       "    </tr>\n",
       "    <tr>\n",
       "      <th>Date</th>\n",
       "      <th></th>\n",
       "      <th></th>\n",
       "      <th></th>\n",
       "      <th></th>\n",
       "      <th></th>\n",
       "      <th></th>\n",
       "      <th></th>\n",
       "      <th></th>\n",
       "      <th></th>\n",
       "      <th></th>\n",
       "    </tr>\n",
       "  </thead>\n",
       "  <tbody>\n",
       "    <tr>\n",
       "      <th>2018-01-02</th>\n",
       "      <td>304578305701000</td>\n",
       "      <td>55764981159000</td>\n",
       "      <td>29013452973000</td>\n",
       "      <td>28904693165100</td>\n",
       "      <td>31943393956500</td>\n",
       "      <td>2.577127e+13</td>\n",
       "      <td>29556337065000</td>\n",
       "      <td>2.418548e+13</td>\n",
       "      <td>24234143906750</td>\n",
       "      <td>29213339077145</td>\n",
       "    </tr>\n",
       "    <tr>\n",
       "      <th>2018-01-03</th>\n",
       "      <td>308160175231000</td>\n",
       "      <td>56565783760500</td>\n",
       "      <td>28907564458500</td>\n",
       "      <td>31566125736300</td>\n",
       "      <td>32157062143500</td>\n",
       "      <td>2.587052e+13</td>\n",
       "      <td>31169293512500</td>\n",
       "      <td>2.399579e+13</td>\n",
       "      <td>24105751091350</td>\n",
       "      <td>28751202317565</td>\n",
       "    </tr>\n",
       "    <tr>\n",
       "      <th>2018-01-04</th>\n",
       "      <td>304936492654000</td>\n",
       "      <td>56128982341500</td>\n",
       "      <td>27919271656500</td>\n",
       "      <td>31988372250000</td>\n",
       "      <td>31302389395500</td>\n",
       "      <td>2.534120e+13</td>\n",
       "      <td>32041161862500</td>\n",
       "      <td>2.428033e+13</td>\n",
       "      <td>23881063664400</td>\n",
       "      <td>29477534949330</td>\n",
       "    </tr>\n",
       "    <tr>\n",
       "      <th>2018-01-05</th>\n",
       "      <td>311145066506000</td>\n",
       "      <td>57730587544500</td>\n",
       "      <td>28589898915000</td>\n",
       "      <td>34150786214100</td>\n",
       "      <td>31836559863000</td>\n",
       "      <td>2.580435e+13</td>\n",
       "      <td>32084755280000</td>\n",
       "      <td>2.465971e+13</td>\n",
       "      <td>23881063664400</td>\n",
       "      <td>29972634387910</td>\n",
       "    </tr>\n",
       "    <tr>\n",
       "      <th>2018-01-08</th>\n",
       "      <td>310548088251000</td>\n",
       "      <td>56929784943000</td>\n",
       "      <td>29966449603500</td>\n",
       "      <td>38705930422500</td>\n",
       "      <td>32263896237000</td>\n",
       "      <td>2.643292e+13</td>\n",
       "      <td>32215535532500</td>\n",
       "      <td>2.484940e+13</td>\n",
       "      <td>23945260072100</td>\n",
       "      <td>31359044666650</td>\n",
       "    </tr>\n",
       "  </tbody>\n",
       "</table>\n",
       "</div>"
      ],
      "text/plain": [
       "                     005930          000660          051910          068270  \\\n",
       "Date                                                                          \n",
       "2018-01-02  304578305701000  55764981159000  29013452973000  28904693165100   \n",
       "2018-01-03  308160175231000  56565783760500  28907564458500  31566125736300   \n",
       "2018-01-04  304936492654000  56128982341500  27919271656500  31988372250000   \n",
       "2018-01-05  311145066506000  57730587544500  28589898915000  34150786214100   \n",
       "2018-01-08  310548088251000  56929784943000  29966449603500  38705930422500   \n",
       "\n",
       "                    005380        207940          005490        028260  \\\n",
       "Date                                                                     \n",
       "2018-01-02  31943393956500  2.577127e+13  29556337065000  2.418548e+13   \n",
       "2018-01-03  32157062143500  2.587052e+13  31169293512500  2.399579e+13   \n",
       "2018-01-04  31302389395500  2.534120e+13  32041161862500  2.428033e+13   \n",
       "2018-01-05  31836559863000  2.580435e+13  32084755280000  2.465971e+13   \n",
       "2018-01-08  32263896237000  2.643292e+13  32215535532500  2.484940e+13   \n",
       "\n",
       "                    015760          035420  \n",
       "Date                                        \n",
       "2018-01-02  24234143906750  29213339077145  \n",
       "2018-01-03  24105751091350  28751202317565  \n",
       "2018-01-04  23881063664400  29477534949330  \n",
       "2018-01-05  23881063664400  29972634387910  \n",
       "2018-01-08  23945260072100  31359044666650  "
      ]
     },
     "execution_count": 12,
     "metadata": {},
     "output_type": "execute_result"
    }
   ],
   "source": [
    "market_cap = pd.DataFrame()\n",
    "market_cap = price * stock_info['outstanding']\n",
    "market_cap.head()"
   ]
  },
  {
   "cell_type": "raw",
   "metadata": {
    "slideshow": {
     "slide_type": "slide"
    }
   },
   "source": [
    "6. 10개 종목의 유동시가총액 합산 (지수의 유동시가총액)"
   ]
  },
  {
   "cell_type": "code",
   "execution_count": 13,
   "metadata": {},
   "outputs": [
    {
     "data": {
      "text/html": [
       "<div>\n",
       "<style scoped>\n",
       "    .dataframe tbody tr th:only-of-type {\n",
       "        vertical-align: middle;\n",
       "    }\n",
       "\n",
       "    .dataframe tbody tr th {\n",
       "        vertical-align: top;\n",
       "    }\n",
       "\n",
       "    .dataframe thead th {\n",
       "        text-align: right;\n",
       "    }\n",
       "</style>\n",
       "<table border=\"1\" class=\"dataframe\">\n",
       "  <thead>\n",
       "    <tr style=\"text-align: right;\">\n",
       "      <th></th>\n",
       "      <th>005930</th>\n",
       "      <th>000660</th>\n",
       "      <th>051910</th>\n",
       "      <th>068270</th>\n",
       "      <th>005380</th>\n",
       "      <th>207940</th>\n",
       "      <th>005490</th>\n",
       "      <th>028260</th>\n",
       "      <th>015760</th>\n",
       "      <th>035420</th>\n",
       "      <th>K10</th>\n",
       "    </tr>\n",
       "    <tr>\n",
       "      <th>Date</th>\n",
       "      <th></th>\n",
       "      <th></th>\n",
       "      <th></th>\n",
       "      <th></th>\n",
       "      <th></th>\n",
       "      <th></th>\n",
       "      <th></th>\n",
       "      <th></th>\n",
       "      <th></th>\n",
       "      <th></th>\n",
       "      <th></th>\n",
       "    </tr>\n",
       "  </thead>\n",
       "  <tbody>\n",
       "    <tr>\n",
       "      <th>2019-02-13</th>\n",
       "      <td>275803953810000</td>\n",
       "      <td>55473780213000</td>\n",
       "      <td>26683905654000</td>\n",
       "      <td>27126139668000</td>\n",
       "      <td>26601689281500</td>\n",
       "      <td>2.510962e+13</td>\n",
       "      <td>23278884945000</td>\n",
       "      <td>2.228858e+13</td>\n",
       "      <td>21826778618000</td>\n",
       "      <td>20601674375000</td>\n",
       "      <td>5.247950e+14</td>\n",
       "    </tr>\n",
       "    <tr>\n",
       "      <th>2019-02-14</th>\n",
       "      <td>283564671125000</td>\n",
       "      <td>56347383051000</td>\n",
       "      <td>26825090340000</td>\n",
       "      <td>26870232690000</td>\n",
       "      <td>25960684720500</td>\n",
       "      <td>2.527503e+13</td>\n",
       "      <td>23235291527500</td>\n",
       "      <td>2.228858e+13</td>\n",
       "      <td>21698385802600</td>\n",
       "      <td>21013707862500</td>\n",
       "      <td>5.330791e+14</td>\n",
       "    </tr>\n",
       "    <tr>\n",
       "      <th>2019-02-15</th>\n",
       "      <td>274908486427500</td>\n",
       "      <td>53726574537000</td>\n",
       "      <td>26825090340000</td>\n",
       "      <td>26806255945500</td>\n",
       "      <td>25853850627000</td>\n",
       "      <td>2.514270e+13</td>\n",
       "      <td>23148104692500</td>\n",
       "      <td>2.200404e+13</td>\n",
       "      <td>21505796579500</td>\n",
       "      <td>21013707862500</td>\n",
       "      <td>5.209346e+14</td>\n",
       "    </tr>\n",
       "    <tr>\n",
       "      <th>2019-02-18</th>\n",
       "      <td>275803953810000</td>\n",
       "      <td>54381776665500</td>\n",
       "      <td>27601606113000</td>\n",
       "      <td>27126139668000</td>\n",
       "      <td>25747016533500</td>\n",
       "      <td>2.507654e+13</td>\n",
       "      <td>22886544187500</td>\n",
       "      <td>2.209889e+13</td>\n",
       "      <td>21216912744850</td>\n",
       "      <td>20931301165000</td>\n",
       "      <td>5.228707e+14</td>\n",
       "    </tr>\n",
       "    <tr>\n",
       "      <th>2019-02-19</th>\n",
       "      <td>274311508172500</td>\n",
       "      <td>53653774300500</td>\n",
       "      <td>27531013770000</td>\n",
       "      <td>27510000135000</td>\n",
       "      <td>25533348346500</td>\n",
       "      <td>2.544044e+13</td>\n",
       "      <td>23409665197500</td>\n",
       "      <td>2.200404e+13</td>\n",
       "      <td>21184814541000</td>\n",
       "      <td>20848894467500</td>\n",
       "      <td>5.214275e+14</td>\n",
       "    </tr>\n",
       "  </tbody>\n",
       "</table>\n",
       "</div>"
      ],
      "text/plain": [
       "                     005930          000660          051910          068270  \\\n",
       "Date                                                                          \n",
       "2019-02-13  275803953810000  55473780213000  26683905654000  27126139668000   \n",
       "2019-02-14  283564671125000  56347383051000  26825090340000  26870232690000   \n",
       "2019-02-15  274908486427500  53726574537000  26825090340000  26806255945500   \n",
       "2019-02-18  275803953810000  54381776665500  27601606113000  27126139668000   \n",
       "2019-02-19  274311508172500  53653774300500  27531013770000  27510000135000   \n",
       "\n",
       "                    005380        207940          005490        028260  \\\n",
       "Date                                                                     \n",
       "2019-02-13  26601689281500  2.510962e+13  23278884945000  2.228858e+13   \n",
       "2019-02-14  25960684720500  2.527503e+13  23235291527500  2.228858e+13   \n",
       "2019-02-15  25853850627000  2.514270e+13  23148104692500  2.200404e+13   \n",
       "2019-02-18  25747016533500  2.507654e+13  22886544187500  2.209889e+13   \n",
       "2019-02-19  25533348346500  2.544044e+13  23409665197500  2.200404e+13   \n",
       "\n",
       "                    015760          035420           K10  \n",
       "Date                                                      \n",
       "2019-02-13  21826778618000  20601674375000  5.247950e+14  \n",
       "2019-02-14  21698385802600  21013707862500  5.330791e+14  \n",
       "2019-02-15  21505796579500  21013707862500  5.209346e+14  \n",
       "2019-02-18  21216912744850  20931301165000  5.228707e+14  \n",
       "2019-02-19  21184814541000  20848894467500  5.214275e+14  "
      ]
     },
     "execution_count": 13,
     "metadata": {},
     "output_type": "execute_result"
    }
   ],
   "source": [
    "market_cap['K10'] = market_cap.sum(axis=1)\n",
    "market_cap.tail()"
   ]
  },
  {
   "cell_type": "raw",
   "metadata": {
    "slideshow": {
     "slide_type": "slide"
    }
   },
   "source": [
    "7. 기준일자를 선정해 지수 산출 \n",
    "지수 = 일자별 시가총액 / 기준일 시가총액 x 100"
   ]
  },
  {
   "cell_type": "code",
   "execution_count": 14,
   "metadata": {
    "slideshow": {
     "slide_type": "-"
    }
   },
   "outputs": [
    {
     "data": {
      "text/html": [
       "<div>\n",
       "<style scoped>\n",
       "    .dataframe tbody tr th:only-of-type {\n",
       "        vertical-align: middle;\n",
       "    }\n",
       "\n",
       "    .dataframe tbody tr th {\n",
       "        vertical-align: top;\n",
       "    }\n",
       "\n",
       "    .dataframe thead th {\n",
       "        text-align: right;\n",
       "    }\n",
       "</style>\n",
       "<table border=\"1\" class=\"dataframe\">\n",
       "  <thead>\n",
       "    <tr style=\"text-align: right;\">\n",
       "      <th></th>\n",
       "      <th>K10</th>\n",
       "    </tr>\n",
       "    <tr>\n",
       "      <th>Date</th>\n",
       "      <th></th>\n",
       "    </tr>\n",
       "  </thead>\n",
       "  <tbody>\n",
       "    <tr>\n",
       "      <th>2018-01-02</th>\n",
       "      <td>100.00</td>\n",
       "    </tr>\n",
       "    <tr>\n",
       "      <th>2018-01-03</th>\n",
       "      <td>101.39</td>\n",
       "    </tr>\n",
       "    <tr>\n",
       "      <th>2018-01-04</th>\n",
       "      <td>100.71</td>\n",
       "    </tr>\n",
       "    <tr>\n",
       "      <th>2018-01-05</th>\n",
       "      <td>102.86</td>\n",
       "    </tr>\n",
       "    <tr>\n",
       "      <th>2018-01-08</th>\n",
       "      <td>104.12</td>\n",
       "    </tr>\n",
       "  </tbody>\n",
       "</table>\n",
       "</div>"
      ],
      "text/plain": [
       "               K10\n",
       "Date              \n",
       "2018-01-02  100.00\n",
       "2018-01-03  101.39\n",
       "2018-01-04  100.71\n",
       "2018-01-05  102.86\n",
       "2018-01-08  104.12"
      ]
     },
     "execution_count": 14,
     "metadata": {},
     "output_type": "execute_result"
    }
   ],
   "source": [
    "index = pd.DataFrame()\n",
    "# 첫 날짜를 기준으로 지수화\n",
    "index['K10'] = round( market_cap['K10'] / market_cap.loc[base_date, 'K10'], 4 ) * 100\n",
    "# 지수 = 일자별 시가총액 / 기준일 시가총액 * 100 \n",
    "index.head()"
   ]
  },
  {
   "cell_type": "markdown",
   "metadata": {
    "slideshow": {
     "slide_type": "slide"
    }
   },
   "source": [
    "K10 지수 그래프 그리기"
   ]
  },
  {
   "cell_type": "code",
   "execution_count": 15,
   "metadata": {},
   "outputs": [],
   "source": [
    "v = fs.Visualize()"
   ]
  },
  {
   "cell_type": "code",
   "execution_count": 16,
   "metadata": {},
   "outputs": [
    {
     "data": {
      "image/png": "[encoded data removed]",
      "text/plain": [
       "<Figure size 1080x504 with 1 Axes>"
      ]
     },
     "metadata": {},
     "output_type": "display_data"
    }
   ],
   "source": [
    "v.price_view(index, base_date, ['K10'])\n",
    "# price_view(데이터프레임, 기준일자, [종목코드], (사이즈)) - 챠트 그리기"
   ]
  },
  {
   "cell_type": "markdown",
   "metadata": {
    "slideshow": {
     "slide_type": "slide"
    }
   },
   "source": [
    "KOSPI200과 비교"
   ]
  },
  {
   "cell_type": "code",
   "execution_count": 17,
   "metadata": {},
   "outputs": [],
   "source": [
    "K200 = ld.make_historical_price_df(path, 'KOSPI 200')"
   ]
  },
  {
   "cell_type": "code",
   "execution_count": 18,
   "metadata": {},
   "outputs": [
    {
     "data": {
      "text/html": [
       "<div>\n",
       "<style scoped>\n",
       "    .dataframe tbody tr th:only-of-type {\n",
       "        vertical-align: middle;\n",
       "    }\n",
       "\n",
       "    .dataframe tbody tr th {\n",
       "        vertical-align: top;\n",
       "    }\n",
       "\n",
       "    .dataframe thead th {\n",
       "        text-align: right;\n",
       "    }\n",
       "</style>\n",
       "<table border=\"1\" class=\"dataframe\">\n",
       "  <thead>\n",
       "    <tr style=\"text-align: right;\">\n",
       "      <th></th>\n",
       "      <th>KOSPI 200</th>\n",
       "    </tr>\n",
       "    <tr>\n",
       "      <th>Date</th>\n",
       "      <th></th>\n",
       "    </tr>\n",
       "  </thead>\n",
       "  <tbody>\n",
       "    <tr>\n",
       "      <th>2017-01-02</th>\n",
       "      <td>260.36</td>\n",
       "    </tr>\n",
       "    <tr>\n",
       "      <th>2017-01-03</th>\n",
       "      <td>262.97</td>\n",
       "    </tr>\n",
       "    <tr>\n",
       "      <th>2017-01-04</th>\n",
       "      <td>263.12</td>\n",
       "    </tr>\n",
       "    <tr>\n",
       "      <th>2017-01-05</th>\n",
       "      <td>261.98</td>\n",
       "    </tr>\n",
       "    <tr>\n",
       "      <th>2017-01-06</th>\n",
       "      <td>263.20</td>\n",
       "    </tr>\n",
       "  </tbody>\n",
       "</table>\n",
       "</div>"
      ],
      "text/plain": [
       "            KOSPI 200\n",
       "Date                 \n",
       "2017-01-02     260.36\n",
       "2017-01-03     262.97\n",
       "2017-01-04     263.12\n",
       "2017-01-05     261.98\n",
       "2017-01-06     263.20"
      ]
     },
     "execution_count": 18,
     "metadata": {},
     "output_type": "execute_result"
    }
   ],
   "source": [
    "K200.head()"
   ]
  },
  {
   "cell_type": "code",
   "execution_count": 19,
   "metadata": {},
   "outputs": [
    {
     "data": {
      "text/html": [
       "<div>\n",
       "<style scoped>\n",
       "    .dataframe tbody tr th:only-of-type {\n",
       "        vertical-align: middle;\n",
       "    }\n",
       "\n",
       "    .dataframe tbody tr th {\n",
       "        vertical-align: top;\n",
       "    }\n",
       "\n",
       "    .dataframe thead th {\n",
       "        text-align: right;\n",
       "    }\n",
       "</style>\n",
       "<table border=\"1\" class=\"dataframe\">\n",
       "  <thead>\n",
       "    <tr style=\"text-align: right;\">\n",
       "      <th></th>\n",
       "      <th>K10</th>\n",
       "      <th>K200</th>\n",
       "    </tr>\n",
       "    <tr>\n",
       "      <th>Date</th>\n",
       "      <th></th>\n",
       "      <th></th>\n",
       "    </tr>\n",
       "  </thead>\n",
       "  <tbody>\n",
       "    <tr>\n",
       "      <th>2018-01-02</th>\n",
       "      <td>100.00</td>\n",
       "      <td>326.00</td>\n",
       "    </tr>\n",
       "    <tr>\n",
       "      <th>2018-01-03</th>\n",
       "      <td>101.39</td>\n",
       "      <td>327.13</td>\n",
       "    </tr>\n",
       "    <tr>\n",
       "      <th>2018-01-04</th>\n",
       "      <td>100.71</td>\n",
       "      <td>324.58</td>\n",
       "    </tr>\n",
       "    <tr>\n",
       "      <th>2018-01-05</th>\n",
       "      <td>102.86</td>\n",
       "      <td>328.97</td>\n",
       "    </tr>\n",
       "    <tr>\n",
       "      <th>2018-01-08</th>\n",
       "      <td>104.12</td>\n",
       "      <td>331.28</td>\n",
       "    </tr>\n",
       "  </tbody>\n",
       "</table>\n",
       "</div>"
      ],
      "text/plain": [
       "               K10    K200\n",
       "Date                      \n",
       "2018-01-02  100.00  326.00\n",
       "2018-01-03  101.39  327.13\n",
       "2018-01-04  100.71  324.58\n",
       "2018-01-05  102.86  328.97\n",
       "2018-01-08  104.12  331.28"
      ]
     },
     "execution_count": 19,
     "metadata": {},
     "output_type": "execute_result"
    }
   ],
   "source": [
    "index['K200'] = K200.loc[base_date:]\n",
    "# 1월2일 이후 지수만 idx의 K200 컬럼에 담음\n",
    "index.head()"
   ]
  },
  {
   "cell_type": "code",
   "execution_count": 20,
   "metadata": {},
   "outputs": [],
   "source": [
    "index = index.fillna(method='ffill')\n",
    "# NaN 값을 앞의 값으로 채움"
   ]
  },
  {
   "cell_type": "code",
   "execution_count": 21,
   "metadata": {},
   "outputs": [
    {
     "data": {
      "image/png": "[encoded data removed]",
      "text/plain": [
       "<Figure size 1080x504 with 1 Axes>"
      ]
     },
     "metadata": {},
     "output_type": "display_data"
    }
   ],
   "source": [
    "v.index_view(index, base_date, ['K200', 'K10'])\n",
    "# index_view(데이터프레임, 기준일자, [종목코드], (사이즈)) - 비교를 위해 인덱스화한 그래프 그리기"
   ]
  },
  {
   "cell_type": "code",
   "execution_count": null,
   "metadata": {},
   "outputs": [],
   "source": []
  }
 ],
 "metadata": {
  "celltoolbar": "Slideshow",
  "kernelspec": {
   "display_name": "Python 3",
   "language": "python",
   "name": "python3"
  },
  "language_info": {
   "codemirror_mode": {
    "name": "ipython",
    "version": 3
   },
   "file_extension": ".py",
   "mimetype": "text/x-python",
   "name": "python",
   "nbconvert_exporter": "python",
   "pygments_lexer": "ipython3",
   "version": "3.7.3"
  },
  "rise": {
   "scroll": true
  }
 },
 "nbformat": 4,
 "nbformat_minor": 2
}
