{
 "cells": [
  {
   "cell_type": "code",
   "execution_count": null,
   "metadata": {
    "slideshow": {
     "slide_type": "slide"
    }
   },
   "outputs": [],
   "source": [
    "# define universe\n",
    "#f = 'KOSPI200 F201812 181010'\n",
    "f = 'K200 F 201903 190219'\n",
    "p_name = 'KOSPI 200 F'\n",
    "pair = ['K200', 'K200F']\n",
    "cd = pair[0]\n",
    "\n",
    "# trading strategy determinants\n",
    "threshold = 0.001   # percent\n",
    "\n",
    "path = './data/'"
   ]
  },
  {
   "cell_type": "code",
   "execution_count": null,
   "metadata": {
    "slideshow": {
     "slide_type": "slide"
    }
   },
   "outputs": [],
   "source": [
    "import pandas as pd\n",
    "import finterstellar as fs"
   ]
  },
  {
   "cell_type": "code",
   "execution_count": null,
   "metadata": {
    "slideshow": {
     "slide_type": "slide"
    }
   },
   "outputs": [],
   "source": [
    "ld = fs.LoadData()\n",
    "df = ld.read_intraday_csv(path, f)"
   ]
  },
  {
   "cell_type": "code",
   "execution_count": null,
   "metadata": {},
   "outputs": [],
   "source": [
    "df.tail()"
   ]
  },
  {
   "cell_type": "code",
   "execution_count": null,
   "metadata": {
    "slideshow": {
     "slide_type": "slide"
    }
   },
   "outputs": [],
   "source": [
    "valuation = fs.Valuation()\n",
    "trd = fs.FuturesTradeOnValue()\n",
    "\n",
    "r = 0.02\n",
    "d = 0.005\n",
    "t0 = pd.to_datetime('2019-02-19')\n",
    "T = pd.to_datetime('2019-03-14')\n",
    "\n",
    "sample = trd.intraday_expected_y(df, pair, r, d, t0, T)\n",
    "sample = trd.price_analyze(df, threshold, pair)\n",
    "book = trd.create_trade_book(df, pair)\n",
    "book = trd.tradings(df, book, threshold, pair)\n",
    "book = trd.position(book, pair)\n",
    "fund_rtn = trd.returns(book, pair, display=True)\n",
    "bm_rtn = trd.benchmark_return(book, pair)\n",
    "exs_rtn = trd.excess_return(fund_rtn, bm_rtn)"
   ]
  },
  {
   "cell_type": "code",
   "execution_count": null,
   "metadata": {
    "scrolled": true,
    "slideshow": {
     "slide_type": "slide"
    }
   },
   "outputs": [],
   "source": [
    "sample"
   ]
  },
  {
   "cell_type": "code",
   "execution_count": null,
   "metadata": {
    "slideshow": {
     "slide_type": "slide"
    }
   },
   "outputs": [],
   "source": [
    "v = fs.VisualizeIntraday()"
   ]
  },
  {
   "cell_type": "code",
   "execution_count": null,
   "metadata": {
    "scrolled": false
   },
   "outputs": [],
   "source": [
    "v.pair_trend_price_view(sample, threshold, pair)"
   ]
  },
  {
   "cell_type": "code",
   "execution_count": null,
   "metadata": {
    "slideshow": {
     "slide_type": "slide"
    }
   },
   "outputs": [],
   "source": [
    "v.position_view(book, pair)"
   ]
  },
  {
   "cell_type": "code",
   "execution_count": null,
   "metadata": {},
   "outputs": [],
   "source": []
  }
 ],
 "metadata": {
  "celltoolbar": "Slideshow",
  "kernelspec": {
   "display_name": "Python 3",
   "language": "python",
   "name": "python3"
  },
  "language_info": {
   "codemirror_mode": {
    "name": "ipython",
    "version": 3
   },
   "file_extension": ".py",
   "mimetype": "text/x-python",
   "name": "python",
   "nbconvert_exporter": "python",
   "pygments_lexer": "ipython3",
   "version": "3.7.3"
  },
  "rise": {
   "scroll": true
  }
 },
 "nbformat": 4,
 "nbformat_minor": 2
}
