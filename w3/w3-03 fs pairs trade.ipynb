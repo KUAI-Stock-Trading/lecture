{
 "cells": [
  {
   "cell_type": "code",
   "execution_count": null,
   "metadata": {
    "slideshow": {
     "slide_type": "slide"
    }
   },
   "outputs": [],
   "source": [
    "import pandas as pd\n",
    "import finterstellar as fs"
   ]
  },
  {
   "cell_type": "code",
   "execution_count": null,
   "metadata": {},
   "outputs": [],
   "source": [
    "ld = fs.LoadData()\n",
    "path = './data/'"
   ]
  },
  {
   "cell_type": "markdown",
   "metadata": {
    "slideshow": {
     "slide_type": "slide"
    }
   },
   "source": [
    "포트폴리오 선정"
   ]
  },
  {
   "cell_type": "code",
   "execution_count": null,
   "metadata": {
    "slideshow": {
     "slide_type": "-"
    }
   },
   "outputs": [],
   "source": [
    "# define universe\n",
    "portfolio_dict = dict()\n",
    "portfolio = {\n",
    "    'World indices' : ['KOSPI 200', 'S&P 500', 'Nikkei 225', 'CSI 300']\n",
    "}    # 포트폴리오를 딕셔너리 형태로 저장\n",
    "p_name = 'World indices'   # 포트폴리오 집합 중 분석대상 포트폴리오의 이름 입력\n",
    "p_cd = portfolio[p_name]    # 선택한 포트폴리오 내에서 처리대상 종목코드들을 지정"
   ]
  },
  {
   "cell_type": "markdown",
   "metadata": {
    "slideshow": {
     "slide_type": "slide"
    }
   },
   "source": [
    "데이터 로딩"
   ]
  },
  {
   "cell_type": "code",
   "execution_count": null,
   "metadata": {
    "slideshow": {
     "slide_type": "-"
    }
   },
   "outputs": [],
   "source": [
    "# make new file\n",
    "prices_df = ld.create_portfolio_df(path, p_name, p_cd) \n",
    "# ld 모듈의 create_portfolio_df(폴더명, 포트폴리오 이름, 종목코드) 함수를 이용해 포트폴리오 전체 시세를 한번에 수집\n",
    "prices_df.tail()"
   ]
  },
  {
   "cell_type": "code",
   "execution_count": null,
   "metadata": {
    "slideshow": {
     "slide_type": "slide"
    }
   },
   "outputs": [],
   "source": [
    "trd = fs.PairTrade()\n",
    "# fs 라이브러리의 PairsTrade() 모듈을 호출에 trd로 지정"
   ]
  },
  {
   "cell_type": "markdown",
   "metadata": {},
   "source": [
    "기준일자 세팅"
   ]
  },
  {
   "cell_type": "code",
   "execution_count": null,
   "metadata": {},
   "outputs": [],
   "source": [
    "# 기준일자 세팅\n",
    "base_date = '2018-01-01'\n",
    "#base_date = pd.Timestamp.today().date() - pd.DateOffset(years=1)    # 디폴트로 1년 전 세팅\n",
    "base_date = trd.check_base_date(prices_df, base_date)\n",
    "# check_base_date(데이터프레임, 기준일자) - 기준일자가 공휴일인지 체크하고, 공휴일이면 다음 영업일을 반환\n",
    "base_date"
   ]
  },
  {
   "cell_type": "markdown",
   "metadata": {
    "slideshow": {
     "slide_type": "slide"
    }
   },
   "source": [
    "R2 값 비교"
   ]
  },
  {
   "cell_type": "code",
   "execution_count": null,
   "metadata": {
    "slideshow": {
     "slide_type": "-"
    }
   },
   "outputs": [],
   "source": [
    "comp_r2 = trd.compare_r2(prices_df, base_date, p_cd)\n",
    "'''\n",
    "    compare_r2(데이터프레임, 기준일자, [종목코드군]) \n",
    "    - [종목코드군] 내 종목 쌍 전체에 대해 회귀분석을 수행해서 R2 값 순서대로 결과 반환\n",
    "'''\n",
    "comp_r2.head(10)"
   ]
  },
  {
   "cell_type": "markdown",
   "metadata": {
    "slideshow": {
     "slide_type": "slide"
    }
   },
   "source": [
    "데이터구간 샘플링"
   ]
  },
  {
   "cell_type": "code",
   "execution_count": null,
   "metadata": {
    "slideshow": {
     "slide_type": "-"
    }
   },
   "outputs": [],
   "source": [
    "pair = ['S&P 500', 'Nikkei 225']\n",
    "sample = trd.sampling(prices_df, base_date, pair)\n",
    "# sampling(데이터프레임, 기준일자, [종목명]) - 데이터프레임에서 지정한 종목의 기준일자 이후 데이터만 샘플링"
   ]
  },
  {
   "cell_type": "markdown",
   "metadata": {},
   "source": [
    "회귀분석 수행"
   ]
  },
  {
   "cell_type": "code",
   "execution_count": null,
   "metadata": {},
   "outputs": [],
   "source": [
    "regr = trd.regression(sample, pair)\n",
    "# regression(데이터프레임, [종목쌍]) - 데이터프레임의 종목쌍에 대해 회귀분석을 수행해 기울기, y절편, R2값 반환\n",
    "regr"
   ]
  },
  {
   "cell_type": "markdown",
   "metadata": {
    "slideshow": {
     "slide_type": "slide"
    }
   },
   "source": [
    "CSI 300 지수가 x 일때 추세선에 따른 KOSPI 200 지수가 얼마이어야 하는지 구함"
   ]
  },
  {
   "cell_type": "code",
   "execution_count": null,
   "metadata": {
    "slideshow": {
     "slide_type": "-"
    }
   },
   "outputs": [],
   "source": [
    "sample = trd.expected_y(sample, regr, pair)\n",
    "# expected_y(데이터프레임, 회귀분석결과, [종목쌍]) - 회귀분석결과를 집어넣고 통계적인 y종목의 기대가격을 산출\n",
    "sample.head()"
   ]
  },
  {
   "cell_type": "markdown",
   "metadata": {
    "slideshow": {
     "slide_type": "slide"
    }
   },
   "source": [
    "역치 세팅"
   ]
  },
  {
   "cell_type": "code",
   "execution_count": null,
   "metadata": {
    "slideshow": {
     "slide_type": "-"
    }
   },
   "outputs": [],
   "source": [
    "# trading strategy determinants\n",
    "threshold = 0.02   # percent 값으로 오차허용 구간을 정의\n",
    "sample = trd.price_analyze(sample, threshold, pair)\n",
    "# price_analyze(데이터프레임, 역치, [종목쌍]) - 역치값 대비 현재 가격의 고평가/저평가 여부 구분"
   ]
  },
  {
   "cell_type": "markdown",
   "metadata": {
    "slideshow": {
     "slide_type": "slide"
    }
   },
   "source": [
    "# 백테스팅"
   ]
  },
  {
   "cell_type": "markdown",
   "metadata": {},
   "source": [
    "트레이드북 생성"
   ]
  },
  {
   "cell_type": "code",
   "execution_count": null,
   "metadata": {
    "slideshow": {
     "slide_type": "-"
    }
   },
   "outputs": [],
   "source": [
    "book = trd.create_trade_book(sample, pair)\n",
    "# create_trade_book(데이터프레임, [종목쌍]) - 트레이딩북 생성\n",
    "book.head()"
   ]
  },
  {
   "cell_type": "markdown",
   "metadata": {
    "slideshow": {
     "slide_type": "slide"
    }
   },
   "source": [
    "매일매일의 매매내역 기록"
   ]
  },
  {
   "cell_type": "code",
   "execution_count": null,
   "metadata": {},
   "outputs": [],
   "source": [
    "book = trd.tradings(sample, book, threshold, pair, short=False)\n",
    "# tradings(데이터프레임, 트레이딩북, 역치, [종목코드쌍], 숏가능) - pair trade 매매전략을 이용한 백테스팅 수행"
   ]
  },
  {
   "cell_type": "markdown",
   "metadata": {
    "slideshow": {
     "slide_type": "slide"
    }
   },
   "source": [
    "일자별 포지션 기록"
   ]
  },
  {
   "cell_type": "code",
   "execution_count": null,
   "metadata": {},
   "outputs": [],
   "source": [
    "book = trd.position(book, pair)\n",
    "# position(트레이딩북, 종목코드) - 트레이딩 전략 수행에 수반되는 포지션 판단\n",
    "book.tail()"
   ]
  },
  {
   "cell_type": "markdown",
   "metadata": {
    "slideshow": {
     "slide_type": "slide"
    }
   },
   "source": [
    "일자별 수익률 및 전체 수익률 계산"
   ]
  },
  {
   "cell_type": "code",
   "execution_count": null,
   "metadata": {},
   "outputs": [],
   "source": [
    "fund_rtn = trd.returns(book, pair, display=True)\n",
    "# returns(트레이딩북, 종목코드) - 전략의 수익률 계산"
   ]
  },
  {
   "cell_type": "markdown",
   "metadata": {
    "slideshow": {
     "slide_type": "slide"
    }
   },
   "source": [
    "벤치마크 수익률 계산\n",
    "(여기에서는 두 종목에 50%씩 분산투자하고 기간 중 계속 보유한 것으로 가정)"
   ]
  },
  {
   "cell_type": "code",
   "execution_count": null,
   "metadata": {},
   "outputs": [],
   "source": [
    "bm_rtn = trd.benchmark_return(book, pair)\n",
    "# benchmark_return(트레이딩북, 종목코드) - 벤치마크 수익률 계산"
   ]
  },
  {
   "cell_type": "markdown",
   "metadata": {},
   "source": [
    "페어트레이딩 전략의 초과수익률 계산"
   ]
  },
  {
   "cell_type": "code",
   "execution_count": null,
   "metadata": {},
   "outputs": [],
   "source": [
    "exs_rtn = trd.excess_return(fund_rtn, bm_rtn)\n",
    "# excess_return(전략수익률, 벤치마크수익률) - 초과수익률 계산"
   ]
  },
  {
   "cell_type": "code",
   "execution_count": null,
   "metadata": {},
   "outputs": [],
   "source": [
    "# 참고 : 로그수익률\n",
    "fund_rtn = trd.returns_log(book, pair)\n",
    "# returns_log(트레이딩북, 종목코드) - 전략의 로그수익률 계산\n",
    "bm_rtn = trd.benchmark_return_log(book, pair)\n",
    "# benchmark_return(트레이딩북, 종목코드) - 벤치마크 수익률 계산\n",
    "exs_rtn = trd.excess_return_log(fund_rtn, bm_rtn)\n",
    "# excess_return(전략수익률, 벤치마크수익률) - 초과수익률 계산"
   ]
  },
  {
   "cell_type": "markdown",
   "metadata": {
    "slideshow": {
     "slide_type": "slide"
    }
   },
   "source": [
    "그래프 모듈 호출"
   ]
  },
  {
   "cell_type": "code",
   "execution_count": null,
   "metadata": {},
   "outputs": [],
   "source": [
    "v = fs.Visualize()"
   ]
  },
  {
   "cell_type": "code",
   "execution_count": null,
   "metadata": {},
   "outputs": [],
   "source": [
    "v.pair_trend_index_view(sample, threshold, pair)\n",
    "# v 모듈의 pairs_trend_index_view(트레이딩북, 역치, [종목코드], (사이즈)) 함수 - pairs trade 그래프 그리기"
   ]
  },
  {
   "cell_type": "code",
   "execution_count": null,
   "metadata": {},
   "outputs": [],
   "source": [
    "v.position_view(book, pair)\n",
    "# v 모듈의 position_view(트레이딩북, 종목코드, (사이즈)) 함수 - 보유내역 그래프 그리기"
   ]
  },
  {
   "cell_type": "markdown",
   "metadata": {
    "slideshow": {
     "slide_type": "slide"
    }
   },
   "source": [
    "주가 변동 내역"
   ]
  },
  {
   "cell_type": "code",
   "execution_count": null,
   "metadata": {},
   "outputs": [],
   "source": [
    "v.index_view(sample, base_date, pair)"
   ]
  },
  {
   "cell_type": "code",
   "execution_count": null,
   "metadata": {},
   "outputs": [],
   "source": []
  }
 ],
 "metadata": {
  "celltoolbar": "Slideshow",
  "kernelspec": {
   "display_name": "Python 3",
   "language": "python",
   "name": "python3"
  },
  "language_info": {
   "codemirror_mode": {
    "name": "ipython",
    "version": 3
   },
   "file_extension": ".py",
   "mimetype": "text/x-python",
   "name": "python",
   "nbconvert_exporter": "python",
   "pygments_lexer": "ipython3",
   "version": "3.7.3"
  },
  "rise": {
   "scroll": true
  }
 },
 "nbformat": 4,
 "nbformat_minor": 2
}
