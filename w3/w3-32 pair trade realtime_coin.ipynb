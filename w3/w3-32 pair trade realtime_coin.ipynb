{
 "cells": [
  {
   "cell_type": "code",
   "execution_count": 3,
   "metadata": {},
   "outputs": [],
   "source": [
    "x_code = 'BTC'\n",
    "y_code = 'ETH'\n",
    "threshold = 0.01   # percent 값으로 오차허용 구간을 정의\n",
    "slope = 0.08\n",
    "intercept = -305164.13"
   ]
  },
  {
   "cell_type": "code",
   "execution_count": 4,
   "metadata": {
    "slideshow": {
     "slide_type": "slide"
    }
   },
   "outputs": [],
   "source": [
    "import finterstellar as fs\n",
    "import pandas as pd\n",
    "import numpy as np   # 수학계산용 라이브러리"
   ]
  },
  {
   "cell_type": "code",
   "execution_count": 5,
   "metadata": {
    "slideshow": {
     "slide_type": "slide"
    }
   },
   "outputs": [],
   "source": [
    "coin = fs.CoinPrice()"
   ]
  },
  {
   "cell_type": "code",
   "execution_count": 6,
   "metadata": {
    "slideshow": {
     "slide_type": "slide"
    }
   },
   "outputs": [
    {
     "data": {
      "text/plain": [
       "6136000.0"
      ]
     },
     "execution_count": 6,
     "metadata": {},
     "output_type": "execute_result"
    }
   ],
   "source": [
    "x_price = coin.upbit_current_price(coin_cd=x_code)[1]\n",
    "x_price"
   ]
  },
  {
   "cell_type": "code",
   "execution_count": 7,
   "metadata": {},
   "outputs": [
    {
     "data": {
      "text/plain": [
       "184350.0"
      ]
     },
     "execution_count": 7,
     "metadata": {},
     "output_type": "execute_result"
    }
   ],
   "source": [
    "y_price = coin.upbit_current_price(coin_cd=y_code)[1]\n",
    "y_price"
   ]
  },
  {
   "cell_type": "code",
   "execution_count": 8,
   "metadata": {},
   "outputs": [
    {
     "name": "stdout",
     "output_type": "stream",
     "text": [
      "183858.7113 | 185715.87 | 187573.0287\n"
     ]
    }
   ],
   "source": [
    "y_expected = x_price * slope + intercept\n",
    "y_top = y_expected * (1+threshold)\n",
    "y_floor = y_expected * (1-threshold)\n",
    "\n",
    "print(y_floor, '|', y_expected, '|', y_top)"
   ]
  },
  {
   "cell_type": "code",
   "execution_count": 9,
   "metadata": {},
   "outputs": [
    {
     "name": "stdout",
     "output_type": "stream",
     "text": [
      "Wait\n"
     ]
    }
   ],
   "source": [
    "if y_price > y_top:\n",
    "    print('Long', x_code)\n",
    "elif y_top >= y_price and y_price >= y_floor:\n",
    "    print('Wait')\n",
    "elif y_floor > y_price:\n",
    "    print('Long', y_code)"
   ]
  },
  {
   "cell_type": "code",
   "execution_count": 11,
   "metadata": {},
   "outputs": [],
   "source": [
    "def trading_strategy():\n",
    "    x_price = coin.upbit_current_price(coin_cd=x_code)[1]\n",
    "    y_price = coin.upbit_current_price(coin_cd=y_code)[1]\n",
    "    y_spread = y_price - y_expected\n",
    "\n",
    "    if y_price > y_top:\n",
    "        print('Long', x_code)\n",
    "    elif y_top >= y_price and y_price >= y_floor:\n",
    "        print('Wait')\n",
    "    elif y_floor > y_price:\n",
    "        print('Long', y_code)"
   ]
  },
  {
   "cell_type": "code",
   "execution_count": 12,
   "metadata": {},
   "outputs": [],
   "source": [
    "import time"
   ]
  },
  {
   "cell_type": "code",
   "execution_count": 13,
   "metadata": {},
   "outputs": [
    {
     "name": "stdout",
     "output_type": "stream",
     "text": [
      "2019-04-28 16:47:06\n",
      "Wait\n",
      "2019-04-28 16:47:16\n",
      "Wait\n",
      "2019-04-28 16:47:26\n",
      "Wait\n",
      "2019-04-28 16:47:36\n",
      "Wait\n",
      "2019-04-28 16:47:46\n",
      "Wait\n"
     ]
    },
    {
     "ename": "KeyboardInterrupt",
     "evalue": "",
     "output_type": "error",
     "traceback": [
      "\u001b[1;31m---------------------------------------------------------------------------\u001b[0m",
      "\u001b[1;31mKeyboardInterrupt\u001b[0m                         Traceback (most recent call last)",
      "\u001b[1;32m<ipython-input-13-fa289a4d2dc2>\u001b[0m in \u001b[0;36m<module>\u001b[1;34m\u001b[0m\n\u001b[0;32m      7\u001b[0m     \u001b[0mtrading_strategy\u001b[0m\u001b[1;33m(\u001b[0m\u001b[1;33m)\u001b[0m\u001b[1;33m\u001b[0m\u001b[1;33m\u001b[0m\u001b[0m\n\u001b[0;32m      8\u001b[0m \u001b[1;33m\u001b[0m\u001b[0m\n\u001b[1;32m----> 9\u001b[1;33m     \u001b[0mtime\u001b[0m\u001b[1;33m.\u001b[0m\u001b[0msleep\u001b[0m\u001b[1;33m(\u001b[0m\u001b[1;36m10\u001b[0m\u001b[1;33m)\u001b[0m\u001b[1;33m\u001b[0m\u001b[1;33m\u001b[0m\u001b[0m\n\u001b[0m\u001b[0;32m     10\u001b[0m     \u001b[0mpresent_time\u001b[0m \u001b[1;33m=\u001b[0m \u001b[0mpd\u001b[0m\u001b[1;33m.\u001b[0m\u001b[0mTimestamp\u001b[0m\u001b[1;33m.\u001b[0m\u001b[0mnow\u001b[0m\u001b[1;33m(\u001b[0m\u001b[1;33m)\u001b[0m\u001b[1;33m\u001b[0m\u001b[1;33m\u001b[0m\u001b[0m\n",
      "\u001b[1;31mKeyboardInterrupt\u001b[0m: "
     ]
    }
   ],
   "source": [
    "present_time = pd.Timestamp.now()\n",
    "close_time = pd.to_datetime('23:59:00')\n",
    "\n",
    "while present_time <= close_time:\n",
    "\n",
    "    print(present_time.strftime('%Y-%m-%d %H:%M:%S'))\n",
    "    trading_strategy()\n",
    "    \n",
    "    time.sleep(10)\n",
    "    present_time = pd.Timestamp.now()"
   ]
  },
  {
   "cell_type": "code",
   "execution_count": null,
   "metadata": {},
   "outputs": [],
   "source": []
  },
  {
   "cell_type": "code",
   "execution_count": null,
   "metadata": {},
   "outputs": [],
   "source": []
  }
 ],
 "metadata": {
  "celltoolbar": "Slideshow",
  "kernelspec": {
   "display_name": "Python 3",
   "language": "python",
   "name": "python3"
  },
  "language_info": {
   "codemirror_mode": {
    "name": "ipython",
    "version": 3
   },
   "file_extension": ".py",
   "mimetype": "text/x-python",
   "name": "python",
   "nbconvert_exporter": "python",
   "pygments_lexer": "ipython3",
   "version": "3.7.3"
  },
  "rise": {
   "scroll": true
  }
 },
 "nbformat": 4,
 "nbformat_minor": 2
}
