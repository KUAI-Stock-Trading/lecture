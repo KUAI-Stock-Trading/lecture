{
 "cells": [
  {
   "cell_type": "code",
   "execution_count": 1,
   "metadata": {
    "slideshow": {
     "slide_type": "slide"
    }
   },
   "outputs": [],
   "source": [
    "import pandas as pd\n",
    "import numpy as np"
   ]
  },
  {
   "cell_type": "code",
   "execution_count": 2,
   "metadata": {
    "scrolled": true
   },
   "outputs": [],
   "source": [
    "df1 = pd.read_excel('./data/WTI.xlsx', 'Spot', index_col='Date')\n",
    "df2 = pd.read_excel('./data/WTI.xlsx', 'Front', index_col='Date')\n",
    "df3 = pd.read_excel('./data/WTI.xlsx', 'Second', index_col='Date')"
   ]
  },
  {
   "cell_type": "code",
   "execution_count": 3,
   "metadata": {},
   "outputs": [
    {
     "data": {
      "text/html": [
       "<div>\n",
       "<style scoped>\n",
       "    .dataframe tbody tr th:only-of-type {\n",
       "        vertical-align: middle;\n",
       "    }\n",
       "\n",
       "    .dataframe tbody tr th {\n",
       "        vertical-align: top;\n",
       "    }\n",
       "\n",
       "    .dataframe thead th {\n",
       "        text-align: right;\n",
       "    }\n",
       "</style>\n",
       "<table border=\"1\" class=\"dataframe\">\n",
       "  <thead>\n",
       "    <tr style=\"text-align: right;\">\n",
       "      <th></th>\n",
       "      <th>Spot</th>\n",
       "    </tr>\n",
       "    <tr>\n",
       "      <th>Date</th>\n",
       "      <th></th>\n",
       "    </tr>\n",
       "  </thead>\n",
       "  <tbody>\n",
       "    <tr>\n",
       "      <th>2017-12-28</th>\n",
       "      <td>59.84</td>\n",
       "    </tr>\n",
       "    <tr>\n",
       "      <th>2017-12-27</th>\n",
       "      <td>59.64</td>\n",
       "    </tr>\n",
       "    <tr>\n",
       "      <th>2017-12-26</th>\n",
       "      <td>59.97</td>\n",
       "    </tr>\n",
       "  </tbody>\n",
       "</table>\n",
       "</div>"
      ],
      "text/plain": [
       "             Spot\n",
       "Date             \n",
       "2017-12-28  59.84\n",
       "2017-12-27  59.64\n",
       "2017-12-26  59.97"
      ]
     },
     "execution_count": 3,
     "metadata": {},
     "output_type": "execute_result"
    }
   ],
   "source": [
    "df1.head(3)"
   ]
  },
  {
   "cell_type": "code",
   "execution_count": 4,
   "metadata": {},
   "outputs": [
    {
     "data": {
      "text/html": [
       "<div>\n",
       "<style scoped>\n",
       "    .dataframe tbody tr th:only-of-type {\n",
       "        vertical-align: middle;\n",
       "    }\n",
       "\n",
       "    .dataframe tbody tr th {\n",
       "        vertical-align: top;\n",
       "    }\n",
       "\n",
       "    .dataframe thead th {\n",
       "        text-align: right;\n",
       "    }\n",
       "</style>\n",
       "<table border=\"1\" class=\"dataframe\">\n",
       "  <thead>\n",
       "    <tr style=\"text-align: right;\">\n",
       "      <th></th>\n",
       "      <th>Front</th>\n",
       "    </tr>\n",
       "    <tr>\n",
       "      <th>Date</th>\n",
       "      <th></th>\n",
       "    </tr>\n",
       "  </thead>\n",
       "  <tbody>\n",
       "    <tr>\n",
       "      <th>2017-12-28</th>\n",
       "      <td>59.84</td>\n",
       "    </tr>\n",
       "    <tr>\n",
       "      <th>2017-12-27</th>\n",
       "      <td>59.64</td>\n",
       "    </tr>\n",
       "    <tr>\n",
       "      <th>2017-12-26</th>\n",
       "      <td>59.97</td>\n",
       "    </tr>\n",
       "  </tbody>\n",
       "</table>\n",
       "</div>"
      ],
      "text/plain": [
       "            Front\n",
       "Date             \n",
       "2017-12-28  59.84\n",
       "2017-12-27  59.64\n",
       "2017-12-26  59.97"
      ]
     },
     "execution_count": 4,
     "metadata": {},
     "output_type": "execute_result"
    }
   ],
   "source": [
    "df2.head(3)"
   ]
  },
  {
   "cell_type": "code",
   "execution_count": 5,
   "metadata": {},
   "outputs": [
    {
     "data": {
      "text/html": [
       "<div>\n",
       "<style scoped>\n",
       "    .dataframe tbody tr th:only-of-type {\n",
       "        vertical-align: middle;\n",
       "    }\n",
       "\n",
       "    .dataframe tbody tr th {\n",
       "        vertical-align: top;\n",
       "    }\n",
       "\n",
       "    .dataframe thead th {\n",
       "        text-align: right;\n",
       "    }\n",
       "</style>\n",
       "<table border=\"1\" class=\"dataframe\">\n",
       "  <thead>\n",
       "    <tr style=\"text-align: right;\">\n",
       "      <th></th>\n",
       "      <th>Second</th>\n",
       "    </tr>\n",
       "    <tr>\n",
       "      <th>Date</th>\n",
       "      <th></th>\n",
       "    </tr>\n",
       "  </thead>\n",
       "  <tbody>\n",
       "    <tr>\n",
       "      <th>2017-12-28</th>\n",
       "      <td>59.87</td>\n",
       "    </tr>\n",
       "    <tr>\n",
       "      <th>2017-12-27</th>\n",
       "      <td>59.69</td>\n",
       "    </tr>\n",
       "    <tr>\n",
       "      <th>2017-12-26</th>\n",
       "      <td>60.00</td>\n",
       "    </tr>\n",
       "  </tbody>\n",
       "</table>\n",
       "</div>"
      ],
      "text/plain": [
       "            Second\n",
       "Date              \n",
       "2017-12-28   59.87\n",
       "2017-12-27   59.69\n",
       "2017-12-26   60.00"
      ]
     },
     "execution_count": 5,
     "metadata": {},
     "output_type": "execute_result"
    }
   ],
   "source": [
    "df3.head(3)"
   ]
  },
  {
   "cell_type": "code",
   "execution_count": 6,
   "metadata": {
    "scrolled": false
   },
   "outputs": [
    {
     "data": {
      "text/html": [
       "<div>\n",
       "<style scoped>\n",
       "    .dataframe tbody tr th:only-of-type {\n",
       "        vertical-align: middle;\n",
       "    }\n",
       "\n",
       "    .dataframe tbody tr th {\n",
       "        vertical-align: top;\n",
       "    }\n",
       "\n",
       "    .dataframe thead th {\n",
       "        text-align: right;\n",
       "    }\n",
       "</style>\n",
       "<table border=\"1\" class=\"dataframe\">\n",
       "  <thead>\n",
       "    <tr style=\"text-align: right;\">\n",
       "      <th></th>\n",
       "      <th>Spot</th>\n",
       "      <th>Front</th>\n",
       "      <th>Second</th>\n",
       "    </tr>\n",
       "    <tr>\n",
       "      <th>Date</th>\n",
       "      <th></th>\n",
       "      <th></th>\n",
       "      <th></th>\n",
       "    </tr>\n",
       "  </thead>\n",
       "  <tbody>\n",
       "    <tr>\n",
       "      <th>2017-12-28</th>\n",
       "      <td>59.84</td>\n",
       "      <td>59.84</td>\n",
       "      <td>59.87</td>\n",
       "    </tr>\n",
       "    <tr>\n",
       "      <th>2017-12-27</th>\n",
       "      <td>59.64</td>\n",
       "      <td>59.64</td>\n",
       "      <td>59.69</td>\n",
       "    </tr>\n",
       "    <tr>\n",
       "      <th>2017-12-26</th>\n",
       "      <td>59.97</td>\n",
       "      <td>59.97</td>\n",
       "      <td>60.00</td>\n",
       "    </tr>\n",
       "    <tr>\n",
       "      <th>2017-12-22</th>\n",
       "      <td>58.42</td>\n",
       "      <td>58.47</td>\n",
       "      <td>58.54</td>\n",
       "    </tr>\n",
       "    <tr>\n",
       "      <th>2017-12-21</th>\n",
       "      <td>58.33</td>\n",
       "      <td>58.36</td>\n",
       "      <td>58.40</td>\n",
       "    </tr>\n",
       "  </tbody>\n",
       "</table>\n",
       "</div>"
      ],
      "text/plain": [
       "             Spot  Front  Second\n",
       "Date                            \n",
       "2017-12-28  59.84  59.84   59.87\n",
       "2017-12-27  59.64  59.64   59.69\n",
       "2017-12-26  59.97  59.97   60.00\n",
       "2017-12-22  58.42  58.47   58.54\n",
       "2017-12-21  58.33  58.36   58.40"
      ]
     },
     "execution_count": 6,
     "metadata": {},
     "output_type": "execute_result"
    }
   ],
   "source": [
    "df = pd.concat([df1, df2, df3], axis=1)\n",
    "df.head()"
   ]
  },
  {
   "cell_type": "code",
   "execution_count": 7,
   "metadata": {
    "scrolled": true,
    "slideshow": {
     "slide_type": "slide"
    }
   },
   "outputs": [],
   "source": [
    "df = df.fillna(method='ffill')"
   ]
  },
  {
   "cell_type": "code",
   "execution_count": 8,
   "metadata": {},
   "outputs": [
    {
     "data": {
      "text/html": [
       "<div>\n",
       "<style scoped>\n",
       "    .dataframe tbody tr th:only-of-type {\n",
       "        vertical-align: middle;\n",
       "    }\n",
       "\n",
       "    .dataframe tbody tr th {\n",
       "        vertical-align: top;\n",
       "    }\n",
       "\n",
       "    .dataframe thead th {\n",
       "        text-align: right;\n",
       "    }\n",
       "</style>\n",
       "<table border=\"1\" class=\"dataframe\">\n",
       "  <thead>\n",
       "    <tr style=\"text-align: right;\">\n",
       "      <th></th>\n",
       "      <th>Ticker</th>\n",
       "      <th>Month</th>\n",
       "      <th>Last Trade</th>\n",
       "      <th>Last Price</th>\n",
       "    </tr>\n",
       "  </thead>\n",
       "  <tbody>\n",
       "    <tr>\n",
       "      <th>120</th>\n",
       "      <td>CLG10</td>\n",
       "      <td>2017-02-10</td>\n",
       "      <td>01/20/10</td>\n",
       "      <td>77.62</td>\n",
       "    </tr>\n",
       "    <tr>\n",
       "      <th>121</th>\n",
       "      <td>CLH10</td>\n",
       "      <td>2017-03-10</td>\n",
       "      <td>02/22/10</td>\n",
       "      <td>80.16</td>\n",
       "    </tr>\n",
       "    <tr>\n",
       "      <th>122</th>\n",
       "      <td>CLJ10</td>\n",
       "      <td>2017-04-10</td>\n",
       "      <td>03/22/10</td>\n",
       "      <td>81.25</td>\n",
       "    </tr>\n",
       "    <tr>\n",
       "      <th>123</th>\n",
       "      <td>CLK10</td>\n",
       "      <td>2017-05-10</td>\n",
       "      <td>04/20/10</td>\n",
       "      <td>83.45</td>\n",
       "    </tr>\n",
       "    <tr>\n",
       "      <th>124</th>\n",
       "      <td>CLM10</td>\n",
       "      <td>2017-06-10</td>\n",
       "      <td>05/20/10</td>\n",
       "      <td>68.01</td>\n",
       "    </tr>\n",
       "  </tbody>\n",
       "</table>\n",
       "</div>"
      ],
      "text/plain": [
       "    Ticker      Month Last Trade  Last Price\n",
       "120  CLG10 2017-02-10   01/20/10       77.62\n",
       "121  CLH10 2017-03-10   02/22/10       80.16\n",
       "122  CLJ10 2017-04-10   03/22/10       81.25\n",
       "123  CLK10 2017-05-10   04/20/10       83.45\n",
       "124  CLM10 2017-06-10   05/20/10       68.01"
      ]
     },
     "execution_count": 8,
     "metadata": {},
     "output_type": "execute_result"
    }
   ],
   "source": [
    "df_e = pd.read_excel('./data/WTI.xlsx', 'Expiry')\n",
    "df_e[120:125]"
   ]
  },
  {
   "cell_type": "code",
   "execution_count": 9,
   "metadata": {
    "scrolled": true,
    "slideshow": {
     "slide_type": "slide"
    }
   },
   "outputs": [
    {
     "data": {
      "text/plain": [
       "0    01/20/00\n",
       "1    02/22/00\n",
       "2    03/21/00\n",
       "3    04/19/00\n",
       "4    05/22/00\n",
       "Name: Last Trade, dtype: object"
      ]
     },
     "execution_count": 9,
     "metadata": {},
     "output_type": "execute_result"
    }
   ],
   "source": [
    "# 만기일 추출\n",
    "df_e['Last Trade'].head()"
   ]
  },
  {
   "cell_type": "code",
   "execution_count": 10,
   "metadata": {
    "scrolled": true
   },
   "outputs": [
    {
     "data": {
      "text/plain": [
       "0   2000-01-20\n",
       "1   2000-02-22\n",
       "2   2000-03-21\n",
       "3   2000-04-19\n",
       "4   2000-05-22\n",
       "Name: Last Trade, dtype: datetime64[ns]"
      ]
     },
     "execution_count": 10,
     "metadata": {},
     "output_type": "execute_result"
    }
   ],
   "source": [
    "# 만기일을 날짜 형식으로 변환\n",
    "pd.to_datetime(df_e['Last Trade']).head()"
   ]
  },
  {
   "cell_type": "code",
   "execution_count": 11,
   "metadata": {},
   "outputs": [
    {
     "data": {
      "text/plain": [
       "0   2000-01-20\n",
       "1   2000-02-22\n",
       "2   2000-03-21\n",
       "3   2000-04-19\n",
       "4   2000-05-22\n",
       "Name: Last Trade, dtype: datetime64[ns]"
      ]
     },
     "execution_count": 11,
     "metadata": {},
     "output_type": "execute_result"
    }
   ],
   "source": [
    "# 만기일 정보를 날짜 형태로 바꾸고 expiry에 저장\n",
    "expiry = pd.to_datetime(df_e['Last Trade'])\n",
    "expiry.head()"
   ]
  },
  {
   "cell_type": "code",
   "execution_count": 12,
   "metadata": {},
   "outputs": [
    {
     "data": {
      "text/plain": [
       "[Timestamp('2000-01-20 00:00:00'),\n",
       " Timestamp('2000-02-22 00:00:00'),\n",
       " Timestamp('2000-03-21 00:00:00'),\n",
       " Timestamp('2000-04-19 00:00:00'),\n",
       " Timestamp('2000-05-22 00:00:00'),\n",
       " Timestamp('2000-06-20 00:00:00'),\n",
       " Timestamp('2000-07-20 00:00:00'),\n",
       " Timestamp('2000-08-22 00:00:00'),\n",
       " Timestamp('2000-09-20 00:00:00'),\n",
       " Timestamp('2000-10-20 00:00:00'),\n",
       " Timestamp('2000-11-17 00:00:00'),\n",
       " Timestamp('2000-12-19 00:00:00'),\n",
       " Timestamp('2001-01-22 00:00:00'),\n",
       " Timestamp('2001-02-20 00:00:00'),\n",
       " Timestamp('2001-03-20 00:00:00'),\n",
       " Timestamp('2001-04-20 00:00:00'),\n",
       " Timestamp('2001-05-22 00:00:00'),\n",
       " Timestamp('2001-06-20 00:00:00'),\n",
       " Timestamp('2001-07-20 00:00:00'),\n",
       " Timestamp('2001-08-21 00:00:00'),\n",
       " Timestamp('2001-09-20 00:00:00'),\n",
       " Timestamp('2001-10-22 00:00:00'),\n",
       " Timestamp('2001-11-19 00:00:00'),\n",
       " Timestamp('2001-12-18 00:00:00'),\n",
       " Timestamp('2002-01-22 00:00:00'),\n",
       " Timestamp('2002-02-20 00:00:00'),\n",
       " Timestamp('2002-03-20 00:00:00'),\n",
       " Timestamp('2002-04-22 00:00:00'),\n",
       " Timestamp('2002-05-21 00:00:00'),\n",
       " Timestamp('2002-06-20 00:00:00'),\n",
       " Timestamp('2002-07-22 00:00:00'),\n",
       " Timestamp('2002-08-20 00:00:00'),\n",
       " Timestamp('2002-09-20 00:00:00'),\n",
       " Timestamp('2002-10-22 00:00:00'),\n",
       " Timestamp('2002-11-20 00:00:00'),\n",
       " Timestamp('2002-12-19 00:00:00'),\n",
       " Timestamp('2003-01-21 00:00:00'),\n",
       " Timestamp('2003-02-20 00:00:00'),\n",
       " Timestamp('2003-03-20 00:00:00'),\n",
       " Timestamp('2003-04-22 00:00:00'),\n",
       " Timestamp('2003-05-20 00:00:00'),\n",
       " Timestamp('2003-06-20 00:00:00'),\n",
       " Timestamp('2003-07-22 00:00:00'),\n",
       " Timestamp('2003-08-20 00:00:00'),\n",
       " Timestamp('2003-09-22 00:00:00'),\n",
       " Timestamp('2003-10-21 00:00:00'),\n",
       " Timestamp('2003-11-20 00:00:00'),\n",
       " Timestamp('2003-12-19 00:00:00'),\n",
       " Timestamp('2004-01-20 00:00:00'),\n",
       " Timestamp('2004-02-20 00:00:00'),\n",
       " Timestamp('2004-03-22 00:00:00'),\n",
       " Timestamp('2004-04-20 00:00:00'),\n",
       " Timestamp('2004-05-20 00:00:00'),\n",
       " Timestamp('2004-06-22 00:00:00'),\n",
       " Timestamp('2004-07-20 00:00:00'),\n",
       " Timestamp('2004-08-20 00:00:00'),\n",
       " Timestamp('2004-09-21 00:00:00'),\n",
       " Timestamp('2004-10-20 00:00:00'),\n",
       " Timestamp('2004-11-19 00:00:00'),\n",
       " Timestamp('2004-12-20 00:00:00'),\n",
       " Timestamp('2005-01-20 00:00:00'),\n",
       " Timestamp('2005-02-22 00:00:00'),\n",
       " Timestamp('2005-03-21 00:00:00'),\n",
       " Timestamp('2005-04-20 00:00:00'),\n",
       " Timestamp('2005-05-20 00:00:00'),\n",
       " Timestamp('2005-06-21 00:00:00'),\n",
       " Timestamp('2005-07-20 00:00:00'),\n",
       " Timestamp('2005-08-22 00:00:00'),\n",
       " Timestamp('2005-09-20 00:00:00'),\n",
       " Timestamp('2005-10-20 00:00:00'),\n",
       " Timestamp('2005-11-18 00:00:00'),\n",
       " Timestamp('2005-12-20 00:00:00'),\n",
       " Timestamp('2006-01-20 00:00:00'),\n",
       " Timestamp('2006-02-21 00:00:00'),\n",
       " Timestamp('2006-03-21 00:00:00'),\n",
       " Timestamp('2006-04-20 00:00:00'),\n",
       " Timestamp('2006-05-22 00:00:00'),\n",
       " Timestamp('2006-06-20 00:00:00'),\n",
       " Timestamp('2006-07-20 00:00:00'),\n",
       " Timestamp('2006-08-22 00:00:00'),\n",
       " Timestamp('2006-09-20 00:00:00'),\n",
       " Timestamp('2006-10-20 00:00:00'),\n",
       " Timestamp('2006-11-17 00:00:00'),\n",
       " Timestamp('2006-12-19 00:00:00'),\n",
       " Timestamp('2007-01-22 00:00:00'),\n",
       " Timestamp('2007-02-20 00:00:00'),\n",
       " Timestamp('2007-03-20 00:00:00'),\n",
       " Timestamp('2007-04-20 00:00:00'),\n",
       " Timestamp('2007-05-22 00:00:00'),\n",
       " Timestamp('2007-06-20 00:00:00'),\n",
       " Timestamp('2007-07-20 00:00:00'),\n",
       " Timestamp('2007-08-21 00:00:00'),\n",
       " Timestamp('2007-09-20 00:00:00'),\n",
       " Timestamp('2007-10-22 00:00:00'),\n",
       " Timestamp('2007-11-16 00:00:00'),\n",
       " Timestamp('2007-12-18 00:00:00'),\n",
       " Timestamp('2008-01-22 00:00:00'),\n",
       " Timestamp('2008-02-20 00:00:00'),\n",
       " Timestamp('2008-03-19 00:00:00'),\n",
       " Timestamp('2008-04-22 00:00:00'),\n",
       " Timestamp('2008-05-20 00:00:00'),\n",
       " Timestamp('2008-06-20 00:00:00'),\n",
       " Timestamp('2008-07-22 00:00:00'),\n",
       " Timestamp('2008-08-20 00:00:00'),\n",
       " Timestamp('2008-09-22 00:00:00'),\n",
       " Timestamp('2008-10-21 00:00:00'),\n",
       " Timestamp('2008-11-20 00:00:00'),\n",
       " Timestamp('2008-12-19 00:00:00'),\n",
       " Timestamp('2009-01-20 00:00:00'),\n",
       " Timestamp('2009-02-20 00:00:00'),\n",
       " Timestamp('2009-03-20 00:00:00'),\n",
       " Timestamp('2009-04-21 00:00:00'),\n",
       " Timestamp('2009-05-19 00:00:00'),\n",
       " Timestamp('2009-06-22 00:00:00'),\n",
       " Timestamp('2009-07-21 00:00:00'),\n",
       " Timestamp('2009-08-20 00:00:00'),\n",
       " Timestamp('2009-09-22 00:00:00'),\n",
       " Timestamp('2009-10-20 00:00:00'),\n",
       " Timestamp('2009-11-20 00:00:00'),\n",
       " Timestamp('2009-12-21 00:00:00'),\n",
       " Timestamp('2010-01-20 00:00:00'),\n",
       " Timestamp('2010-02-22 00:00:00'),\n",
       " Timestamp('2010-03-22 00:00:00'),\n",
       " Timestamp('2010-04-20 00:00:00'),\n",
       " Timestamp('2010-05-20 00:00:00'),\n",
       " Timestamp('2010-06-22 00:00:00'),\n",
       " Timestamp('2010-07-20 00:00:00'),\n",
       " Timestamp('2010-08-20 00:00:00'),\n",
       " Timestamp('2010-09-21 00:00:00'),\n",
       " Timestamp('2010-10-20 00:00:00'),\n",
       " Timestamp('2010-11-19 00:00:00'),\n",
       " Timestamp('2010-12-20 00:00:00'),\n",
       " Timestamp('2011-01-20 00:00:00'),\n",
       " Timestamp('2011-02-22 00:00:00'),\n",
       " Timestamp('2011-03-22 00:00:00'),\n",
       " Timestamp('2011-04-19 00:00:00'),\n",
       " Timestamp('2011-05-20 00:00:00'),\n",
       " Timestamp('2011-06-21 00:00:00'),\n",
       " Timestamp('2011-07-20 00:00:00'),\n",
       " Timestamp('2011-08-22 00:00:00'),\n",
       " Timestamp('2011-09-20 00:00:00'),\n",
       " Timestamp('2011-10-20 00:00:00'),\n",
       " Timestamp('2011-11-18 00:00:00'),\n",
       " Timestamp('2011-12-20 00:00:00'),\n",
       " Timestamp('2012-01-20 00:00:00'),\n",
       " Timestamp('2012-02-21 00:00:00'),\n",
       " Timestamp('2012-03-20 00:00:00'),\n",
       " Timestamp('2012-04-20 00:00:00'),\n",
       " Timestamp('2012-05-22 00:00:00'),\n",
       " Timestamp('2012-06-20 00:00:00'),\n",
       " Timestamp('2012-07-20 00:00:00'),\n",
       " Timestamp('2012-08-21 00:00:00'),\n",
       " Timestamp('2012-09-20 00:00:00'),\n",
       " Timestamp('2012-10-22 00:00:00'),\n",
       " Timestamp('2012-11-16 00:00:00'),\n",
       " Timestamp('2012-12-19 00:00:00'),\n",
       " Timestamp('2013-01-22 00:00:00'),\n",
       " Timestamp('2013-02-20 00:00:00'),\n",
       " Timestamp('2013-03-20 00:00:00'),\n",
       " Timestamp('2013-04-22 00:00:00'),\n",
       " Timestamp('2013-05-21 00:00:00'),\n",
       " Timestamp('2013-06-20 00:00:00'),\n",
       " Timestamp('2013-07-22 00:00:00'),\n",
       " Timestamp('2013-08-20 00:00:00'),\n",
       " Timestamp('2013-09-20 00:00:00'),\n",
       " Timestamp('2013-10-22 00:00:00'),\n",
       " Timestamp('2013-11-20 00:00:00'),\n",
       " Timestamp('2013-12-19 00:00:00'),\n",
       " Timestamp('2014-01-21 00:00:00'),\n",
       " Timestamp('2014-02-20 00:00:00'),\n",
       " Timestamp('2014-03-20 00:00:00'),\n",
       " Timestamp('2014-04-22 00:00:00'),\n",
       " Timestamp('2014-05-20 00:00:00'),\n",
       " Timestamp('2014-06-20 00:00:00'),\n",
       " Timestamp('2014-07-22 00:00:00'),\n",
       " Timestamp('2014-08-20 00:00:00'),\n",
       " Timestamp('2014-09-22 00:00:00'),\n",
       " Timestamp('2014-10-21 00:00:00'),\n",
       " Timestamp('2014-11-20 00:00:00'),\n",
       " Timestamp('2014-12-19 00:00:00'),\n",
       " Timestamp('2015-01-20 00:00:00'),\n",
       " Timestamp('2015-02-20 00:00:00'),\n",
       " Timestamp('2015-03-20 00:00:00'),\n",
       " Timestamp('2015-04-21 00:00:00'),\n",
       " Timestamp('2015-05-19 00:00:00'),\n",
       " Timestamp('2015-06-22 00:00:00'),\n",
       " Timestamp('2015-07-21 00:00:00'),\n",
       " Timestamp('2015-08-20 00:00:00'),\n",
       " Timestamp('2015-09-22 00:00:00'),\n",
       " Timestamp('2015-10-20 00:00:00'),\n",
       " Timestamp('2015-11-20 00:00:00'),\n",
       " Timestamp('2015-12-21 00:00:00'),\n",
       " Timestamp('2016-01-20 00:00:00'),\n",
       " Timestamp('2016-02-22 00:00:00'),\n",
       " Timestamp('2016-03-21 00:00:00'),\n",
       " Timestamp('2016-04-20 00:00:00'),\n",
       " Timestamp('2016-05-20 00:00:00'),\n",
       " Timestamp('2016-06-21 00:00:00'),\n",
       " Timestamp('2016-07-20 00:00:00'),\n",
       " Timestamp('2016-08-22 00:00:00'),\n",
       " Timestamp('2016-09-20 00:00:00'),\n",
       " Timestamp('2016-10-20 00:00:00'),\n",
       " Timestamp('2016-11-21 00:00:00'),\n",
       " Timestamp('2016-12-20 00:00:00'),\n",
       " Timestamp('2017-01-20 00:00:00'),\n",
       " Timestamp('2017-02-21 00:00:00'),\n",
       " Timestamp('2017-03-21 00:00:00'),\n",
       " Timestamp('2017-04-20 00:00:00'),\n",
       " Timestamp('2017-05-22 00:00:00'),\n",
       " Timestamp('2017-06-20 00:00:00'),\n",
       " Timestamp('2017-07-20 00:00:00'),\n",
       " Timestamp('2017-08-22 00:00:00'),\n",
       " Timestamp('2017-09-20 00:00:00'),\n",
       " Timestamp('2017-10-20 00:00:00'),\n",
       " Timestamp('2017-11-20 00:00:00'),\n",
       " Timestamp('2017-12-19 00:00:00'),\n",
       " Timestamp('2018-01-22 00:00:00'),\n",
       " Timestamp('2018-02-20 00:00:00'),\n",
       " Timestamp('2018-03-20 00:00:00'),\n",
       " Timestamp('2018-04-20 00:00:00'),\n",
       " Timestamp('2018-05-22 00:00:00'),\n",
       " Timestamp('2018-06-20 00:00:00'),\n",
       " Timestamp('2018-07-20 00:00:00'),\n",
       " Timestamp('2018-08-21 00:00:00'),\n",
       " Timestamp('2018-09-20 00:00:00'),\n",
       " Timestamp('2018-10-22 00:00:00'),\n",
       " Timestamp('2018-11-19 00:00:00'),\n",
       " Timestamp('2018-12-19 00:00:00'),\n",
       " Timestamp('2019-01-22 00:00:00'),\n",
       " Timestamp('2019-02-20 00:00:00'),\n",
       " Timestamp('2019-03-20 00:00:00'),\n",
       " Timestamp('2019-04-22 00:00:00'),\n",
       " Timestamp('2019-05-21 00:00:00'),\n",
       " Timestamp('2019-06-20 00:00:00'),\n",
       " Timestamp('2019-07-22 00:00:00'),\n",
       " Timestamp('2019-08-20 00:00:00'),\n",
       " Timestamp('2019-09-20 00:00:00'),\n",
       " Timestamp('2019-10-22 00:00:00'),\n",
       " Timestamp('2019-11-20 00:00:00'),\n",
       " Timestamp('2019-12-19 00:00:00'),\n",
       " Timestamp('2020-01-21 00:00:00'),\n",
       " Timestamp('2020-02-20 00:00:00'),\n",
       " Timestamp('2020-03-20 00:00:00'),\n",
       " Timestamp('2020-04-21 00:00:00'),\n",
       " Timestamp('2020-05-19 00:00:00'),\n",
       " Timestamp('2020-06-22 00:00:00'),\n",
       " Timestamp('2020-07-21 00:00:00'),\n",
       " Timestamp('2020-08-20 00:00:00'),\n",
       " Timestamp('2020-09-22 00:00:00'),\n",
       " Timestamp('2020-10-20 00:00:00'),\n",
       " Timestamp('2020-11-20 00:00:00'),\n",
       " Timestamp('2020-12-21 00:00:00'),\n",
       " Timestamp('2021-01-20 00:00:00'),\n",
       " Timestamp('2021-02-22 00:00:00'),\n",
       " Timestamp('2021-03-22 00:00:00'),\n",
       " Timestamp('2021-04-20 00:00:00'),\n",
       " Timestamp('2021-05-20 00:00:00'),\n",
       " Timestamp('2021-06-22 00:00:00'),\n",
       " Timestamp('2021-07-20 00:00:00'),\n",
       " Timestamp('2021-08-20 00:00:00'),\n",
       " Timestamp('2021-09-21 00:00:00'),\n",
       " Timestamp('2021-10-20 00:00:00'),\n",
       " Timestamp('2021-11-19 00:00:00'),\n",
       " Timestamp('2021-12-20 00:00:00'),\n",
       " Timestamp('2022-01-20 00:00:00'),\n",
       " Timestamp('2022-02-22 00:00:00'),\n",
       " Timestamp('2022-03-22 00:00:00'),\n",
       " Timestamp('2022-04-20 00:00:00'),\n",
       " Timestamp('2022-05-20 00:00:00'),\n",
       " Timestamp('2022-06-21 00:00:00'),\n",
       " Timestamp('2022-07-20 00:00:00'),\n",
       " Timestamp('2022-08-22 00:00:00'),\n",
       " Timestamp('2022-09-20 00:00:00'),\n",
       " Timestamp('2022-10-20 00:00:00'),\n",
       " Timestamp('2022-11-21 00:00:00'),\n",
       " Timestamp('2022-12-20 00:00:00'),\n",
       " Timestamp('2023-01-20 00:00:00'),\n",
       " Timestamp('2023-02-21 00:00:00'),\n",
       " Timestamp('2023-03-21 00:00:00'),\n",
       " Timestamp('2023-04-20 00:00:00'),\n",
       " Timestamp('2023-05-22 00:00:00'),\n",
       " Timestamp('2023-06-20 00:00:00'),\n",
       " Timestamp('2023-07-20 00:00:00'),\n",
       " Timestamp('2023-08-22 00:00:00'),\n",
       " Timestamp('2023-09-20 00:00:00'),\n",
       " Timestamp('2023-10-20 00:00:00'),\n",
       " Timestamp('2023-11-20 00:00:00'),\n",
       " Timestamp('2024-05-21 00:00:00'),\n",
       " Timestamp('2024-11-20 00:00:00'),\n",
       " Timestamp('2025-05-20 00:00:00'),\n",
       " Timestamp('2025-11-20 00:00:00'),\n",
       " Timestamp('2026-05-19 00:00:00'),\n",
       " Timestamp('2026-11-20 00:00:00')]"
      ]
     },
     "execution_count": 12,
     "metadata": {},
     "output_type": "execute_result"
    }
   ],
   "source": [
    "# expiry 를 리스트 형태로 바꾸고 exp에 저장\n",
    "exp = expiry.tolist()\n",
    "exp"
   ]
  },
  {
   "cell_type": "code",
   "execution_count": 13,
   "metadata": {
    "slideshow": {
     "slide_type": "slide"
    }
   },
   "outputs": [
    {
     "data": {
      "text/html": [
       "<div>\n",
       "<style scoped>\n",
       "    .dataframe tbody tr th:only-of-type {\n",
       "        vertical-align: middle;\n",
       "    }\n",
       "\n",
       "    .dataframe tbody tr th {\n",
       "        vertical-align: top;\n",
       "    }\n",
       "\n",
       "    .dataframe thead th {\n",
       "        text-align: right;\n",
       "    }\n",
       "</style>\n",
       "<table border=\"1\" class=\"dataframe\">\n",
       "  <thead>\n",
       "    <tr style=\"text-align: right;\">\n",
       "      <th></th>\n",
       "      <th>Spot</th>\n",
       "      <th>Front</th>\n",
       "      <th>Second</th>\n",
       "      <th>Expiry</th>\n",
       "    </tr>\n",
       "    <tr>\n",
       "      <th>Date</th>\n",
       "      <th></th>\n",
       "      <th></th>\n",
       "      <th></th>\n",
       "      <th></th>\n",
       "    </tr>\n",
       "  </thead>\n",
       "  <tbody>\n",
       "    <tr>\n",
       "      <th>2017-12-28</th>\n",
       "      <td>59.84</td>\n",
       "      <td>59.84</td>\n",
       "      <td>59.87</td>\n",
       "      <td></td>\n",
       "    </tr>\n",
       "    <tr>\n",
       "      <th>2017-12-27</th>\n",
       "      <td>59.64</td>\n",
       "      <td>59.64</td>\n",
       "      <td>59.69</td>\n",
       "      <td></td>\n",
       "    </tr>\n",
       "    <tr>\n",
       "      <th>2017-12-26</th>\n",
       "      <td>59.97</td>\n",
       "      <td>59.97</td>\n",
       "      <td>60.00</td>\n",
       "      <td></td>\n",
       "    </tr>\n",
       "    <tr>\n",
       "      <th>2017-12-22</th>\n",
       "      <td>58.42</td>\n",
       "      <td>58.47</td>\n",
       "      <td>58.54</td>\n",
       "      <td></td>\n",
       "    </tr>\n",
       "    <tr>\n",
       "      <th>2017-12-21</th>\n",
       "      <td>58.33</td>\n",
       "      <td>58.36</td>\n",
       "      <td>58.40</td>\n",
       "      <td></td>\n",
       "    </tr>\n",
       "  </tbody>\n",
       "</table>\n",
       "</div>"
      ],
      "text/plain": [
       "             Spot  Front  Second Expiry\n",
       "Date                                   \n",
       "2017-12-28  59.84  59.84   59.87       \n",
       "2017-12-27  59.64  59.64   59.69       \n",
       "2017-12-26  59.97  59.97   60.00       \n",
       "2017-12-22  58.42  58.47   58.54       \n",
       "2017-12-21  58.33  58.36   58.40       "
      ]
     },
     "execution_count": 13,
     "metadata": {},
     "output_type": "execute_result"
    }
   ],
   "source": [
    "# 데이터프레임에 Expiry 컬럼 생성\n",
    "df['Expiry'] = ''\n",
    "df.head()"
   ]
  },
  {
   "cell_type": "code",
   "execution_count": 14,
   "metadata": {
    "scrolled": true,
    "slideshow": {
     "slide_type": "slide"
    }
   },
   "outputs": [
    {
     "data": {
      "text/html": [
       "<div>\n",
       "<style scoped>\n",
       "    .dataframe tbody tr th:only-of-type {\n",
       "        vertical-align: middle;\n",
       "    }\n",
       "\n",
       "    .dataframe tbody tr th {\n",
       "        vertical-align: top;\n",
       "    }\n",
       "\n",
       "    .dataframe thead th {\n",
       "        text-align: right;\n",
       "    }\n",
       "</style>\n",
       "<table border=\"1\" class=\"dataframe\">\n",
       "  <thead>\n",
       "    <tr style=\"text-align: right;\">\n",
       "      <th></th>\n",
       "      <th>Spot</th>\n",
       "      <th>Front</th>\n",
       "      <th>Second</th>\n",
       "      <th>Expiry</th>\n",
       "    </tr>\n",
       "    <tr>\n",
       "      <th>Date</th>\n",
       "      <th></th>\n",
       "      <th></th>\n",
       "      <th></th>\n",
       "      <th></th>\n",
       "    </tr>\n",
       "  </thead>\n",
       "  <tbody>\n",
       "    <tr>\n",
       "      <th>2017-11-21</th>\n",
       "      <td>56.72</td>\n",
       "      <td>56.83</td>\n",
       "      <td>56.92</td>\n",
       "      <td></td>\n",
       "    </tr>\n",
       "    <tr>\n",
       "      <th>2017-11-20</th>\n",
       "      <td>56.09</td>\n",
       "      <td>56.09</td>\n",
       "      <td>56.42</td>\n",
       "      <td>1</td>\n",
       "    </tr>\n",
       "    <tr>\n",
       "      <th>2017-11-17</th>\n",
       "      <td>56.55</td>\n",
       "      <td>56.55</td>\n",
       "      <td>56.71</td>\n",
       "      <td></td>\n",
       "    </tr>\n",
       "    <tr>\n",
       "      <th>2017-11-16</th>\n",
       "      <td>55.14</td>\n",
       "      <td>55.14</td>\n",
       "      <td>55.35</td>\n",
       "      <td></td>\n",
       "    </tr>\n",
       "    <tr>\n",
       "      <th>2017-11-15</th>\n",
       "      <td>55.33</td>\n",
       "      <td>55.33</td>\n",
       "      <td>55.52</td>\n",
       "      <td></td>\n",
       "    </tr>\n",
       "  </tbody>\n",
       "</table>\n",
       "</div>"
      ],
      "text/plain": [
       "             Spot  Front  Second Expiry\n",
       "Date                                   \n",
       "2017-11-21  56.72  56.83   56.92       \n",
       "2017-11-20  56.09  56.09   56.42      1\n",
       "2017-11-17  56.55  56.55   56.71       \n",
       "2017-11-16  55.14  55.14   55.35       \n",
       "2017-11-15  55.33  55.33   55.52       "
      ]
     },
     "execution_count": 14,
     "metadata": {},
     "output_type": "execute_result"
    }
   ],
   "source": [
    "# Trading day 중 만기일 찾아서 표시하기\n",
    "for d in df.index:\n",
    "    if d in exp:\n",
    "        df.loc[d, 'Expiry'] = 1\n",
    "df[25:30] "
   ]
  },
  {
   "cell_type": "code",
   "execution_count": 15,
   "metadata": {
    "slideshow": {
     "slide_type": "slide"
    }
   },
   "outputs": [
    {
     "name": "stdout",
     "output_type": "stream",
     "text": [
      "손익 (현재가격 - 초기가격) :  -21,670.00\n"
     ]
    }
   ],
   "source": [
    "# 현물에 투자했다면\n",
    "# 손익 = 현재가격 - 초기가격\n",
    "price_now = float(df.loc['2017-12-28', 'Spot'])\n",
    "price_before = float(df.loc['2010-01-04', 'Spot'])\n",
    "profit = (price_now - price_before) * 1000\n",
    "print('손익 (현재가격 - 초기가격) : ', '{:,.2f}'.format(profit))"
   ]
  },
  {
   "cell_type": "code",
   "execution_count": 16,
   "metadata": {
    "slideshow": {
     "slide_type": "slide"
    }
   },
   "outputs": [
    {
     "name": "stdout",
     "output_type": "stream",
     "text": [
      "누적 롤오버 비용 : 40.68\n"
     ]
    }
   ],
   "source": [
    "# 선물에 투자했다면\n",
    "# 손익 = 현재가격 - 초기가격 - 롤오버 비용\n",
    "roll_over_cost_acc = 0\n",
    "for d in df.index:\n",
    "    if (df.loc[d, 'Expiry'] == 1):\n",
    "        # 롤오버 비용 = 차근월물 가격 - 최근월물 가격\n",
    "        roll_over_cost = df.loc[d, 'Second'] - df.loc[d, 'Front']\n",
    "        roll_over_cost_acc = roll_over_cost_acc + roll_over_cost\n",
    "        \n",
    "print('누적 롤오버 비용 :', '{:,.2f}'.format(roll_over_cost_acc))"
   ]
  },
  {
   "cell_type": "code",
   "execution_count": 17,
   "metadata": {},
   "outputs": [
    {
     "name": "stdout",
     "output_type": "stream",
     "text": [
      "누적 손익 -62,350.00\n"
     ]
    }
   ],
   "source": [
    "price_now = float(df.loc['2017-12-28', 'Front'])\n",
    "price_before = float(df.loc['2010-01-04', 'Front'])\n",
    "profit = (price_now - price_before - roll_over_cost_acc) * 1000\n",
    "print('누적 손익', '{:,.2f}'.format(profit))"
   ]
  },
  {
   "cell_type": "code",
   "execution_count": null,
   "metadata": {},
   "outputs": [],
   "source": []
  }
 ],
 "metadata": {
  "celltoolbar": "Slideshow",
  "kernelspec": {
   "display_name": "Python 3",
   "language": "python",
   "name": "python3"
  },
  "language_info": {
   "codemirror_mode": {
    "name": "ipython",
    "version": 3
   },
   "file_extension": ".py",
   "mimetype": "text/x-python",
   "name": "python",
   "nbconvert_exporter": "python",
   "pygments_lexer": "ipython3",
   "version": "3.7.3"
  },
  "rise": {
   "scroll": true
  }
 },
 "nbformat": 4,
 "nbformat_minor": 2
}
