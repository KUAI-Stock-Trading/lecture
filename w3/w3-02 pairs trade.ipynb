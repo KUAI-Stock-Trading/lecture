{
 "cells": [
  {
   "cell_type": "code",
   "execution_count": null,
   "metadata": {
    "slideshow": {
     "slide_type": "slide"
    }
   },
   "outputs": [],
   "source": [
    "import pandas as pd\n",
    "import finterstellar as fs"
   ]
  },
  {
   "cell_type": "code",
   "execution_count": null,
   "metadata": {},
   "outputs": [],
   "source": [
    "path = './data/'\n",
    "cd = ['CSI 300', 'KOSPI 200']"
   ]
  },
  {
   "cell_type": "markdown",
   "metadata": {
    "slideshow": {
     "slide_type": "slide"
    }
   },
   "source": [
    "시세 읽어오기"
   ]
  },
  {
   "cell_type": "code",
   "execution_count": null,
   "metadata": {},
   "outputs": [],
   "source": [
    "file_name = path + cd[0] + ' Historical Data.csv'\n",
    "df1 = pd.read_csv(file_name, index_col='Date')\n",
    "\n",
    "# 날짜 처리\n",
    "ld = fs.LoadData()\n",
    "df1 = ld.date_formatting(df1)    \n",
    "# date_formatting(데이터프레임) - 날짜 처리\n",
    "\n",
    "df1 = ld.price_df_trimming(df1, cd[0])\n",
    "# price_df_trimming(데이터프레임) - 시세 처리\n",
    "df1.head()"
   ]
  },
  {
   "cell_type": "code",
   "execution_count": null,
   "metadata": {},
   "outputs": [],
   "source": [
    "file_name = path + cd[1] + ' Historical Data.csv'\n",
    "df2 = pd.read_csv(file_name, index_col='Date')\n",
    "\n",
    "# 날짜 처리\n",
    "ld = fs.LoadData()\n",
    "df2 = ld.date_formatting(df2)    \n",
    "# date_formatting(데이터프레임) - 날짜 처리\n",
    "\n",
    "df2 = ld.price_df_trimming(df2, cd[1])\n",
    "# price_df_trimming(데이터프레임) - 시세 처리\n",
    "df2.head()"
   ]
  },
  {
   "cell_type": "code",
   "execution_count": null,
   "metadata": {
    "slideshow": {
     "slide_type": "slide"
    }
   },
   "outputs": [],
   "source": [
    "df = pd.concat([df1, df2], axis=1)    \n",
    "# pd.concat([데이터프레임1, 데이터프레임2, ...], axis=1) - 데이터프레임 합치기\n",
    "df.tail()"
   ]
  },
  {
   "cell_type": "markdown",
   "metadata": {
    "slideshow": {
     "slide_type": "slide"
    }
   },
   "source": [
    "구멍 메우기 (보간법)"
   ]
  },
  {
   "cell_type": "code",
   "execution_count": null,
   "metadata": {
    "slideshow": {
     "slide_type": "-"
    }
   },
   "outputs": [],
   "source": [
    "df = df.fillna(method='ffill')\n",
    "# df.fillna(method='ffill') - 앞의 데이터로 뒤 구멍 메우기\n",
    "df.tail()"
   ]
  },
  {
   "cell_type": "markdown",
   "metadata": {
    "slideshow": {
     "slide_type": "slide"
    }
   },
   "source": [
    "기준일 설정"
   ]
  },
  {
   "cell_type": "code",
   "execution_count": null,
   "metadata": {},
   "outputs": [],
   "source": [
    "df.loc['2018-01-02']"
   ]
  },
  {
   "cell_type": "code",
   "execution_count": null,
   "metadata": {},
   "outputs": [],
   "source": [
    "base_date = '2018-01-02'    # 기준일자 설정"
   ]
  },
  {
   "cell_type": "markdown",
   "metadata": {
    "slideshow": {
     "slide_type": "slide"
    }
   },
   "source": [
    "기준일 이후로 샘플데이터 만들기"
   ]
  },
  {
   "cell_type": "code",
   "execution_count": null,
   "metadata": {},
   "outputs": [],
   "source": [
    "sample = df.loc[base_date:].copy()    # 기준일 이후 데이터만 가져와 sample에 저장 (샘플링)\n",
    "sample.head()"
   ]
  },
  {
   "cell_type": "markdown",
   "metadata": {
    "slideshow": {
     "slide_type": "slide"
    }
   },
   "source": [
    "회귀분석 finterstellar 이용"
   ]
  },
  {
   "cell_type": "code",
   "execution_count": null,
   "metadata": {},
   "outputs": [],
   "source": [
    "trd = fs.PairTrade()"
   ]
  },
  {
   "cell_type": "code",
   "execution_count": null,
   "metadata": {},
   "outputs": [],
   "source": [
    "regr = trd.regression(sample, cd)\n",
    "regr"
   ]
  },
  {
   "cell_type": "markdown",
   "metadata": {
    "slideshow": {
     "slide_type": "slide"
    }
   },
   "source": [
    "추세선을 이용해 x 주가를 이용해 y 주가를 계산"
   ]
  },
  {
   "cell_type": "code",
   "execution_count": null,
   "metadata": {},
   "outputs": [],
   "source": [
    "sample[cd[1]+' expected'] = sample[cd[0]] * regr['Slope'] + regr['Intercept']\n",
    "# y주가 기대값은 추세선 상에 위치\n",
    "sample[cd[1]+' spread'] = sample[cd[1]] - sample[cd[1]+' expected']\n",
    "# 스프레드 = y주가 - 기대값\n",
    "sample.head()"
   ]
  },
  {
   "cell_type": "markdown",
   "metadata": {
    "slideshow": {
     "slide_type": "slide"
    }
   },
   "source": [
    "역치값 설정"
   ]
  },
  {
   "cell_type": "code",
   "execution_count": null,
   "metadata": {},
   "outputs": [],
   "source": [
    "# trading strategy determinants\n",
    "threshold = 0.02   # percent 값으로 오차허용 구간을 정의"
   ]
  },
  {
   "cell_type": "markdown",
   "metadata": {
    "slideshow": {
     "slide_type": "slide"
    }
   },
   "source": [
    "트레이딩북 생성"
   ]
  },
  {
   "cell_type": "code",
   "execution_count": null,
   "metadata": {},
   "outputs": [],
   "source": [
    "book = pd.DataFrame()    # 빈 트레이딩북(데이터프레임) 생성\n",
    "book[cd] = sample[cd]    # sample에서 시세 복사\n",
    "book['trade'] = ''    # 매매전략 입력을 위한 trade 컬럼 생성\n",
    "for c in cd:    # 종목쌍 내의 각 종목에 대해\n",
    "    book['p '+c] = ''     # 포지션 입력을 위한 p 종목코드 컬럼 생성"
   ]
  },
  {
   "cell_type": "code",
   "execution_count": null,
   "metadata": {},
   "outputs": [],
   "source": [
    "book.head()"
   ]
  },
  {
   "cell_type": "markdown",
   "metadata": {
    "slideshow": {
     "slide_type": "slide"
    }
   },
   "source": [
    "일별 매매내역"
   ]
  },
  {
   "cell_type": "code",
   "execution_count": null,
   "metadata": {},
   "outputs": [],
   "source": [
    "for i in sample.index:\n",
    "    thd = float( threshold * sample.loc[i, cd[1]] )    # 오차구간 계산\n",
    "    if sample.loc[i, cd[1]+' spread'] > thd:     # if 스프레드 > 오차구간 :\n",
    "        book.loc[i, 'trade'] = 'buy '+cd[0]      # trade : buy 종목X\n",
    "    elif threshold >= sample.loc[i, cd[1]+' spread'] and sample.loc[i, cd[1]+' spread'] >= 0:    \n",
    "    # elif 오차구간 >= 스프레드 & 스프레드 >= 0 :\n",
    "        book.loc[i, 'trade'] = ''     # trade : clear\n",
    "    elif 0 > sample.loc[i, cd[1]+' spread'] and sample.loc[i, cd[1]+' spread'] >= -thd:\n",
    "    # elif 0 >= 스프레드 & 스프레드 >= -오차구간 :\n",
    "        book.loc[i, 'trade'] = ''     # trade : clear\n",
    "    elif -threshold > sample.loc[i, cd[1]+' spread']:\n",
    "    # elif -오차구간 > 스프레드 :\n",
    "        book.loc[i, 'trade'] = 'buy '+cd[1]     # trade : buy 종목Y"
   ]
  },
  {
   "cell_type": "code",
   "execution_count": null,
   "metadata": {},
   "outputs": [],
   "source": [
    "book.head()"
   ]
  },
  {
   "cell_type": "markdown",
   "metadata": {
    "slideshow": {
     "slide_type": "slide"
    }
   },
   "source": [
    "포지션 기록"
   ]
  },
  {
   "cell_type": "code",
   "execution_count": null,
   "metadata": {},
   "outputs": [],
   "source": [
    "for c in cd:\n",
    "    status = ''\n",
    "    for i in book.index:\n",
    "        if book.loc[i, 'trade'] == 'buy '+c:     # 현재 buy 일때,\n",
    "            if book.shift(1).loc[i, 'trade'] == 'buy '+c:   # 전일도 buy 였으면\n",
    "                status = 'll'     # 롱>롱\n",
    "            elif book.shift(1).loc[i, 'trade'] == '':    # 전일에 zero 였으면\n",
    "                status = 'zl'     # zero>롱\n",
    "            elif book.shift(1).loc[i, 'trade'] == 'sell '+c:    # 전일에 sell 였으면\n",
    "                status = 'sl'     # 숏>롱\n",
    "            else:    # 그밖의 경우\n",
    "                status = 'zl'    # zero>롱\n",
    "        elif book.loc[i, 'trade'] == 'sell '+c:\n",
    "            if book.shift(1).loc[i, 'trade'] == 'buy '+c:\n",
    "                status = 'ls'\n",
    "            elif book.shift(1).loc[i, 'trade'] == '':\n",
    "                status = 'zs'\n",
    "            elif book.shift(1).loc[i, 'trade'] == 'sell '+c:\n",
    "                status = 'ss'\n",
    "            else:\n",
    "                status = 'zs'\n",
    "        elif book.loc[i, 'trade'] == '':\n",
    "            if book.shift(1).loc[i, 'trade'] == 'buy '+c:\n",
    "                status = 'lz'\n",
    "            elif book.shift(1).loc[i, 'trade'] == '':\n",
    "                status = 'zz'\n",
    "            elif book.shift(1).loc[i, 'trade'] == 'sell '+c:\n",
    "                status = 'sz'\n",
    "            else:\n",
    "                status = 'zz'\n",
    "        else:\n",
    "            status = 'zz'\n",
    "        book.loc[i, 'p '+c] = status\n"
   ]
  },
  {
   "cell_type": "code",
   "execution_count": null,
   "metadata": {},
   "outputs": [],
   "source": [
    "book.head()"
   ]
  },
  {
   "cell_type": "markdown",
   "metadata": {
    "slideshow": {
     "slide_type": "slide"
    }
   },
   "source": [
    "수익률 계산"
   ]
  },
  {
   "cell_type": "code",
   "execution_count": null,
   "metadata": {},
   "outputs": [],
   "source": [
    "rtn = 1.0\n",
    "book['return'] = 1\n",
    "for c in cd:     # 종목별로 순환\n",
    "    buy = 0.0\n",
    "    sell = 0.0\n",
    "    for i in book.index:     # 일자별로 순환\n",
    "\n",
    "        if book.loc[i, 'p '+c] == 'zl' or book.loc[i, 'p '+c] == 'sl' :     # long 진입\n",
    "            buy = book.loc[i, c]    # 매수 가격 확정\n",
    "            print(i.date(), 'long '+c, buy)\n",
    "        elif book.loc[i, 'p '+c] == 'lz' or book.loc[i, 'p '+c] == 'ls' :     # long 청산\n",
    "            sell = book.loc[i, c]    # 매도 가격 확정\n",
    "            # 손익 계산\n",
    "            rtn = sell / buy    \n",
    "            # 손익 = (매도가-매수가)/매수가 + 1 , 100원 투자해서 10원 벌면 손익은 1.10\n",
    "            book.loc[i, 'return'] = rtn    # 트레이딩북에 손익 기록\n",
    "            print(i.date(), 'long '+c, buy, ' | unwind long '+c, sell, ' | return:', round(rtn, 4))\n",
    "\n",
    "        elif book.loc[i, 'p '+c] == 'zs' or book.loc[i, 'p '+c] == 'ls' :     # short 진입\n",
    "            sell = book.loc[i, c]    # 공매도 가격 확정\n",
    "            print(i.date(), 'short '+c, sell)\n",
    "        elif book.loc[i, 'p '+c] == 'sz' or book.loc[i, 'p '+c] == 'sl' :     # short 청산\n",
    "            buy = book.loc[i, c]    # 숏커버 가격 확정\n",
    "            # 손익 계산\n",
    "            rtn = buy / sell \n",
    "            book.loc[i, 'return'] = rtn\n",
    "            print(i.date(), 'short '+c, sell, ' | unwind short '+c, buy, ' | return:', round(rtn, 4))\n",
    "\n",
    "    if book.loc[i, 'trade'] == '' and book.loc[i, 'p '+c] == '':     # zero position\n",
    "        buy = 0.0\n",
    "        sell = 0.0\n",
    "\n",
    "acc_rtn = 1.0\n",
    "for i in book.index:\n",
    "    rtn = book.loc[i, 'return']\n",
    "    acc_rtn = acc_rtn * rtn\n",
    "    book.loc[i, 'acc return'] = acc_rtn\n",
    "\n",
    "print ('Accunulated return :', round(acc_rtn, 4))"
   ]
  },
  {
   "cell_type": "markdown",
   "metadata": {
    "slideshow": {
     "slide_type": "slide"
    }
   },
   "source": [
    "벤치마크 수익률"
   ]
  },
  {
   "cell_type": "code",
   "execution_count": null,
   "metadata": {},
   "outputs": [],
   "source": [
    "n = len(cd)    # 몇 종목인지?\n",
    "rtn = dict()    # 각 종목의 수익률을 담을 딕셔너리 선언\n",
    "bm_rtn = float()    # 벤치마크 수익률을 담을 변수 선언\n",
    "for c in cd:    # 종목마다 돌면서\n",
    "    rtn[c] = round ( book[c].iloc[-1] / book[c].iloc[0] , 4)   \n",
    "    # 종목별 벤치마크 수익률 = (최종가격 - 최초가격) / 최초가격\n",
    "    bm_rtn += rtn[c]/n   # 각 종목 수익률을 종목 개수로 나누고 합쳐준다\n",
    "print('BM return:', round(bm_rtn, 4) )\n",
    "print(rtn)"
   ]
  },
  {
   "cell_type": "markdown",
   "metadata": {},
   "source": [
    "초과수익률 %"
   ]
  },
  {
   "cell_type": "code",
   "execution_count": null,
   "metadata": {},
   "outputs": [],
   "source": [
    "exs_rtn =  acc_rtn - bm_rtn \n",
    "print('Excess return:', round(exs_rtn, 4) )"
   ]
  },
  {
   "cell_type": "markdown",
   "metadata": {
    "slideshow": {
     "slide_type": "slide"
    }
   },
   "source": [
    "그래프 모듈 호출"
   ]
  },
  {
   "cell_type": "code",
   "execution_count": null,
   "metadata": {},
   "outputs": [],
   "source": [
    "import finterstellar as fs\n",
    "v = fs.Visualize()     # fs 라이브러리의 Visualize() 모듈을 불러와 v로 지정"
   ]
  },
  {
   "cell_type": "code",
   "execution_count": null,
   "metadata": {},
   "outputs": [],
   "source": [
    "v.pair_trend_index_view(sample, threshold, cd)\n",
    "# pairs_trend_index_view(데이터프레임, 역치, [종목코드쌍], (사이즈)) - 페어트레이딩 그래프 그리기"
   ]
  },
  {
   "cell_type": "code",
   "execution_count": null,
   "metadata": {},
   "outputs": [],
   "source": [
    "v.position_view(book, cd)\n",
    "# v 모듈의 position_view(트레이딩북, 종목코드, (사이즈)) 함수를 이용해 포지션 보유내역 그래프 그리기"
   ]
  },
  {
   "cell_type": "code",
   "execution_count": null,
   "metadata": {},
   "outputs": [],
   "source": []
  }
 ],
 "metadata": {
  "celltoolbar": "Slideshow",
  "kernelspec": {
   "display_name": "Python 3",
   "language": "python",
   "name": "python3"
  },
  "language_info": {
   "codemirror_mode": {
    "name": "ipython",
    "version": 3
   },
   "file_extension": ".py",
   "mimetype": "text/x-python",
   "name": "python",
   "nbconvert_exporter": "python",
   "pygments_lexer": "ipython3",
   "version": "3.7.3"
  },
  "rise": {
   "scroll": true
  }
 },
 "nbformat": 4,
 "nbformat_minor": 2
}
