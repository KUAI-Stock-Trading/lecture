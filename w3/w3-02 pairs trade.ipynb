{
 "cells": [
  {
   "cell_type": "code",
   "execution_count": 1,
   "metadata": {
    "slideshow": {
     "slide_type": "slide"
    }
   },
   "outputs": [],
   "source": [
    "import pandas as pd\n",
    "import finterstellar as fs"
   ]
  },
  {
   "cell_type": "code",
   "execution_count": 2,
   "metadata": {},
   "outputs": [],
   "source": [
    "path = './data/'\n",
    "cd = ['CSI 300', 'KOSPI 200']"
   ]
  },
  {
   "cell_type": "markdown",
   "metadata": {
    "slideshow": {
     "slide_type": "slide"
    }
   },
   "source": [
    "시세 읽어오기"
   ]
  },
  {
   "cell_type": "code",
   "execution_count": 3,
   "metadata": {},
   "outputs": [
    {
     "data": {
      "text/html": [
       "<div>\n",
       "<style scoped>\n",
       "    .dataframe tbody tr th:only-of-type {\n",
       "        vertical-align: middle;\n",
       "    }\n",
       "\n",
       "    .dataframe tbody tr th {\n",
       "        vertical-align: top;\n",
       "    }\n",
       "\n",
       "    .dataframe thead th {\n",
       "        text-align: right;\n",
       "    }\n",
       "</style>\n",
       "<table border=\"1\" class=\"dataframe\">\n",
       "  <thead>\n",
       "    <tr style=\"text-align: right;\">\n",
       "      <th></th>\n",
       "      <th>CSI 300</th>\n",
       "    </tr>\n",
       "    <tr>\n",
       "      <th>Date</th>\n",
       "      <th></th>\n",
       "    </tr>\n",
       "  </thead>\n",
       "  <tbody>\n",
       "    <tr>\n",
       "      <th>2017-01-03</th>\n",
       "      <td>3342.23</td>\n",
       "    </tr>\n",
       "    <tr>\n",
       "      <th>2017-01-04</th>\n",
       "      <td>3368.31</td>\n",
       "    </tr>\n",
       "    <tr>\n",
       "      <th>2017-01-05</th>\n",
       "      <td>3367.79</td>\n",
       "    </tr>\n",
       "    <tr>\n",
       "      <th>2017-01-06</th>\n",
       "      <td>3347.67</td>\n",
       "    </tr>\n",
       "    <tr>\n",
       "      <th>2017-01-09</th>\n",
       "      <td>3363.90</td>\n",
       "    </tr>\n",
       "  </tbody>\n",
       "</table>\n",
       "</div>"
      ],
      "text/plain": [
       "            CSI 300\n",
       "Date               \n",
       "2017-01-03  3342.23\n",
       "2017-01-04  3368.31\n",
       "2017-01-05  3367.79\n",
       "2017-01-06  3347.67\n",
       "2017-01-09  3363.90"
      ]
     },
     "execution_count": 3,
     "metadata": {},
     "output_type": "execute_result"
    }
   ],
   "source": [
    "file_name = path + cd[0] + ' Historical Data.csv'\n",
    "df1 = pd.read_csv(file_name, index_col='Date')\n",
    "\n",
    "# 날짜 처리\n",
    "ld = fs.LoadData()\n",
    "df1 = ld.date_formatting(df1)    \n",
    "# date_formatting(데이터프레임) - 날짜 처리\n",
    "\n",
    "df1 = ld.price_df_trimming(df1, cd[0])\n",
    "# price_df_trimming(데이터프레임) - 시세 처리\n",
    "df1.head()"
   ]
  },
  {
   "cell_type": "code",
   "execution_count": 4,
   "metadata": {},
   "outputs": [
    {
     "data": {
      "text/html": [
       "<div>\n",
       "<style scoped>\n",
       "    .dataframe tbody tr th:only-of-type {\n",
       "        vertical-align: middle;\n",
       "    }\n",
       "\n",
       "    .dataframe tbody tr th {\n",
       "        vertical-align: top;\n",
       "    }\n",
       "\n",
       "    .dataframe thead th {\n",
       "        text-align: right;\n",
       "    }\n",
       "</style>\n",
       "<table border=\"1\" class=\"dataframe\">\n",
       "  <thead>\n",
       "    <tr style=\"text-align: right;\">\n",
       "      <th></th>\n",
       "      <th>KOSPI 200</th>\n",
       "    </tr>\n",
       "    <tr>\n",
       "      <th>Date</th>\n",
       "      <th></th>\n",
       "    </tr>\n",
       "  </thead>\n",
       "  <tbody>\n",
       "    <tr>\n",
       "      <th>2017-01-02</th>\n",
       "      <td>260.36</td>\n",
       "    </tr>\n",
       "    <tr>\n",
       "      <th>2017-01-03</th>\n",
       "      <td>262.97</td>\n",
       "    </tr>\n",
       "    <tr>\n",
       "      <th>2017-01-04</th>\n",
       "      <td>263.12</td>\n",
       "    </tr>\n",
       "    <tr>\n",
       "      <th>2017-01-05</th>\n",
       "      <td>261.98</td>\n",
       "    </tr>\n",
       "    <tr>\n",
       "      <th>2017-01-06</th>\n",
       "      <td>263.20</td>\n",
       "    </tr>\n",
       "  </tbody>\n",
       "</table>\n",
       "</div>"
      ],
      "text/plain": [
       "            KOSPI 200\n",
       "Date                 \n",
       "2017-01-02     260.36\n",
       "2017-01-03     262.97\n",
       "2017-01-04     263.12\n",
       "2017-01-05     261.98\n",
       "2017-01-06     263.20"
      ]
     },
     "execution_count": 4,
     "metadata": {},
     "output_type": "execute_result"
    }
   ],
   "source": [
    "file_name = path + cd[1] + ' Historical Data.csv'\n",
    "df2 = pd.read_csv(file_name, index_col='Date')\n",
    "\n",
    "# 날짜 처리\n",
    "ld = fs.LoadData()\n",
    "df2 = ld.date_formatting(df2)    \n",
    "# date_formatting(데이터프레임) - 날짜 처리\n",
    "\n",
    "df2 = ld.price_df_trimming(df2, cd[1])\n",
    "# price_df_trimming(데이터프레임) - 시세 처리\n",
    "df2.head()"
   ]
  },
  {
   "cell_type": "code",
   "execution_count": 5,
   "metadata": {
    "slideshow": {
     "slide_type": "slide"
    }
   },
   "outputs": [
    {
     "data": {
      "text/html": [
       "<div>\n",
       "<style scoped>\n",
       "    .dataframe tbody tr th:only-of-type {\n",
       "        vertical-align: middle;\n",
       "    }\n",
       "\n",
       "    .dataframe tbody tr th {\n",
       "        vertical-align: top;\n",
       "    }\n",
       "\n",
       "    .dataframe thead th {\n",
       "        text-align: right;\n",
       "    }\n",
       "</style>\n",
       "<table border=\"1\" class=\"dataframe\">\n",
       "  <thead>\n",
       "    <tr style=\"text-align: right;\">\n",
       "      <th></th>\n",
       "      <th>CSI 300</th>\n",
       "      <th>KOSPI 200</th>\n",
       "    </tr>\n",
       "    <tr>\n",
       "      <th>Date</th>\n",
       "      <th></th>\n",
       "      <th></th>\n",
       "    </tr>\n",
       "  </thead>\n",
       "  <tbody>\n",
       "    <tr>\n",
       "      <th>2019-04-22</th>\n",
       "      <td>4025.61</td>\n",
       "      <td>285.87</td>\n",
       "    </tr>\n",
       "    <tr>\n",
       "      <th>2019-04-23</th>\n",
       "      <td>4019.01</td>\n",
       "      <td>286.47</td>\n",
       "    </tr>\n",
       "    <tr>\n",
       "      <th>2019-04-24</th>\n",
       "      <td>4030.09</td>\n",
       "      <td>283.70</td>\n",
       "    </tr>\n",
       "    <tr>\n",
       "      <th>2019-04-25</th>\n",
       "      <td>3941.82</td>\n",
       "      <td>282.83</td>\n",
       "    </tr>\n",
       "    <tr>\n",
       "      <th>2019-04-26</th>\n",
       "      <td>3889.27</td>\n",
       "      <td>281.34</td>\n",
       "    </tr>\n",
       "  </tbody>\n",
       "</table>\n",
       "</div>"
      ],
      "text/plain": [
       "            CSI 300  KOSPI 200\n",
       "Date                          \n",
       "2019-04-22  4025.61     285.87\n",
       "2019-04-23  4019.01     286.47\n",
       "2019-04-24  4030.09     283.70\n",
       "2019-04-25  3941.82     282.83\n",
       "2019-04-26  3889.27     281.34"
      ]
     },
     "execution_count": 5,
     "metadata": {},
     "output_type": "execute_result"
    }
   ],
   "source": [
    "df = pd.concat([df1, df2], axis=1)    \n",
    "# pd.concat([데이터프레임1, 데이터프레임2, ...], axis=1) - 데이터프레임 합치기\n",
    "df.tail()"
   ]
  },
  {
   "cell_type": "markdown",
   "metadata": {
    "slideshow": {
     "slide_type": "slide"
    }
   },
   "source": [
    "구멍 메우기 (보간법)"
   ]
  },
  {
   "cell_type": "code",
   "execution_count": 6,
   "metadata": {
    "slideshow": {
     "slide_type": "-"
    }
   },
   "outputs": [
    {
     "data": {
      "text/html": [
       "<div>\n",
       "<style scoped>\n",
       "    .dataframe tbody tr th:only-of-type {\n",
       "        vertical-align: middle;\n",
       "    }\n",
       "\n",
       "    .dataframe tbody tr th {\n",
       "        vertical-align: top;\n",
       "    }\n",
       "\n",
       "    .dataframe thead th {\n",
       "        text-align: right;\n",
       "    }\n",
       "</style>\n",
       "<table border=\"1\" class=\"dataframe\">\n",
       "  <thead>\n",
       "    <tr style=\"text-align: right;\">\n",
       "      <th></th>\n",
       "      <th>CSI 300</th>\n",
       "      <th>KOSPI 200</th>\n",
       "    </tr>\n",
       "    <tr>\n",
       "      <th>Date</th>\n",
       "      <th></th>\n",
       "      <th></th>\n",
       "    </tr>\n",
       "  </thead>\n",
       "  <tbody>\n",
       "    <tr>\n",
       "      <th>2019-04-22</th>\n",
       "      <td>4025.61</td>\n",
       "      <td>285.87</td>\n",
       "    </tr>\n",
       "    <tr>\n",
       "      <th>2019-04-23</th>\n",
       "      <td>4019.01</td>\n",
       "      <td>286.47</td>\n",
       "    </tr>\n",
       "    <tr>\n",
       "      <th>2019-04-24</th>\n",
       "      <td>4030.09</td>\n",
       "      <td>283.70</td>\n",
       "    </tr>\n",
       "    <tr>\n",
       "      <th>2019-04-25</th>\n",
       "      <td>3941.82</td>\n",
       "      <td>282.83</td>\n",
       "    </tr>\n",
       "    <tr>\n",
       "      <th>2019-04-26</th>\n",
       "      <td>3889.27</td>\n",
       "      <td>281.34</td>\n",
       "    </tr>\n",
       "  </tbody>\n",
       "</table>\n",
       "</div>"
      ],
      "text/plain": [
       "            CSI 300  KOSPI 200\n",
       "Date                          \n",
       "2019-04-22  4025.61     285.87\n",
       "2019-04-23  4019.01     286.47\n",
       "2019-04-24  4030.09     283.70\n",
       "2019-04-25  3941.82     282.83\n",
       "2019-04-26  3889.27     281.34"
      ]
     },
     "execution_count": 6,
     "metadata": {},
     "output_type": "execute_result"
    }
   ],
   "source": [
    "df = df.fillna(method='ffill')\n",
    "# df.fillna(method='ffill') - 앞의 데이터로 뒤 구멍 메우기\n",
    "df.tail()"
   ]
  },
  {
   "cell_type": "markdown",
   "metadata": {
    "slideshow": {
     "slide_type": "slide"
    }
   },
   "source": [
    "기준일 설정"
   ]
  },
  {
   "cell_type": "code",
   "execution_count": 7,
   "metadata": {},
   "outputs": [
    {
     "data": {
      "text/plain": [
       "CSI 300      4087.4\n",
       "KOSPI 200     326.0\n",
       "Name: 2018-01-02 00:00:00, dtype: float64"
      ]
     },
     "execution_count": 7,
     "metadata": {},
     "output_type": "execute_result"
    }
   ],
   "source": [
    "df.loc['2018-01-02']"
   ]
  },
  {
   "cell_type": "code",
   "execution_count": 9,
   "metadata": {},
   "outputs": [],
   "source": [
    "base_date = '2018-01-02'    # 기준일자 설정"
   ]
  },
  {
   "cell_type": "markdown",
   "metadata": {
    "slideshow": {
     "slide_type": "slide"
    }
   },
   "source": [
    "기준일 이후로 샘플데이터 만들기"
   ]
  },
  {
   "cell_type": "code",
   "execution_count": 10,
   "metadata": {},
   "outputs": [
    {
     "data": {
      "text/html": [
       "<div>\n",
       "<style scoped>\n",
       "    .dataframe tbody tr th:only-of-type {\n",
       "        vertical-align: middle;\n",
       "    }\n",
       "\n",
       "    .dataframe tbody tr th {\n",
       "        vertical-align: top;\n",
       "    }\n",
       "\n",
       "    .dataframe thead th {\n",
       "        text-align: right;\n",
       "    }\n",
       "</style>\n",
       "<table border=\"1\" class=\"dataframe\">\n",
       "  <thead>\n",
       "    <tr style=\"text-align: right;\">\n",
       "      <th></th>\n",
       "      <th>CSI 300</th>\n",
       "      <th>KOSPI 200</th>\n",
       "    </tr>\n",
       "    <tr>\n",
       "      <th>Date</th>\n",
       "      <th></th>\n",
       "      <th></th>\n",
       "    </tr>\n",
       "  </thead>\n",
       "  <tbody>\n",
       "    <tr>\n",
       "      <th>2018-01-02</th>\n",
       "      <td>4087.40</td>\n",
       "      <td>326.00</td>\n",
       "    </tr>\n",
       "    <tr>\n",
       "      <th>2018-01-03</th>\n",
       "      <td>4111.39</td>\n",
       "      <td>327.13</td>\n",
       "    </tr>\n",
       "    <tr>\n",
       "      <th>2018-01-04</th>\n",
       "      <td>4128.81</td>\n",
       "      <td>324.58</td>\n",
       "    </tr>\n",
       "    <tr>\n",
       "      <th>2018-01-05</th>\n",
       "      <td>4138.75</td>\n",
       "      <td>328.97</td>\n",
       "    </tr>\n",
       "    <tr>\n",
       "      <th>2018-01-08</th>\n",
       "      <td>4160.16</td>\n",
       "      <td>331.28</td>\n",
       "    </tr>\n",
       "  </tbody>\n",
       "</table>\n",
       "</div>"
      ],
      "text/plain": [
       "            CSI 300  KOSPI 200\n",
       "Date                          \n",
       "2018-01-02  4087.40     326.00\n",
       "2018-01-03  4111.39     327.13\n",
       "2018-01-04  4128.81     324.58\n",
       "2018-01-05  4138.75     328.97\n",
       "2018-01-08  4160.16     331.28"
      ]
     },
     "execution_count": 10,
     "metadata": {},
     "output_type": "execute_result"
    }
   ],
   "source": [
    "sample = df.loc[base_date:].copy()    # 기준일 이후 데이터만 가져와 sample에 저장 (샘플링)\n",
    "sample.head()"
   ]
  },
  {
   "cell_type": "markdown",
   "metadata": {
    "slideshow": {
     "slide_type": "slide"
    }
   },
   "source": [
    "회귀분석 finterstellar 이용"
   ]
  },
  {
   "cell_type": "code",
   "execution_count": 11,
   "metadata": {},
   "outputs": [],
   "source": [
    "trd = fs.PairTrade()"
   ]
  },
  {
   "cell_type": "code",
   "execution_count": 12,
   "metadata": {},
   "outputs": [
    {
     "data": {
      "text/plain": [
       "{'Slope': 0.042021489297799614,\n",
       " 'Intercept': 144.0030153752973,\n",
       " 'R2': 0.6154638150418552}"
      ]
     },
     "execution_count": 12,
     "metadata": {},
     "output_type": "execute_result"
    }
   ],
   "source": [
    "regr = trd.regression(sample, cd)\n",
    "regr"
   ]
  },
  {
   "cell_type": "markdown",
   "metadata": {
    "slideshow": {
     "slide_type": "slide"
    }
   },
   "source": [
    "추세선을 이용해 x 주가를 이용해 y 주가를 계산"
   ]
  },
  {
   "cell_type": "code",
   "execution_count": 13,
   "metadata": {},
   "outputs": [
    {
     "data": {
      "text/html": [
       "<div>\n",
       "<style scoped>\n",
       "    .dataframe tbody tr th:only-of-type {\n",
       "        vertical-align: middle;\n",
       "    }\n",
       "\n",
       "    .dataframe tbody tr th {\n",
       "        vertical-align: top;\n",
       "    }\n",
       "\n",
       "    .dataframe thead th {\n",
       "        text-align: right;\n",
       "    }\n",
       "</style>\n",
       "<table border=\"1\" class=\"dataframe\">\n",
       "  <thead>\n",
       "    <tr style=\"text-align: right;\">\n",
       "      <th></th>\n",
       "      <th>CSI 300</th>\n",
       "      <th>KOSPI 200</th>\n",
       "      <th>KOSPI 200 expected</th>\n",
       "      <th>KOSPI 200 spread</th>\n",
       "    </tr>\n",
       "    <tr>\n",
       "      <th>Date</th>\n",
       "      <th></th>\n",
       "      <th></th>\n",
       "      <th></th>\n",
       "      <th></th>\n",
       "    </tr>\n",
       "  </thead>\n",
       "  <tbody>\n",
       "    <tr>\n",
       "      <th>2018-01-02</th>\n",
       "      <td>4087.40</td>\n",
       "      <td>326.00</td>\n",
       "      <td>315.761651</td>\n",
       "      <td>10.238349</td>\n",
       "    </tr>\n",
       "    <tr>\n",
       "      <th>2018-01-03</th>\n",
       "      <td>4111.39</td>\n",
       "      <td>327.13</td>\n",
       "      <td>316.769746</td>\n",
       "      <td>10.360254</td>\n",
       "    </tr>\n",
       "    <tr>\n",
       "      <th>2018-01-04</th>\n",
       "      <td>4128.81</td>\n",
       "      <td>324.58</td>\n",
       "      <td>317.501761</td>\n",
       "      <td>7.078239</td>\n",
       "    </tr>\n",
       "    <tr>\n",
       "      <th>2018-01-05</th>\n",
       "      <td>4138.75</td>\n",
       "      <td>328.97</td>\n",
       "      <td>317.919454</td>\n",
       "      <td>11.050546</td>\n",
       "    </tr>\n",
       "    <tr>\n",
       "      <th>2018-01-08</th>\n",
       "      <td>4160.16</td>\n",
       "      <td>331.28</td>\n",
       "      <td>318.819134</td>\n",
       "      <td>12.460866</td>\n",
       "    </tr>\n",
       "  </tbody>\n",
       "</table>\n",
       "</div>"
      ],
      "text/plain": [
       "            CSI 300  KOSPI 200  KOSPI 200 expected  KOSPI 200 spread\n",
       "Date                                                                \n",
       "2018-01-02  4087.40     326.00          315.761651         10.238349\n",
       "2018-01-03  4111.39     327.13          316.769746         10.360254\n",
       "2018-01-04  4128.81     324.58          317.501761          7.078239\n",
       "2018-01-05  4138.75     328.97          317.919454         11.050546\n",
       "2018-01-08  4160.16     331.28          318.819134         12.460866"
      ]
     },
     "execution_count": 13,
     "metadata": {},
     "output_type": "execute_result"
    }
   ],
   "source": [
    "sample[cd[1]+' expected'] = sample[cd[0]] * regr['Slope'] + regr['Intercept']\n",
    "# y주가 기대값은 추세선 상에 위치\n",
    "sample[cd[1]+' spread'] = sample[cd[1]] - sample[cd[1]+' expected']\n",
    "# 스프레드 = y주가 - 기대값\n",
    "sample.head()"
   ]
  },
  {
   "cell_type": "markdown",
   "metadata": {
    "slideshow": {
     "slide_type": "slide"
    }
   },
   "source": [
    "역치값 설정"
   ]
  },
  {
   "cell_type": "code",
   "execution_count": 14,
   "metadata": {},
   "outputs": [],
   "source": [
    "# trading strategy determinants\n",
    "threshold = 0.02   # percent 값으로 오차허용 구간을 정의"
   ]
  },
  {
   "cell_type": "markdown",
   "metadata": {
    "slideshow": {
     "slide_type": "slide"
    }
   },
   "source": [
    "트레이딩북 생성"
   ]
  },
  {
   "cell_type": "code",
   "execution_count": 15,
   "metadata": {},
   "outputs": [],
   "source": [
    "book = pd.DataFrame()    # 빈 트레이딩북(데이터프레임) 생성\n",
    "book[cd] = sample[cd]    # sample에서 시세 복사\n",
    "book['trade'] = ''    # 매매전략 입력을 위한 trade 컬럼 생성\n",
    "for c in cd:    # 종목쌍 내의 각 종목에 대해\n",
    "    book['p '+c] = ''     # 포지션 입력을 위한 p 종목코드 컬럼 생성"
   ]
  },
  {
   "cell_type": "code",
   "execution_count": 16,
   "metadata": {},
   "outputs": [
    {
     "data": {
      "text/html": [
       "<div>\n",
       "<style scoped>\n",
       "    .dataframe tbody tr th:only-of-type {\n",
       "        vertical-align: middle;\n",
       "    }\n",
       "\n",
       "    .dataframe tbody tr th {\n",
       "        vertical-align: top;\n",
       "    }\n",
       "\n",
       "    .dataframe thead th {\n",
       "        text-align: right;\n",
       "    }\n",
       "</style>\n",
       "<table border=\"1\" class=\"dataframe\">\n",
       "  <thead>\n",
       "    <tr style=\"text-align: right;\">\n",
       "      <th></th>\n",
       "      <th>CSI 300</th>\n",
       "      <th>KOSPI 200</th>\n",
       "      <th>trade</th>\n",
       "      <th>p CSI 300</th>\n",
       "      <th>p KOSPI 200</th>\n",
       "    </tr>\n",
       "    <tr>\n",
       "      <th>Date</th>\n",
       "      <th></th>\n",
       "      <th></th>\n",
       "      <th></th>\n",
       "      <th></th>\n",
       "      <th></th>\n",
       "    </tr>\n",
       "  </thead>\n",
       "  <tbody>\n",
       "    <tr>\n",
       "      <th>2018-01-02</th>\n",
       "      <td>4087.40</td>\n",
       "      <td>326.00</td>\n",
       "      <td></td>\n",
       "      <td></td>\n",
       "      <td></td>\n",
       "    </tr>\n",
       "    <tr>\n",
       "      <th>2018-01-03</th>\n",
       "      <td>4111.39</td>\n",
       "      <td>327.13</td>\n",
       "      <td></td>\n",
       "      <td></td>\n",
       "      <td></td>\n",
       "    </tr>\n",
       "    <tr>\n",
       "      <th>2018-01-04</th>\n",
       "      <td>4128.81</td>\n",
       "      <td>324.58</td>\n",
       "      <td></td>\n",
       "      <td></td>\n",
       "      <td></td>\n",
       "    </tr>\n",
       "    <tr>\n",
       "      <th>2018-01-05</th>\n",
       "      <td>4138.75</td>\n",
       "      <td>328.97</td>\n",
       "      <td></td>\n",
       "      <td></td>\n",
       "      <td></td>\n",
       "    </tr>\n",
       "    <tr>\n",
       "      <th>2018-01-08</th>\n",
       "      <td>4160.16</td>\n",
       "      <td>331.28</td>\n",
       "      <td></td>\n",
       "      <td></td>\n",
       "      <td></td>\n",
       "    </tr>\n",
       "  </tbody>\n",
       "</table>\n",
       "</div>"
      ],
      "text/plain": [
       "            CSI 300  KOSPI 200 trade p CSI 300 p KOSPI 200\n",
       "Date                                                      \n",
       "2018-01-02  4087.40     326.00                            \n",
       "2018-01-03  4111.39     327.13                            \n",
       "2018-01-04  4128.81     324.58                            \n",
       "2018-01-05  4138.75     328.97                            \n",
       "2018-01-08  4160.16     331.28                            "
      ]
     },
     "execution_count": 16,
     "metadata": {},
     "output_type": "execute_result"
    }
   ],
   "source": [
    "book.head()"
   ]
  },
  {
   "cell_type": "markdown",
   "metadata": {
    "slideshow": {
     "slide_type": "slide"
    }
   },
   "source": [
    "일별 매매내역"
   ]
  },
  {
   "cell_type": "code",
   "execution_count": 17,
   "metadata": {},
   "outputs": [],
   "source": [
    "for i in sample.index:\n",
    "    thd = float( threshold * sample.loc[i, cd[1]] )    # 오차구간 계산\n",
    "    if sample.loc[i, cd[1]+' spread'] > thd:     # if 스프레드 > 오차구간 :\n",
    "        book.loc[i, 'trade'] = 'buy '+cd[0]      # trade : buy 종목X\n",
    "    elif threshold >= sample.loc[i, cd[1]+' spread'] and sample.loc[i, cd[1]+' spread'] >= 0:    \n",
    "    # elif 오차구간 >= 스프레드 & 스프레드 >= 0 :\n",
    "        book.loc[i, 'trade'] = ''     # trade : clear\n",
    "    elif 0 > sample.loc[i, cd[1]+' spread'] and sample.loc[i, cd[1]+' spread'] >= -thd:\n",
    "    # elif 0 >= 스프레드 & 스프레드 >= -오차구간 :\n",
    "        book.loc[i, 'trade'] = ''     # trade : clear\n",
    "    elif -threshold > sample.loc[i, cd[1]+' spread']:\n",
    "    # elif -오차구간 > 스프레드 :\n",
    "        book.loc[i, 'trade'] = 'buy '+cd[1]     # trade : buy 종목Y"
   ]
  },
  {
   "cell_type": "code",
   "execution_count": 18,
   "metadata": {},
   "outputs": [
    {
     "data": {
      "text/html": [
       "<div>\n",
       "<style scoped>\n",
       "    .dataframe tbody tr th:only-of-type {\n",
       "        vertical-align: middle;\n",
       "    }\n",
       "\n",
       "    .dataframe tbody tr th {\n",
       "        vertical-align: top;\n",
       "    }\n",
       "\n",
       "    .dataframe thead th {\n",
       "        text-align: right;\n",
       "    }\n",
       "</style>\n",
       "<table border=\"1\" class=\"dataframe\">\n",
       "  <thead>\n",
       "    <tr style=\"text-align: right;\">\n",
       "      <th></th>\n",
       "      <th>CSI 300</th>\n",
       "      <th>KOSPI 200</th>\n",
       "      <th>trade</th>\n",
       "      <th>p CSI 300</th>\n",
       "      <th>p KOSPI 200</th>\n",
       "    </tr>\n",
       "    <tr>\n",
       "      <th>Date</th>\n",
       "      <th></th>\n",
       "      <th></th>\n",
       "      <th></th>\n",
       "      <th></th>\n",
       "      <th></th>\n",
       "    </tr>\n",
       "  </thead>\n",
       "  <tbody>\n",
       "    <tr>\n",
       "      <th>2018-01-02</th>\n",
       "      <td>4087.40</td>\n",
       "      <td>326.00</td>\n",
       "      <td>buy CSI 300</td>\n",
       "      <td></td>\n",
       "      <td></td>\n",
       "    </tr>\n",
       "    <tr>\n",
       "      <th>2018-01-03</th>\n",
       "      <td>4111.39</td>\n",
       "      <td>327.13</td>\n",
       "      <td>buy CSI 300</td>\n",
       "      <td></td>\n",
       "      <td></td>\n",
       "    </tr>\n",
       "    <tr>\n",
       "      <th>2018-01-04</th>\n",
       "      <td>4128.81</td>\n",
       "      <td>324.58</td>\n",
       "      <td>buy CSI 300</td>\n",
       "      <td></td>\n",
       "      <td></td>\n",
       "    </tr>\n",
       "    <tr>\n",
       "      <th>2018-01-05</th>\n",
       "      <td>4138.75</td>\n",
       "      <td>328.97</td>\n",
       "      <td>buy CSI 300</td>\n",
       "      <td></td>\n",
       "      <td></td>\n",
       "    </tr>\n",
       "    <tr>\n",
       "      <th>2018-01-08</th>\n",
       "      <td>4160.16</td>\n",
       "      <td>331.28</td>\n",
       "      <td>buy CSI 300</td>\n",
       "      <td></td>\n",
       "      <td></td>\n",
       "    </tr>\n",
       "  </tbody>\n",
       "</table>\n",
       "</div>"
      ],
      "text/plain": [
       "            CSI 300  KOSPI 200        trade p CSI 300 p KOSPI 200\n",
       "Date                                                             \n",
       "2018-01-02  4087.40     326.00  buy CSI 300                      \n",
       "2018-01-03  4111.39     327.13  buy CSI 300                      \n",
       "2018-01-04  4128.81     324.58  buy CSI 300                      \n",
       "2018-01-05  4138.75     328.97  buy CSI 300                      \n",
       "2018-01-08  4160.16     331.28  buy CSI 300                      "
      ]
     },
     "execution_count": 18,
     "metadata": {},
     "output_type": "execute_result"
    }
   ],
   "source": [
    "book.head()"
   ]
  },
  {
   "cell_type": "markdown",
   "metadata": {
    "slideshow": {
     "slide_type": "slide"
    }
   },
   "source": [
    "포지션 기록"
   ]
  },
  {
   "cell_type": "code",
   "execution_count": 19,
   "metadata": {},
   "outputs": [],
   "source": [
    "for c in cd:\n",
    "    status = ''\n",
    "    for i in book.index:\n",
    "        if book.loc[i, 'trade'] == 'buy '+c:     # 현재 buy 일때,\n",
    "            if book.shift(1).loc[i, 'trade'] == 'buy '+c:   # 전일도 buy 였으면\n",
    "                status = 'll'     # 롱>롱\n",
    "            elif book.shift(1).loc[i, 'trade'] == '':    # 전일에 zero 였으면\n",
    "                status = 'zl'     # zero>롱\n",
    "            elif book.shift(1).loc[i, 'trade'] == 'sell '+c:    # 전일에 sell 였으면\n",
    "                status = 'sl'     # 숏>롱\n",
    "            else:    # 그밖의 경우\n",
    "                status = 'zl'    # zero>롱\n",
    "        elif book.loc[i, 'trade'] == 'sell '+c:\n",
    "            if book.shift(1).loc[i, 'trade'] == 'buy '+c:\n",
    "                status = 'ls'\n",
    "            elif book.shift(1).loc[i, 'trade'] == '':\n",
    "                status = 'zs'\n",
    "            elif book.shift(1).loc[i, 'trade'] == 'sell '+c:\n",
    "                status = 'ss'\n",
    "            else:\n",
    "                status = 'zs'\n",
    "        elif book.loc[i, 'trade'] == '':\n",
    "            if book.shift(1).loc[i, 'trade'] == 'buy '+c:\n",
    "                status = 'lz'\n",
    "            elif book.shift(1).loc[i, 'trade'] == '':\n",
    "                status = 'zz'\n",
    "            elif book.shift(1).loc[i, 'trade'] == 'sell '+c:\n",
    "                status = 'sz'\n",
    "            else:\n",
    "                status = 'zz'\n",
    "        else:\n",
    "            status = 'zz'\n",
    "        book.loc[i, 'p '+c] = status\n"
   ]
  },
  {
   "cell_type": "code",
   "execution_count": 20,
   "metadata": {},
   "outputs": [
    {
     "data": {
      "text/html": [
       "<div>\n",
       "<style scoped>\n",
       "    .dataframe tbody tr th:only-of-type {\n",
       "        vertical-align: middle;\n",
       "    }\n",
       "\n",
       "    .dataframe tbody tr th {\n",
       "        vertical-align: top;\n",
       "    }\n",
       "\n",
       "    .dataframe thead th {\n",
       "        text-align: right;\n",
       "    }\n",
       "</style>\n",
       "<table border=\"1\" class=\"dataframe\">\n",
       "  <thead>\n",
       "    <tr style=\"text-align: right;\">\n",
       "      <th></th>\n",
       "      <th>CSI 300</th>\n",
       "      <th>KOSPI 200</th>\n",
       "      <th>trade</th>\n",
       "      <th>p CSI 300</th>\n",
       "      <th>p KOSPI 200</th>\n",
       "    </tr>\n",
       "    <tr>\n",
       "      <th>Date</th>\n",
       "      <th></th>\n",
       "      <th></th>\n",
       "      <th></th>\n",
       "      <th></th>\n",
       "      <th></th>\n",
       "    </tr>\n",
       "  </thead>\n",
       "  <tbody>\n",
       "    <tr>\n",
       "      <th>2018-01-02</th>\n",
       "      <td>4087.40</td>\n",
       "      <td>326.00</td>\n",
       "      <td>buy CSI 300</td>\n",
       "      <td>zl</td>\n",
       "      <td>zz</td>\n",
       "    </tr>\n",
       "    <tr>\n",
       "      <th>2018-01-03</th>\n",
       "      <td>4111.39</td>\n",
       "      <td>327.13</td>\n",
       "      <td>buy CSI 300</td>\n",
       "      <td>ll</td>\n",
       "      <td>zz</td>\n",
       "    </tr>\n",
       "    <tr>\n",
       "      <th>2018-01-04</th>\n",
       "      <td>4128.81</td>\n",
       "      <td>324.58</td>\n",
       "      <td>buy CSI 300</td>\n",
       "      <td>ll</td>\n",
       "      <td>zz</td>\n",
       "    </tr>\n",
       "    <tr>\n",
       "      <th>2018-01-05</th>\n",
       "      <td>4138.75</td>\n",
       "      <td>328.97</td>\n",
       "      <td>buy CSI 300</td>\n",
       "      <td>ll</td>\n",
       "      <td>zz</td>\n",
       "    </tr>\n",
       "    <tr>\n",
       "      <th>2018-01-08</th>\n",
       "      <td>4160.16</td>\n",
       "      <td>331.28</td>\n",
       "      <td>buy CSI 300</td>\n",
       "      <td>ll</td>\n",
       "      <td>zz</td>\n",
       "    </tr>\n",
       "  </tbody>\n",
       "</table>\n",
       "</div>"
      ],
      "text/plain": [
       "            CSI 300  KOSPI 200        trade p CSI 300 p KOSPI 200\n",
       "Date                                                             \n",
       "2018-01-02  4087.40     326.00  buy CSI 300        zl          zz\n",
       "2018-01-03  4111.39     327.13  buy CSI 300        ll          zz\n",
       "2018-01-04  4128.81     324.58  buy CSI 300        ll          zz\n",
       "2018-01-05  4138.75     328.97  buy CSI 300        ll          zz\n",
       "2018-01-08  4160.16     331.28  buy CSI 300        ll          zz"
      ]
     },
     "execution_count": 20,
     "metadata": {},
     "output_type": "execute_result"
    }
   ],
   "source": [
    "book.head()"
   ]
  },
  {
   "cell_type": "markdown",
   "metadata": {
    "slideshow": {
     "slide_type": "slide"
    }
   },
   "source": [
    "수익률 계산"
   ]
  },
  {
   "cell_type": "code",
   "execution_count": 21,
   "metadata": {},
   "outputs": [
    {
     "name": "stdout",
     "output_type": "stream",
     "text": [
      "2018-01-02 long CSI 300 4087.4\n",
      "2018-01-11 long CSI 300 4087.4  | unwind long CSI 300 4205.59  | return: 1.0289\n",
      "2018-01-16 long CSI 300 4258.47\n",
      "2018-01-18 long CSI 300 4258.47  | unwind long CSI 300 4271.42  | return: 1.003\n",
      "2018-01-26 long CSI 300 4381.3\n",
      "2018-02-02 long CSI 300 4381.3  | unwind long CSI 300 4271.23  | return: 0.9749\n",
      "2018-03-13 long CSI 300 4091.25\n",
      "2018-03-19 long CSI 300 4091.25  | unwind long CSI 300 4074.25  | return: 0.9958\n",
      "2018-03-20 long CSI 300 4077.7\n",
      "2018-03-23 long CSI 300 4077.7  | unwind long CSI 300 3904.94  | return: 0.9576\n",
      "2018-03-26 long CSI 300 3879.89\n",
      "2018-03-29 long CSI 300 3879.89  | unwind long CSI 300 3894.05  | return: 1.0036\n",
      "2018-03-30 long CSI 300 3898.5\n",
      "2018-04-04 long CSI 300 3898.5  | unwind long CSI 300 3854.86  | return: 0.9888\n",
      "2018-04-05 long CSI 300 3854.86\n",
      "2018-04-06 long CSI 300 3854.86  | unwind long CSI 300 3854.86  | return: 1.0\n",
      "2018-04-09 long CSI 300 3852.93\n",
      "2018-04-10 long CSI 300 3852.93  | unwind long CSI 300 3927.17  | return: 1.0193\n",
      "2018-04-13 long CSI 300 3871.14\n",
      "2018-05-15 long CSI 300 3871.14  | unwind long CSI 300 3924.1  | return: 1.0137\n",
      "2018-05-16 long CSI 300 3892.84\n",
      "2018-06-18 long CSI 300 3892.84  | unwind long CSI 300 3753.43  | return: 0.9642\n",
      "2018-06-20 long CSI 300 3635.44\n",
      "2018-07-02 long CSI 300 3635.44  | unwind long CSI 300 3407.96  | return: 0.9374\n",
      "2018-07-03 long CSI 300 3409.28\n",
      "2018-07-09 long CSI 300 3409.28  | unwind long CSI 300 3459.18  | return: 1.0146\n",
      "2018-07-10 long CSI 300 3467.52\n",
      "2018-07-12 long CSI 300 3467.52  | unwind long CSI 300 3481.06  | return: 1.0039\n",
      "2018-07-13 long CSI 300 3492.69\n",
      "2018-07-23 long CSI 300 3492.69  | unwind long CSI 300 3525.75  | return: 1.0095\n",
      "2018-08-01 long CSI 300 3447.39\n",
      "2018-08-13 long CSI 300 3447.39  | unwind long CSI 300 3390.34  | return: 0.9835\n",
      "2018-08-15 long CSI 300 3291.98\n",
      "2018-10-04 long CSI 300 3291.98  | unwind long CSI 300 3438.86  | return: 1.0446\n",
      "2018-10-08 long CSI 300 3290.9\n",
      "2018-10-11 long CSI 300 3290.9  | unwind long CSI 300 3124.11  | return: 0.9493\n",
      "2019-01-30 long CSI 300 3168.48\n",
      "2019-02-01 long CSI 300 3168.48  | unwind long CSI 300 3247.4  | return: 1.0249\n",
      "2018-03-05 long KOSPI 200 304.58\n",
      "2018-03-06 long KOSPI 200 304.58  | unwind long KOSPI 200 310.46  | return: 1.0193\n",
      "2018-10-24 long KOSPI 200 271.36\n",
      "2018-11-27 long KOSPI 200 271.36  | unwind long KOSPI 200 272.08  | return: 1.0027\n",
      "2018-11-30 long KOSPI 200 271.35\n",
      "2018-12-03 long KOSPI 200 271.35  | unwind long KOSPI 200 276.18  | return: 1.0178\n",
      "2018-12-04 long KOSPI 200 273.29\n",
      "2019-01-16 long KOSPI 200 273.29  | unwind long KOSPI 200 271.23  | return: 0.9925\n",
      "2019-02-25 long KOSPI 200 289.0\n",
      "Accunulated return : 0.9435\n"
     ]
    }
   ],
   "source": [
    "rtn = 1.0\n",
    "book['return'] = 1\n",
    "for c in cd:     # 종목별로 순환\n",
    "    buy = 0.0\n",
    "    sell = 0.0\n",
    "    for i in book.index:     # 일자별로 순환\n",
    "\n",
    "        if book.loc[i, 'p '+c] == 'zl' or book.loc[i, 'p '+c] == 'sl' :     # long 진입\n",
    "            buy = book.loc[i, c]    # 매수 가격 확정\n",
    "            print(i.date(), 'long '+c, buy)\n",
    "        elif book.loc[i, 'p '+c] == 'lz' or book.loc[i, 'p '+c] == 'ls' :     # long 청산\n",
    "            sell = book.loc[i, c]    # 매도 가격 확정\n",
    "            # 손익 계산\n",
    "            rtn = (sell - buy) / buy + 1    \n",
    "            # 손익 = (매도가-매수가)/매수가 + 1 , 100원 투자해서 10원 벌면 손익은 1.10\n",
    "            book.loc[i, 'return'] = rtn    # 트레이딩북에 손익 기록\n",
    "            print(i.date(), 'long '+c, buy, ' | unwind long '+c, sell, ' | return:', round(rtn, 4))\n",
    "\n",
    "        elif book.loc[i, 'p '+c] == 'zs' or book.loc[i, 'p '+c] == 'ls' :     # short 진입\n",
    "            sell = book.loc[i, c]    # 공매도 가격 확정\n",
    "            print(i.date(), 'short '+c, sell)\n",
    "        elif book.loc[i, 'p '+c] == 'sz' or book.loc[i, 'p '+c] == 'sl' :     # short 청산\n",
    "            buy = book.loc[i, c]    # 숏커버 가격 확정\n",
    "            # 손익 계산\n",
    "            rtn = (sell - buy) / sell + 1\n",
    "            book.loc[i, 'return'] = rtn\n",
    "            print(i.date(), 'short '+c, sell, ' | unwind short '+c, buy, ' | return:', round(rtn, 4))\n",
    "\n",
    "    if book.loc[i, 'trade'] == '' and book.loc[i, 'p '+c] == '':     # zero position\n",
    "        buy = 0.0\n",
    "        sell = 0.0\n",
    "\n",
    "acc_rtn = 1.0\n",
    "for i in book.index:\n",
    "    rtn = book.loc[i, 'return']\n",
    "    acc_rtn = acc_rtn * rtn\n",
    "    book.loc[i, 'acc return'] = acc_rtn\n",
    "\n",
    "print ('Accunulated return :', round(acc_rtn, 4))"
   ]
  },
  {
   "cell_type": "markdown",
   "metadata": {
    "slideshow": {
     "slide_type": "slide"
    }
   },
   "source": [
    "벤치마크 수익률"
   ]
  },
  {
   "cell_type": "code",
   "execution_count": 22,
   "metadata": {},
   "outputs": [
    {
     "name": "stdout",
     "output_type": "stream",
     "text": [
      "BM return: 0.9072\n",
      "{'CSI 300': 0.9515, 'KOSPI 200': 0.863}\n"
     ]
    }
   ],
   "source": [
    "n = len(cd)    # 몇 종목인지?\n",
    "rtn = dict()    # 각 종목의 수익률을 담을 딕셔너리 선언\n",
    "bm_rtn = float()    # 벤치마크 수익률을 담을 변수 선언\n",
    "for c in cd:    # 종목마다 돌면서\n",
    "    rtn[c] = round (( book[c].iloc[-1] - book[c].iloc[0] ) / book[c].iloc[0] + 1, 4)   \n",
    "    # 종목별 벤치마크 수익률 = (최종가격 - 최초가격) / 최초가격\n",
    "    bm_rtn += rtn[c]/n   # 각 종목 수익률을 종목 개수로 나누고 합쳐준다\n",
    "print('BM return:', round(bm_rtn, 4) )\n",
    "print(rtn)"
   ]
  },
  {
   "cell_type": "markdown",
   "metadata": {},
   "source": [
    "초과수익률 %"
   ]
  },
  {
   "cell_type": "code",
   "execution_count": 23,
   "metadata": {},
   "outputs": [
    {
     "name": "stdout",
     "output_type": "stream",
     "text": [
      "Excess return: 4.0\n"
     ]
    }
   ],
   "source": [
    "exs_rtn = ( round(acc_rtn/bm_rtn, 4) - 1 ) * 100\n",
    "print('Excess return:', round(exs_rtn, 4) )"
   ]
  },
  {
   "cell_type": "markdown",
   "metadata": {
    "slideshow": {
     "slide_type": "slide"
    }
   },
   "source": [
    "그래프 모듈 호출"
   ]
  },
  {
   "cell_type": "code",
   "execution_count": 24,
   "metadata": {},
   "outputs": [],
   "source": [
    "import finterstellar as fs\n",
    "v = fs.Visualize()     # fs 라이브러리의 Visualize() 모듈을 불러와 v로 지정"
   ]
  },
  {
   "cell_type": "code",
   "execution_count": 25,
   "metadata": {},
   "outputs": [
    {
     "data": {
      "text/plain": [
       "()"
      ]
     },
     "execution_count": 25,
     "metadata": {},
     "output_type": "execute_result"
    },
    {
     "data": {
      "image/png": "[encoded data removed]",
      "text/plain": [
       "<Figure size 1080x504 with 2 Axes>"
      ]
     },
     "metadata": {},
     "output_type": "display_data"
    }
   ],
   "source": [
    "v.pair_trend_index_view(sample, threshold, cd)\n",
    "# pairs_trend_index_view(데이터프레임, 역치, [종목코드쌍], (사이즈)) - 페어트레이딩 그래프 그리기"
   ]
  },
  {
   "cell_type": "code",
   "execution_count": 26,
   "metadata": {},
   "outputs": [
    {
     "data": {
      "image/png": "[encoded data removed]",
      "text/plain": [
       "<Figure size 1080x72 with 1 Axes>"
      ]
     },
     "metadata": {},
     "output_type": "display_data"
    }
   ],
   "source": [
    "v.position_view(book, cd)\n",
    "# v 모듈의 position_view(트레이딩북, 종목코드, (사이즈)) 함수를 이용해 포지션 보유내역 그래프 그리기"
   ]
  },
  {
   "cell_type": "code",
   "execution_count": null,
   "metadata": {},
   "outputs": [],
   "source": []
  }
 ],
 "metadata": {
  "celltoolbar": "Slideshow",
  "kernelspec": {
   "display_name": "Python 3",
   "language": "python",
   "name": "python3"
  },
  "language_info": {
   "codemirror_mode": {
    "name": "ipython",
    "version": 3
   },
   "file_extension": ".py",
   "mimetype": "text/x-python",
   "name": "python",
   "nbconvert_exporter": "python",
   "pygments_lexer": "ipython3",
   "version": "3.7.3"
  },
  "rise": {
   "scroll": true
  }
 },
 "nbformat": 4,
 "nbformat_minor": 2
}
