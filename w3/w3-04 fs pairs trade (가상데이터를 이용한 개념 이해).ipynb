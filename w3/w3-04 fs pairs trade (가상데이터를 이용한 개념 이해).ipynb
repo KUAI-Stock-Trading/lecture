{
 "cells": [
  {
   "cell_type": "code",
   "execution_count": null,
   "metadata": {
    "slideshow": {
     "slide_type": "slide"
    }
   },
   "outputs": [],
   "source": [
    "# define universe\n",
    "portfolio_dict = dict()\n",
    "\n",
    "#p_name = 'Pairs trading study (down-zigzag)'\n",
    "p_name = 'Pairs trading study (stay-zigzag)'\n",
    "#p_name = 'Pairs trading study (up-zigzag)'\n",
    "\n",
    "pair = ['Pair A', 'Pair B']\n",
    "base_date = '2017-08-01'\n",
    "\n",
    "# trading strategy determinants\n",
    "threshold = 0.02   # percent\n",
    "\n",
    "path = './data/'"
   ]
  },
  {
   "cell_type": "code",
   "execution_count": null,
   "metadata": {
    "slideshow": {
     "slide_type": "slide"
    }
   },
   "outputs": [],
   "source": [
    "import pandas as pd\n",
    "import numpy as np\n",
    "import datetime as dt\n",
    "import finterstellar as fs\n",
    "\n",
    "ld = fs.LoadData()\n",
    "\n",
    "prices_df = ld.read_raw_csv(path, p_name)\n",
    "\n",
    "trd = fs.PairTrade()\n",
    "\n",
    "base_date = trd.check_base_date(prices_df, base_date)\n",
    "sample = trd.sampling(prices_df, base_date, pair)\n",
    "regr = trd.regression(sample, pair)\n",
    "sample = trd.expected_y(sample, regr, pair)\n",
    "book = trd.create_trade_book(sample, pair)\n",
    "book = trd.tradings(sample, book, threshold, pair, short=True)\n",
    "book = trd.position(book, pair)\n",
    "fund_rtn = trd.returns_log(book, pair)\n",
    "bm_rtn = trd.benchmark_return_log(book, pair)\n",
    "exs_rtn = trd.excess_return_log(fund_rtn, bm_rtn)\n",
    "\n",
    "last_date = sample.index[-1].date().strftime('%Y-%m-%d')\n",
    "trading_strategy = trd.trading_strategy(sample, threshold, pair, last_date)\n",
    "position_strategy = trd.position_strategy(book, pair, last_date)"
   ]
  },
  {
   "cell_type": "code",
   "execution_count": null,
   "metadata": {
    "slideshow": {
     "slide_type": "slide"
    }
   },
   "outputs": [],
   "source": [
    "v = fs.Visualize()"
   ]
  },
  {
   "cell_type": "code",
   "execution_count": null,
   "metadata": {},
   "outputs": [],
   "source": [
    "v.pair_trend_index_view(sample, threshold, pair, (15, 3))"
   ]
  },
  {
   "cell_type": "code",
   "execution_count": null,
   "metadata": {},
   "outputs": [],
   "source": [
    "v.position_view(book, pair)"
   ]
  },
  {
   "cell_type": "code",
   "execution_count": null,
   "metadata": {
    "scrolled": true,
    "slideshow": {
     "slide_type": "slide"
    }
   },
   "outputs": [],
   "source": [
    "v.index_view(sample, base_date, pair, (15,3))"
   ]
  },
  {
   "cell_type": "code",
   "execution_count": null,
   "metadata": {},
   "outputs": [],
   "source": []
  }
 ],
 "metadata": {
  "celltoolbar": "Slideshow",
  "kernelspec": {
   "display_name": "Python 3",
   "language": "python",
   "name": "python3"
  },
  "language_info": {
   "codemirror_mode": {
    "name": "ipython",
    "version": 3
   },
   "file_extension": ".py",
   "mimetype": "text/x-python",
   "name": "python",
   "nbconvert_exporter": "python",
   "pygments_lexer": "ipython3",
   "version": "3.7.3"
  },
  "rise": {
   "scroll": true
  }
 },
 "nbformat": 4,
 "nbformat_minor": 2
}
