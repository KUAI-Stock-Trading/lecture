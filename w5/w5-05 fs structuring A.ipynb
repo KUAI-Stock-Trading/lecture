{
 "cells": [
  {
   "cell_type": "code",
   "execution_count": null,
   "metadata": {
    "slideshow": {
     "slide_type": "slide"
    }
   },
   "outputs": [],
   "source": [
    "import pandas as pd\n",
    "import numpy as np\n",
    "import finterstellar as fs"
   ]
  },
  {
   "cell_type": "code",
   "execution_count": null,
   "metadata": {
    "slideshow": {
     "slide_type": "-"
    }
   },
   "outputs": [],
   "source": [
    "vlu = fs.ValueAtExpiry()\n",
    "view = fs.Visualize()"
   ]
  },
  {
   "cell_type": "code",
   "execution_count": null,
   "metadata": {
    "slideshow": {
     "slide_type": "slide"
    }
   },
   "outputs": [],
   "source": [
    "x = np.arange(200,400)"
   ]
  },
  {
   "cell_type": "code",
   "execution_count": null,
   "metadata": {},
   "outputs": [],
   "source": [
    "# 선물 : futures(x, 행사가)\n",
    "fl300 = vlu.futures(x, 300)"
   ]
  },
  {
   "cell_type": "code",
   "execution_count": null,
   "metadata": {},
   "outputs": [],
   "source": [
    "# view.square_one_to_one_view(x, y1=값, y2=값, ...)\n",
    "view.square_one_to_one_view(x, FL300=fl300)"
   ]
  },
  {
   "cell_type": "code",
   "execution_count": null,
   "metadata": {
    "slideshow": {
     "slide_type": "slide"
    }
   },
   "outputs": [],
   "source": [
    "# 콜옵션 롱 : call_option(x, 행사가, 프리미엄)\n",
    "cl300 = vlu.call_option(x, 300, 10)"
   ]
  },
  {
   "cell_type": "code",
   "execution_count": null,
   "metadata": {},
   "outputs": [],
   "source": [
    "view.square_one_to_one_view(x, CL300=cl300)"
   ]
  },
  {
   "cell_type": "code",
   "execution_count": null,
   "metadata": {
    "slideshow": {
     "slide_type": "slide"
    }
   },
   "outputs": [],
   "source": [
    "# 콜옵션 숏 : call_option(x, 행사가, 프리미엄) * -1\n",
    "cs300 = vlu.call_option(x, 300, 10) * -1"
   ]
  },
  {
   "cell_type": "code",
   "execution_count": null,
   "metadata": {},
   "outputs": [],
   "source": [
    "view.square_one_to_one_view(x, CS300=cs300)"
   ]
  },
  {
   "cell_type": "code",
   "execution_count": null,
   "metadata": {
    "slideshow": {
     "slide_type": "slide"
    }
   },
   "outputs": [],
   "source": [
    "# 풋옵션 : put_option(x, 행사가, 프리미엄)\n",
    "pl300 = vlu.put_option(x, 300, 10)"
   ]
  },
  {
   "cell_type": "code",
   "execution_count": null,
   "metadata": {},
   "outputs": [],
   "source": [
    "view.square_one_to_one_view(x, PL300=pl300)"
   ]
  },
  {
   "cell_type": "code",
   "execution_count": null,
   "metadata": {
    "slideshow": {
     "slide_type": "slide"
    }
   },
   "outputs": [],
   "source": [
    "# 원금보장형\n",
    "cs350 = vlu.call_option(x, 350, 10) * -1\n",
    "view.square_one_to_one_view(x, FL300=fl300, CS350=cs350, PL300=pl300)"
   ]
  },
  {
   "cell_type": "code",
   "execution_count": null,
   "metadata": {
    "slideshow": {
     "slide_type": "slide"
    }
   },
   "outputs": [],
   "source": [
    "# 양매도 OTM\n",
    "cs350 = vlu.call_option(x, 350, 10) * -1\n",
    "ps250 = vlu.put_option(x, 250, 10) * -1\n",
    "view.square_one_to_one_view(x, CS350=cs350, PS250=ps250)"
   ]
  },
  {
   "cell_type": "markdown",
   "metadata": {},
   "source": [
    "# Hands on training"
   ]
  },
  {
   "cell_type": "markdown",
   "metadata": {
    "slideshow": {
     "slide_type": "slide"
    }
   },
   "source": [
    "레버리지 상품을 구조화해보세요\n",
    "<img src=\"image/w5-leverage.png\" style=\"height:400px;\"/>"
   ]
  },
  {
   "cell_type": "markdown",
   "metadata": {},
   "source": [
    "<img src=\"image/w5-structuring_covered_call_q.png\" style=\"height:500px;\"/>"
   ]
  },
  {
   "cell_type": "code",
   "execution_count": null,
   "metadata": {
    "slideshow": {
     "slide_type": "subslide"
    }
   },
   "outputs": [],
   "source": [
    "# 레버리지형\n",
    "view.square_one_to_one_view(x, FL300_1=fl300, FL300_2=fl300)"
   ]
  },
  {
   "cell_type": "markdown",
   "metadata": {
    "slideshow": {
     "slide_type": "slide"
    }
   },
   "source": [
    "커버드콜 상품을 구조화해보세요\n",
    "<img src=\"image/w5-structuring_covered_call.png\" style=\"height:400px;\"/>"
   ]
  },
  {
   "cell_type": "markdown",
   "metadata": {},
   "source": [
    "<img src=\"image/w5-structuring_covered_call_q.png\" style=\"height:500px;\"/>"
   ]
  },
  {
   "cell_type": "code",
   "execution_count": null,
   "metadata": {
    "slideshow": {
     "slide_type": "subslide"
    }
   },
   "outputs": [],
   "source": [
    "# 커버드콜\n",
    "#lf300 = vlu.futures(x, 300)\n",
    "#sc350 = vlu.call_option(x, 350, 10) * -1\n",
    "view.square_one_to_one_view(x, FL300=fl300, CS350=cs350)"
   ]
  },
  {
   "cell_type": "markdown",
   "metadata": {
    "slideshow": {
     "slide_type": "slide"
    }
   },
   "source": [
    "원금보장형 상품을 구조화해보세요\n",
    "<img src=\"image/w5-structuring_bull_spread.png\" style=\"height:400px;\"/>"
   ]
  },
  {
   "cell_type": "markdown",
   "metadata": {},
   "source": [
    "<img src=\"image/w5-structuring_bull_spread_q.png\" style=\"height:500px;\"/>"
   ]
  },
  {
   "cell_type": "code",
   "execution_count": null,
   "metadata": {
    "slideshow": {
     "slide_type": "subslide"
    }
   },
   "outputs": [],
   "source": [
    "# 원금보장형\n",
    "view.square_one_to_one_view(x, CL300=cl300, CS350=cs350)"
   ]
  },
  {
   "cell_type": "markdown",
   "metadata": {
    "slideshow": {
     "slide_type": "slide"
    }
   },
   "source": [
    "양매도 ATM 상품을 구조화해보세요\n",
    "<img src=\"image/w5-structuring_short_straddle.png\" style=\"height:400px;\"/>"
   ]
  },
  {
   "cell_type": "markdown",
   "metadata": {},
   "source": [
    "<img src=\"image/w5-structuring_short_straddle_q.png\" style=\"height:500px;\"/>"
   ]
  },
  {
   "cell_type": "code",
   "execution_count": null,
   "metadata": {
    "slideshow": {
     "slide_type": "subslide"
    }
   },
   "outputs": [],
   "source": [
    "# 양매도 ATM\n",
    "#cs300 = vlu.call_option(x, 300, 10) * -1\n",
    "ps300 = vlu.put_option(x, 300, 10) * -1\n",
    "view.square_one_to_one_view(x, CS300=cs300, PS300=ps300)"
   ]
  },
  {
   "cell_type": "markdown",
   "metadata": {
    "slideshow": {
     "slide_type": "slide"
    }
   },
   "source": [
    "롱 버터플라이 (프로텍티브 양매도) 상품을 구조화해보세요\n",
    "<img src=\"image/w5-structuring_long_butterfly.png\" style=\"height:500px;\"/>"
   ]
  },
  {
   "cell_type": "markdown",
   "metadata": {},
   "source": [
    "<img src=\"image/w5-structuring_long_butterfly_q.png\" style=\"height:400px;\"/>"
   ]
  },
  {
   "cell_type": "code",
   "execution_count": null,
   "metadata": {
    "slideshow": {
     "slide_type": "subslide"
    }
   },
   "outputs": [],
   "source": [
    "# 롱 버터플라이\n",
    "cl250 = vlu.call_option(x, 250, 10)\n",
    "cl350 = vlu.call_option(x, 350, 10)\n",
    "view.square_one_to_one_view(x, CL250=cl250, CS300_1=cs300, CS300_2=cs300, CL350=cl350)"
   ]
  },
  {
   "cell_type": "code",
   "execution_count": null,
   "metadata": {
    "slideshow": {
     "slide_type": "slide"
    }
   },
   "outputs": [],
   "source": [
    "# knock in call : ki_call(x, 행사가, 배리어, 프리미엄)\n",
    "kic = vlu.ki_call(x, 300, 350, 10)\n",
    "view.square_one_to_one_view(x, KIC=kic)"
   ]
  },
  {
   "cell_type": "code",
   "execution_count": null,
   "metadata": {
    "slideshow": {
     "slide_type": "slide"
    }
   },
   "outputs": [],
   "source": [
    "# knock out put : ko_put(x, 행사가, 배리어, 프리미엄)\n",
    "kop = vlu.ko_put(x, 350, 250, 10)\n",
    "view.square_one_to_one_view(x, KOP=kop)"
   ]
  },
  {
   "cell_type": "markdown",
   "metadata": {
    "slideshow": {
     "slide_type": "slide"
    }
   },
   "source": [
    "최고난이도!<br>\n",
    "KIKO 상품을 구조화해보세요\n",
    "<img src=\"image/w5-kiko.png\" style=\"height:300px;\"/>"
   ]
  },
  {
   "cell_type": "code",
   "execution_count": null,
   "metadata": {
    "slideshow": {
     "slide_type": "subslide"
    }
   },
   "outputs": [],
   "source": [
    "# KIKO \n",
    "view.square_one_to_one_view(x, LKOP=kop, SKIC=kic*-2, FL=fl300)"
   ]
  }
 ],
 "metadata": {
  "celltoolbar": "Slideshow",
  "kernelspec": {
   "display_name": "Python 3",
   "language": "python",
   "name": "python3"
  },
  "language_info": {
   "codemirror_mode": {
    "name": "ipython",
    "version": 3
   },
   "file_extension": ".py",
   "mimetype": "text/x-python",
   "name": "python",
   "nbconvert_exporter": "python",
   "pygments_lexer": "ipython3",
   "version": "3.7.3"
  },
  "rise": {
   "scroll": true
  }
 },
 "nbformat": 4,
 "nbformat_minor": 2
}
