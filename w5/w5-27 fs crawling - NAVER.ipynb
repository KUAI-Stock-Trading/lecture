{
 "cells": [
  {
   "cell_type": "code",
   "execution_count": null,
   "metadata": {
    "slideshow": {
     "slide_type": "slide"
    }
   },
   "outputs": [],
   "source": [
    "import pandas as pd\n",
    "import finterstellar as fs"
   ]
  },
  {
   "cell_type": "markdown",
   "metadata": {
    "slideshow": {
     "slide_type": "slide"
    }
   },
   "source": [
    "# 종목정보 크롤링"
   ]
  },
  {
   "cell_type": "markdown",
   "metadata": {},
   "source": [
    "<img src=\"image_lecture/crawling_05.png\">"
   ]
  },
  {
   "cell_type": "code",
   "execution_count": null,
   "metadata": {
    "slideshow": {
     "slide_type": "slide"
    }
   },
   "outputs": [],
   "source": [
    "stock_cd = '005930'\n",
    "nvr = fs.NaverStockInfo()"
   ]
  },
  {
   "cell_type": "code",
   "execution_count": null,
   "metadata": {},
   "outputs": [],
   "source": [
    "nvr.outstanding(stock_cd)"
   ]
  },
  {
   "cell_type": "code",
   "execution_count": null,
   "metadata": {},
   "outputs": [],
   "source": [
    "nvr.floating(stock_cd)"
   ]
  },
  {
   "cell_type": "code",
   "execution_count": null,
   "metadata": {},
   "outputs": [],
   "source": [
    "nvr.fundamentals(stock_cd, 'PBR')   # 종목코드, 필요한 지표를 입력하면 값을 돌려줌"
   ]
  },
  {
   "cell_type": "markdown",
   "metadata": {
    "slideshow": {
     "slide_type": "slide"
    }
   },
   "source": [
    "# 주식시세 수집"
   ]
  },
  {
   "cell_type": "markdown",
   "metadata": {},
   "source": [
    "<img src=\"image_lecture/crawling_07.png\">"
   ]
  },
  {
   "cell_type": "code",
   "execution_count": null,
   "metadata": {
    "slideshow": {
     "slide_type": "slide"
    }
   },
   "outputs": [],
   "source": [
    "# 네이버에서 주식 시세 수집\n",
    "naver = fs.Naver()"
   ]
  },
  {
   "cell_type": "code",
   "execution_count": null,
   "metadata": {},
   "outputs": [],
   "source": [
    "# 한 종목 수집\n",
    "historical_prices = dict()\n",
    "stock_cd = '000660'\n",
    "start_date = '2018-10-1'\n",
    "end_date = '2018-12-31'\n",
    "prices = naver.stock_price(historical_prices, stock_cd, start_date, end_date)\n",
    "prices"
   ]
  },
  {
   "cell_type": "code",
   "execution_count": null,
   "metadata": {
    "slideshow": {
     "slide_type": "slide"
    }
   },
   "outputs": [],
   "source": [
    "# 여러 종목 수집\n",
    "'''\n",
    "005930\t삼성전자\n",
    "000660\tSK하이닉스\n",
    "066570\tLG전자\n",
    "'''\n",
    "stocks = ['005930', '000660', '066570']"
   ]
  },
  {
   "cell_type": "code",
   "execution_count": null,
   "metadata": {},
   "outputs": [],
   "source": [
    "stock_prices = dict()\n",
    "\n",
    "for stock_cd in stocks:    \n",
    "    historical_prices = dict()\n",
    "    historical_prices = naver.stock_price(historical_prices, stock_cd, start_date, end_date)\n",
    "    stock_prices[stock_cd] = historical_prices    \n",
    "prices_df = pd.DataFrame(stock_prices)"
   ]
  },
  {
   "cell_type": "code",
   "execution_count": null,
   "metadata": {},
   "outputs": [],
   "source": [
    "prices_df.head()"
   ]
  },
  {
   "cell_type": "markdown",
   "metadata": {
    "slideshow": {
     "slide_type": "slide"
    }
   },
   "source": [
    "# 국내 지수 수집"
   ]
  },
  {
   "cell_type": "markdown",
   "metadata": {},
   "source": [
    "<img src=\"image_lecture/crawling_08.png\">"
   ]
  },
  {
   "cell_type": "code",
   "execution_count": null,
   "metadata": {
    "slideshow": {
     "slide_type": "slide"
    }
   },
   "outputs": [],
   "source": [
    "# 국내 지수 수집\n",
    "historical_indices = dict()\n",
    "stock_cd = 'KPI200'\n",
    "start_date = '2018-10-1'\n",
    "end_date = '2019-12-31'\n",
    "prices = naver.index_korea(historical_indices, stock_cd, start_date, end_date)\n",
    "prices"
   ]
  },
  {
   "cell_type": "code",
   "execution_count": null,
   "metadata": {
    "slideshow": {
     "slide_type": "slide"
    }
   },
   "outputs": [],
   "source": [
    "# 여러 지수 수집\n",
    "indices_korea = ['KPI200', 'KOSPI', 'KOSDAQ']"
   ]
  },
  {
   "cell_type": "code",
   "execution_count": null,
   "metadata": {},
   "outputs": [],
   "source": [
    "historical_indices = dict()\n",
    "\n",
    "for stock_cd in indices_korea:    \n",
    "    historical_prices = dict()\n",
    "    historical_prices = naver.index_korea(historical_prices, stock_cd, start_date, end_date)\n",
    "    historical_indices[stock_cd] = historical_prices    \n",
    "prices_df = pd.DataFrame(historical_indices)"
   ]
  },
  {
   "cell_type": "code",
   "execution_count": null,
   "metadata": {},
   "outputs": [],
   "source": [
    "prices_df.head()"
   ]
  },
  {
   "cell_type": "markdown",
   "metadata": {
    "slideshow": {
     "slide_type": "slide"
    }
   },
   "source": [
    "# 해외 지수 수집"
   ]
  },
  {
   "cell_type": "markdown",
   "metadata": {},
   "source": [
    "<img src=\"image_lecture/crawling_09.png\">"
   ]
  },
  {
   "cell_type": "code",
   "execution_count": null,
   "metadata": {
    "slideshow": {
     "slide_type": "slide"
    }
   },
   "outputs": [],
   "source": [
    "# 한 종목 수집\n",
    "historical_index = dict()\n",
    "index_cd = 'SPI@SPX'\n",
    "start_date = '2018-10-1'\n",
    "end_date = '2019-12-31'\n",
    "historical_index = naver.index_global(historical_index, index_cd, start_date, end_date)\n",
    "historical_index"
   ]
  },
  {
   "cell_type": "code",
   "execution_count": null,
   "metadata": {
    "slideshow": {
     "slide_type": "slide"
    }
   },
   "outputs": [],
   "source": [
    "# 여러 지수 수집\n",
    "indices = {\n",
    "    #'SHS@000001' : '상해종합',\n",
    "    'SPI@SPX' : 'S&P 500', \n",
    "    #'NAS@NDX' : 'Nasdaq 100', \n",
    "    'NII@NI225' : 'Nikkei 225'\n",
    "}"
   ]
  },
  {
   "cell_type": "code",
   "execution_count": null,
   "metadata": {},
   "outputs": [],
   "source": [
    "historical_indices = dict()\n",
    "for key, value in indices.items(): \n",
    "    s = dict()\n",
    "    s = naver.index_global(s, key)\n",
    "    historical_indices[value] = s    \n",
    "prices_df = pd.DataFrame(historical_indices)\n",
    "prices_df.head()"
   ]
  },
  {
   "cell_type": "markdown",
   "metadata": {},
   "source": [
    "    'LNS@FTSE100' : '영국 FTSE 100'\n",
    "    'HSI@HSI' : '홍콩 Hang Seng'"
   ]
  },
  {
   "cell_type": "code",
   "execution_count": null,
   "metadata": {},
   "outputs": [],
   "source": []
  }
 ],
 "metadata": {
  "celltoolbar": "Slideshow",
  "kernelspec": {
   "display_name": "Python 3",
   "language": "python",
   "name": "python3"
  },
  "language_info": {
   "codemirror_mode": {
    "name": "ipython",
    "version": 3
   },
   "file_extension": ".py",
   "mimetype": "text/x-python",
   "name": "python",
   "nbconvert_exporter": "python",
   "pygments_lexer": "ipython3",
   "version": "3.7.3"
  },
  "rise": {
   "scroll": true
  }
 },
 "nbformat": 4,
 "nbformat_minor": 2
}
