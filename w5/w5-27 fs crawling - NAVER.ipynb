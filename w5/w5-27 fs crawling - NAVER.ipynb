{
 "cells": [
  {
   "cell_type": "code",
   "execution_count": 1,
   "metadata": {
    "slideshow": {
     "slide_type": "slide"
    }
   },
   "outputs": [],
   "source": [
    "import pandas as pd\n",
    "import finterstellar as fs"
   ]
  },
  {
   "cell_type": "markdown",
   "metadata": {
    "slideshow": {
     "slide_type": "slide"
    }
   },
   "source": [
    "# 종목정보 크롤링"
   ]
  },
  {
   "cell_type": "markdown",
   "metadata": {},
   "source": [
    "<img src=\"image_lecture/crawling_05.png\">"
   ]
  },
  {
   "cell_type": "code",
   "execution_count": 2,
   "metadata": {
    "slideshow": {
     "slide_type": "slide"
    }
   },
   "outputs": [],
   "source": [
    "stock_cd = '005930'\n",
    "nvr = fs.NaverStockInfo()"
   ]
  },
  {
   "cell_type": "code",
   "execution_count": 3,
   "metadata": {},
   "outputs": [
    {
     "data": {
      "text/plain": [
       "5969782550"
      ]
     },
     "execution_count": 3,
     "metadata": {},
     "output_type": "execute_result"
    }
   ],
   "source": [
    "nvr.outstanding(stock_cd)"
   ]
  },
  {
   "cell_type": "code",
   "execution_count": 4,
   "metadata": {},
   "outputs": [
    {
     "data": {
      "text/plain": [
       "78.79"
      ]
     },
     "execution_count": 4,
     "metadata": {},
     "output_type": "execute_result"
    }
   ],
   "source": [
    "nvr.floating(stock_cd)"
   ]
  },
  {
   "cell_type": "code",
   "execution_count": 5,
   "metadata": {},
   "outputs": [
    {
     "name": "stdout",
     "output_type": "stream",
     "text": [
      "PER 6.84 12.53\n",
      "PBR 1.17 1.11\n",
      "PCR 4.48 5.68\n",
      "EV/EBITDA 2.17 3.23\n",
      "EPS 6024 3288\n",
      "BPS 35342 37277\n",
      "EBITDA 86019470000000.0 55224340000000.0\n",
      "현금DPS 1416 1428\n",
      "현금배당수익률 0.0344 0.0346\n",
      "회계기준 연결 연결\n"
     ]
    },
    {
     "data": {
      "text/plain": [
       "['1.17', '1.11']"
      ]
     },
     "execution_count": 5,
     "metadata": {},
     "output_type": "execute_result"
    }
   ],
   "source": [
    "nvr.fundamentals(stock_cd, 'PBR')   # 종목코드, 필요한 지표를 입력하면 값을 돌려줌"
   ]
  },
  {
   "cell_type": "markdown",
   "metadata": {
    "slideshow": {
     "slide_type": "slide"
    }
   },
   "source": [
    "# 주식시세 수집"
   ]
  },
  {
   "cell_type": "markdown",
   "metadata": {},
   "source": [
    "<img src=\"image_lecture/crawling_07.png\">"
   ]
  },
  {
   "cell_type": "code",
   "execution_count": 6,
   "metadata": {
    "slideshow": {
     "slide_type": "slide"
    }
   },
   "outputs": [],
   "source": [
    "# 네이버에서 주식 시세 수집\n",
    "naver = fs.Naver()"
   ]
  },
  {
   "cell_type": "code",
   "execution_count": 7,
   "metadata": {},
   "outputs": [
    {
     "data": {
      "text/plain": [
       "{datetime.date(2018, 12, 28): 60500.0,\n",
       " datetime.date(2018, 12, 27): 61600.0,\n",
       " datetime.date(2018, 12, 26): 60100.0,\n",
       " datetime.date(2018, 12, 24): 60400.0,\n",
       " datetime.date(2018, 12, 21): 60000.0,\n",
       " datetime.date(2018, 12, 20): 58600.0,\n",
       " datetime.date(2018, 12, 19): 60300.0,\n",
       " datetime.date(2018, 12, 18): 61100.0,\n",
       " datetime.date(2018, 12, 17): 62200.0,\n",
       " datetime.date(2018, 12, 14): 61800.0,\n",
       " datetime.date(2018, 12, 13): 65500.0,\n",
       " datetime.date(2018, 12, 12): 66200.0,\n",
       " datetime.date(2018, 12, 11): 64900.0,\n",
       " datetime.date(2018, 12, 10): 65500.0,\n",
       " datetime.date(2018, 12, 7): 66800.0,\n",
       " datetime.date(2018, 12, 6): 66000.0,\n",
       " datetime.date(2018, 12, 5): 68200.0,\n",
       " datetime.date(2018, 12, 4): 69000.0,\n",
       " datetime.date(2018, 12, 3): 70500.0,\n",
       " datetime.date(2018, 11, 30): 69600.0,\n",
       " datetime.date(2018, 11, 29): 71500.0,\n",
       " datetime.date(2018, 11, 28): 71900.0,\n",
       " datetime.date(2018, 11, 27): 70800.0,\n",
       " datetime.date(2018, 11, 26): 70900.0,\n",
       " datetime.date(2018, 11, 23): 69300.0,\n",
       " datetime.date(2018, 11, 22): 69300.0,\n",
       " datetime.date(2018, 11, 21): 68100.0,\n",
       " datetime.date(2018, 11, 20): 67500.0,\n",
       " datetime.date(2018, 11, 19): 69800.0,\n",
       " datetime.date(2018, 11, 16): 70100.0,\n",
       " datetime.date(2018, 11, 15): 71800.0,\n",
       " datetime.date(2018, 11, 14): 70400.0,\n",
       " datetime.date(2018, 11, 13): 71900.0,\n",
       " datetime.date(2018, 11, 12): 74500.0,\n",
       " datetime.date(2018, 11, 9): 72900.0,\n",
       " datetime.date(2018, 11, 8): 72900.0,\n",
       " datetime.date(2018, 11, 7): 70800.0,\n",
       " datetime.date(2018, 11, 6): 70100.0,\n",
       " datetime.date(2018, 11, 5): 70500.0,\n",
       " datetime.date(2018, 11, 2): 72600.0,\n",
       " datetime.date(2018, 11, 1): 68300.0,\n",
       " datetime.date(2018, 10, 31): 68200.0,\n",
       " datetime.date(2018, 10, 30): 68200.0,\n",
       " datetime.date(2018, 10, 29): 66800.0,\n",
       " datetime.date(2018, 10, 26): 67000.0,\n",
       " datetime.date(2018, 10, 25): 64700.0,\n",
       " datetime.date(2018, 10, 24): 66700.0,\n",
       " datetime.date(2018, 10, 23): 69100.0,\n",
       " datetime.date(2018, 10, 22): 70000.0,\n",
       " datetime.date(2018, 10, 19): 70800.0,\n",
       " datetime.date(2018, 10, 18): 68700.0,\n",
       " datetime.date(2018, 10, 17): 70400.0,\n",
       " datetime.date(2018, 10, 16): 69700.0,\n",
       " datetime.date(2018, 10, 15): 70300.0,\n",
       " datetime.date(2018, 10, 12): 72400.0,\n",
       " datetime.date(2018, 10, 11): 69000.0,\n",
       " datetime.date(2018, 10, 10): 70300.0,\n",
       " datetime.date(2018, 10, 8): 71200.0,\n",
       " datetime.date(2018, 10, 5): 70300.0,\n",
       " datetime.date(2018, 10, 4): 70000.0,\n",
       " datetime.date(2018, 10, 2): 71700.0,\n",
       " datetime.date(2018, 10, 1): 73700.0}"
      ]
     },
     "execution_count": 7,
     "metadata": {},
     "output_type": "execute_result"
    }
   ],
   "source": [
    "# 한 종목 수집\n",
    "historical_prices = dict()\n",
    "stock_cd = '000660'\n",
    "start_date = '2018-10-1'\n",
    "end_date = '2018-12-31'\n",
    "prices = naver.stock_price(historical_prices, stock_cd, start_date, end_date)\n",
    "prices"
   ]
  },
  {
   "cell_type": "code",
   "execution_count": 8,
   "metadata": {
    "slideshow": {
     "slide_type": "slide"
    }
   },
   "outputs": [],
   "source": [
    "# 여러 종목 수집\n",
    "'''\n",
    "005930\t삼성전자\n",
    "000660\tSK하이닉스\n",
    "066570\tLG전자\n",
    "'''\n",
    "stocks = ['005930', '000660', '066570']"
   ]
  },
  {
   "cell_type": "code",
   "execution_count": 9,
   "metadata": {},
   "outputs": [],
   "source": [
    "stock_prices = dict()\n",
    "\n",
    "for stock_cd in stocks:    \n",
    "    historical_prices = dict()\n",
    "    historical_prices = naver.stock_price(historical_prices, stock_cd, start_date, end_date)\n",
    "    stock_prices[stock_cd] = historical_prices    \n",
    "prices_df = pd.DataFrame(stock_prices)"
   ]
  },
  {
   "cell_type": "code",
   "execution_count": 10,
   "metadata": {},
   "outputs": [
    {
     "data": {
      "text/html": [
       "<div>\n",
       "<style scoped>\n",
       "    .dataframe tbody tr th:only-of-type {\n",
       "        vertical-align: middle;\n",
       "    }\n",
       "\n",
       "    .dataframe tbody tr th {\n",
       "        vertical-align: top;\n",
       "    }\n",
       "\n",
       "    .dataframe thead th {\n",
       "        text-align: right;\n",
       "    }\n",
       "</style>\n",
       "<table border=\"1\" class=\"dataframe\">\n",
       "  <thead>\n",
       "    <tr style=\"text-align: right;\">\n",
       "      <th></th>\n",
       "      <th>005930</th>\n",
       "      <th>000660</th>\n",
       "      <th>066570</th>\n",
       "    </tr>\n",
       "  </thead>\n",
       "  <tbody>\n",
       "    <tr>\n",
       "      <th>2018-10-01</th>\n",
       "      <td>46350.0</td>\n",
       "      <td>73700.0</td>\n",
       "      <td>71100.0</td>\n",
       "    </tr>\n",
       "    <tr>\n",
       "      <th>2018-10-02</th>\n",
       "      <td>45700.0</td>\n",
       "      <td>71700.0</td>\n",
       "      <td>69900.0</td>\n",
       "    </tr>\n",
       "    <tr>\n",
       "      <th>2018-10-04</th>\n",
       "      <td>44700.0</td>\n",
       "      <td>70000.0</td>\n",
       "      <td>69000.0</td>\n",
       "    </tr>\n",
       "    <tr>\n",
       "      <th>2018-10-05</th>\n",
       "      <td>44700.0</td>\n",
       "      <td>70300.0</td>\n",
       "      <td>70500.0</td>\n",
       "    </tr>\n",
       "    <tr>\n",
       "      <th>2018-10-08</th>\n",
       "      <td>44950.0</td>\n",
       "      <td>71200.0</td>\n",
       "      <td>67800.0</td>\n",
       "    </tr>\n",
       "  </tbody>\n",
       "</table>\n",
       "</div>"
      ],
      "text/plain": [
       "             005930   000660   066570\n",
       "2018-10-01  46350.0  73700.0  71100.0\n",
       "2018-10-02  45700.0  71700.0  69900.0\n",
       "2018-10-04  44700.0  70000.0  69000.0\n",
       "2018-10-05  44700.0  70300.0  70500.0\n",
       "2018-10-08  44950.0  71200.0  67800.0"
      ]
     },
     "execution_count": 10,
     "metadata": {},
     "output_type": "execute_result"
    }
   ],
   "source": [
    "prices_df.head()"
   ]
  },
  {
   "cell_type": "markdown",
   "metadata": {
    "slideshow": {
     "slide_type": "slide"
    }
   },
   "source": [
    "# 국내 지수 수집"
   ]
  },
  {
   "cell_type": "markdown",
   "metadata": {},
   "source": [
    "<img src=\"image_lecture/crawling_08.png\">"
   ]
  },
  {
   "cell_type": "code",
   "execution_count": 11,
   "metadata": {
    "slideshow": {
     "slide_type": "slide"
    }
   },
   "outputs": [
    {
     "data": {
      "text/plain": [
       "{datetime.date(2019, 5, 17): 264.35,\n",
       " datetime.date(2019, 5, 16): 265.99,\n",
       " datetime.date(2019, 5, 15): 269.64,\n",
       " datetime.date(2019, 5, 14): 268.57,\n",
       " datetime.date(2019, 5, 13): 268.72,\n",
       " datetime.date(2019, 5, 10): 272.06,\n",
       " datetime.date(2019, 5, 9): 271.0,\n",
       " datetime.date(2019, 5, 8): 280.15,\n",
       " datetime.date(2019, 5, 7): 281.31,\n",
       " datetime.date(2019, 5, 3): 283.67,\n",
       " datetime.date(2019, 5, 2): 286.12,\n",
       " datetime.date(2019, 4, 30): 284.92,\n",
       " datetime.date(2019, 4, 29): 286.79,\n",
       " datetime.date(2019, 4, 26): 281.34,\n",
       " datetime.date(2019, 4, 25): 282.83,\n",
       " datetime.date(2019, 4, 24): 283.7,\n",
       " datetime.date(2019, 4, 23): 286.47,\n",
       " datetime.date(2019, 4, 22): 285.87,\n",
       " datetime.date(2019, 4, 19): 285.89,\n",
       " datetime.date(2019, 4, 18): 285.82,\n",
       " datetime.date(2019, 4, 17): 290.33,\n",
       " datetime.date(2019, 4, 16): 290.62,\n",
       " datetime.date(2019, 4, 15): 289.38,\n",
       " datetime.date(2019, 4, 12): 288.37,\n",
       " datetime.date(2019, 4, 11): 287.42,\n",
       " datetime.date(2019, 4, 10): 287.92,\n",
       " datetime.date(2019, 4, 9): 286.71,\n",
       " datetime.date(2019, 4, 8): 286.38,\n",
       " datetime.date(2019, 4, 5): 286.68,\n",
       " datetime.date(2019, 4, 4): 286.15,\n",
       " datetime.date(2019, 4, 3): 285.65,\n",
       " datetime.date(2019, 4, 2): 281.72,\n",
       " datetime.date(2019, 4, 1): 280.32,\n",
       " datetime.date(2019, 3, 29): 276.48,\n",
       " datetime.date(2019, 3, 28): 275.08,\n",
       " datetime.date(2019, 3, 27): 277.28,\n",
       " datetime.date(2019, 3, 26): 277.6,\n",
       " datetime.date(2019, 3, 25): 277.45,\n",
       " datetime.date(2019, 3, 22): 283.13,\n",
       " datetime.date(2019, 3, 21): 282.38,\n",
       " datetime.date(2019, 3, 20): 279.92,\n",
       " datetime.date(2019, 3, 19): 279.82,\n",
       " datetime.date(2019, 3, 18): 279.93,\n",
       " datetime.date(2019, 3, 15): 279.87,\n",
       " datetime.date(2019, 3, 14): 276.64,\n",
       " datetime.date(2019, 3, 13): 276.0,\n",
       " datetime.date(2019, 3, 12): 277.73,\n",
       " datetime.date(2019, 3, 11): 275.06,\n",
       " datetime.date(2019, 3, 8): 274.84,\n",
       " datetime.date(2019, 3, 7): 278.87,\n",
       " datetime.date(2019, 3, 6): 279.85,\n",
       " datetime.date(2019, 3, 5): 280.45,\n",
       " datetime.date(2019, 3, 4): 282.51,\n",
       " datetime.date(2019, 2, 28): 283.8,\n",
       " datetime.date(2019, 2, 27): 288.76,\n",
       " datetime.date(2019, 2, 26): 287.89,\n",
       " datetime.date(2019, 2, 25): 289.0,\n",
       " datetime.date(2019, 2, 22): 288.74,\n",
       " datetime.date(2019, 2, 21): 288.41,\n",
       " datetime.date(2019, 2, 20): 288.4,\n",
       " datetime.date(2019, 2, 19): 284.91,\n",
       " datetime.date(2019, 2, 18): 285.9,\n",
       " datetime.date(2019, 2, 15): 283.98,\n",
       " datetime.date(2019, 2, 14): 288.68,\n",
       " datetime.date(2019, 2, 13): 284.97,\n",
       " datetime.date(2019, 2, 12): 283.69,\n",
       " datetime.date(2019, 2, 11): 282.1,\n",
       " datetime.date(2019, 2, 8): 281.49,\n",
       " datetime.date(2019, 2, 7): 285.65,\n",
       " datetime.date(2019, 2, 1): 285.79,\n",
       " datetime.date(2019, 1, 31): 285.89,\n",
       " datetime.date(2019, 1, 30): 286.62,\n",
       " datetime.date(2019, 1, 29): 283.0,\n",
       " datetime.date(2019, 1, 28): 281.64,\n",
       " datetime.date(2019, 1, 25): 281.67,\n",
       " datetime.date(2019, 1, 24): 276.61,\n",
       " datetime.date(2019, 1, 23): 273.87,\n",
       " datetime.date(2019, 1, 22): 272.71,\n",
       " datetime.date(2019, 1, 21): 274.0,\n",
       " datetime.date(2019, 1, 18): 273.88,\n",
       " datetime.date(2019, 1, 17): 271.88,\n",
       " datetime.date(2019, 1, 16): 271.23,\n",
       " datetime.date(2019, 1, 15): 269.93,\n",
       " datetime.date(2019, 1, 14): 264.99,\n",
       " datetime.date(2019, 1, 11): 267.13,\n",
       " datetime.date(2019, 1, 10): 265.55,\n",
       " datetime.date(2019, 1, 9): 265.6,\n",
       " datetime.date(2019, 1, 8): 259.65,\n",
       " datetime.date(2019, 1, 7): 261.57,\n",
       " datetime.date(2019, 1, 4): 257.89,\n",
       " datetime.date(2019, 1, 3): 255.77,\n",
       " datetime.date(2019, 1, 2): 258.23,\n",
       " datetime.date(2018, 12, 28): 261.98,\n",
       " datetime.date(2018, 12, 27): 260.57,\n",
       " datetime.date(2018, 12, 26): 260.98,\n",
       " datetime.date(2018, 12, 24): 264.45,\n",
       " datetime.date(2018, 12, 21): 265.06,\n",
       " datetime.date(2018, 12, 20): 264.81,\n",
       " datetime.date(2018, 12, 19): 267.31,\n",
       " datetime.date(2018, 12, 18): 265.18,\n",
       " datetime.date(2018, 12, 17): 266.33,\n",
       " datetime.date(2018, 12, 14): 265.55,\n",
       " datetime.date(2018, 12, 13): 269.41,\n",
       " datetime.date(2018, 12, 12): 268.47,\n",
       " datetime.date(2018, 12, 11): 264.69,\n",
       " datetime.date(2018, 12, 10): 265.35,\n",
       " datetime.date(2018, 12, 7): 268.28,\n",
       " datetime.date(2018, 12, 6): 267.18,\n",
       " datetime.date(2018, 12, 5): 271.49,\n",
       " datetime.date(2018, 12, 4): 273.29,\n",
       " datetime.date(2018, 12, 3): 276.18,\n",
       " datetime.date(2018, 11, 30): 271.35,\n",
       " datetime.date(2018, 11, 29): 274.16,\n",
       " datetime.date(2018, 11, 28): 273.45,\n",
       " datetime.date(2018, 11, 27): 272.08,\n",
       " datetime.date(2018, 11, 26): 269.79,\n",
       " datetime.date(2018, 11, 23): 266.33,\n",
       " datetime.date(2018, 11, 22): 267.76,\n",
       " datetime.date(2018, 11, 21): 268.27,\n",
       " datetime.date(2018, 11, 20): 269.58,\n",
       " datetime.date(2018, 11, 19): 272.31,\n",
       " datetime.date(2018, 11, 16): 271.65,\n",
       " datetime.date(2018, 11, 15): 271.54,\n",
       " datetime.date(2018, 11, 14): 268.88,\n",
       " datetime.date(2018, 11, 13): 269.7,\n",
       " datetime.date(2018, 11, 12): 271.57,\n",
       " datetime.date(2018, 11, 9): 271.33,\n",
       " datetime.date(2018, 11, 8): 272.11,\n",
       " datetime.date(2018, 11, 7): 270.45,\n",
       " datetime.date(2018, 11, 6): 271.57,\n",
       " datetime.date(2018, 11, 5): 270.07,\n",
       " datetime.date(2018, 11, 2): 272.56,\n",
       " datetime.date(2018, 11, 1): 262.95,\n",
       " datetime.date(2018, 10, 31): 264.01,\n",
       " datetime.date(2018, 10, 30): 262.47,\n",
       " datetime.date(2018, 10, 29): 260.19,\n",
       " datetime.date(2018, 10, 26): 262.69,\n",
       " datetime.date(2018, 10, 25): 266.72,\n",
       " datetime.date(2018, 10, 24): 271.36,\n",
       " datetime.date(2018, 10, 23): 272.54,\n",
       " datetime.date(2018, 10, 22): 279.4,\n",
       " datetime.date(2018, 10, 19): 278.63,\n",
       " datetime.date(2018, 10, 18): 277.48,\n",
       " datetime.date(2018, 10, 17): 280.05,\n",
       " datetime.date(2018, 10, 16): 276.9,\n",
       " datetime.date(2018, 10, 15): 277.19,\n",
       " datetime.date(2018, 10, 12): 279.37,\n",
       " datetime.date(2018, 10, 11): 275.15,\n",
       " datetime.date(2018, 10, 10): 287.85,\n",
       " datetime.date(2018, 10, 8): 289.91,\n",
       " datetime.date(2018, 10, 5): 291.28,\n",
       " datetime.date(2018, 10, 4): 291.78,\n",
       " datetime.date(2018, 10, 2): 296.53,\n",
       " datetime.date(2018, 10, 1): 300.17}"
      ]
     },
     "execution_count": 11,
     "metadata": {},
     "output_type": "execute_result"
    }
   ],
   "source": [
    "# 국내 지수 수집\n",
    "historical_indices = dict()\n",
    "stock_cd = 'KPI200'\n",
    "start_date = '2018-10-1'\n",
    "end_date = '2019-12-31'\n",
    "prices = naver.index_korea(historical_indices, stock_cd, start_date, end_date)\n",
    "prices"
   ]
  },
  {
   "cell_type": "code",
   "execution_count": 12,
   "metadata": {
    "slideshow": {
     "slide_type": "slide"
    }
   },
   "outputs": [],
   "source": [
    "# 여러 지수 수집\n",
    "indices_korea = ['KPI200', 'KOSPI', 'KOSDAQ']"
   ]
  },
  {
   "cell_type": "code",
   "execution_count": 13,
   "metadata": {},
   "outputs": [],
   "source": [
    "historical_indices = dict()\n",
    "\n",
    "for stock_cd in indices_korea:    \n",
    "    historical_prices = dict()\n",
    "    historical_prices = naver.index_korea(historical_prices, stock_cd, start_date, end_date)\n",
    "    historical_indices[stock_cd] = historical_prices    \n",
    "prices_df = pd.DataFrame(historical_indices)"
   ]
  },
  {
   "cell_type": "code",
   "execution_count": 14,
   "metadata": {},
   "outputs": [
    {
     "data": {
      "text/html": [
       "<div>\n",
       "<style scoped>\n",
       "    .dataframe tbody tr th:only-of-type {\n",
       "        vertical-align: middle;\n",
       "    }\n",
       "\n",
       "    .dataframe tbody tr th {\n",
       "        vertical-align: top;\n",
       "    }\n",
       "\n",
       "    .dataframe thead th {\n",
       "        text-align: right;\n",
       "    }\n",
       "</style>\n",
       "<table border=\"1\" class=\"dataframe\">\n",
       "  <thead>\n",
       "    <tr style=\"text-align: right;\">\n",
       "      <th></th>\n",
       "      <th>KPI200</th>\n",
       "      <th>KOSPI</th>\n",
       "      <th>KOSDAQ</th>\n",
       "    </tr>\n",
       "  </thead>\n",
       "  <tbody>\n",
       "    <tr>\n",
       "      <th>2018-10-01</th>\n",
       "      <td>300.17</td>\n",
       "      <td>2338.88</td>\n",
       "      <td>816.53</td>\n",
       "    </tr>\n",
       "    <tr>\n",
       "      <th>2018-10-02</th>\n",
       "      <td>296.53</td>\n",
       "      <td>2309.57</td>\n",
       "      <td>794.99</td>\n",
       "    </tr>\n",
       "    <tr>\n",
       "      <th>2018-10-04</th>\n",
       "      <td>291.78</td>\n",
       "      <td>2274.49</td>\n",
       "      <td>789.00</td>\n",
       "    </tr>\n",
       "    <tr>\n",
       "      <th>2018-10-05</th>\n",
       "      <td>291.28</td>\n",
       "      <td>2267.52</td>\n",
       "      <td>773.70</td>\n",
       "    </tr>\n",
       "    <tr>\n",
       "      <th>2018-10-08</th>\n",
       "      <td>289.91</td>\n",
       "      <td>2253.83</td>\n",
       "      <td>767.15</td>\n",
       "    </tr>\n",
       "  </tbody>\n",
       "</table>\n",
       "</div>"
      ],
      "text/plain": [
       "            KPI200    KOSPI  KOSDAQ\n",
       "2018-10-01  300.17  2338.88  816.53\n",
       "2018-10-02  296.53  2309.57  794.99\n",
       "2018-10-04  291.78  2274.49  789.00\n",
       "2018-10-05  291.28  2267.52  773.70\n",
       "2018-10-08  289.91  2253.83  767.15"
      ]
     },
     "execution_count": 14,
     "metadata": {},
     "output_type": "execute_result"
    }
   ],
   "source": [
    "prices_df.head()"
   ]
  },
  {
   "cell_type": "markdown",
   "metadata": {
    "slideshow": {
     "slide_type": "slide"
    }
   },
   "source": [
    "# 해외 지수 수집"
   ]
  },
  {
   "cell_type": "markdown",
   "metadata": {},
   "source": [
    "<img src=\"image_lecture/crawling_09.png\">"
   ]
  },
  {
   "cell_type": "code",
   "execution_count": 15,
   "metadata": {
    "slideshow": {
     "slide_type": "slide"
    }
   },
   "outputs": [
    {
     "data": {
      "text/plain": [
       "{datetime.date(2019, 5, 17): 2859.53,\n",
       " datetime.date(2019, 5, 16): 2876.32,\n",
       " datetime.date(2019, 5, 15): 2850.96,\n",
       " datetime.date(2019, 5, 14): 2834.41,\n",
       " datetime.date(2019, 5, 13): 2811.87,\n",
       " datetime.date(2019, 5, 10): 2881.4,\n",
       " datetime.date(2019, 5, 9): 2870.72,\n",
       " datetime.date(2019, 5, 8): 2879.42,\n",
       " datetime.date(2019, 5, 7): 2884.05,\n",
       " datetime.date(2019, 5, 6): 2932.47,\n",
       " datetime.date(2019, 5, 3): 2945.64,\n",
       " datetime.date(2019, 5, 2): 2917.52,\n",
       " datetime.date(2019, 5, 1): 2923.73,\n",
       " datetime.date(2019, 4, 30): 2945.83,\n",
       " datetime.date(2019, 4, 29): 2943.03,\n",
       " datetime.date(2019, 4, 26): 2939.88,\n",
       " datetime.date(2019, 4, 25): 2926.17,\n",
       " datetime.date(2019, 4, 24): 2927.25,\n",
       " datetime.date(2019, 4, 23): 2933.68,\n",
       " datetime.date(2019, 4, 22): 2907.97,\n",
       " datetime.date(2019, 4, 18): 2905.03,\n",
       " datetime.date(2019, 4, 17): 2900.45,\n",
       " datetime.date(2019, 4, 16): 2907.06,\n",
       " datetime.date(2019, 4, 15): 2905.58,\n",
       " datetime.date(2019, 4, 12): 2907.41,\n",
       " datetime.date(2019, 4, 11): 2888.32,\n",
       " datetime.date(2019, 4, 10): 2888.21,\n",
       " datetime.date(2019, 4, 9): 2878.2,\n",
       " datetime.date(2019, 4, 8): 2895.77,\n",
       " datetime.date(2019, 4, 5): 2892.74,\n",
       " datetime.date(2019, 4, 4): 2879.39,\n",
       " datetime.date(2019, 4, 3): 2873.4,\n",
       " datetime.date(2019, 4, 2): 2867.24,\n",
       " datetime.date(2019, 4, 1): 2867.19,\n",
       " datetime.date(2019, 3, 29): 2834.4,\n",
       " datetime.date(2019, 3, 28): 2815.44,\n",
       " datetime.date(2019, 3, 27): 2805.37,\n",
       " datetime.date(2019, 3, 26): 2818.46,\n",
       " datetime.date(2019, 3, 25): 2798.36,\n",
       " datetime.date(2019, 3, 22): 2800.71,\n",
       " datetime.date(2019, 3, 21): 2854.88,\n",
       " datetime.date(2019, 3, 20): 2824.23,\n",
       " datetime.date(2019, 3, 19): 2832.57,\n",
       " datetime.date(2019, 3, 18): 2832.94,\n",
       " datetime.date(2019, 3, 15): 2822.48,\n",
       " datetime.date(2019, 3, 14): 2808.48,\n",
       " datetime.date(2019, 3, 13): 2810.92,\n",
       " datetime.date(2019, 3, 12): 2791.52,\n",
       " datetime.date(2019, 3, 11): 2783.3,\n",
       " datetime.date(2019, 3, 8): 2743.07,\n",
       " datetime.date(2019, 3, 7): 2748.93,\n",
       " datetime.date(2019, 3, 6): 2771.45,\n",
       " datetime.date(2019, 3, 5): 2789.65,\n",
       " datetime.date(2019, 3, 4): 2792.81,\n",
       " datetime.date(2019, 3, 1): 2803.69,\n",
       " datetime.date(2019, 2, 28): 2784.49,\n",
       " datetime.date(2019, 2, 27): 2792.38,\n",
       " datetime.date(2019, 2, 26): 2793.9,\n",
       " datetime.date(2019, 2, 25): 2796.11,\n",
       " datetime.date(2019, 2, 22): 2792.67,\n",
       " datetime.date(2019, 2, 21): 2774.88,\n",
       " datetime.date(2019, 2, 20): 2784.7,\n",
       " datetime.date(2019, 2, 19): 2779.76,\n",
       " datetime.date(2019, 2, 15): 2775.6,\n",
       " datetime.date(2019, 2, 14): 2745.73,\n",
       " datetime.date(2019, 2, 13): 2753.03,\n",
       " datetime.date(2019, 2, 12): 2744.73,\n",
       " datetime.date(2019, 2, 11): 2709.8,\n",
       " datetime.date(2019, 2, 8): 2707.88,\n",
       " datetime.date(2019, 2, 7): 2706.05,\n",
       " datetime.date(2019, 2, 6): 2731.61,\n",
       " datetime.date(2019, 2, 5): 2737.7,\n",
       " datetime.date(2019, 2, 4): 2724.87,\n",
       " datetime.date(2019, 2, 1): 2706.53,\n",
       " datetime.date(2019, 1, 31): 2704.1,\n",
       " datetime.date(2019, 1, 30): 2681.05,\n",
       " datetime.date(2019, 1, 29): 2640.0,\n",
       " datetime.date(2019, 1, 28): 2643.85,\n",
       " datetime.date(2019, 1, 25): 2664.76,\n",
       " datetime.date(2019, 1, 24): 2642.33,\n",
       " datetime.date(2019, 1, 23): 2638.7,\n",
       " datetime.date(2019, 1, 22): 2632.9,\n",
       " datetime.date(2019, 1, 18): 2670.71,\n",
       " datetime.date(2019, 1, 17): 2635.96,\n",
       " datetime.date(2019, 1, 16): 2616.1,\n",
       " datetime.date(2019, 1, 15): 2610.3,\n",
       " datetime.date(2019, 1, 14): 2582.61,\n",
       " datetime.date(2019, 1, 11): 2596.26,\n",
       " datetime.date(2019, 1, 10): 2596.64,\n",
       " datetime.date(2019, 1, 9): 2584.96,\n",
       " datetime.date(2019, 1, 8): 2574.41,\n",
       " datetime.date(2019, 1, 7): 2549.69,\n",
       " datetime.date(2019, 1, 4): 2531.94,\n",
       " datetime.date(2019, 1, 3): 2447.89,\n",
       " datetime.date(2019, 1, 2): 2510.03,\n",
       " datetime.date(2018, 12, 31): 2506.85,\n",
       " datetime.date(2018, 12, 28): 2485.74,\n",
       " datetime.date(2018, 12, 27): 2488.83,\n",
       " datetime.date(2018, 12, 26): 2467.7,\n",
       " datetime.date(2018, 12, 24): 2351.1,\n",
       " datetime.date(2018, 12, 21): 2416.62,\n",
       " datetime.date(2018, 12, 20): 2467.42,\n",
       " datetime.date(2018, 12, 19): 2506.96,\n",
       " datetime.date(2018, 12, 18): 2546.16,\n",
       " datetime.date(2018, 12, 17): 2545.94,\n",
       " datetime.date(2018, 12, 14): 2599.95,\n",
       " datetime.date(2018, 12, 13): 2650.54,\n",
       " datetime.date(2018, 12, 12): 2651.07,\n",
       " datetime.date(2018, 12, 11): 2636.78,\n",
       " datetime.date(2018, 12, 10): 2637.72,\n",
       " datetime.date(2018, 12, 7): 2633.08,\n",
       " datetime.date(2018, 12, 6): 2695.95,\n",
       " datetime.date(2018, 12, 4): 2700.06,\n",
       " datetime.date(2018, 12, 3): 2790.37,\n",
       " datetime.date(2018, 11, 30): 2760.17,\n",
       " datetime.date(2018, 11, 29): 2737.76,\n",
       " datetime.date(2018, 11, 28): 2743.79,\n",
       " datetime.date(2018, 11, 27): 2682.17,\n",
       " datetime.date(2018, 11, 26): 2673.45,\n",
       " datetime.date(2018, 11, 23): 2632.56,\n",
       " datetime.date(2018, 11, 21): 2649.93,\n",
       " datetime.date(2018, 11, 20): 2641.89,\n",
       " datetime.date(2018, 11, 19): 2690.73,\n",
       " datetime.date(2018, 11, 16): 2736.27,\n",
       " datetime.date(2018, 11, 15): 2730.2,\n",
       " datetime.date(2018, 11, 14): 2701.58,\n",
       " datetime.date(2018, 11, 13): 2722.18,\n",
       " datetime.date(2018, 11, 12): 2726.22,\n",
       " datetime.date(2018, 11, 9): 2781.01,\n",
       " datetime.date(2018, 11, 8): 2806.83,\n",
       " datetime.date(2018, 11, 7): 2813.89,\n",
       " datetime.date(2018, 11, 6): 2755.45,\n",
       " datetime.date(2018, 11, 5): 2738.31,\n",
       " datetime.date(2018, 11, 2): 2723.06,\n",
       " datetime.date(2018, 11, 1): 2740.37,\n",
       " datetime.date(2018, 10, 31): 2711.74,\n",
       " datetime.date(2018, 10, 30): 2682.63,\n",
       " datetime.date(2018, 10, 29): 2641.25,\n",
       " datetime.date(2018, 10, 26): 2658.69,\n",
       " datetime.date(2018, 10, 25): 2705.57,\n",
       " datetime.date(2018, 10, 24): 2656.1,\n",
       " datetime.date(2018, 10, 23): 2740.69,\n",
       " datetime.date(2018, 10, 22): 2755.88,\n",
       " datetime.date(2018, 10, 19): 2767.78,\n",
       " datetime.date(2018, 10, 18): 2768.78,\n",
       " datetime.date(2018, 10, 17): 2809.21,\n",
       " datetime.date(2018, 10, 16): 2809.92,\n",
       " datetime.date(2018, 10, 15): 2750.79,\n",
       " datetime.date(2018, 10, 12): 2767.13,\n",
       " datetime.date(2018, 10, 11): 2728.37,\n",
       " datetime.date(2018, 10, 10): 2785.68,\n",
       " datetime.date(2018, 10, 9): 2880.34,\n",
       " datetime.date(2018, 10, 8): 2884.43,\n",
       " datetime.date(2018, 10, 5): 2885.57,\n",
       " datetime.date(2018, 10, 4): 2901.61,\n",
       " datetime.date(2018, 10, 3): 2925.51,\n",
       " datetime.date(2018, 10, 2): 2923.43,\n",
       " datetime.date(2018, 10, 1): 2924.59}"
      ]
     },
     "execution_count": 15,
     "metadata": {},
     "output_type": "execute_result"
    }
   ],
   "source": [
    "# 한 종목 수집\n",
    "historical_index = dict()\n",
    "index_cd = 'SPI@SPX'\n",
    "start_date = '2018-10-1'\n",
    "end_date = '2019-12-31'\n",
    "historical_index = naver.index_global(historical_index, index_cd, start_date, end_date)\n",
    "historical_index"
   ]
  },
  {
   "cell_type": "code",
   "execution_count": 16,
   "metadata": {
    "slideshow": {
     "slide_type": "slide"
    }
   },
   "outputs": [],
   "source": [
    "# 여러 지수 수집\n",
    "indices = {\n",
    "    #'SHS@000001' : '상해종합',\n",
    "    'SPI@SPX' : 'S&P 500', \n",
    "    #'NAS@NDX' : 'Nasdaq 100', \n",
    "    'NII@NI225' : 'Nikkei 225'\n",
    "}"
   ]
  },
  {
   "cell_type": "code",
   "execution_count": 17,
   "metadata": {},
   "outputs": [
    {
     "data": {
      "text/html": [
       "<div>\n",
       "<style scoped>\n",
       "    .dataframe tbody tr th:only-of-type {\n",
       "        vertical-align: middle;\n",
       "    }\n",
       "\n",
       "    .dataframe tbody tr th {\n",
       "        vertical-align: top;\n",
       "    }\n",
       "\n",
       "    .dataframe thead th {\n",
       "        text-align: right;\n",
       "    }\n",
       "</style>\n",
       "<table border=\"1\" class=\"dataframe\">\n",
       "  <thead>\n",
       "    <tr style=\"text-align: right;\">\n",
       "      <th></th>\n",
       "      <th>S&amp;P 500</th>\n",
       "      <th>Nikkei 225</th>\n",
       "    </tr>\n",
       "  </thead>\n",
       "  <tbody>\n",
       "    <tr>\n",
       "      <th>2018-05-21</th>\n",
       "      <td>2733.01</td>\n",
       "      <td>23002.37</td>\n",
       "    </tr>\n",
       "    <tr>\n",
       "      <th>2018-05-22</th>\n",
       "      <td>2724.44</td>\n",
       "      <td>22960.34</td>\n",
       "    </tr>\n",
       "    <tr>\n",
       "      <th>2018-05-23</th>\n",
       "      <td>2733.29</td>\n",
       "      <td>22689.74</td>\n",
       "    </tr>\n",
       "    <tr>\n",
       "      <th>2018-05-24</th>\n",
       "      <td>2727.76</td>\n",
       "      <td>22437.01</td>\n",
       "    </tr>\n",
       "    <tr>\n",
       "      <th>2018-05-25</th>\n",
       "      <td>2721.33</td>\n",
       "      <td>22450.79</td>\n",
       "    </tr>\n",
       "  </tbody>\n",
       "</table>\n",
       "</div>"
      ],
      "text/plain": [
       "            S&P 500  Nikkei 225\n",
       "2018-05-21  2733.01    23002.37\n",
       "2018-05-22  2724.44    22960.34\n",
       "2018-05-23  2733.29    22689.74\n",
       "2018-05-24  2727.76    22437.01\n",
       "2018-05-25  2721.33    22450.79"
      ]
     },
     "execution_count": 17,
     "metadata": {},
     "output_type": "execute_result"
    }
   ],
   "source": [
    "historical_indices = dict()\n",
    "for key, value in indices.items(): \n",
    "    s = dict()\n",
    "    s = naver.index_global(s, key)\n",
    "    historical_indices[value] = s    \n",
    "prices_df = pd.DataFrame(historical_indices)\n",
    "prices_df.head()"
   ]
  },
  {
   "cell_type": "markdown",
   "metadata": {},
   "source": [
    "    'LNS@FTSE100' : '영국 FTSE 100'\n",
    "    'HSI@HSI' : '홍콩 Hang Seng'"
   ]
  },
  {
   "cell_type": "code",
   "execution_count": null,
   "metadata": {},
   "outputs": [],
   "source": []
  }
 ],
 "metadata": {
  "celltoolbar": "Slideshow",
  "kernelspec": {
   "display_name": "Python 3",
   "language": "python",
   "name": "python3"
  },
  "language_info": {
   "codemirror_mode": {
    "name": "ipython",
    "version": 3
   },
   "file_extension": ".py",
   "mimetype": "text/x-python",
   "name": "python",
   "nbconvert_exporter": "python",
   "pygments_lexer": "ipython3",
   "version": "3.7.3"
  },
  "rise": {
   "scroll": true
  }
 },
 "nbformat": 4,
 "nbformat_minor": 2
}
