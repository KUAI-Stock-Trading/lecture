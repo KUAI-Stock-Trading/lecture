{
 "cells": [
  {
   "cell_type": "markdown",
   "metadata": {
    "slideshow": {
     "slide_type": "slide"
    }
   },
   "source": [
    "0. 외부함수 사용을 위해 필요한 라이브러리 불러오기"
   ]
  },
  {
   "cell_type": "code",
   "execution_count": null,
   "metadata": {
    "slideshow": {
     "slide_type": "-"
    }
   },
   "outputs": [],
   "source": [
    "import finterstellar as fs\n",
    "import pandas as pd\n",
    "import numpy as np"
   ]
  },
  {
   "cell_type": "code",
   "execution_count": null,
   "metadata": {},
   "outputs": [],
   "source": [
    "K10_dict = {\n",
    "    '005930' : '삼성전자',\n",
    "    '000660' : 'SK하이닉스',\n",
    "    '051910' : 'LG화학',\n",
    "    '068270' : '셀트리온',\n",
    "    '005380' : '현대차',\n",
    "    '207940' : '삼성바이오로직스',\n",
    "    '005490' : 'POSCO',\n",
    "    '028260' : '삼성물산',\n",
    "    '015760' : '한국전력',\n",
    "    '035420' : 'NAVER'\n",
    "}"
   ]
  },
  {
   "cell_type": "markdown",
   "metadata": {
    "slideshow": {
     "slide_type": "slide"
    }
   },
   "source": [
    "1. 시가총액이 있는 엑셀 파일 읽기: read_excel()"
   ]
  },
  {
   "cell_type": "code",
   "execution_count": null,
   "metadata": {},
   "outputs": [],
   "source": [
    "path = './data/'     # 파일위치\n",
    "n = 'K10_info.xlsx'     # 파일명"
   ]
  },
  {
   "cell_type": "code",
   "execution_count": null,
   "metadata": {
    "slideshow": {
     "slide_type": "-"
    }
   },
   "outputs": [],
   "source": [
    "file_name = path + n    # 읽어올 파일위치+파일명 지정\n",
    "stock_info = pd.read_excel(file_name, converters={'code':str})\n",
    "'''\n",
    "    pd.read_excel(파일명) - 엑셀파일을 읽어 데이터프레임으로 변환시켜 돌려주는 함수\n",
    "    converters={'code':str} - 데이터 형식을 '문자'형식으로 지정, \n",
    "    생략 시 pd가 이 컬럼을 자동으로 숫자로 인식해 종목코드 앞쪽 0을 삭제해버리게됨\n",
    "'''\n",
    "stock_info.set_index('code', inplace=True)\n",
    "stock_info.head(10)"
   ]
  },
  {
   "cell_type": "markdown",
   "metadata": {
    "slideshow": {
     "slide_type": "slide"
    }
   },
   "source": [
    "4. 10개 종목의 시세 데이터 로딩 : create_portfolio_df()"
   ]
  },
  {
   "cell_type": "code",
   "execution_count": null,
   "metadata": {
    "slideshow": {
     "slide_type": "-"
    }
   },
   "outputs": [],
   "source": [
    "n = 'K10_prices.xlsx'     # 파일명"
   ]
  },
  {
   "cell_type": "code",
   "execution_count": null,
   "metadata": {},
   "outputs": [],
   "source": [
    "file_name = path + n    # 읽어올 파일위치+파일명 지정\n",
    "price = pd.read_excel(file_name)\n",
    "'''\n",
    "    pd.read_excel(파일명) - 엑셀파일을 읽어 데이터프레임으로 변환시켜 돌려주는 함수\n",
    "    converters={'code':str} - 데이터 형식을 '문자'형식으로 지정, \n",
    "    생략 시 pd가 이 컬럼을 자동으로 숫자로 인식해 종목코드 앞쪽 0을 삭제해버리게됨\n",
    "'''\n",
    "price.set_index('trade_date', inplace=True)\n",
    "price.tail()"
   ]
  },
  {
   "cell_type": "code",
   "execution_count": null,
   "metadata": {
    "slideshow": {
     "slide_type": "slide"
    }
   },
   "outputs": [],
   "source": [
    "ld = fs.LoadData()"
   ]
  },
  {
   "cell_type": "code",
   "execution_count": null,
   "metadata": {},
   "outputs": [],
   "source": [
    "price = ld.date_formatting(price)\n",
    "price.head()"
   ]
  },
  {
   "cell_type": "code",
   "execution_count": null,
   "metadata": {
    "slideshow": {
     "slide_type": "slide"
    }
   },
   "outputs": [],
   "source": [
    "base_date = '2018-01-02'"
   ]
  },
  {
   "cell_type": "code",
   "execution_count": null,
   "metadata": {},
   "outputs": [],
   "source": [
    "price = price[base_date:]\n",
    "price.head()"
   ]
  },
  {
   "cell_type": "raw",
   "metadata": {
    "slideshow": {
     "slide_type": "slide"
    }
   },
   "source": [
    "5. 유동주식수 데이터를 이용해 각 종목의 유동시가총액 계산\n",
    "유동시가총액 = 시세 x 유동주식수"
   ]
  },
  {
   "cell_type": "code",
   "execution_count": null,
   "metadata": {
    "slideshow": {
     "slide_type": "-"
    }
   },
   "outputs": [],
   "source": [
    "stock_info['outstanding']"
   ]
  },
  {
   "cell_type": "code",
   "execution_count": null,
   "metadata": {
    "slideshow": {
     "slide_type": "slide"
    }
   },
   "outputs": [],
   "source": [
    "market_cap = pd.DataFrame()\n",
    "market_cap = price * stock_info['outstanding']\n",
    "market_cap.head()"
   ]
  },
  {
   "cell_type": "raw",
   "metadata": {
    "slideshow": {
     "slide_type": "slide"
    }
   },
   "source": [
    "6. 10개 종목의 유동시가총액 합산 (지수의 유동시가총액)"
   ]
  },
  {
   "cell_type": "code",
   "execution_count": null,
   "metadata": {},
   "outputs": [],
   "source": [
    "market_cap['K10'] = market_cap.sum(axis=1)\n",
    "market_cap.tail()"
   ]
  },
  {
   "cell_type": "raw",
   "metadata": {
    "slideshow": {
     "slide_type": "slide"
    }
   },
   "source": [
    "7. 기준일자를 선정해 지수 산출 \n",
    "지수 = 일자별 시가총액 / 기준일 시가총액 x 100"
   ]
  },
  {
   "cell_type": "code",
   "execution_count": null,
   "metadata": {
    "slideshow": {
     "slide_type": "-"
    }
   },
   "outputs": [],
   "source": [
    "index = pd.DataFrame()\n",
    "# 첫 날짜를 기준으로 지수화\n",
    "index['K10'] = round( market_cap['K10'] / market_cap.loc[base_date, 'K10'], 4 ) * 100\n",
    "# 지수 = 일자별 시가총액 / 기준일 시가총액 * 100 \n",
    "index.head()"
   ]
  },
  {
   "cell_type": "markdown",
   "metadata": {
    "slideshow": {
     "slide_type": "slide"
    }
   },
   "source": [
    "K10 지수 그래프 그리기"
   ]
  },
  {
   "cell_type": "code",
   "execution_count": null,
   "metadata": {},
   "outputs": [],
   "source": [
    "v = fs.Visualize()"
   ]
  },
  {
   "cell_type": "code",
   "execution_count": null,
   "metadata": {},
   "outputs": [],
   "source": [
    "v.price_view(index, base_date, ['K10'])\n",
    "# price_view(데이터프레임, 기준일자, [종목코드], (사이즈)) - 챠트 그리기"
   ]
  },
  {
   "cell_type": "markdown",
   "metadata": {
    "slideshow": {
     "slide_type": "slide"
    }
   },
   "source": [
    "KOSPI200과 비교"
   ]
  },
  {
   "cell_type": "code",
   "execution_count": null,
   "metadata": {},
   "outputs": [],
   "source": [
    "K200 = ld.make_historical_price_df(path, 'KOSPI 200')"
   ]
  },
  {
   "cell_type": "code",
   "execution_count": null,
   "metadata": {},
   "outputs": [],
   "source": [
    "K200.head()"
   ]
  },
  {
   "cell_type": "code",
   "execution_count": null,
   "metadata": {
    "slideshow": {
     "slide_type": "slide"
    }
   },
   "outputs": [],
   "source": [
    "index['K200'] = K200.loc[base_date:]\n",
    "# 1월2일 이후 지수만 idx의 K200 컬럼에 담음\n",
    "index.head()"
   ]
  },
  {
   "cell_type": "code",
   "execution_count": null,
   "metadata": {},
   "outputs": [],
   "source": [
    "index = index.fillna(method='ffill')\n",
    "# NaN 값을 앞의 값으로 채움"
   ]
  },
  {
   "cell_type": "code",
   "execution_count": null,
   "metadata": {
    "slideshow": {
     "slide_type": "slide"
    }
   },
   "outputs": [],
   "source": [
    "v.index_view(index, base_date, ['K200', 'K10'])\n",
    "# index_view(데이터프레임, 기준일자, [종목코드], (사이즈)) - 비교를 위해 인덱스화한 그래프 그리기"
   ]
  },
  {
   "cell_type": "markdown",
   "metadata": {
    "slideshow": {
     "slide_type": "slide"
    }
   },
   "source": [
    "## 펀드 운용"
   ]
  },
  {
   "cell_type": "raw",
   "metadata": {},
   "source": [
    "일자별로:\n",
    "    1. 기존 보유잔고를 기준으로 기준 NAV 계산 : 종목별 잔고 * 종목별 현재가 + 현금\n",
    "    2. 기준가 산출 : NAV / 펀드좌수\n",
    "    3. Creation, Redemption을 반영해 펀드잔고 조정 : 변경좌수\n",
    "    4. 펀드좌수를 반영해 NAV 조정 : 신규 NAV = 기준 NAV + (기준가 * 변경좌수)\n",
    "    5. 종목별 현재가를 반영해 종목별 보유비중 산정 : 종목별 시가총액 / 지수 시가총액\n",
    "    6. 신규 NAV를 반영해 종목별 보유해야 할 수(holdings) 산출 : NAV * 보유비중\n",
    "    7. 주식보유액, 현금보유액 등 산출 : NAV = 주식보유액 + 현금\n",
    "    8. NAV 정보 업데이트\n",
    "    9. 결과 저장"
   ]
  },
  {
   "cell_type": "code",
   "execution_count": null,
   "metadata": {
    "slideshow": {
     "slide_type": "slide"
    }
   },
   "outputs": [],
   "source": [
    "# 펀드 기본정보 세팅\n",
    "CU = 1000     # 설정/환매 단위\n",
    "base_date = pd.to_datetime('2018-01-02')     # 설정 기준일\n",
    "fund_shares = 0     # 최초 설정수량\n",
    "fund_price = 10000    # 최초 기준가\n",
    "interest_rate = 0.02     # 이자율 (현금보유액에 사용)\n",
    "stock_holdings = [0, 0, 0, 0, 0, 0, 0, 0, 0, 0]\n",
    "cash_value = 0"
   ]
  },
  {
   "cell_type": "code",
   "execution_count": null,
   "metadata": {
    "slideshow": {
     "slide_type": "slide"
    }
   },
   "outputs": [],
   "source": [
    "# 주식운용에 필요한 각종 정보를 담을 데이터프레임 생성\n",
    "K10_Fund = pd.DataFrame(columns=['Price', 'NAV', 'Shares', 'Stock_value', 'Cash_value'])    \n",
    "# 일별 NAV, 주식보유액, 현금보유액\n",
    "K10_Fund"
   ]
  },
  {
   "cell_type": "code",
   "execution_count": null,
   "metadata": {
    "slideshow": {
     "slide_type": "slide"
    }
   },
   "outputs": [],
   "source": [
    "K10_weights = pd.DataFrame(columns=market_cap.columns[:-1])     \n",
    "# K10 각 종목의 보유비중을 담을 데이터프레임 생성\n",
    "K10_weights"
   ]
  },
  {
   "cell_type": "code",
   "execution_count": null,
   "metadata": {
    "slideshow": {
     "slide_type": "slide"
    }
   },
   "outputs": [],
   "source": [
    "K10_holdings = pd.DataFrame(columns=market_cap.columns[:-1])     \n",
    "# K10 각 종목의 보유비중을 담을 데이터프레임 생성\n",
    "K10_holdings"
   ]
  },
  {
   "cell_type": "code",
   "execution_count": null,
   "metadata": {},
   "outputs": [],
   "source": [
    "stock_holdings"
   ]
  },
  {
   "cell_type": "code",
   "execution_count": null,
   "metadata": {
    "slideshow": {
     "slide_type": "slide"
    }
   },
   "outputs": [],
   "source": [
    "d = base_date"
   ]
  },
  {
   "cell_type": "code",
   "execution_count": null,
   "metadata": {},
   "outputs": [],
   "source": [
    "# 1. 기존 보유잔고를 기준으로 기준 NAV 계산 : 종목별 잔고 * 종목별 현재가 + 현금\n",
    "stock_prices = price.loc[d]\n",
    "stock_value = sum(stock_holdings * stock_prices)     # 주식 잔고 = 보유수량 * 주가\n",
    "NAV_old = stock_value + cash_value     # 전체 잔고 = 주식잔고 + 현금잔고\n",
    "print(stock_prices)\n",
    "print(NAV_old)"
   ]
  },
  {
   "cell_type": "code",
   "execution_count": null,
   "metadata": {
    "slideshow": {
     "slide_type": "slide"
    }
   },
   "outputs": [],
   "source": [
    "# 2. Creation, Redemption을 반영해 펀드잔고 조정 : 변경좌수\n",
    "def creation_redemption(v):     # 설정/환매\n",
    "    creation = np.random.randint(0, 5) * CU     # 랜덤하게 설정/환매 수량 산출\n",
    "    if v>10000:   # 1만좌 이상일 경우만 해지 가능 (수량이 -가 되지 않도록)\n",
    "        redemption = np.random.randint(0, 5) * CU\n",
    "    else:\n",
    "        redemption = 0\n",
    "    change = creation - redemption     # 총 좌수 = 기존좌수 + 설정좌수 - 환매좌수\n",
    "    return(change)"
   ]
  },
  {
   "cell_type": "code",
   "execution_count": null,
   "metadata": {
    "slideshow": {
     "slide_type": "slide"
    }
   },
   "outputs": [],
   "source": [
    "# 3. 기준가 산출 : NAV / 펀드좌수\n",
    "if d > base_date:\n",
    "    base_price = NAV_old / fund_shares    # 기준가격 = 펀드총자산 / 펀드총좌수\n",
    "    share_chg = creation_redemption(fund_shares)\n",
    "else:\n",
    "    base_price = fund_price  \n",
    "    share_chg = 10000  \n",
    "print(base_price)"
   ]
  },
  {
   "cell_type": "code",
   "execution_count": null,
   "metadata": {
    "slideshow": {
     "slide_type": "slide"
    }
   },
   "outputs": [],
   "source": [
    "# 4. 펀드좌수를 반영해 NAV 조정 : 신규 NAV = 기준 NAV + (기준가 * 변경좌수)\n",
    "# 총 펀드 좌수에 반영\n",
    "fund_shares = fund_shares + share_chg     # 펀드좌수 = 기존펀드좌수 + 변동좌수\n",
    "# 펀드 입출금액 변동분\n",
    "NAV_chg = base_price * share_chg     # NAV 변동분 = 기준가격 * 변동좌수\n",
    "# 신규 NAV\n",
    "NAV = NAV_old + NAV_chg\n",
    "print(share_chg, fund_shares, NAV_chg, NAV)"
   ]
  },
  {
   "cell_type": "code",
   "execution_count": null,
   "metadata": {
    "slideshow": {
     "slide_type": "slide"
    }
   },
   "outputs": [],
   "source": [
    "# 5. 종목별 현재가를 반영해 종목별 보유비중 산정 : 종목별 시가총액 / 지수 시가총액\n",
    "stock_weights = market_cap.loc[d, K10_weights.columns] / market_cap.loc[d, 'K10']   \n",
    "# (종목별시가총액/K10시가총액) 을 계산해 종목별 보유비중 산정\n",
    "K10_weights.loc[d] = stock_weights    # 보유비중 기록\n",
    "print(stock_weights)"
   ]
  },
  {
   "cell_type": "code",
   "execution_count": null,
   "metadata": {
    "slideshow": {
     "slide_type": "slide"
    }
   },
   "outputs": [],
   "source": [
    "# 6. 신규 NAV를 반영해 종목별 보유해야 할 수(holdings) 산출 : NAV * 보유비중\n",
    "# 종목별 보유수량 산정\n",
    "stock_holdings_old = stock_holdings\n",
    "stock_holdings = np.floor( NAV * stock_weights / stock_prices ) \n",
    "# 신규 주식 거래량 계산 : \n",
    "stock_trades = stock_holdings - stock_holdings_old\n",
    "# 입출금액 변동분 * 주식비중 / 주가  (내림처리, 소수점단위 매매 불가)\n",
    "print(stock_trades.tolist())\n",
    "print(stock_holdings.tolist())"
   ]
  },
  {
   "cell_type": "code",
   "execution_count": null,
   "metadata": {
    "slideshow": {
     "slide_type": "slide"
    }
   },
   "outputs": [],
   "source": [
    "# 7. 주식보유액, 현금보유액 등 산출 : NAV = 주식보유액 + 현금\n",
    "K10_holdings.loc[d] = stock_holdings\n",
    "# 현금 보유량 증가 (이자율 반영)\n",
    "cash_holdings = np.floor( cash_value * np.exp(interest_rate/365) ) \n",
    "stock_value = sum(stock_holdings * stock_prices)     # 주식 잔고\n",
    "cash_value = int(NAV - stock_value)     # 현금 잔고\n",
    "print(stock_value)\n",
    "print(cash_value)"
   ]
  },
  {
   "cell_type": "code",
   "execution_count": null,
   "metadata": {
    "slideshow": {
     "slide_type": "slide"
    }
   },
   "outputs": [],
   "source": [
    "# 8. 결과 저장\n",
    "K10_Fund.loc[d, ('Price', 'NAV', 'Shares', 'Stock_value', 'Cash_value')] = \\\n",
    "(base_price, NAV, fund_shares, stock_value, cash_value)"
   ]
  },
  {
   "cell_type": "code",
   "execution_count": null,
   "metadata": {},
   "outputs": [],
   "source": [
    "K10_Fund"
   ]
  },
  {
   "cell_type": "code",
   "execution_count": null,
   "metadata": {},
   "outputs": [],
   "source": [
    "price.index"
   ]
  },
  {
   "cell_type": "code",
   "execution_count": null,
   "metadata": {
    "slideshow": {
     "slide_type": "slide"
    }
   },
   "outputs": [],
   "source": [
    "# 펀드 기본정보 세팅\n",
    "CU = 1000     # 설정/환매 단위\n",
    "base_date = pd.to_datetime('2018-01-02')     # 설정 기준일\n",
    "fund_shares = 0     # 최초 설정수량\n",
    "fund_price = 10000    # 최초 기준가\n",
    "interest_rate = 0.02     # 이자율 (현금보유액에 사용)\n",
    "stock_holdings = [0, 0, 0, 0, 0, 0, 0, 0, 0, 0]\n",
    "cash_value = 0\n",
    "share_chg = 10000\n",
    "\n",
    "for d in price.index:     # 일자별로 순환하며\n",
    "    # 1. 기존 보유잔고를 기준으로 기준 NAV 계산 : 종목별 잔고 * 종목별 현재가 + 현금\n",
    "    stock_prices = price.loc[d]\n",
    "    stock_value = sum(stock_holdings * stock_prices)     # 주식 잔고 = 보유수량 * 주가\n",
    "    NAV_old = stock_value + cash_value     # 전체 잔고 = 주식잔고 + 현금잔고\n",
    "            \n",
    "    # 2. creation_redemption 함수는 위에서 별도 구현\n",
    "    \n",
    "    # 3. 기준가 산출 : NAV / 펀드좌수\n",
    "    if d == base_date:\n",
    "        base_price = fund_price  \n",
    "        share_chg = 10000\n",
    "    else:\n",
    "        base_price = NAV_old / fund_shares    # 기준가격 = 펀드총자산 / 펀드총좌수\n",
    "        share_chg = share_chg = creation_redemption(fund_shares)     # 설정/환매 함수 호출\n",
    "\n",
    "    # 4. 펀드좌수를 반영해 NAV 조정 : 신규 NAV = 기준 NAV + (기준가 * 변경좌수)\n",
    "    # 총 펀드 좌수에 반영\n",
    "    fund_shares = fund_shares + share_chg     # 펀드좌수 = 기존펀드좌수 + 변동좌수\n",
    "    # 펀드 입출금액 변동분\n",
    "    NAV_chg = base_price * share_chg     # NAV 변동분 = 기준가격 * 변동좌수\n",
    "    # 신규 NAV\n",
    "    NAV = NAV_old + NAV_chg\n",
    "    \n",
    "    #print('Date:', d.date(), ' Share:', fund_shares, ' Chages:', share_chg)\n",
    "\n",
    "    # 5. 종목별 현재가를 반영해 종목별 보유비중 산정 : 종목별 시가총액 / 지수 시가총액\n",
    "    stock_weights = market_cap.loc[d, K10_weights.columns] / market_cap.loc[d, 'K10']   \n",
    "    # (종목별시가총액/K10시가총액) 을 계산해 종목별 보유비중 산정\n",
    "    K10_weights.loc[d] = stock_weights    # 보유비중 기록\n",
    "    \n",
    "    # 6. 신규 NAV를 반영해 종목별 보유해야 할 수(holdings) 산출 : NAV * 보유비중\n",
    "    # 종목별 보유수량 산정\n",
    "    stock_holdings_old = stock_holdings\n",
    "    stock_holdings = np.floor( NAV * stock_weights / stock_prices ) \n",
    "    # 신규 주식 거래량 계산 : \n",
    "    stock_trades = stock_holdings - stock_holdings_old\n",
    "    # 입출금액 변동분 * 주식비중 / 주가  (내림처리, 소수점단위 매매 불가)\n",
    "    \n",
    "    # 7. 주식보유액, 현금보유액 등 산출 : NAV = 주식보유액 + 현금\n",
    "    K10_holdings.loc[d] = stock_holdings\n",
    "    # 현금 보유량 증가 (이자율 반영)\n",
    "    cash_holdings = np.floor( cash_value * np.exp(interest_rate/365) ) \n",
    "    stock_value = sum(stock_holdings * stock_prices)     # 주식 잔고\n",
    "    cash_value = int(NAV - stock_value)     # 현금 잔고\n",
    "\n",
    "    # 8. 결과 저장\n",
    "    K10_Fund.loc[d, ('Price', 'NAV', 'Shares', 'Stock_value', 'Cash_value')] =\\\n",
    "    (base_price, NAV, fund_shares, stock_value, cash_value)"
   ]
  },
  {
   "cell_type": "code",
   "execution_count": null,
   "metadata": {
    "slideshow": {
     "slide_type": "slide"
    }
   },
   "outputs": [],
   "source": [
    "# 펀드 수익률 vs 지수 수익률\n",
    "Earnings = pd.DataFrame()\n",
    "Earnings['K10'] = ( index['K10']) / index['K10'][base_date] * 100   \n",
    "Earnings['K200'] = ( index['K200']) / index['K200'][base_date] * 100\n",
    "Earnings['Fund'] = ( K10_Fund['Price'])/ K10_Fund['Price'][base_date] * 100\n",
    "Earnings.dropna(inplace=True)"
   ]
  },
  {
   "cell_type": "code",
   "execution_count": null,
   "metadata": {},
   "outputs": [],
   "source": [
    "Earnings.head()"
   ]
  },
  {
   "cell_type": "code",
   "execution_count": null,
   "metadata": {
    "slideshow": {
     "slide_type": "-"
    }
   },
   "outputs": [],
   "source": [
    "v.index_view(Earnings, base_date, ['K10', 'K200', 'Fund'], size=(15,5))"
   ]
  },
  {
   "cell_type": "code",
   "execution_count": null,
   "metadata": {
    "slideshow": {
     "slide_type": "slide"
    }
   },
   "outputs": [],
   "source": [
    "# 일간 수익률\n",
    "Daily = pd.DataFrame()\n",
    "Daily['K10'] = (index['K10'] - index['K10'].shift(1)) / index['K10'].shift(1) \n",
    "Daily['K200'] = (index['K200'] - index['K200'].shift(1)) / index['K200'].shift(1) \n",
    "Daily['Fund'] = (K10_Fund['Price'] - K10_Fund['Price'].shift(1)) / K10_Fund['Price'].shift(1)  \n",
    "Daily.dropna(inplace=True)"
   ]
  },
  {
   "cell_type": "code",
   "execution_count": null,
   "metadata": {},
   "outputs": [],
   "source": [
    "v.price_view(Daily, base_date, ['K10', 'K200', 'Fund'], size=(15,3))"
   ]
  },
  {
   "cell_type": "code",
   "execution_count": null,
   "metadata": {
    "slideshow": {
     "slide_type": "slide"
    }
   },
   "outputs": [],
   "source": [
    "# KOSPI200 대비 일간 추적오차율 \n",
    "Daily['TE200'] = Daily['Fund'] - Daily['K200']    # 추적오차율 = 펀드수익률 - 지수수익률"
   ]
  },
  {
   "cell_type": "code",
   "execution_count": null,
   "metadata": {},
   "outputs": [],
   "source": [
    "v.price_view(Daily, base_date, 'TE200', size=(15,3))"
   ]
  },
  {
   "cell_type": "code",
   "execution_count": null,
   "metadata": {
    "slideshow": {
     "slide_type": "slide"
    }
   },
   "outputs": [],
   "source": [
    "# K10 대비 일간 추적오차율 \n",
    "Daily['TE10'] = Daily['Fund'] - Daily['K10']"
   ]
  },
  {
   "cell_type": "code",
   "execution_count": null,
   "metadata": {},
   "outputs": [],
   "source": [
    "v.price_view(Daily, base_date, 'TE10', size=(15,3))"
   ]
  },
  {
   "cell_type": "code",
   "execution_count": null,
   "metadata": {},
   "outputs": [],
   "source": []
  }
 ],
 "metadata": {
  "celltoolbar": "Slideshow",
  "kernelspec": {
   "display_name": "Python 3",
   "language": "python",
   "name": "python3"
  },
  "language_info": {
   "codemirror_mode": {
    "name": "ipython",
    "version": 3
   },
   "file_extension": ".py",
   "mimetype": "text/x-python",
   "name": "python",
   "nbconvert_exporter": "python",
   "pygments_lexer": "ipython3",
   "version": "3.7.3"
  },
  "rise": {
   "scroll": true
  }
 },
 "nbformat": 4,
 "nbformat_minor": 2
}
