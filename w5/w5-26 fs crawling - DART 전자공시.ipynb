{
 "cells": [
  {
   "cell_type": "code",
   "execution_count": null,
   "metadata": {},
   "outputs": [],
   "source": [
    "import finterstellar as fs"
   ]
  },
  {
   "cell_type": "code",
   "execution_count": null,
   "metadata": {},
   "outputs": [],
   "source": [
    "auth_key = '금융감독원에서 발급받은 인증키 삽입' \n",
    "# 금융감독원에서 발급받은 인증키 - 본인의 것으로 바꿔야 합니다."
   ]
  },
  {
   "cell_type": "code",
   "execution_count": null,
   "metadata": {},
   "outputs": [],
   "source": [
    "companies = {'삼성전자':'005930', \n",
    "             '네이버':'035420', \n",
    "             '셀트리온':'068270', \n",
    "             '하나은행':'086790'}"
   ]
  },
  {
   "cell_type": "code",
   "execution_count": null,
   "metadata": {},
   "outputs": [],
   "source": [
    "items = ['유동자산', '유동부채', '부채총계', '자본총계']"
   ]
  },
  {
   "cell_type": "code",
   "execution_count": null,
   "metadata": {},
   "outputs": [],
   "source": [
    "base_date = '20180101'"
   ]
  },
  {
   "cell_type": "code",
   "execution_count": null,
   "metadata": {},
   "outputs": [],
   "source": [
    "crawler = fs.DART()"
   ]
  },
  {
   "cell_type": "code",
   "execution_count": null,
   "metadata": {},
   "outputs": [],
   "source": [
    "cd = companies['네이버']"
   ]
  },
  {
   "cell_type": "code",
   "execution_count": null,
   "metadata": {},
   "outputs": [],
   "source": [
    "rcp_no = crawler.disclosure_search(auth_key, cd, base_date)\n",
    "prop = crawler.view_doc(rcp_no)\n",
    "fn_stmt = crawler.extract_fn_stmt(prop[0], prop[1], prop[2], prop[3], prop[4])\n",
    "unit = crawler.extract_unit(prop[0], prop[1], prop[2], prop[3], prop[4])\n",
    "fn_stmt.head()"
   ]
  },
  {
   "cell_type": "code",
   "execution_count": null,
   "metadata": {},
   "outputs": [],
   "source": [
    "try:\n",
    "    print('부채비율 =', round(fn_stmt.loc['부채총계', '당기']/fn_stmt.loc['자본총계', '당기']*100, 1), '%')\n",
    "except:\n",
    "    print('해당 계정과목이 존재하지 않습니다.')"
   ]
  },
  {
   "cell_type": "code",
   "execution_count": null,
   "metadata": {},
   "outputs": [],
   "source": [
    "try:\n",
    "    print('유동비율 =', round(fn_stmt.loc['유동자산', '당기']/fn_stmt.loc['유동부채', '당기']*100, 1), '%')\n",
    "except:\n",
    "    print('해당 계정과목이 존재하지 않습니다.')"
   ]
  }
 ],
 "metadata": {
  "kernelspec": {
   "display_name": "Python 3",
   "language": "python",
   "name": "python3"
  },
  "language_info": {
   "codemirror_mode": {
    "name": "ipython",
    "version": 3
   },
   "file_extension": ".py",
   "mimetype": "text/x-python",
   "name": "python",
   "nbconvert_exporter": "python",
   "pygments_lexer": "ipython3",
   "version": "3.7.3"
  }
 },
 "nbformat": 4,
 "nbformat_minor": 2
}
