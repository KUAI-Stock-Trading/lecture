{
 "cells": [
  {
   "cell_type": "markdown",
   "metadata": {
    "slideshow": {
     "slide_type": "slide"
    }
   },
   "source": [
    "# 1. 필요한 정보가 들어있는 웹사이트 찾기"
   ]
  },
  {
   "cell_type": "markdown",
   "metadata": {},
   "source": [
    "<img src=\"image_lecture/crawling_01.png\">"
   ]
  },
  {
   "cell_type": "markdown",
   "metadata": {
    "slideshow": {
     "slide_type": "slide"
    }
   },
   "source": [
    "<img src=\"image_lecture/crawling_02.png\">"
   ]
  },
  {
   "cell_type": "markdown",
   "metadata": {
    "slideshow": {
     "slide_type": "slide"
    }
   },
   "source": [
    "# 2. 웹사이트 구조 파악"
   ]
  },
  {
   "cell_type": "code",
   "execution_count": 1,
   "metadata": {
    "slideshow": {
     "slide_type": "-"
    }
   },
   "outputs": [],
   "source": [
    "url = 'https://finance.naver.com/item/sise_day.nhn?code=005930'"
   ]
  },
  {
   "cell_type": "markdown",
   "metadata": {
    "slideshow": {
     "slide_type": "-"
    }
   },
   "source": [
    "<img src=\"image_lecture/crawling_03.png\">"
   ]
  },
  {
   "cell_type": "markdown",
   "metadata": {
    "slideshow": {
     "slide_type": "slide"
    }
   },
   "source": [
    "# 3. 필요한 정보의 위치 파악"
   ]
  },
  {
   "cell_type": "markdown",
   "metadata": {
    "slideshow": {
     "slide_type": "-"
    }
   },
   "source": [
    "<img src=\"image_lecture/crawling_04.png\">"
   ]
  },
  {
   "cell_type": "markdown",
   "metadata": {
    "slideshow": {
     "slide_type": "slide"
    }
   },
   "source": [
    "# 4. BeautifulSoup 등으로 필요한 정보 추출"
   ]
  },
  {
   "cell_type": "code",
   "execution_count": 2,
   "metadata": {
    "slideshow": {
     "slide_type": "-"
    }
   },
   "outputs": [],
   "source": [
    "from urllib.request import urlopen\n",
    "from bs4 import BeautifulSoup"
   ]
  },
  {
   "cell_type": "code",
   "execution_count": 3,
   "metadata": {},
   "outputs": [
    {
     "data": {
      "text/plain": [
       "<html lang=\"ko\">\n",
       "<head>\n",
       "<meta content=\"text/html; charset=utf-8\" http-equiv=\"Content-Type\"/>\n",
       "<title>네이버 금융</title>\n",
       "<link href=\"/css/newstock.css?20190411143845\" rel=\"stylesheet\" type=\"text/css\"/>\n",
       "<link href=\"/css/common.css?20190411143845\" rel=\"stylesheet\" type=\"text/css\"/>\n",
       "<link href=\"/css/layout.css?20190411143845\" rel=\"stylesheet\" type=\"text/css\"/>\n",
       "<link href=\"/css/main.css?20190411143845\" rel=\"stylesheet\" type=\"text/css\"/>\n",
       "<link href=\"/css/newstock2.css?20190411143845\" rel=\"stylesheet\" type=\"text/css\"/>\n",
       "<link href=\"/css/newstock3.css?20190411143845\" rel=\"stylesheet\" type=\"text/css\"/>\n",
       "<link href=\"/css/world.css?20190411143845\" rel=\"stylesheet\" type=\"text/css\"/>\n",
       "</head>\n",
       "<body>\n",
       "<script language=\"JavaScript\">\n",
       "function mouseOver(obj){\n",
       "  obj.style.backgroundColor=\"#f6f4e5\";\n",
       "}\n",
       "function mouseOut(obj){\n",
       "  obj.style.backgroundColor=\"#ffffff\";\n",
       "}\n",
       "</script>\n",
       "<h4 class=\"tlline2\"><strong><span class=\"red03\">일별</span>시세</strong></h4>\n",
       "<table cellspacing=\"0\" class=\"type2\">\n",
       "<tr>\n",
       "<th>날짜</th>\n",
       "<th>종가</th>\n",
       "<th>전일비</th>\n",
       "<th>시가</th>\n",
       "<th>고가</th>\n",
       "<th>저가</th>\n",
       "<th>거래량</th>\n",
       "</tr>\n",
       "<tr>\n",
       "<td colspan=\"7\" height=\"8\"></td>\n",
       "</tr>\n",
       "<tr onmouseout=\"mouseOut(this)\" onmouseover=\"mouseOver(this)\">\n",
       "<td align=\"center\"><span class=\"tah p10 gray03\">2019.05.17</span></td>\n",
       "<td class=\"num\"><span class=\"tah p11\">41,200</span></td>\n",
       "<td class=\"num\">\n",
       "<img alt=\"하락\" height=\"6\" src=\"https://ssl.pstatic.net/imgstock/images/images4/ico_down.gif\" style=\"margin-right:4px;\" width=\"7\"/><span class=\"tah p11 nv01\">\n",
       "\t\t\t\t350\n",
       "\t\t\t\t</span>\n",
       "</td>\n",
       "<td class=\"num\"><span class=\"tah p11\">41,950</span></td>\n",
       "<td class=\"num\"><span class=\"tah p11\">42,050</span></td>\n",
       "<td class=\"num\"><span class=\"tah p11\">40,850</span></td>\n",
       "<td class=\"num\"><span class=\"tah p11\">12,294,470</span></td>\n",
       "</tr>\n",
       "<tr onmouseout=\"mouseOut(this)\" onmouseover=\"mouseOver(this)\">\n",
       "<td align=\"center\"><span class=\"tah p10 gray03\">2019.05.16</span></td>\n",
       "<td class=\"num\"><span class=\"tah p11\">41,550</span></td>\n",
       "<td class=\"num\">\n",
       "<img alt=\"하락\" height=\"6\" src=\"https://ssl.pstatic.net/imgstock/images/images4/ico_down.gif\" style=\"margin-right:4px;\" width=\"7\"/><span class=\"tah p11 nv01\">\n",
       "\t\t\t\t1,000\n",
       "\t\t\t\t</span>\n",
       "</td>\n",
       "<td class=\"num\"><span class=\"tah p11\">42,350</span></td>\n",
       "<td class=\"num\"><span class=\"tah p11\">42,400</span></td>\n",
       "<td class=\"num\"><span class=\"tah p11\">41,350</span></td>\n",
       "<td class=\"num\"><span class=\"tah p11\">13,687,828</span></td>\n",
       "</tr>\n",
       "<tr onmouseout=\"mouseOut(this)\" onmouseover=\"mouseOver(this)\">\n",
       "<td align=\"center\"><span class=\"tah p10 gray03\">2019.05.15</span></td>\n",
       "<td class=\"num\"><span class=\"tah p11\">42,550</span></td>\n",
       "<td class=\"num\">\n",
       "<img alt=\"하락\" height=\"6\" src=\"https://ssl.pstatic.net/imgstock/images/images4/ico_down.gif\" style=\"margin-right:4px;\" width=\"7\"/><span class=\"tah p11 nv01\">\n",
       "\t\t\t\t100\n",
       "\t\t\t\t</span>\n",
       "</td>\n",
       "<td class=\"num\"><span class=\"tah p11\">42,700</span></td>\n",
       "<td class=\"num\"><span class=\"tah p11\">43,050</span></td>\n",
       "<td class=\"num\"><span class=\"tah p11\">42,550</span></td>\n",
       "<td class=\"num\"><span class=\"tah p11\">7,670,185</span></td>\n",
       "</tr>\n",
       "<tr onmouseout=\"mouseOut(this)\" onmouseover=\"mouseOver(this)\">\n",
       "<td align=\"center\"><span class=\"tah p10 gray03\">2019.05.14</span></td>\n",
       "<td class=\"num\"><span class=\"tah p11\">42,650</span></td>\n",
       "<td class=\"num\">\n",
       "<span class=\"tah p11\">0</span>\n",
       "</td>\n",
       "<td class=\"num\"><span class=\"tah p11\">41,300</span></td>\n",
       "<td class=\"num\"><span class=\"tah p11\">43,100</span></td>\n",
       "<td class=\"num\"><span class=\"tah p11\">41,300</span></td>\n",
       "<td class=\"num\"><span class=\"tah p11\">11,563,730</span></td>\n",
       "</tr>\n",
       "<tr onmouseout=\"mouseOut(this)\" onmouseover=\"mouseOver(this)\">\n",
       "<td align=\"center\"><span class=\"tah p10 gray03\">2019.05.13</span></td>\n",
       "<td class=\"num\"><span class=\"tah p11\">42,650</span></td>\n",
       "<td class=\"num\">\n",
       "<img alt=\"하락\" height=\"6\" src=\"https://ssl.pstatic.net/imgstock/images/images4/ico_down.gif\" style=\"margin-right:4px;\" width=\"7\"/><span class=\"tah p11 nv01\">\n",
       "\t\t\t\t250\n",
       "\t\t\t\t</span>\n",
       "</td>\n",
       "<td class=\"num\"><span class=\"tah p11\">42,500</span></td>\n",
       "<td class=\"num\"><span class=\"tah p11\">43,200</span></td>\n",
       "<td class=\"num\"><span class=\"tah p11\">42,350</span></td>\n",
       "<td class=\"num\"><span class=\"tah p11\">7,635,079</span></td>\n",
       "</tr>\n",
       "<tr>\n",
       "<td colspan=\"7\" height=\"8\"></td>\n",
       "</tr>\n",
       "<tr>\n",
       "<td bgcolor=\"#e1e1e1\" colspan=\"7\" height=\"1\"></td>\n",
       "</tr>\n",
       "<tr>\n",
       "<td colspan=\"7\" height=\"8\"></td>\n",
       "</tr>\n",
       "<tr onmouseout=\"mouseOut(this)\" onmouseover=\"mouseOver(this)\">\n",
       "<td align=\"center\"><span class=\"tah p10 gray03\">2019.05.10</span></td>\n",
       "<td class=\"num\"><span class=\"tah p11\">42,900</span></td>\n",
       "<td class=\"num\">\n",
       "<img alt=\"상승\" height=\"6\" src=\"https://ssl.pstatic.net/imgstock/images/images4/ico_up.gif\" style=\"margin-right:4px;\" width=\"7\"/><span class=\"tah p11 red02\">\n",
       "\t\t\t\t450\n",
       "\t\t\t\t</span>\n",
       "</td>\n",
       "<td class=\"num\"><span class=\"tah p11\">42,600</span></td>\n",
       "<td class=\"num\"><span class=\"tah p11\">43,450</span></td>\n",
       "<td class=\"num\"><span class=\"tah p11\">42,450</span></td>\n",
       "<td class=\"num\"><span class=\"tah p11\">14,579,512</span></td>\n",
       "</tr>\n",
       "<tr onmouseout=\"mouseOut(this)\" onmouseover=\"mouseOver(this)\">\n",
       "<td align=\"center\"><span class=\"tah p10 gray03\">2019.05.09</span></td>\n",
       "<td class=\"num\"><span class=\"tah p11\">42,450</span></td>\n",
       "<td class=\"num\">\n",
       "<img alt=\"하락\" height=\"6\" src=\"https://ssl.pstatic.net/imgstock/images/images4/ico_down.gif\" style=\"margin-right:4px;\" width=\"7\"/><span class=\"tah p11 nv01\">\n",
       "\t\t\t\t1,800\n",
       "\t\t\t\t</span>\n",
       "</td>\n",
       "<td class=\"num\"><span class=\"tah p11\">43,900</span></td>\n",
       "<td class=\"num\"><span class=\"tah p11\">44,250</span></td>\n",
       "<td class=\"num\"><span class=\"tah p11\">42,450</span></td>\n",
       "<td class=\"num\"><span class=\"tah p11\">23,029,718</span></td>\n",
       "</tr>\n",
       "<tr onmouseout=\"mouseOut(this)\" onmouseover=\"mouseOver(this)\">\n",
       "<td align=\"center\"><span class=\"tah p10 gray03\">2019.05.08</span></td>\n",
       "<td class=\"num\"><span class=\"tah p11\">44,250</span></td>\n",
       "<td class=\"num\">\n",
       "<img alt=\"하락\" height=\"6\" src=\"https://ssl.pstatic.net/imgstock/images/images4/ico_down.gif\" style=\"margin-right:4px;\" width=\"7\"/><span class=\"tah p11 nv01\">\n",
       "\t\t\t\t600\n",
       "\t\t\t\t</span>\n",
       "</td>\n",
       "<td class=\"num\"><span class=\"tah p11\">44,300</span></td>\n",
       "<td class=\"num\"><span class=\"tah p11\">44,850</span></td>\n",
       "<td class=\"num\"><span class=\"tah p11\">44,200</span></td>\n",
       "<td class=\"num\"><span class=\"tah p11\">10,398,754</span></td>\n",
       "</tr>\n",
       "<tr onmouseout=\"mouseOut(this)\" onmouseover=\"mouseOver(this)\">\n",
       "<td align=\"center\"><span class=\"tah p10 gray03\">2019.05.07</span></td>\n",
       "<td class=\"num\"><span class=\"tah p11\">44,850</span></td>\n",
       "<td class=\"num\">\n",
       "<img alt=\"하락\" height=\"6\" src=\"https://ssl.pstatic.net/imgstock/images/images4/ico_down.gif\" style=\"margin-right:4px;\" width=\"7\"/><span class=\"tah p11 nv01\">\n",
       "\t\t\t\t450\n",
       "\t\t\t\t</span>\n",
       "</td>\n",
       "<td class=\"num\"><span class=\"tah p11\">45,250</span></td>\n",
       "<td class=\"num\"><span class=\"tah p11\">45,300</span></td>\n",
       "<td class=\"num\"><span class=\"tah p11\">44,400</span></td>\n",
       "<td class=\"num\"><span class=\"tah p11\">12,014,907</span></td>\n",
       "</tr>\n",
       "<tr onmouseout=\"mouseOut(this)\" onmouseover=\"mouseOver(this)\">\n",
       "<td align=\"center\"><span class=\"tah p10 gray03\">2019.05.03</span></td>\n",
       "<td class=\"num\"><span class=\"tah p11\">45,300</span></td>\n",
       "<td class=\"num\">\n",
       "<img alt=\"하락\" height=\"6\" src=\"https://ssl.pstatic.net/imgstock/images/images4/ico_down.gif\" style=\"margin-right:4px;\" width=\"7\"/><span class=\"tah p11 nv01\">\n",
       "\t\t\t\t600\n",
       "\t\t\t\t</span>\n",
       "</td>\n",
       "<td class=\"num\"><span class=\"tah p11\">45,900</span></td>\n",
       "<td class=\"num\"><span class=\"tah p11\">46,050</span></td>\n",
       "<td class=\"num\"><span class=\"tah p11\">45,300</span></td>\n",
       "<td class=\"num\"><span class=\"tah p11\">6,562,916</span></td>\n",
       "</tr>\n",
       "<tr>\n",
       "<td colspan=\"7\" height=\"8\"></td>\n",
       "</tr>\n",
       "</table>\n",
       "<!--- 페이지 네비게이션 시작--->\n",
       "<table align=\"center\" class=\"Nnavi\" summary=\"페이지 네비게이션 리스트\">\n",
       "<caption>페이지 네비게이션</caption>\n",
       "<tr>\n",
       "<td class=\"on\">\n",
       "<a href=\"/item/sise_day.nhn?code=005930&amp;page=1\">1</a>\n",
       "</td>\n",
       "<td>\n",
       "<a href=\"/item/sise_day.nhn?code=005930&amp;page=2\">2</a>\n",
       "</td>\n",
       "<td>\n",
       "<a href=\"/item/sise_day.nhn?code=005930&amp;page=3\">3</a>\n",
       "</td>\n",
       "<td>\n",
       "<a href=\"/item/sise_day.nhn?code=005930&amp;page=4\">4</a>\n",
       "</td>\n",
       "<td>\n",
       "<a href=\"/item/sise_day.nhn?code=005930&amp;page=5\">5</a>\n",
       "</td>\n",
       "<td>\n",
       "<a href=\"/item/sise_day.nhn?code=005930&amp;page=6\">6</a>\n",
       "</td>\n",
       "<td>\n",
       "<a href=\"/item/sise_day.nhn?code=005930&amp;page=7\">7</a>\n",
       "</td>\n",
       "<td>\n",
       "<a href=\"/item/sise_day.nhn?code=005930&amp;page=8\">8</a>\n",
       "</td>\n",
       "<td>\n",
       "<a href=\"/item/sise_day.nhn?code=005930&amp;page=9\">9</a>\n",
       "</td>\n",
       "<td>\n",
       "<a href=\"/item/sise_day.nhn?code=005930&amp;page=10\">10</a>\n",
       "</td>\n",
       "<td class=\"pgR\">\n",
       "<a href=\"/item/sise_day.nhn?code=005930&amp;page=11\">\n",
       "\t\t\t\t다음<img alt=\"\" border=\"0\" height=\"5\" src=\"https://ssl.pstatic.net/static/n/cmn/bu_pgarR.gif\" width=\"3\"/>\n",
       "</a>\n",
       "</td>\n",
       "<td class=\"pgRR\">\n",
       "<a href=\"/item/sise_day.nhn?code=005930&amp;page=576\">맨뒤\n",
       "\t\t\t\t<img alt=\"\" border=\"0\" height=\"5\" src=\"https://ssl.pstatic.net/static/n/cmn/bu_pgarRR.gif\" width=\"8\"/>\n",
       "</a>\n",
       "</td>\n",
       "</tr>\n",
       "</table>\n",
       "<!--- 페이지 네비게이션 끝--->\n",
       "</body></html>"
      ]
     },
     "execution_count": 3,
     "metadata": {},
     "output_type": "execute_result"
    }
   ],
   "source": [
    "source = urlopen(url).read()\n",
    "soup = BeautifulSoup(source, 'lxml')\n",
    "soup"
   ]
  },
  {
   "cell_type": "code",
   "execution_count": 4,
   "metadata": {
    "slideshow": {
     "slide_type": "slide"
    }
   },
   "outputs": [
    {
     "data": {
      "text/plain": [
       "[<span class=\"tah p10 gray03\">2019.05.17</span>,\n",
       " <span class=\"tah p10 gray03\">2019.05.16</span>,\n",
       " <span class=\"tah p10 gray03\">2019.05.15</span>,\n",
       " <span class=\"tah p10 gray03\">2019.05.14</span>,\n",
       " <span class=\"tah p10 gray03\">2019.05.13</span>,\n",
       " <span class=\"tah p10 gray03\">2019.05.10</span>,\n",
       " <span class=\"tah p10 gray03\">2019.05.09</span>,\n",
       " <span class=\"tah p10 gray03\">2019.05.08</span>,\n",
       " <span class=\"tah p10 gray03\">2019.05.07</span>,\n",
       " <span class=\"tah p10 gray03\">2019.05.03</span>]"
      ]
     },
     "execution_count": 4,
     "metadata": {},
     "output_type": "execute_result"
    }
   ],
   "source": [
    "soup.find_all('span', class_='tah p10 gray03')   # 날짜 수집   "
   ]
  },
  {
   "cell_type": "code",
   "execution_count": 5,
   "metadata": {
    "scrolled": true,
    "slideshow": {
     "slide_type": "slide"
    }
   },
   "outputs": [
    {
     "data": {
      "text/plain": [
       "[<td class=\"num\"><span class=\"tah p11\">41,200</span></td>, <td class=\"num\">\n",
       " <img alt=\"하락\" height=\"6\" src=\"https://ssl.pstatic.net/imgstock/images/images4/ico_down.gif\" style=\"margin-right:4px;\" width=\"7\"/><span class=\"tah p11 nv01\">\n",
       " \t\t\t\t350\n",
       " \t\t\t\t</span>\n",
       " </td>, <td class=\"num\"><span class=\"tah p11\">41,950</span></td>, <td class=\"num\"><span class=\"tah p11\">42,050</span></td>, <td class=\"num\"><span class=\"tah p11\">40,850</span></td>, <td class=\"num\"><span class=\"tah p11\">12,294,470</span></td>, <td class=\"num\"><span class=\"tah p11\">41,550</span></td>, <td class=\"num\">\n",
       " <img alt=\"하락\" height=\"6\" src=\"https://ssl.pstatic.net/imgstock/images/images4/ico_down.gif\" style=\"margin-right:4px;\" width=\"7\"/><span class=\"tah p11 nv01\">\n",
       " \t\t\t\t1,000\n",
       " \t\t\t\t</span>\n",
       " </td>, <td class=\"num\"><span class=\"tah p11\">42,350</span></td>, <td class=\"num\"><span class=\"tah p11\">42,400</span></td>, <td class=\"num\"><span class=\"tah p11\">41,350</span></td>, <td class=\"num\"><span class=\"tah p11\">13,687,828</span></td>, <td class=\"num\"><span class=\"tah p11\">42,550</span></td>, <td class=\"num\">\n",
       " <img alt=\"하락\" height=\"6\" src=\"https://ssl.pstatic.net/imgstock/images/images4/ico_down.gif\" style=\"margin-right:4px;\" width=\"7\"/><span class=\"tah p11 nv01\">\n",
       " \t\t\t\t100\n",
       " \t\t\t\t</span>\n",
       " </td>, <td class=\"num\"><span class=\"tah p11\">42,700</span></td>, <td class=\"num\"><span class=\"tah p11\">43,050</span></td>, <td class=\"num\"><span class=\"tah p11\">42,550</span></td>, <td class=\"num\"><span class=\"tah p11\">7,670,185</span></td>, <td class=\"num\"><span class=\"tah p11\">42,650</span></td>, <td class=\"num\">\n",
       " <span class=\"tah p11\">0</span>\n",
       " </td>, <td class=\"num\"><span class=\"tah p11\">41,300</span></td>, <td class=\"num\"><span class=\"tah p11\">43,100</span></td>, <td class=\"num\"><span class=\"tah p11\">41,300</span></td>, <td class=\"num\"><span class=\"tah p11\">11,563,730</span></td>, <td class=\"num\"><span class=\"tah p11\">42,650</span></td>, <td class=\"num\">\n",
       " <img alt=\"하락\" height=\"6\" src=\"https://ssl.pstatic.net/imgstock/images/images4/ico_down.gif\" style=\"margin-right:4px;\" width=\"7\"/><span class=\"tah p11 nv01\">\n",
       " \t\t\t\t250\n",
       " \t\t\t\t</span>\n",
       " </td>, <td class=\"num\"><span class=\"tah p11\">42,500</span></td>, <td class=\"num\"><span class=\"tah p11\">43,200</span></td>, <td class=\"num\"><span class=\"tah p11\">42,350</span></td>, <td class=\"num\"><span class=\"tah p11\">7,635,079</span></td>, <td class=\"num\"><span class=\"tah p11\">42,900</span></td>, <td class=\"num\">\n",
       " <img alt=\"상승\" height=\"6\" src=\"https://ssl.pstatic.net/imgstock/images/images4/ico_up.gif\" style=\"margin-right:4px;\" width=\"7\"/><span class=\"tah p11 red02\">\n",
       " \t\t\t\t450\n",
       " \t\t\t\t</span>\n",
       " </td>, <td class=\"num\"><span class=\"tah p11\">42,600</span></td>, <td class=\"num\"><span class=\"tah p11\">43,450</span></td>, <td class=\"num\"><span class=\"tah p11\">42,450</span></td>, <td class=\"num\"><span class=\"tah p11\">14,579,512</span></td>, <td class=\"num\"><span class=\"tah p11\">42,450</span></td>, <td class=\"num\">\n",
       " <img alt=\"하락\" height=\"6\" src=\"https://ssl.pstatic.net/imgstock/images/images4/ico_down.gif\" style=\"margin-right:4px;\" width=\"7\"/><span class=\"tah p11 nv01\">\n",
       " \t\t\t\t1,800\n",
       " \t\t\t\t</span>\n",
       " </td>, <td class=\"num\"><span class=\"tah p11\">43,900</span></td>, <td class=\"num\"><span class=\"tah p11\">44,250</span></td>, <td class=\"num\"><span class=\"tah p11\">42,450</span></td>, <td class=\"num\"><span class=\"tah p11\">23,029,718</span></td>, <td class=\"num\"><span class=\"tah p11\">44,250</span></td>, <td class=\"num\">\n",
       " <img alt=\"하락\" height=\"6\" src=\"https://ssl.pstatic.net/imgstock/images/images4/ico_down.gif\" style=\"margin-right:4px;\" width=\"7\"/><span class=\"tah p11 nv01\">\n",
       " \t\t\t\t600\n",
       " \t\t\t\t</span>\n",
       " </td>, <td class=\"num\"><span class=\"tah p11\">44,300</span></td>, <td class=\"num\"><span class=\"tah p11\">44,850</span></td>, <td class=\"num\"><span class=\"tah p11\">44,200</span></td>, <td class=\"num\"><span class=\"tah p11\">10,398,754</span></td>, <td class=\"num\"><span class=\"tah p11\">44,850</span></td>, <td class=\"num\">\n",
       " <img alt=\"하락\" height=\"6\" src=\"https://ssl.pstatic.net/imgstock/images/images4/ico_down.gif\" style=\"margin-right:4px;\" width=\"7\"/><span class=\"tah p11 nv01\">\n",
       " \t\t\t\t450\n",
       " \t\t\t\t</span>\n",
       " </td>, <td class=\"num\"><span class=\"tah p11\">45,250</span></td>, <td class=\"num\"><span class=\"tah p11\">45,300</span></td>, <td class=\"num\"><span class=\"tah p11\">44,400</span></td>, <td class=\"num\"><span class=\"tah p11\">12,014,907</span></td>, <td class=\"num\"><span class=\"tah p11\">45,300</span></td>, <td class=\"num\">\n",
       " <img alt=\"하락\" height=\"6\" src=\"https://ssl.pstatic.net/imgstock/images/images4/ico_down.gif\" style=\"margin-right:4px;\" width=\"7\"/><span class=\"tah p11 nv01\">\n",
       " \t\t\t\t600\n",
       " \t\t\t\t</span>\n",
       " </td>, <td class=\"num\"><span class=\"tah p11\">45,900</span></td>, <td class=\"num\"><span class=\"tah p11\">46,050</span></td>, <td class=\"num\"><span class=\"tah p11\">45,300</span></td>, <td class=\"num\"><span class=\"tah p11\">6,562,916</span></td>]"
      ]
     },
     "execution_count": 5,
     "metadata": {},
     "output_type": "execute_result"
    }
   ],
   "source": [
    "# /html/body/table[1]/tbody/tr[3]/td[2]/span\n",
    "soup.find_all('td', class_='num')   # 종가 수집"
   ]
  },
  {
   "cell_type": "code",
   "execution_count": 8,
   "metadata": {},
   "outputs": [
    {
     "data": {
      "text/plain": [
       "60"
      ]
     },
     "execution_count": 8,
     "metadata": {},
     "output_type": "execute_result"
    }
   ],
   "source": [
    "# 너무 많으니 몇 개나 있나 세어보자\n",
    "len(soup.find_all('td', class_='num'))"
   ]
  },
  {
   "cell_type": "code",
   "execution_count": 9,
   "metadata": {},
   "outputs": [
    {
     "name": "stdout",
     "output_type": "stream",
     "text": [
      "<td class=\"num\"><span class=\"tah p11\">41,200</span></td>\n",
      "<td class=\"num\"><span class=\"tah p11\">41,550</span></td>\n",
      "<td class=\"num\"><span class=\"tah p11\">42,550</span></td>\n",
      "<td class=\"num\"><span class=\"tah p11\">42,650</span></td>\n",
      "<td class=\"num\"><span class=\"tah p11\">42,650</span></td>\n",
      "<td class=\"num\"><span class=\"tah p11\">42,900</span></td>\n",
      "<td class=\"num\"><span class=\"tah p11\">42,450</span></td>\n",
      "<td class=\"num\"><span class=\"tah p11\">44,250</span></td>\n",
      "<td class=\"num\"><span class=\"tah p11\">44,850</span></td>\n",
      "<td class=\"num\"><span class=\"tah p11\">45,300</span></td>\n"
     ]
    }
   ],
   "source": [
    "# 6의 배수마다 종가가 산출되는 것 같으니 확인\n",
    "for i in range(0, 60, 6):\n",
    "    print(soup.find_all('td', class_='num')[i])"
   ]
  },
  {
   "cell_type": "markdown",
   "metadata": {
    "slideshow": {
     "slide_type": "slide"
    }
   },
   "source": [
    "# 5. 추출한 정보 정제 "
   ]
  },
  {
   "cell_type": "code",
   "execution_count": 11,
   "metadata": {},
   "outputs": [
    {
     "name": "stdout",
     "output_type": "stream",
     "text": [
      "2019.05.17\n",
      "2019.05.16\n",
      "2019.05.15\n",
      "2019.05.14\n",
      "2019.05.13\n",
      "2019.05.10\n",
      "2019.05.09\n",
      "2019.05.08\n",
      "2019.05.07\n",
      "2019.05.03\n"
     ]
    }
   ],
   "source": [
    "for i in range(10):\n",
    "    d = soup.find_all('span', class_='tah p10 gray03')[i].text\n",
    "    print(d)"
   ]
  },
  {
   "cell_type": "code",
   "execution_count": 12,
   "metadata": {
    "slideshow": {
     "slide_type": "slide"
    }
   },
   "outputs": [],
   "source": [
    "import pandas as pd"
   ]
  },
  {
   "cell_type": "code",
   "execution_count": 13,
   "metadata": {},
   "outputs": [
    {
     "name": "stdout",
     "output_type": "stream",
     "text": [
      "2019-05-17\n",
      "2019-05-16\n",
      "2019-05-15\n",
      "2019-05-14\n",
      "2019-05-13\n",
      "2019-05-10\n",
      "2019-05-09\n",
      "2019-05-08\n",
      "2019-05-07\n",
      "2019-05-03\n"
     ]
    }
   ],
   "source": [
    "for i in range(10):\n",
    "    d = soup.find_all('span', class_='tah p10 gray03')[i].text\n",
    "    d = pd.to_datetime(d).date()\n",
    "    print(d)"
   ]
  },
  {
   "cell_type": "code",
   "execution_count": 14,
   "metadata": {
    "slideshow": {
     "slide_type": "slide"
    }
   },
   "outputs": [
    {
     "name": "stdout",
     "output_type": "stream",
     "text": [
      "41,200\n",
      "41,550\n",
      "42,550\n",
      "42,650\n",
      "42,650\n",
      "42,900\n",
      "42,450\n",
      "44,250\n",
      "44,850\n",
      "45,300\n"
     ]
    }
   ],
   "source": [
    "for i in range(0, 60, 6):\n",
    "    p = soup.find_all('td', class_='num')[i].text\n",
    "    print(p)"
   ]
  },
  {
   "cell_type": "code",
   "execution_count": 15,
   "metadata": {},
   "outputs": [
    {
     "data": {
      "text/plain": [
       "str"
      ]
     },
     "execution_count": 15,
     "metadata": {},
     "output_type": "execute_result"
    }
   ],
   "source": [
    "type(p)"
   ]
  },
  {
   "cell_type": "code",
   "execution_count": 16,
   "metadata": {
    "slideshow": {
     "slide_type": "slide"
    }
   },
   "outputs": [
    {
     "name": "stdout",
     "output_type": "stream",
     "text": [
      "41200.0\n",
      "41550.0\n",
      "42550.0\n",
      "42650.0\n",
      "42650.0\n",
      "42900.0\n",
      "42450.0\n",
      "44250.0\n",
      "44850.0\n",
      "45300.0\n"
     ]
    }
   ],
   "source": [
    "for i in range(0, 60, 6):\n",
    "    p = soup.find_all('td', class_='num')[i].text\n",
    "    p = p.replace(',', '')\n",
    "    p = float(p)\n",
    "    print(p)"
   ]
  },
  {
   "cell_type": "code",
   "execution_count": 17,
   "metadata": {},
   "outputs": [
    {
     "data": {
      "text/plain": [
       "float"
      ]
     },
     "execution_count": 17,
     "metadata": {},
     "output_type": "execute_result"
    }
   ],
   "source": [
    "type(p)"
   ]
  },
  {
   "cell_type": "markdown",
   "metadata": {
    "slideshow": {
     "slide_type": "slide"
    }
   },
   "source": [
    "# 6. 정제된 정보를 데이터화<br>\n",
    "(데이터프레임 등으로 저장)"
   ]
  },
  {
   "cell_type": "code",
   "execution_count": 18,
   "metadata": {
    "scrolled": true
   },
   "outputs": [
    {
     "data": {
      "text/plain": [
       "[datetime.date(2019, 5, 17),\n",
       " datetime.date(2019, 5, 16),\n",
       " datetime.date(2019, 5, 15),\n",
       " datetime.date(2019, 5, 14),\n",
       " datetime.date(2019, 5, 13),\n",
       " datetime.date(2019, 5, 10),\n",
       " datetime.date(2019, 5, 9),\n",
       " datetime.date(2019, 5, 8),\n",
       " datetime.date(2019, 5, 7),\n",
       " datetime.date(2019, 5, 3)]"
      ]
     },
     "execution_count": 18,
     "metadata": {},
     "output_type": "execute_result"
    }
   ],
   "source": [
    "date = []\n",
    "for i in range(10):\n",
    "    d = soup.find_all('span', class_='tah p10 gray03')[i].text\n",
    "    d = pd.to_datetime(d).date()\n",
    "    date.append(d)\n",
    "date"
   ]
  },
  {
   "cell_type": "code",
   "execution_count": 19,
   "metadata": {
    "slideshow": {
     "slide_type": "slide"
    }
   },
   "outputs": [
    {
     "data": {
      "text/plain": [
       "[41200.0,\n",
       " 41550.0,\n",
       " 42550.0,\n",
       " 42650.0,\n",
       " 42650.0,\n",
       " 42900.0,\n",
       " 42450.0,\n",
       " 44250.0,\n",
       " 44850.0,\n",
       " 45300.0]"
      ]
     },
     "execution_count": 19,
     "metadata": {},
     "output_type": "execute_result"
    }
   ],
   "source": [
    "price = []\n",
    "for i in range(0, 60, 6):\n",
    "    p = soup.find_all('td', class_='num')[i].text\n",
    "    p = p.replace(',', '')\n",
    "    p = float(p)\n",
    "    price.append(p)\n",
    "price"
   ]
  },
  {
   "cell_type": "code",
   "execution_count": 20,
   "metadata": {},
   "outputs": [
    {
     "data": {
      "text/plain": [
       "42900.0"
      ]
     },
     "execution_count": 20,
     "metadata": {},
     "output_type": "execute_result"
    }
   ],
   "source": [
    "price[5]"
   ]
  },
  {
   "cell_type": "code",
   "execution_count": 21,
   "metadata": {
    "slideshow": {
     "slide_type": "slide"
    }
   },
   "outputs": [],
   "source": [
    "prices = {}\n",
    "for i in range(10):\n",
    "    prices[date[i]] = price[i]"
   ]
  },
  {
   "cell_type": "code",
   "execution_count": 22,
   "metadata": {},
   "outputs": [
    {
     "data": {
      "text/plain": [
       "{datetime.date(2019, 5, 17): 41200.0,\n",
       " datetime.date(2019, 5, 16): 41550.0,\n",
       " datetime.date(2019, 5, 15): 42550.0,\n",
       " datetime.date(2019, 5, 14): 42650.0,\n",
       " datetime.date(2019, 5, 13): 42650.0,\n",
       " datetime.date(2019, 5, 10): 42900.0,\n",
       " datetime.date(2019, 5, 9): 42450.0,\n",
       " datetime.date(2019, 5, 8): 44250.0,\n",
       " datetime.date(2019, 5, 7): 44850.0,\n",
       " datetime.date(2019, 5, 3): 45300.0}"
      ]
     },
     "execution_count": 22,
     "metadata": {},
     "output_type": "execute_result"
    }
   ],
   "source": [
    "prices"
   ]
  },
  {
   "cell_type": "code",
   "execution_count": 23,
   "metadata": {
    "slideshow": {
     "slide_type": "slide"
    }
   },
   "outputs": [
    {
     "data": {
      "text/plain": [
       "2019-05-17    41200.0\n",
       "2019-05-16    41550.0\n",
       "2019-05-15    42550.0\n",
       "2019-05-14    42650.0\n",
       "2019-05-13    42650.0\n",
       "2019-05-10    42900.0\n",
       "2019-05-09    42450.0\n",
       "2019-05-08    44250.0\n",
       "2019-05-07    44850.0\n",
       "2019-05-03    45300.0\n",
       "dtype: float64"
      ]
     },
     "execution_count": 23,
     "metadata": {},
     "output_type": "execute_result"
    }
   ],
   "source": [
    "# Series로 만들기\n",
    "pd.Series(prices)"
   ]
  },
  {
   "cell_type": "code",
   "execution_count": 24,
   "metadata": {
    "scrolled": false
   },
   "outputs": [
    {
     "data": {
      "text/html": [
       "<div>\n",
       "<style scoped>\n",
       "    .dataframe tbody tr th:only-of-type {\n",
       "        vertical-align: middle;\n",
       "    }\n",
       "\n",
       "    .dataframe tbody tr th {\n",
       "        vertical-align: top;\n",
       "    }\n",
       "\n",
       "    .dataframe thead th {\n",
       "        text-align: right;\n",
       "    }\n",
       "</style>\n",
       "<table border=\"1\" class=\"dataframe\">\n",
       "  <thead>\n",
       "    <tr style=\"text-align: right;\">\n",
       "      <th></th>\n",
       "      <th>0</th>\n",
       "    </tr>\n",
       "  </thead>\n",
       "  <tbody>\n",
       "    <tr>\n",
       "      <th>2019-05-17</th>\n",
       "      <td>41200.0</td>\n",
       "    </tr>\n",
       "    <tr>\n",
       "      <th>2019-05-16</th>\n",
       "      <td>41550.0</td>\n",
       "    </tr>\n",
       "    <tr>\n",
       "      <th>2019-05-15</th>\n",
       "      <td>42550.0</td>\n",
       "    </tr>\n",
       "    <tr>\n",
       "      <th>2019-05-14</th>\n",
       "      <td>42650.0</td>\n",
       "    </tr>\n",
       "    <tr>\n",
       "      <th>2019-05-13</th>\n",
       "      <td>42650.0</td>\n",
       "    </tr>\n",
       "    <tr>\n",
       "      <th>2019-05-10</th>\n",
       "      <td>42900.0</td>\n",
       "    </tr>\n",
       "    <tr>\n",
       "      <th>2019-05-09</th>\n",
       "      <td>42450.0</td>\n",
       "    </tr>\n",
       "    <tr>\n",
       "      <th>2019-05-08</th>\n",
       "      <td>44250.0</td>\n",
       "    </tr>\n",
       "    <tr>\n",
       "      <th>2019-05-07</th>\n",
       "      <td>44850.0</td>\n",
       "    </tr>\n",
       "    <tr>\n",
       "      <th>2019-05-03</th>\n",
       "      <td>45300.0</td>\n",
       "    </tr>\n",
       "  </tbody>\n",
       "</table>\n",
       "</div>"
      ],
      "text/plain": [
       "                  0\n",
       "2019-05-17  41200.0\n",
       "2019-05-16  41550.0\n",
       "2019-05-15  42550.0\n",
       "2019-05-14  42650.0\n",
       "2019-05-13  42650.0\n",
       "2019-05-10  42900.0\n",
       "2019-05-09  42450.0\n",
       "2019-05-08  44250.0\n",
       "2019-05-07  44850.0\n",
       "2019-05-03  45300.0"
      ]
     },
     "execution_count": 24,
     "metadata": {},
     "output_type": "execute_result"
    }
   ],
   "source": [
    "# DataFrame으로 만들기\n",
    "pd.DataFrame(price, index=date)"
   ]
  },
  {
   "cell_type": "markdown",
   "metadata": {
    "slideshow": {
     "slide_type": "slide"
    }
   },
   "source": [
    "함수로 만들기"
   ]
  },
  {
   "cell_type": "code",
   "execution_count": 25,
   "metadata": {},
   "outputs": [],
   "source": [
    "# 날짜 포맷 변환\n",
    "def date_format(d=''):\n",
    "    if d != '':\n",
    "        this_date = pd.to_datetime(d).date()\n",
    "    else:\n",
    "        this_date = pd.Timestamp.today().date()   # 입력값이 없으면 오늘 날짜를 지정\n",
    "    return (this_date)"
   ]
  },
  {
   "cell_type": "code",
   "execution_count": 26,
   "metadata": {
    "slideshow": {
     "slide_type": "slide"
    }
   },
   "outputs": [],
   "source": [
    "# 일자별 시세 수집\n",
    "def stock_prices(stock_cd, start_date='', end_date='', page_n=1, last_page=0):\n",
    "    \n",
    "    # 날짜 세팅\n",
    "    end_date = date_format(end_date)\n",
    "    if start_date == '':\n",
    "        start_date = end_date - pd.DateOffset(months=1)\n",
    "    start_date = date_format(start_date)\n",
    "    \n",
    "    # 크롤링\n",
    "    naver_stock = 'http://finance.naver.com/item/sise_day.nhn?code=' + stock_cd + '&page=' + str(page_n)\n",
    "    source = urlopen(naver_stock).read()\n",
    "    soup = BeautifulSoup(source, 'lxml')\n",
    "    \n",
    "    dates = soup.find_all('span', class_='tah p10 gray03')   # 날짜 수집   \n",
    "    prices = soup.find_all('td', class_='num')   # 종가 수집\n",
    "    \n",
    "    # 데이터 정제\n",
    "    for n in range(len(dates)):\n",
    "    \n",
    "        if len(dates) > 0:\n",
    "            \n",
    "            # 날짜 처리\n",
    "            this_date = dates[n].text\n",
    "            this_date = date_format(this_date)\n",
    "            \n",
    "            if this_date <= end_date and this_date >= start_date:   \n",
    "            # start_date와 end_date 사이에서 데이터 저장\n",
    "                # 종가 처리\n",
    "                this_close = prices[n*6].text\n",
    "                this_close = this_close.replace(',', '')\n",
    "                this_close = float(this_close)\n",
    "\n",
    "                # 딕셔너리에 저장\n",
    "                historical_prices[this_date] = this_close\n",
    "                              \n",
    "            elif this_date < start_date:   \n",
    "            # start_date 이전이면 함수 종료\n",
    "                return historical_prices              \n",
    "            \n",
    "    # 페이지 네비게이션\n",
    "    # last_page 정보 찾기\n",
    "    if last_page == 0:\n",
    "        last_page = soup.find_all('table')[1].find('td', class_='pgRR').find('a')['href']\n",
    "        last_page = last_page.split('&')[1]\n",
    "        last_page = last_page.split('=')[1]\n",
    "        last_page = float(last_page)\n",
    "        \n",
    "    # 마지막 페이지가 아니면 다음 페이지 호출\n",
    "    if page_n < last_page:\n",
    "        page_n = page_n + 1\n",
    "        stock_prices(stock_cd, start_date, end_date, page_n, last_page)   \n",
    "        \n",
    "    return historical_prices  "
   ]
  },
  {
   "cell_type": "code",
   "execution_count": 27,
   "metadata": {
    "slideshow": {
     "slide_type": "slide"
    }
   },
   "outputs": [],
   "source": [
    "# 여러 종목 수집\n",
    "'''\n",
    "005930\t삼성전자\n",
    "000660\tSK하이닉스\n",
    "066570\tLG전자\n",
    "'''\n",
    "stocks = ['005930', '000660', '066570']"
   ]
  },
  {
   "cell_type": "code",
   "execution_count": 28,
   "metadata": {
    "slideshow": {
     "slide_type": "slide"
    }
   },
   "outputs": [],
   "source": [
    "k10_historical_prices = dict()\n",
    "\n",
    "for stock_cd in stocks:\n",
    "    \n",
    "    historical_prices = dict()\n",
    "    start_date = '2018-10-1'\n",
    "    end_date = '2018-12-31'\n",
    "    stock_prices(stock_cd, start_date, end_date)\n",
    "    \n",
    "    k10_historical_prices[stock_cd] = historical_prices"
   ]
  },
  {
   "cell_type": "code",
   "execution_count": 29,
   "metadata": {
    "scrolled": true,
    "slideshow": {
     "slide_type": "slide"
    }
   },
   "outputs": [
    {
     "data": {
      "text/html": [
       "<div>\n",
       "<style scoped>\n",
       "    .dataframe tbody tr th:only-of-type {\n",
       "        vertical-align: middle;\n",
       "    }\n",
       "\n",
       "    .dataframe tbody tr th {\n",
       "        vertical-align: top;\n",
       "    }\n",
       "\n",
       "    .dataframe thead th {\n",
       "        text-align: right;\n",
       "    }\n",
       "</style>\n",
       "<table border=\"1\" class=\"dataframe\">\n",
       "  <thead>\n",
       "    <tr style=\"text-align: right;\">\n",
       "      <th></th>\n",
       "      <th>005930</th>\n",
       "      <th>000660</th>\n",
       "      <th>066570</th>\n",
       "    </tr>\n",
       "  </thead>\n",
       "  <tbody>\n",
       "    <tr>\n",
       "      <th>2018-10-01</th>\n",
       "      <td>46350.0</td>\n",
       "      <td>73700.0</td>\n",
       "      <td>71100.0</td>\n",
       "    </tr>\n",
       "    <tr>\n",
       "      <th>2018-10-02</th>\n",
       "      <td>45700.0</td>\n",
       "      <td>71700.0</td>\n",
       "      <td>69900.0</td>\n",
       "    </tr>\n",
       "    <tr>\n",
       "      <th>2018-10-04</th>\n",
       "      <td>44700.0</td>\n",
       "      <td>70000.0</td>\n",
       "      <td>69000.0</td>\n",
       "    </tr>\n",
       "  </tbody>\n",
       "</table>\n",
       "</div>"
      ],
      "text/plain": [
       "             005930   000660   066570\n",
       "2018-10-01  46350.0  73700.0  71100.0\n",
       "2018-10-02  45700.0  71700.0  69900.0\n",
       "2018-10-04  44700.0  70000.0  69000.0"
      ]
     },
     "execution_count": 29,
     "metadata": {},
     "output_type": "execute_result"
    }
   ],
   "source": [
    "k10_historical_price = pd.DataFrame(k10_historical_prices)\n",
    "k10_historical_price.head(3)"
   ]
  }
 ],
 "metadata": {
  "celltoolbar": "Slideshow",
  "kernelspec": {
   "display_name": "Python 3",
   "language": "python",
   "name": "python3"
  },
  "language_info": {
   "codemirror_mode": {
    "name": "ipython",
    "version": 3
   },
   "file_extension": ".py",
   "mimetype": "text/x-python",
   "name": "python",
   "nbconvert_exporter": "python",
   "pygments_lexer": "ipython3",
   "version": "3.7.3"
  },
  "rise": {
   "scroll": true
  }
 },
 "nbformat": 4,
 "nbformat_minor": 2
}
